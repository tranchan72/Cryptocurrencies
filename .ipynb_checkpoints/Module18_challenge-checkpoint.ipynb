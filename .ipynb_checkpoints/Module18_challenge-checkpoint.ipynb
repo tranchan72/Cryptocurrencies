{
 "cells": [
  {
   "cell_type": "code",
   "execution_count": 191,
   "metadata": {},
   "outputs": [],
   "source": [
    "import pandas as pd\n",
    "from pathlib import Path\n",
    "import plotly.express as px\n",
    "import hvplot.pandas\n",
    "from sklearn.cluster import KMeans\n",
    "from sklearn.preprocessing import StandardScaler\n",
    "from sklearn.decomposition import PCA\n",
    "from sklearn.cluster import AgglomerativeClustering\n",
    "import plotly.figure_factory as ff"
   ]
  },
  {
   "cell_type": "code",
   "execution_count": 192,
   "metadata": {},
   "outputs": [
    {
     "data": {
      "text/html": [
       "<div>\n",
       "<style scoped>\n",
       "    .dataframe tbody tr th:only-of-type {\n",
       "        vertical-align: middle;\n",
       "    }\n",
       "\n",
       "    .dataframe tbody tr th {\n",
       "        vertical-align: top;\n",
       "    }\n",
       "\n",
       "    .dataframe thead th {\n",
       "        text-align: right;\n",
       "    }\n",
       "</style>\n",
       "<table border=\"1\" class=\"dataframe\">\n",
       "  <thead>\n",
       "    <tr style=\"text-align: right;\">\n",
       "      <th></th>\n",
       "      <th>Unnamed: 0</th>\n",
       "      <th>CoinName</th>\n",
       "      <th>Algorithm</th>\n",
       "      <th>IsTrading</th>\n",
       "      <th>ProofType</th>\n",
       "      <th>TotalCoinsMined</th>\n",
       "      <th>TotalCoinSupply</th>\n",
       "    </tr>\n",
       "  </thead>\n",
       "  <tbody>\n",
       "    <tr>\n",
       "      <th>0</th>\n",
       "      <td>42</td>\n",
       "      <td>42 Coin</td>\n",
       "      <td>Scrypt</td>\n",
       "      <td>True</td>\n",
       "      <td>PoW/PoS</td>\n",
       "      <td>4.199995e+01</td>\n",
       "      <td>42</td>\n",
       "    </tr>\n",
       "    <tr>\n",
       "      <th>1</th>\n",
       "      <td>365</td>\n",
       "      <td>365Coin</td>\n",
       "      <td>X11</td>\n",
       "      <td>True</td>\n",
       "      <td>PoW/PoS</td>\n",
       "      <td>NaN</td>\n",
       "      <td>2300000000</td>\n",
       "    </tr>\n",
       "    <tr>\n",
       "      <th>2</th>\n",
       "      <td>404</td>\n",
       "      <td>404Coin</td>\n",
       "      <td>Scrypt</td>\n",
       "      <td>True</td>\n",
       "      <td>PoW/PoS</td>\n",
       "      <td>1.055185e+09</td>\n",
       "      <td>532000000</td>\n",
       "    </tr>\n",
       "    <tr>\n",
       "      <th>3</th>\n",
       "      <td>611</td>\n",
       "      <td>SixEleven</td>\n",
       "      <td>SHA-256</td>\n",
       "      <td>True</td>\n",
       "      <td>PoW</td>\n",
       "      <td>NaN</td>\n",
       "      <td>611000</td>\n",
       "    </tr>\n",
       "    <tr>\n",
       "      <th>4</th>\n",
       "      <td>808</td>\n",
       "      <td>808</td>\n",
       "      <td>SHA-256</td>\n",
       "      <td>True</td>\n",
       "      <td>PoW/PoS</td>\n",
       "      <td>0.000000e+00</td>\n",
       "      <td>0</td>\n",
       "    </tr>\n",
       "  </tbody>\n",
       "</table>\n",
       "</div>"
      ],
      "text/plain": [
       "  Unnamed: 0   CoinName Algorithm  IsTrading ProofType  TotalCoinsMined  \\\n",
       "0         42    42 Coin    Scrypt       True   PoW/PoS     4.199995e+01   \n",
       "1        365    365Coin       X11       True   PoW/PoS              NaN   \n",
       "2        404    404Coin    Scrypt       True   PoW/PoS     1.055185e+09   \n",
       "3        611  SixEleven   SHA-256       True       PoW              NaN   \n",
       "4        808        808   SHA-256       True   PoW/PoS     0.000000e+00   \n",
       "\n",
       "  TotalCoinSupply  \n",
       "0              42  \n",
       "1      2300000000  \n",
       "2       532000000  \n",
       "3          611000  \n",
       "4               0  "
      ]
     },
     "execution_count": 192,
     "metadata": {},
     "output_type": "execute_result"
    }
   ],
   "source": [
    "# Load Data\n",
    "file_path = Path('./Resources/crypto_data.csv')\n",
    "crypto_df = pd.read_csv(file_path)\n",
    "crypto_df.head()"
   ]
  },
  {
   "cell_type": "code",
   "execution_count": 193,
   "metadata": {},
   "outputs": [
    {
     "data": {
      "text/plain": [
       "Index(['Unnamed: 0', 'CoinName', 'Algorithm', 'IsTrading', 'ProofType',\n",
       "       'TotalCoinsMined', 'TotalCoinSupply'],\n",
       "      dtype='object')"
      ]
     },
     "execution_count": 193,
     "metadata": {},
     "output_type": "execute_result"
    }
   ],
   "source": [
    "# Columns\n",
    "crypto_df.columns"
   ]
  },
  {
   "cell_type": "code",
   "execution_count": 194,
   "metadata": {},
   "outputs": [
    {
     "data": {
      "text/plain": [
       "Unnamed: 0          object\n",
       "CoinName            object\n",
       "Algorithm           object\n",
       "IsTrading             bool\n",
       "ProofType           object\n",
       "TotalCoinsMined    float64\n",
       "TotalCoinSupply     object\n",
       "dtype: object"
      ]
     },
     "execution_count": 194,
     "metadata": {},
     "output_type": "execute_result"
    }
   ],
   "source": [
    "crypto_df.dtypes"
   ]
  },
  {
   "cell_type": "code",
   "execution_count": 195,
   "metadata": {},
   "outputs": [
    {
     "name": "stdout",
     "output_type": "stream",
     "text": [
      "Column Unnamed: 0 has 0 null values\n",
      "Column CoinName has 0 null values\n",
      "Column Algorithm has 0 null values\n",
      "Column IsTrading has 0 null values\n",
      "Column ProofType has 0 null values\n",
      "Column TotalCoinsMined has 508 null values\n",
      "Column TotalCoinSupply has 0 null values\n"
     ]
    }
   ],
   "source": [
    "# Find null value\n",
    "for column in crypto_df.columns:\n",
    "    print(f'Column {column} has {crypto_df[column].isnull().sum()} null values')"
   ]
  },
  {
   "cell_type": "code",
   "execution_count": 196,
   "metadata": {},
   "outputs": [
    {
     "data": {
      "text/plain": [
       "True     1144\n",
       "False     108\n",
       "Name: IsTrading, dtype: int64"
      ]
     },
     "execution_count": 196,
     "metadata": {},
     "output_type": "execute_result"
    }
   ],
   "source": [
    "# Count values in IsTrading column\n",
    "crypto_df[\"IsTrading\"].value_counts()"
   ]
  },
  {
   "cell_type": "code",
   "execution_count": 197,
   "metadata": {},
   "outputs": [
    {
     "data": {
      "text/plain": [
       "True    1144\n",
       "Name: IsTrading, dtype: int64"
      ]
     },
     "execution_count": 197,
     "metadata": {},
     "output_type": "execute_result"
    }
   ],
   "source": [
    "# Remove all cryptocurrencies that aren’t trading.\n",
    "crypto_df = crypto_df[crypto_df[\"IsTrading\"] == True]\n",
    "crypto_df[\"IsTrading\"].value_counts()"
   ]
  },
  {
   "cell_type": "code",
   "execution_count": 198,
   "metadata": {},
   "outputs": [
    {
     "data": {
      "text/html": [
       "<div>\n",
       "<style scoped>\n",
       "    .dataframe tbody tr th:only-of-type {\n",
       "        vertical-align: middle;\n",
       "    }\n",
       "\n",
       "    .dataframe tbody tr th {\n",
       "        vertical-align: top;\n",
       "    }\n",
       "\n",
       "    .dataframe thead th {\n",
       "        text-align: right;\n",
       "    }\n",
       "</style>\n",
       "<table border=\"1\" class=\"dataframe\">\n",
       "  <thead>\n",
       "    <tr style=\"text-align: right;\">\n",
       "      <th></th>\n",
       "      <th>Unnamed: 0</th>\n",
       "      <th>CoinName</th>\n",
       "      <th>Algorithm</th>\n",
       "      <th>ProofType</th>\n",
       "      <th>TotalCoinsMined</th>\n",
       "      <th>TotalCoinSupply</th>\n",
       "    </tr>\n",
       "  </thead>\n",
       "  <tbody>\n",
       "    <tr>\n",
       "      <th>0</th>\n",
       "      <td>42</td>\n",
       "      <td>42 Coin</td>\n",
       "      <td>Scrypt</td>\n",
       "      <td>PoW/PoS</td>\n",
       "      <td>4.199995e+01</td>\n",
       "      <td>42</td>\n",
       "    </tr>\n",
       "    <tr>\n",
       "      <th>1</th>\n",
       "      <td>365</td>\n",
       "      <td>365Coin</td>\n",
       "      <td>X11</td>\n",
       "      <td>PoW/PoS</td>\n",
       "      <td>NaN</td>\n",
       "      <td>2300000000</td>\n",
       "    </tr>\n",
       "    <tr>\n",
       "      <th>2</th>\n",
       "      <td>404</td>\n",
       "      <td>404Coin</td>\n",
       "      <td>Scrypt</td>\n",
       "      <td>PoW/PoS</td>\n",
       "      <td>1.055185e+09</td>\n",
       "      <td>532000000</td>\n",
       "    </tr>\n",
       "    <tr>\n",
       "      <th>3</th>\n",
       "      <td>611</td>\n",
       "      <td>SixEleven</td>\n",
       "      <td>SHA-256</td>\n",
       "      <td>PoW</td>\n",
       "      <td>NaN</td>\n",
       "      <td>611000</td>\n",
       "    </tr>\n",
       "    <tr>\n",
       "      <th>4</th>\n",
       "      <td>808</td>\n",
       "      <td>808</td>\n",
       "      <td>SHA-256</td>\n",
       "      <td>PoW/PoS</td>\n",
       "      <td>0.000000e+00</td>\n",
       "      <td>0</td>\n",
       "    </tr>\n",
       "  </tbody>\n",
       "</table>\n",
       "</div>"
      ],
      "text/plain": [
       "  Unnamed: 0   CoinName Algorithm ProofType  TotalCoinsMined TotalCoinSupply\n",
       "0         42    42 Coin    Scrypt   PoW/PoS     4.199995e+01              42\n",
       "1        365    365Coin       X11   PoW/PoS              NaN      2300000000\n",
       "2        404    404Coin    Scrypt   PoW/PoS     1.055185e+09       532000000\n",
       "3        611  SixEleven   SHA-256       PoW              NaN          611000\n",
       "4        808        808   SHA-256   PoW/PoS     0.000000e+00               0"
      ]
     },
     "execution_count": 198,
     "metadata": {},
     "output_type": "execute_result"
    }
   ],
   "source": [
    "# Remove the IsTrading column\n",
    "crypto_df = crypto_df.drop(['IsTrading'], axis=1)\n",
    "crypto_df.head()"
   ]
  },
  {
   "cell_type": "code",
   "execution_count": 199,
   "metadata": {},
   "outputs": [
    {
     "data": {
      "text/html": [
       "<div>\n",
       "<style scoped>\n",
       "    .dataframe tbody tr th:only-of-type {\n",
       "        vertical-align: middle;\n",
       "    }\n",
       "\n",
       "    .dataframe tbody tr th {\n",
       "        vertical-align: top;\n",
       "    }\n",
       "\n",
       "    .dataframe thead th {\n",
       "        text-align: right;\n",
       "    }\n",
       "</style>\n",
       "<table border=\"1\" class=\"dataframe\">\n",
       "  <thead>\n",
       "    <tr style=\"text-align: right;\">\n",
       "      <th></th>\n",
       "      <th>Unnamed: 0</th>\n",
       "      <th>CoinName</th>\n",
       "      <th>Algorithm</th>\n",
       "      <th>ProofType</th>\n",
       "      <th>TotalCoinsMined</th>\n",
       "      <th>TotalCoinSupply</th>\n",
       "    </tr>\n",
       "  </thead>\n",
       "  <tbody>\n",
       "    <tr>\n",
       "      <th>0</th>\n",
       "      <td>42</td>\n",
       "      <td>42 Coin</td>\n",
       "      <td>Scrypt</td>\n",
       "      <td>PoW/PoS</td>\n",
       "      <td>4.199995e+01</td>\n",
       "      <td>42</td>\n",
       "    </tr>\n",
       "    <tr>\n",
       "      <th>2</th>\n",
       "      <td>404</td>\n",
       "      <td>404Coin</td>\n",
       "      <td>Scrypt</td>\n",
       "      <td>PoW/PoS</td>\n",
       "      <td>1.055185e+09</td>\n",
       "      <td>532000000</td>\n",
       "    </tr>\n",
       "    <tr>\n",
       "      <th>4</th>\n",
       "      <td>808</td>\n",
       "      <td>808</td>\n",
       "      <td>SHA-256</td>\n",
       "      <td>PoW/PoS</td>\n",
       "      <td>0.000000e+00</td>\n",
       "      <td>0</td>\n",
       "    </tr>\n",
       "    <tr>\n",
       "      <th>5</th>\n",
       "      <td>1337</td>\n",
       "      <td>EliteCoin</td>\n",
       "      <td>X13</td>\n",
       "      <td>PoW/PoS</td>\n",
       "      <td>2.927942e+10</td>\n",
       "      <td>314159265359</td>\n",
       "    </tr>\n",
       "    <tr>\n",
       "      <th>7</th>\n",
       "      <td>BTC</td>\n",
       "      <td>Bitcoin</td>\n",
       "      <td>SHA-256</td>\n",
       "      <td>PoW</td>\n",
       "      <td>1.792718e+07</td>\n",
       "      <td>21000000</td>\n",
       "    </tr>\n",
       "  </tbody>\n",
       "</table>\n",
       "</div>"
      ],
      "text/plain": [
       "  Unnamed: 0   CoinName Algorithm ProofType  TotalCoinsMined TotalCoinSupply\n",
       "0         42    42 Coin    Scrypt   PoW/PoS     4.199995e+01              42\n",
       "2        404    404Coin    Scrypt   PoW/PoS     1.055185e+09       532000000\n",
       "4        808        808   SHA-256   PoW/PoS     0.000000e+00               0\n",
       "5       1337  EliteCoin       X13   PoW/PoS     2.927942e+10    314159265359\n",
       "7        BTC    Bitcoin   SHA-256       PoW     1.792718e+07        21000000"
      ]
     },
     "execution_count": 199,
     "metadata": {},
     "output_type": "execute_result"
    }
   ],
   "source": [
    "# Remove all cryptocurrencies with at least one null value.\n",
    "# Drop null rows\n",
    "crypto_df = crypto_df.dropna()\n",
    "crypto_df.head()"
   ]
  },
  {
   "cell_type": "code",
   "execution_count": 200,
   "metadata": {},
   "outputs": [
    {
     "name": "stdout",
     "output_type": "stream",
     "text": [
      "Column Unnamed: 0 has 0 null values\n",
      "Column CoinName has 0 null values\n",
      "Column Algorithm has 0 null values\n",
      "Column ProofType has 0 null values\n",
      "Column TotalCoinsMined has 0 null values\n",
      "Column TotalCoinSupply has 0 null values\n"
     ]
    }
   ],
   "source": [
    "# Check if all null values is deleted\n",
    "for column in crypto_df.columns:\n",
    "    print(f'Column {column} has {crypto_df[column].isnull().sum()} null values')"
   ]
  },
  {
   "cell_type": "code",
   "execution_count": 201,
   "metadata": {},
   "outputs": [
    {
     "data": {
      "text/html": [
       "<div>\n",
       "<style scoped>\n",
       "    .dataframe tbody tr th:only-of-type {\n",
       "        vertical-align: middle;\n",
       "    }\n",
       "\n",
       "    .dataframe tbody tr th {\n",
       "        vertical-align: top;\n",
       "    }\n",
       "\n",
       "    .dataframe thead th {\n",
       "        text-align: right;\n",
       "    }\n",
       "</style>\n",
       "<table border=\"1\" class=\"dataframe\">\n",
       "  <thead>\n",
       "    <tr style=\"text-align: right;\">\n",
       "      <th></th>\n",
       "      <th>coins_name</th>\n",
       "      <th>CoinName</th>\n",
       "      <th>Algorithm</th>\n",
       "      <th>ProofType</th>\n",
       "      <th>TotalCoinsMined</th>\n",
       "      <th>TotalCoinSupply</th>\n",
       "    </tr>\n",
       "  </thead>\n",
       "  <tbody>\n",
       "    <tr>\n",
       "      <th>0</th>\n",
       "      <td>42</td>\n",
       "      <td>42 Coin</td>\n",
       "      <td>Scrypt</td>\n",
       "      <td>PoW/PoS</td>\n",
       "      <td>4.199995e+01</td>\n",
       "      <td>42</td>\n",
       "    </tr>\n",
       "    <tr>\n",
       "      <th>2</th>\n",
       "      <td>404</td>\n",
       "      <td>404Coin</td>\n",
       "      <td>Scrypt</td>\n",
       "      <td>PoW/PoS</td>\n",
       "      <td>1.055185e+09</td>\n",
       "      <td>532000000</td>\n",
       "    </tr>\n",
       "    <tr>\n",
       "      <th>4</th>\n",
       "      <td>808</td>\n",
       "      <td>808</td>\n",
       "      <td>SHA-256</td>\n",
       "      <td>PoW/PoS</td>\n",
       "      <td>0.000000e+00</td>\n",
       "      <td>0</td>\n",
       "    </tr>\n",
       "    <tr>\n",
       "      <th>5</th>\n",
       "      <td>1337</td>\n",
       "      <td>EliteCoin</td>\n",
       "      <td>X13</td>\n",
       "      <td>PoW/PoS</td>\n",
       "      <td>2.927942e+10</td>\n",
       "      <td>314159265359</td>\n",
       "    </tr>\n",
       "    <tr>\n",
       "      <th>7</th>\n",
       "      <td>BTC</td>\n",
       "      <td>Bitcoin</td>\n",
       "      <td>SHA-256</td>\n",
       "      <td>PoW</td>\n",
       "      <td>1.792718e+07</td>\n",
       "      <td>21000000</td>\n",
       "    </tr>\n",
       "  </tbody>\n",
       "</table>\n",
       "</div>"
      ],
      "text/plain": [
       "  coins_name   CoinName Algorithm ProofType  TotalCoinsMined TotalCoinSupply\n",
       "0         42    42 Coin    Scrypt   PoW/PoS     4.199995e+01              42\n",
       "2        404    404Coin    Scrypt   PoW/PoS     1.055185e+09       532000000\n",
       "4        808        808   SHA-256   PoW/PoS     0.000000e+00               0\n",
       "5       1337  EliteCoin       X13   PoW/PoS     2.927942e+10    314159265359\n",
       "7        BTC    Bitcoin   SHA-256       PoW     1.792718e+07        21000000"
      ]
     },
     "execution_count": 201,
     "metadata": {},
     "output_type": "execute_result"
    }
   ],
   "source": [
    "# Store the names of all cryptocurrencies on a DataFramed named coins_name\n",
    "crypto_df = crypto_df.rename(columns = {'Unnamed: 0' : 'coins_name'})\n",
    "crypto_df.head()"
   ]
  },
  {
   "cell_type": "code",
   "execution_count": 202,
   "metadata": {},
   "outputs": [
    {
     "data": {
      "text/html": [
       "<div>\n",
       "<style scoped>\n",
       "    .dataframe tbody tr th:only-of-type {\n",
       "        vertical-align: middle;\n",
       "    }\n",
       "\n",
       "    .dataframe tbody tr th {\n",
       "        vertical-align: top;\n",
       "    }\n",
       "\n",
       "    .dataframe thead th {\n",
       "        text-align: right;\n",
       "    }\n",
       "</style>\n",
       "<table border=\"1\" class=\"dataframe\">\n",
       "  <thead>\n",
       "    <tr style=\"text-align: right;\">\n",
       "      <th></th>\n",
       "      <th>CoinName</th>\n",
       "      <th>Algorithm</th>\n",
       "      <th>ProofType</th>\n",
       "      <th>TotalCoinsMined</th>\n",
       "      <th>TotalCoinSupply</th>\n",
       "    </tr>\n",
       "    <tr>\n",
       "      <th>coins_name</th>\n",
       "      <th></th>\n",
       "      <th></th>\n",
       "      <th></th>\n",
       "      <th></th>\n",
       "      <th></th>\n",
       "    </tr>\n",
       "  </thead>\n",
       "  <tbody>\n",
       "    <tr>\n",
       "      <th>42</th>\n",
       "      <td>42 Coin</td>\n",
       "      <td>Scrypt</td>\n",
       "      <td>PoW/PoS</td>\n",
       "      <td>4.199995e+01</td>\n",
       "      <td>42</td>\n",
       "    </tr>\n",
       "    <tr>\n",
       "      <th>404</th>\n",
       "      <td>404Coin</td>\n",
       "      <td>Scrypt</td>\n",
       "      <td>PoW/PoS</td>\n",
       "      <td>1.055185e+09</td>\n",
       "      <td>532000000</td>\n",
       "    </tr>\n",
       "    <tr>\n",
       "      <th>808</th>\n",
       "      <td>808</td>\n",
       "      <td>SHA-256</td>\n",
       "      <td>PoW/PoS</td>\n",
       "      <td>0.000000e+00</td>\n",
       "      <td>0</td>\n",
       "    </tr>\n",
       "    <tr>\n",
       "      <th>1337</th>\n",
       "      <td>EliteCoin</td>\n",
       "      <td>X13</td>\n",
       "      <td>PoW/PoS</td>\n",
       "      <td>2.927942e+10</td>\n",
       "      <td>314159265359</td>\n",
       "    </tr>\n",
       "    <tr>\n",
       "      <th>BTC</th>\n",
       "      <td>Bitcoin</td>\n",
       "      <td>SHA-256</td>\n",
       "      <td>PoW</td>\n",
       "      <td>1.792718e+07</td>\n",
       "      <td>21000000</td>\n",
       "    </tr>\n",
       "  </tbody>\n",
       "</table>\n",
       "</div>"
      ],
      "text/plain": [
       "             CoinName Algorithm ProofType  TotalCoinsMined TotalCoinSupply\n",
       "coins_name                                                                \n",
       "42            42 Coin    Scrypt   PoW/PoS     4.199995e+01              42\n",
       "404           404Coin    Scrypt   PoW/PoS     1.055185e+09       532000000\n",
       "808               808   SHA-256   PoW/PoS     0.000000e+00               0\n",
       "1337        EliteCoin       X13   PoW/PoS     2.927942e+10    314159265359\n",
       "BTC           Bitcoin   SHA-256       PoW     1.792718e+07        21000000"
      ]
     },
     "execution_count": 202,
     "metadata": {},
     "output_type": "execute_result"
    }
   ],
   "source": [
    "# Set coins_name as index \n",
    "crypto_df = crypto_df.set_index('coins_name')\n",
    "crypto_df.head()"
   ]
  },
  {
   "cell_type": "code",
   "execution_count": 203,
   "metadata": {},
   "outputs": [
    {
     "data": {
      "text/html": [
       "<div>\n",
       "<style scoped>\n",
       "    .dataframe tbody tr th:only-of-type {\n",
       "        vertical-align: middle;\n",
       "    }\n",
       "\n",
       "    .dataframe tbody tr th {\n",
       "        vertical-align: top;\n",
       "    }\n",
       "\n",
       "    .dataframe thead th {\n",
       "        text-align: right;\n",
       "    }\n",
       "</style>\n",
       "<table border=\"1\" class=\"dataframe\">\n",
       "  <thead>\n",
       "    <tr style=\"text-align: right;\">\n",
       "      <th></th>\n",
       "      <th>Algorithm</th>\n",
       "      <th>ProofType</th>\n",
       "      <th>TotalCoinsMined</th>\n",
       "      <th>TotalCoinSupply</th>\n",
       "    </tr>\n",
       "    <tr>\n",
       "      <th>coins_name</th>\n",
       "      <th></th>\n",
       "      <th></th>\n",
       "      <th></th>\n",
       "      <th></th>\n",
       "    </tr>\n",
       "  </thead>\n",
       "  <tbody>\n",
       "    <tr>\n",
       "      <th>42</th>\n",
       "      <td>Scrypt</td>\n",
       "      <td>PoW/PoS</td>\n",
       "      <td>4.199995e+01</td>\n",
       "      <td>42</td>\n",
       "    </tr>\n",
       "    <tr>\n",
       "      <th>404</th>\n",
       "      <td>Scrypt</td>\n",
       "      <td>PoW/PoS</td>\n",
       "      <td>1.055185e+09</td>\n",
       "      <td>532000000</td>\n",
       "    </tr>\n",
       "    <tr>\n",
       "      <th>808</th>\n",
       "      <td>SHA-256</td>\n",
       "      <td>PoW/PoS</td>\n",
       "      <td>0.000000e+00</td>\n",
       "      <td>0</td>\n",
       "    </tr>\n",
       "    <tr>\n",
       "      <th>1337</th>\n",
       "      <td>X13</td>\n",
       "      <td>PoW/PoS</td>\n",
       "      <td>2.927942e+10</td>\n",
       "      <td>314159265359</td>\n",
       "    </tr>\n",
       "    <tr>\n",
       "      <th>BTC</th>\n",
       "      <td>SHA-256</td>\n",
       "      <td>PoW</td>\n",
       "      <td>1.792718e+07</td>\n",
       "      <td>21000000</td>\n",
       "    </tr>\n",
       "  </tbody>\n",
       "</table>\n",
       "</div>"
      ],
      "text/plain": [
       "           Algorithm ProofType  TotalCoinsMined TotalCoinSupply\n",
       "coins_name                                                     \n",
       "42            Scrypt   PoW/PoS     4.199995e+01              42\n",
       "404           Scrypt   PoW/PoS     1.055185e+09       532000000\n",
       "808          SHA-256   PoW/PoS     0.000000e+00               0\n",
       "1337             X13   PoW/PoS     2.927942e+10    314159265359\n",
       "BTC          SHA-256       PoW     1.792718e+07        21000000"
      ]
     },
     "execution_count": 203,
     "metadata": {},
     "output_type": "execute_result"
    }
   ],
   "source": [
    "# Remove the CoinName column\n",
    "new_crypto_df = crypto_df.drop(['CoinName'], axis=1)\n",
    "new_crypto_df.head()"
   ]
  },
  {
   "cell_type": "code",
   "execution_count": 204,
   "metadata": {},
   "outputs": [
    {
     "data": {
      "text/html": [
       "<div>\n",
       "<style scoped>\n",
       "    .dataframe tbody tr th:only-of-type {\n",
       "        vertical-align: middle;\n",
       "    }\n",
       "\n",
       "    .dataframe tbody tr th {\n",
       "        vertical-align: top;\n",
       "    }\n",
       "\n",
       "    .dataframe thead th {\n",
       "        text-align: right;\n",
       "    }\n",
       "</style>\n",
       "<table border=\"1\" class=\"dataframe\">\n",
       "  <thead>\n",
       "    <tr style=\"text-align: right;\">\n",
       "      <th></th>\n",
       "      <th>TotalCoinsMined</th>\n",
       "      <th>TotalCoinSupply</th>\n",
       "      <th>Algorithm_1GB AES Pattern Search</th>\n",
       "      <th>Algorithm_536</th>\n",
       "      <th>Algorithm_Argon2</th>\n",
       "      <th>Algorithm_Argon2d</th>\n",
       "      <th>Algorithm_BLAKE256</th>\n",
       "      <th>Algorithm_Blake</th>\n",
       "      <th>Algorithm_Blake2S</th>\n",
       "      <th>Algorithm_Blake2b</th>\n",
       "      <th>...</th>\n",
       "      <th>ProofType_PoW/PoS</th>\n",
       "      <th>ProofType_PoW/PoS</th>\n",
       "      <th>ProofType_PoW/PoW</th>\n",
       "      <th>ProofType_PoW/nPoS</th>\n",
       "      <th>ProofType_Pos</th>\n",
       "      <th>ProofType_Proof of Authority</th>\n",
       "      <th>ProofType_Proof of Trust</th>\n",
       "      <th>ProofType_TPoS</th>\n",
       "      <th>ProofType_Zero-Knowledge Proof</th>\n",
       "      <th>ProofType_dPoW/PoW</th>\n",
       "    </tr>\n",
       "    <tr>\n",
       "      <th>coins_name</th>\n",
       "      <th></th>\n",
       "      <th></th>\n",
       "      <th></th>\n",
       "      <th></th>\n",
       "      <th></th>\n",
       "      <th></th>\n",
       "      <th></th>\n",
       "      <th></th>\n",
       "      <th></th>\n",
       "      <th></th>\n",
       "      <th></th>\n",
       "      <th></th>\n",
       "      <th></th>\n",
       "      <th></th>\n",
       "      <th></th>\n",
       "      <th></th>\n",
       "      <th></th>\n",
       "      <th></th>\n",
       "      <th></th>\n",
       "      <th></th>\n",
       "      <th></th>\n",
       "    </tr>\n",
       "  </thead>\n",
       "  <tbody>\n",
       "    <tr>\n",
       "      <th>42</th>\n",
       "      <td>4.199995e+01</td>\n",
       "      <td>42</td>\n",
       "      <td>0</td>\n",
       "      <td>0</td>\n",
       "      <td>0</td>\n",
       "      <td>0</td>\n",
       "      <td>0</td>\n",
       "      <td>0</td>\n",
       "      <td>0</td>\n",
       "      <td>0</td>\n",
       "      <td>...</td>\n",
       "      <td>1</td>\n",
       "      <td>0</td>\n",
       "      <td>0</td>\n",
       "      <td>0</td>\n",
       "      <td>0</td>\n",
       "      <td>0</td>\n",
       "      <td>0</td>\n",
       "      <td>0</td>\n",
       "      <td>0</td>\n",
       "      <td>0</td>\n",
       "    </tr>\n",
       "    <tr>\n",
       "      <th>404</th>\n",
       "      <td>1.055185e+09</td>\n",
       "      <td>532000000</td>\n",
       "      <td>0</td>\n",
       "      <td>0</td>\n",
       "      <td>0</td>\n",
       "      <td>0</td>\n",
       "      <td>0</td>\n",
       "      <td>0</td>\n",
       "      <td>0</td>\n",
       "      <td>0</td>\n",
       "      <td>...</td>\n",
       "      <td>1</td>\n",
       "      <td>0</td>\n",
       "      <td>0</td>\n",
       "      <td>0</td>\n",
       "      <td>0</td>\n",
       "      <td>0</td>\n",
       "      <td>0</td>\n",
       "      <td>0</td>\n",
       "      <td>0</td>\n",
       "      <td>0</td>\n",
       "    </tr>\n",
       "    <tr>\n",
       "      <th>808</th>\n",
       "      <td>0.000000e+00</td>\n",
       "      <td>0</td>\n",
       "      <td>0</td>\n",
       "      <td>0</td>\n",
       "      <td>0</td>\n",
       "      <td>0</td>\n",
       "      <td>0</td>\n",
       "      <td>0</td>\n",
       "      <td>0</td>\n",
       "      <td>0</td>\n",
       "      <td>...</td>\n",
       "      <td>1</td>\n",
       "      <td>0</td>\n",
       "      <td>0</td>\n",
       "      <td>0</td>\n",
       "      <td>0</td>\n",
       "      <td>0</td>\n",
       "      <td>0</td>\n",
       "      <td>0</td>\n",
       "      <td>0</td>\n",
       "      <td>0</td>\n",
       "    </tr>\n",
       "    <tr>\n",
       "      <th>1337</th>\n",
       "      <td>2.927942e+10</td>\n",
       "      <td>314159265359</td>\n",
       "      <td>0</td>\n",
       "      <td>0</td>\n",
       "      <td>0</td>\n",
       "      <td>0</td>\n",
       "      <td>0</td>\n",
       "      <td>0</td>\n",
       "      <td>0</td>\n",
       "      <td>0</td>\n",
       "      <td>...</td>\n",
       "      <td>1</td>\n",
       "      <td>0</td>\n",
       "      <td>0</td>\n",
       "      <td>0</td>\n",
       "      <td>0</td>\n",
       "      <td>0</td>\n",
       "      <td>0</td>\n",
       "      <td>0</td>\n",
       "      <td>0</td>\n",
       "      <td>0</td>\n",
       "    </tr>\n",
       "    <tr>\n",
       "      <th>BTC</th>\n",
       "      <td>1.792718e+07</td>\n",
       "      <td>21000000</td>\n",
       "      <td>0</td>\n",
       "      <td>0</td>\n",
       "      <td>0</td>\n",
       "      <td>0</td>\n",
       "      <td>0</td>\n",
       "      <td>0</td>\n",
       "      <td>0</td>\n",
       "      <td>0</td>\n",
       "      <td>...</td>\n",
       "      <td>0</td>\n",
       "      <td>0</td>\n",
       "      <td>0</td>\n",
       "      <td>0</td>\n",
       "      <td>0</td>\n",
       "      <td>0</td>\n",
       "      <td>0</td>\n",
       "      <td>0</td>\n",
       "      <td>0</td>\n",
       "      <td>0</td>\n",
       "    </tr>\n",
       "    <tr>\n",
       "      <th>...</th>\n",
       "      <td>...</td>\n",
       "      <td>...</td>\n",
       "      <td>...</td>\n",
       "      <td>...</td>\n",
       "      <td>...</td>\n",
       "      <td>...</td>\n",
       "      <td>...</td>\n",
       "      <td>...</td>\n",
       "      <td>...</td>\n",
       "      <td>...</td>\n",
       "      <td>...</td>\n",
       "      <td>...</td>\n",
       "      <td>...</td>\n",
       "      <td>...</td>\n",
       "      <td>...</td>\n",
       "      <td>...</td>\n",
       "      <td>...</td>\n",
       "      <td>...</td>\n",
       "      <td>...</td>\n",
       "      <td>...</td>\n",
       "      <td>...</td>\n",
       "    </tr>\n",
       "    <tr>\n",
       "      <th>ZEPH</th>\n",
       "      <td>2.000000e+09</td>\n",
       "      <td>2000000000</td>\n",
       "      <td>0</td>\n",
       "      <td>0</td>\n",
       "      <td>0</td>\n",
       "      <td>0</td>\n",
       "      <td>0</td>\n",
       "      <td>0</td>\n",
       "      <td>0</td>\n",
       "      <td>0</td>\n",
       "      <td>...</td>\n",
       "      <td>0</td>\n",
       "      <td>0</td>\n",
       "      <td>0</td>\n",
       "      <td>0</td>\n",
       "      <td>0</td>\n",
       "      <td>0</td>\n",
       "      <td>0</td>\n",
       "      <td>0</td>\n",
       "      <td>0</td>\n",
       "      <td>0</td>\n",
       "    </tr>\n",
       "    <tr>\n",
       "      <th>GAP</th>\n",
       "      <td>1.493105e+07</td>\n",
       "      <td>250000000</td>\n",
       "      <td>0</td>\n",
       "      <td>0</td>\n",
       "      <td>0</td>\n",
       "      <td>0</td>\n",
       "      <td>0</td>\n",
       "      <td>0</td>\n",
       "      <td>0</td>\n",
       "      <td>0</td>\n",
       "      <td>...</td>\n",
       "      <td>1</td>\n",
       "      <td>0</td>\n",
       "      <td>0</td>\n",
       "      <td>0</td>\n",
       "      <td>0</td>\n",
       "      <td>0</td>\n",
       "      <td>0</td>\n",
       "      <td>0</td>\n",
       "      <td>0</td>\n",
       "      <td>0</td>\n",
       "    </tr>\n",
       "    <tr>\n",
       "      <th>BDX</th>\n",
       "      <td>9.802226e+08</td>\n",
       "      <td>1400222610</td>\n",
       "      <td>0</td>\n",
       "      <td>0</td>\n",
       "      <td>0</td>\n",
       "      <td>0</td>\n",
       "      <td>0</td>\n",
       "      <td>0</td>\n",
       "      <td>0</td>\n",
       "      <td>0</td>\n",
       "      <td>...</td>\n",
       "      <td>0</td>\n",
       "      <td>0</td>\n",
       "      <td>0</td>\n",
       "      <td>0</td>\n",
       "      <td>0</td>\n",
       "      <td>0</td>\n",
       "      <td>0</td>\n",
       "      <td>0</td>\n",
       "      <td>0</td>\n",
       "      <td>0</td>\n",
       "    </tr>\n",
       "    <tr>\n",
       "      <th>ZEN</th>\n",
       "      <td>7.296538e+06</td>\n",
       "      <td>21000000</td>\n",
       "      <td>0</td>\n",
       "      <td>0</td>\n",
       "      <td>0</td>\n",
       "      <td>0</td>\n",
       "      <td>0</td>\n",
       "      <td>0</td>\n",
       "      <td>0</td>\n",
       "      <td>0</td>\n",
       "      <td>...</td>\n",
       "      <td>0</td>\n",
       "      <td>0</td>\n",
       "      <td>0</td>\n",
       "      <td>0</td>\n",
       "      <td>0</td>\n",
       "      <td>0</td>\n",
       "      <td>0</td>\n",
       "      <td>0</td>\n",
       "      <td>0</td>\n",
       "      <td>0</td>\n",
       "    </tr>\n",
       "    <tr>\n",
       "      <th>XBC</th>\n",
       "      <td>1.283270e+05</td>\n",
       "      <td>1000000</td>\n",
       "      <td>0</td>\n",
       "      <td>0</td>\n",
       "      <td>0</td>\n",
       "      <td>0</td>\n",
       "      <td>0</td>\n",
       "      <td>0</td>\n",
       "      <td>0</td>\n",
       "      <td>0</td>\n",
       "      <td>...</td>\n",
       "      <td>0</td>\n",
       "      <td>0</td>\n",
       "      <td>0</td>\n",
       "      <td>0</td>\n",
       "      <td>0</td>\n",
       "      <td>0</td>\n",
       "      <td>0</td>\n",
       "      <td>0</td>\n",
       "      <td>0</td>\n",
       "      <td>0</td>\n",
       "    </tr>\n",
       "  </tbody>\n",
       "</table>\n",
       "<p>685 rows × 109 columns</p>\n",
       "</div>"
      ],
      "text/plain": [
       "            TotalCoinsMined TotalCoinSupply  Algorithm_1GB AES Pattern Search  \\\n",
       "coins_name                                                                      \n",
       "42             4.199995e+01              42                                 0   \n",
       "404            1.055185e+09       532000000                                 0   \n",
       "808            0.000000e+00               0                                 0   \n",
       "1337           2.927942e+10    314159265359                                 0   \n",
       "BTC            1.792718e+07        21000000                                 0   \n",
       "...                     ...             ...                               ...   \n",
       "ZEPH           2.000000e+09      2000000000                                 0   \n",
       "GAP            1.493105e+07       250000000                                 0   \n",
       "BDX            9.802226e+08      1400222610                                 0   \n",
       "ZEN            7.296538e+06        21000000                                 0   \n",
       "XBC            1.283270e+05         1000000                                 0   \n",
       "\n",
       "            Algorithm_536  Algorithm_Argon2  Algorithm_Argon2d  \\\n",
       "coins_name                                                       \n",
       "42                      0                 0                  0   \n",
       "404                     0                 0                  0   \n",
       "808                     0                 0                  0   \n",
       "1337                    0                 0                  0   \n",
       "BTC                     0                 0                  0   \n",
       "...                   ...               ...                ...   \n",
       "ZEPH                    0                 0                  0   \n",
       "GAP                     0                 0                  0   \n",
       "BDX                     0                 0                  0   \n",
       "ZEN                     0                 0                  0   \n",
       "XBC                     0                 0                  0   \n",
       "\n",
       "            Algorithm_BLAKE256  Algorithm_Blake  Algorithm_Blake2S  \\\n",
       "coins_name                                                           \n",
       "42                           0                0                  0   \n",
       "404                          0                0                  0   \n",
       "808                          0                0                  0   \n",
       "1337                         0                0                  0   \n",
       "BTC                          0                0                  0   \n",
       "...                        ...              ...                ...   \n",
       "ZEPH                         0                0                  0   \n",
       "GAP                          0                0                  0   \n",
       "BDX                          0                0                  0   \n",
       "ZEN                          0                0                  0   \n",
       "XBC                          0                0                  0   \n",
       "\n",
       "            Algorithm_Blake2b  ...  ProofType_PoW/PoS  ProofType_PoW/PoS   \\\n",
       "coins_name                     ...                                          \n",
       "42                          0  ...                  1                   0   \n",
       "404                         0  ...                  1                   0   \n",
       "808                         0  ...                  1                   0   \n",
       "1337                        0  ...                  1                   0   \n",
       "BTC                         0  ...                  0                   0   \n",
       "...                       ...  ...                ...                 ...   \n",
       "ZEPH                        0  ...                  0                   0   \n",
       "GAP                         0  ...                  1                   0   \n",
       "BDX                         0  ...                  0                   0   \n",
       "ZEN                         0  ...                  0                   0   \n",
       "XBC                         0  ...                  0                   0   \n",
       "\n",
       "            ProofType_PoW/PoW  ProofType_PoW/nPoS  ProofType_Pos  \\\n",
       "coins_name                                                         \n",
       "42                          0                   0              0   \n",
       "404                         0                   0              0   \n",
       "808                         0                   0              0   \n",
       "1337                        0                   0              0   \n",
       "BTC                         0                   0              0   \n",
       "...                       ...                 ...            ...   \n",
       "ZEPH                        0                   0              0   \n",
       "GAP                         0                   0              0   \n",
       "BDX                         0                   0              0   \n",
       "ZEN                         0                   0              0   \n",
       "XBC                         0                   0              0   \n",
       "\n",
       "            ProofType_Proof of Authority  ProofType_Proof of Trust  \\\n",
       "coins_name                                                           \n",
       "42                                     0                         0   \n",
       "404                                    0                         0   \n",
       "808                                    0                         0   \n",
       "1337                                   0                         0   \n",
       "BTC                                    0                         0   \n",
       "...                                  ...                       ...   \n",
       "ZEPH                                   0                         0   \n",
       "GAP                                    0                         0   \n",
       "BDX                                    0                         0   \n",
       "ZEN                                    0                         0   \n",
       "XBC                                    0                         0   \n",
       "\n",
       "            ProofType_TPoS  ProofType_Zero-Knowledge Proof  ProofType_dPoW/PoW  \n",
       "coins_name                                                                      \n",
       "42                       0                               0                   0  \n",
       "404                      0                               0                   0  \n",
       "808                      0                               0                   0  \n",
       "1337                     0                               0                   0  \n",
       "BTC                      0                               0                   0  \n",
       "...                    ...                             ...                 ...  \n",
       "ZEPH                     0                               0                   0  \n",
       "GAP                      0                               0                   0  \n",
       "BDX                      0                               0                   0  \n",
       "ZEN                      0                               0                   0  \n",
       "XBC                      0                               0                   0  \n",
       "\n",
       "[685 rows x 109 columns]"
      ]
     },
     "execution_count": 204,
     "metadata": {},
     "output_type": "execute_result"
    }
   ],
   "source": [
    "X = pd.get_dummies(data = new_crypto_df, columns = [\"Algorithm\", \"ProofType\"])\n",
    "X"
   ]
  },
  {
   "cell_type": "code",
   "execution_count": 205,
   "metadata": {},
   "outputs": [
    {
     "name": "stdout",
     "output_type": "stream",
     "text": [
      "[[-0.10282804 -0.03823841 -0.03823596 -0.03823596 -0.03823596 -0.03823596\n",
      "  -0.05411338 -0.07664017 -0.03823596 -0.05411338 -0.05411338 -0.03823596\n",
      "  -0.03823596 -0.18216065 -0.05411338 -0.03823596 -0.03823596 -0.08574929\n",
      "  -0.03823596 -0.10160947 -0.06632365 -0.03823596 -0.03823596 -0.1642757\n",
      "  -0.03823596 -0.03823596 -0.13908716 -0.03823596 -0.03823596 -0.07664017\n",
      "  -0.03823596 -0.03823596 -0.03823596 -0.03823596 -0.06632365 -0.03823596\n",
      "  -0.07664017 -0.08574929 -0.07664017 -0.03823596 -0.03823596 -0.12775161\n",
      "  -0.1335313  -0.13908716 -0.03823596 -0.05411338 -0.03823596 -0.06632365\n",
      "  -0.1689039  -0.03823596 -0.03823596 -0.03823596 -0.07664017 -0.17342199\n",
      "  -0.33468341 -0.03823596 -0.08574929 -0.06632365 -0.05411338 -0.03823596\n",
      "   1.42042992 -0.06632365 -0.03823596 -0.03823596 -0.06632365 -0.06632365\n",
      "  -0.03823596 -0.03823596 -0.03823596 -0.03823596 -0.03823596 -0.03823596\n",
      "  -0.03823596 -0.41586681 -0.03823596 -0.19054822 -0.03823596 -0.10870529\n",
      "  -0.07664017 -0.09400279 -0.03823596 -0.03823596 -0.03823596 -0.03823596\n",
      "  -0.12171612 -0.03823596 -0.03823596 -0.03823596 -0.03823596 -0.03823596\n",
      "  -0.06632365 -0.42308595 -0.03823596 -0.05411338 -0.03823596 -0.03823596\n",
      "  -0.90921211 -0.03823596 -0.03823596  1.38379681 -0.03823596 -0.03823596\n",
      "  -0.03823596 -0.03823596 -0.03823596 -0.03823596 -0.03823596 -0.03823596\n",
      "  -0.03823596]\n",
      " [-0.07661326 -0.03823825 -0.03823596 -0.03823596 -0.03823596 -0.03823596\n",
      "  -0.05411338 -0.07664017 -0.03823596 -0.05411338 -0.05411338 -0.03823596\n",
      "  -0.03823596 -0.18216065 -0.05411338 -0.03823596 -0.03823596 -0.08574929\n",
      "  -0.03823596 -0.10160947 -0.06632365 -0.03823596 -0.03823596 -0.1642757\n",
      "  -0.03823596 -0.03823596 -0.13908716 -0.03823596 -0.03823596 -0.07664017\n",
      "  -0.03823596 -0.03823596 -0.03823596 -0.03823596 -0.06632365 -0.03823596\n",
      "  -0.07664017 -0.08574929 -0.07664017 -0.03823596 -0.03823596 -0.12775161\n",
      "  -0.1335313  -0.13908716 -0.03823596 -0.05411338 -0.03823596 -0.06632365\n",
      "  -0.1689039  -0.03823596 -0.03823596 -0.03823596 -0.07664017 -0.17342199\n",
      "  -0.33468341 -0.03823596 -0.08574929 -0.06632365 -0.05411338 -0.03823596\n",
      "   1.42042992 -0.06632365 -0.03823596 -0.03823596 -0.06632365 -0.06632365\n",
      "  -0.03823596 -0.03823596 -0.03823596 -0.03823596 -0.03823596 -0.03823596\n",
      "  -0.03823596 -0.41586681 -0.03823596 -0.19054822 -0.03823596 -0.10870529\n",
      "  -0.07664017 -0.09400279 -0.03823596 -0.03823596 -0.03823596 -0.03823596\n",
      "  -0.12171612 -0.03823596 -0.03823596 -0.03823596 -0.03823596 -0.03823596\n",
      "  -0.06632365 -0.42308595 -0.03823596 -0.05411338 -0.03823596 -0.03823596\n",
      "  -0.90921211 -0.03823596 -0.03823596  1.38379681 -0.03823596 -0.03823596\n",
      "  -0.03823596 -0.03823596 -0.03823596 -0.03823596 -0.03823596 -0.03823596\n",
      "  -0.03823596]]\n"
     ]
    }
   ],
   "source": [
    "# Standardize data with StandardScaler\n",
    "X_scaled = StandardScaler().fit_transform(X)\n",
    "print(X_scaled[0:2])"
   ]
  },
  {
   "cell_type": "code",
   "execution_count": 206,
   "metadata": {},
   "outputs": [],
   "source": [
    "# Initialize PCA model\n",
    "pca = PCA(n_components=3)"
   ]
  },
  {
   "cell_type": "code",
   "execution_count": 207,
   "metadata": {},
   "outputs": [],
   "source": [
    "# Get three principal components for the iris data.\n",
    "X_pca = pca.fit_transform(X_scaled)"
   ]
  },
  {
   "cell_type": "code",
   "execution_count": 223,
   "metadata": {},
   "outputs": [
    {
     "data": {
      "text/html": [
       "<div>\n",
       "<style scoped>\n",
       "    .dataframe tbody tr th:only-of-type {\n",
       "        vertical-align: middle;\n",
       "    }\n",
       "\n",
       "    .dataframe tbody tr th {\n",
       "        vertical-align: top;\n",
       "    }\n",
       "\n",
       "    .dataframe thead th {\n",
       "        text-align: right;\n",
       "    }\n",
       "</style>\n",
       "<table border=\"1\" class=\"dataframe\">\n",
       "  <thead>\n",
       "    <tr style=\"text-align: right;\">\n",
       "      <th></th>\n",
       "      <th>PC 1</th>\n",
       "      <th>PC 2</th>\n",
       "      <th>PC 3</th>\n",
       "    </tr>\n",
       "    <tr>\n",
       "      <th>coins_name</th>\n",
       "      <th></th>\n",
       "      <th></th>\n",
       "      <th></th>\n",
       "    </tr>\n",
       "  </thead>\n",
       "  <tbody>\n",
       "    <tr>\n",
       "      <th>42</th>\n",
       "      <td>-0.194079</td>\n",
       "      <td>1.184179</td>\n",
       "      <td>-0.428158</td>\n",
       "    </tr>\n",
       "    <tr>\n",
       "      <th>404</th>\n",
       "      <td>-0.179833</td>\n",
       "      <td>1.182062</td>\n",
       "      <td>-0.428591</td>\n",
       "    </tr>\n",
       "    <tr>\n",
       "      <th>808</th>\n",
       "      <td>-0.190391</td>\n",
       "      <td>0.816650</td>\n",
       "      <td>-0.317264</td>\n",
       "    </tr>\n",
       "    <tr>\n",
       "      <th>1337</th>\n",
       "      <td>0.266990</td>\n",
       "      <td>1.911346</td>\n",
       "      <td>-0.578929</td>\n",
       "    </tr>\n",
       "    <tr>\n",
       "      <th>BTC</th>\n",
       "      <td>-0.263124</td>\n",
       "      <td>-1.432037</td>\n",
       "      <td>0.125684</td>\n",
       "    </tr>\n",
       "  </tbody>\n",
       "</table>\n",
       "</div>"
      ],
      "text/plain": [
       "                PC 1      PC 2      PC 3\n",
       "coins_name                              \n",
       "42         -0.194079  1.184179 -0.428158\n",
       "404        -0.179833  1.182062 -0.428591\n",
       "808        -0.190391  0.816650 -0.317264\n",
       "1337        0.266990  1.911346 -0.578929\n",
       "BTC        -0.263124 -1.432037  0.125684"
      ]
     },
     "execution_count": 223,
     "metadata": {},
     "output_type": "execute_result"
    }
   ],
   "source": [
    "# Transform PCA data into a Dataframe\n",
    "pcs_df = pd.DataFrame(\n",
    "    data = X_pca, columns = [\"PC 1\", \"PC 2\", \"PC 3\"], index = new_crypto_df.index)\n",
    "pcs_df.head()"
   ]
  },
  {
   "cell_type": "code",
   "execution_count": 224,
   "metadata": {},
   "outputs": [
    {
     "data": {
      "text/plain": [
       "array([0.02043335, 0.01923561, 0.01842296])"
      ]
     },
     "execution_count": 224,
     "metadata": {},
     "output_type": "execute_result"
    }
   ],
   "source": [
    "# Fetch the explained variance\n",
    "pca.explained_variance_ratio_"
   ]
  },
  {
   "cell_type": "code",
   "execution_count": 225,
   "metadata": {},
   "outputs": [
    {
     "data": {},
     "metadata": {},
     "output_type": "display_data"
    },
    {
     "data": {
      "application/vnd.holoviews_exec.v0+json": "",
      "text/html": [
       "<div id='2232'>\n",
       "\n",
       "\n",
       "\n",
       "\n",
       "\n",
       "  <div class=\"bk-root\" id=\"92fe16e6-3adb-46fd-89a2-bef5b2e59e10\" data-root-id=\"2232\"></div>\n",
       "</div>\n",
       "<script type=\"application/javascript\">\n",
       "    function msg_handler(msg) {\n",
       "      var metadata = msg.metadata;\n",
       "      var buffers = msg.buffers;\n",
       "      var msg = msg.content.data;\n",
       "      if ((metadata.msg_type == \"Ready\")) {\n",
       "        if (metadata.content) {\n",
       "          console.log(\"Python callback returned following output:\", metadata.content);\n",
       "        }\n",
       "      } else if (metadata.msg_type == \"Error\") {\n",
       "        console.log(\"Python failed with the following traceback:\", metadata.traceback)\n",
       "      } else {\n",
       "        \n",
       "var plot_id = \"2232\";\n",
       "\n",
       "if ((plot_id in window.PyViz.plot_index) && (window.PyViz.plot_index[plot_id] != null)) {\n",
       "  var plot = window.PyViz.plot_index[plot_id];\n",
       "} else if ((Bokeh !== undefined) && (plot_id in Bokeh.index)) {\n",
       "  var plot = Bokeh.index[plot_id];\n",
       "}\n",
       "\n",
       "if (plot == null) {\n",
       "  return\n",
       "}\n",
       "\n",
       "if (plot_id in window.PyViz.receivers) {\n",
       "  var receiver = window.PyViz.receivers[plot_id];\n",
       "} else {\n",
       "  var receiver = new Bokeh.protocol.Receiver();\n",
       "  window.PyViz.receivers[plot_id] = receiver;\n",
       "}\n",
       "\n",
       "if ((buffers != undefined) && (buffers.length > 0)) {\n",
       "  receiver.consume(buffers[0].buffer)\n",
       "} else {\n",
       "  receiver.consume(msg)\n",
       "}\n",
       "\n",
       "const comm_msg = receiver.message;\n",
       "if ((comm_msg != null) && (Object.keys(comm_msg.content).length > 0)) {\n",
       "  plot.model.document.apply_json_patch(comm_msg.content, comm_msg.buffers)\n",
       "}\n",
       "\n",
       "      }\n",
       "    }\n",
       "    if ((window.PyViz == undefined) || (!window.PyViz.comm_manager)) {\n",
       "      console.log(\"Could not find comm manager\")\n",
       "    } else {\n",
       "      window.PyViz.comm_manager.register_target('2232', '4e1ce560412c4f9bbc19e5ec54dc4971', msg_handler);\n",
       "    }\n",
       "    \n",
       "(function(root) {\n",
       "  function embed_document(root) {\n",
       "  var docs_json = {\"c68f9f37-f4ed-4dfc-b33d-045454a0e57f\":{\"roots\":{\"references\":[{\"attributes\":{\"children\":[{\"id\":\"2233\",\"type\":\"Spacer\"},{\"id\":\"2237\",\"subtype\":\"Figure\",\"type\":\"Plot\"},{\"id\":\"2290\",\"type\":\"Spacer\"}],\"margin\":[0,0,0,0],\"name\":\"Row04514\",\"tags\":[\"embedded\"]},\"id\":\"2232\",\"type\":\"Row\"},{\"attributes\":{},\"id\":\"2256\",\"type\":\"SaveTool\"},{\"attributes\":{},\"id\":\"2260\",\"type\":\"ResetTool\"},{\"attributes\":{\"align\":null,\"below\":[{\"id\":\"2246\",\"type\":\"LinearAxis\"}],\"center\":[{\"id\":\"2250\",\"type\":\"Grid\"},{\"id\":\"2255\",\"type\":\"Grid\"}],\"left\":[{\"id\":\"2251\",\"type\":\"LinearAxis\"}],\"margin\":null,\"min_border_bottom\":10,\"min_border_left\":10,\"min_border_right\":10,\"min_border_top\":10,\"plot_height\":300,\"plot_width\":700,\"renderers\":[{\"id\":\"2274\",\"type\":\"GlyphRenderer\"}],\"sizing_mode\":\"fixed\",\"title\":{\"id\":\"2238\",\"type\":\"Title\"},\"toolbar\":{\"id\":\"2261\",\"type\":\"Toolbar\"},\"x_range\":{\"id\":\"2234\",\"type\":\"Range1d\"},\"x_scale\":{\"id\":\"2242\",\"type\":\"LinearScale\"},\"y_range\":{\"id\":\"2235\",\"type\":\"Range1d\"},\"y_scale\":{\"id\":\"2244\",\"type\":\"LinearScale\"}},\"id\":\"2237\",\"subtype\":\"Figure\",\"type\":\"Plot\"},{\"attributes\":{\"callback\":null,\"end\":10.0,\"reset_end\":10.0,\"reset_start\":1.0,\"start\":1.0,\"tags\":[[[\"k\",\"k\",null]]]},\"id\":\"2234\",\"type\":\"Range1d\"},{\"attributes\":{},\"id\":\"2244\",\"type\":\"LinearScale\"},{\"attributes\":{\"margin\":[5,5,5,5],\"name\":\"HSpacer04519\",\"sizing_mode\":\"stretch_width\"},\"id\":\"2290\",\"type\":\"Spacer\"},{\"attributes\":{\"margin\":[5,5,5,5],\"name\":\"HSpacer04518\",\"sizing_mode\":\"stretch_width\"},\"id\":\"2233\",\"type\":\"Spacer\"},{\"attributes\":{\"data_source\":{\"id\":\"2268\",\"type\":\"ColumnDataSource\"},\"glyph\":{\"id\":\"2271\",\"type\":\"Line\"},\"hover_glyph\":null,\"muted_glyph\":{\"id\":\"2273\",\"type\":\"Line\"},\"nonselection_glyph\":{\"id\":\"2272\",\"type\":\"Line\"},\"selection_glyph\":null,\"view\":{\"id\":\"2275\",\"type\":\"CDSView\"}},\"id\":\"2274\",\"type\":\"GlyphRenderer\"},{\"attributes\":{\"text\":\"Elbow Curve\",\"text_color\":{\"value\":\"black\"},\"text_font_size\":{\"value\":\"12pt\"}},\"id\":\"2238\",\"type\":\"Title\"},{\"attributes\":{},\"id\":\"2252\",\"type\":\"BasicTicker\"},{\"attributes\":{\"line_alpha\":0.2,\"line_color\":\"#1f77b3\",\"line_width\":2,\"x\":{\"field\":\"k\"},\"y\":{\"field\":\"inertia\"}},\"id\":\"2273\",\"type\":\"Line\"},{\"attributes\":{},\"id\":\"2282\",\"type\":\"BasicTickFormatter\"},{\"attributes\":{\"line_alpha\":0.1,\"line_color\":\"#1f77b3\",\"line_width\":2,\"x\":{\"field\":\"k\"},\"y\":{\"field\":\"inertia\"}},\"id\":\"2272\",\"type\":\"Line\"},{\"attributes\":{},\"id\":\"2269\",\"type\":\"Selection\"},{\"attributes\":{\"dimension\":1,\"grid_line_color\":null,\"ticker\":{\"id\":\"2252\",\"type\":\"BasicTicker\"}},\"id\":\"2255\",\"type\":\"Grid\"},{\"attributes\":{\"overlay\":{\"id\":\"2287\",\"type\":\"BoxAnnotation\"}},\"id\":\"2259\",\"type\":\"BoxZoomTool\"},{\"attributes\":{\"callback\":null,\"renderers\":[{\"id\":\"2274\",\"type\":\"GlyphRenderer\"}],\"tags\":[\"hv_created\"],\"tooltips\":[[\"k\",\"@{k}\"],[\"inertia\",\"@{inertia}\"]]},\"id\":\"2236\",\"type\":\"HoverTool\"},{\"attributes\":{\"callback\":null,\"end\":4760.522709078837,\"reset_end\":4760.522709078837,\"reset_start\":-316.55123575988125,\"start\":-316.55123575988125,\"tags\":[[[\"inertia\",\"inertia\",null]]]},\"id\":\"2235\",\"type\":\"Range1d\"},{\"attributes\":{},\"id\":\"2278\",\"type\":\"BasicTickFormatter\"},{\"attributes\":{},\"id\":\"2242\",\"type\":\"LinearScale\"},{\"attributes\":{\"axis_label\":\"k\",\"axis_label_text_font_size\":{\"value\":\"10pt\"},\"bounds\":\"auto\",\"formatter\":{\"id\":\"2278\",\"type\":\"BasicTickFormatter\"},\"major_label_orientation\":\"horizontal\",\"ticker\":{\"id\":\"2276\",\"type\":\"FixedTicker\"}},\"id\":\"2246\",\"type\":\"LinearAxis\"},{\"attributes\":{\"line_color\":\"#1f77b3\",\"line_width\":2,\"x\":{\"field\":\"k\"},\"y\":{\"field\":\"inertia\"}},\"id\":\"2271\",\"type\":\"Line\"},{\"attributes\":{\"ticks\":[1,2,3,4,5,6,7,8,9,10]},\"id\":\"2276\",\"type\":\"FixedTicker\"},{\"attributes\":{\"grid_line_color\":null,\"ticker\":{\"id\":\"2247\",\"type\":\"BasicTicker\"}},\"id\":\"2250\",\"type\":\"Grid\"},{\"attributes\":{\"callback\":null,\"data\":{\"inertia\":{\"__ndarray__\":\"7WgX527xsEApk5uixvSnQKtkmQuDk5xA6PZVoahYiUChvlVVoYx3QPL9TEHmAnFAcrGfsV6SaEC+IWSn5jpjQIwQG/GvxF9AKDuT2HKiWkA=\",\"dtype\":\"float64\",\"shape\":[10]},\"k\":[1,2,3,4,5,6,7,8,9,10]},\"selected\":{\"id\":\"2269\",\"type\":\"Selection\"},\"selection_policy\":{\"id\":\"2289\",\"type\":\"UnionRenderers\"}},\"id\":\"2268\",\"type\":\"ColumnDataSource\"},{\"attributes\":{\"source\":{\"id\":\"2268\",\"type\":\"ColumnDataSource\"}},\"id\":\"2275\",\"type\":\"CDSView\"},{\"attributes\":{},\"id\":\"2289\",\"type\":\"UnionRenderers\"},{\"attributes\":{},\"id\":\"2247\",\"type\":\"BasicTicker\"},{\"attributes\":{\"bottom_units\":\"screen\",\"fill_alpha\":{\"value\":0.5},\"fill_color\":{\"value\":\"lightgrey\"},\"left_units\":\"screen\",\"level\":\"overlay\",\"line_alpha\":{\"value\":1.0},\"line_color\":{\"value\":\"black\"},\"line_dash\":[4,4],\"line_width\":{\"value\":2},\"render_mode\":\"css\",\"right_units\":\"screen\",\"top_units\":\"screen\"},\"id\":\"2287\",\"type\":\"BoxAnnotation\"},{\"attributes\":{\"active_drag\":\"auto\",\"active_inspect\":\"auto\",\"active_multi\":null,\"active_scroll\":\"auto\",\"active_tap\":\"auto\",\"tools\":[{\"id\":\"2236\",\"type\":\"HoverTool\"},{\"id\":\"2256\",\"type\":\"SaveTool\"},{\"id\":\"2257\",\"type\":\"PanTool\"},{\"id\":\"2258\",\"type\":\"WheelZoomTool\"},{\"id\":\"2259\",\"type\":\"BoxZoomTool\"},{\"id\":\"2260\",\"type\":\"ResetTool\"}]},\"id\":\"2261\",\"type\":\"Toolbar\"},{\"attributes\":{},\"id\":\"2257\",\"type\":\"PanTool\"},{\"attributes\":{},\"id\":\"2258\",\"type\":\"WheelZoomTool\"},{\"attributes\":{\"axis_label\":\"inertia\",\"axis_label_text_font_size\":{\"value\":\"10pt\"},\"bounds\":\"auto\",\"formatter\":{\"id\":\"2282\",\"type\":\"BasicTickFormatter\"},\"major_label_orientation\":\"horizontal\",\"ticker\":{\"id\":\"2252\",\"type\":\"BasicTicker\"}},\"id\":\"2251\",\"type\":\"LinearAxis\"}],\"root_ids\":[\"2232\"]},\"title\":\"Bokeh Application\",\"version\":\"1.4.0\"}};\n",
       "  var render_items = [{\"docid\":\"c68f9f37-f4ed-4dfc-b33d-045454a0e57f\",\"roots\":{\"2232\":\"92fe16e6-3adb-46fd-89a2-bef5b2e59e10\"}}];\n",
       "  root.Bokeh.embed.embed_items_notebook(docs_json, render_items);\n",
       "  }\n",
       "if (root.Bokeh !== undefined) {\n",
       "    embed_document(root);\n",
       "  } else {\n",
       "    var attempts = 0;\n",
       "    var timer = setInterval(function(root) {\n",
       "      if (root.Bokeh !== undefined) {\n",
       "        clearInterval(timer);\n",
       "        embed_document(root);\n",
       "      } else if (document.readyState == \"complete\") {\n",
       "        attempts++;\n",
       "        if (attempts > 100) {\n",
       "          clearInterval(timer);\n",
       "          console.log(\"Bokeh: ERROR: Unable to run BokehJS code because BokehJS library is missing\");\n",
       "        }\n",
       "      }\n",
       "    }, 10, root)\n",
       "  }\n",
       "})(window);</script>"
      ],
      "text/plain": [
       ":Curve   [k]   (inertia)"
      ]
     },
     "execution_count": 225,
     "metadata": {
      "application/vnd.holoviews_exec.v0+json": {
       "id": "2232"
      }
     },
     "output_type": "execute_result"
    }
   ],
   "source": [
    "# Find the best value for K\n",
    "inertia = []\n",
    "k = list(range(1, 11))\n",
    "\n",
    "# Calculate the inertia for the range of K values\n",
    "for i in k:\n",
    "    km = KMeans(n_clusters=i, random_state=0)\n",
    "    km.fit(pcs_df)\n",
    "    inertia.append(km.inertia_)\n",
    "\n",
    "# Create the elbow curve\n",
    "elbow_data = {\"k\": k, \"inertia\": inertia}\n",
    "df_elbow = pd.DataFrame(elbow_data)\n",
    "df_elbow.hvplot.line(x=\"k\", y=\"inertia\", xticks=k, title=\"Elbow Curve\")"
   ]
  },
  {
   "cell_type": "code",
   "execution_count": 226,
   "metadata": {},
   "outputs": [
    {
     "data": {
      "text/html": [
       "<div>\n",
       "<style scoped>\n",
       "    .dataframe tbody tr th:only-of-type {\n",
       "        vertical-align: middle;\n",
       "    }\n",
       "\n",
       "    .dataframe tbody tr th {\n",
       "        vertical-align: top;\n",
       "    }\n",
       "\n",
       "    .dataframe thead th {\n",
       "        text-align: right;\n",
       "    }\n",
       "</style>\n",
       "<table border=\"1\" class=\"dataframe\">\n",
       "  <thead>\n",
       "    <tr style=\"text-align: right;\">\n",
       "      <th></th>\n",
       "      <th>PC 1</th>\n",
       "      <th>PC 2</th>\n",
       "      <th>PC 3</th>\n",
       "      <th>class</th>\n",
       "    </tr>\n",
       "    <tr>\n",
       "      <th>coins_name</th>\n",
       "      <th></th>\n",
       "      <th></th>\n",
       "      <th></th>\n",
       "      <th></th>\n",
       "    </tr>\n",
       "  </thead>\n",
       "  <tbody>\n",
       "    <tr>\n",
       "      <th>42</th>\n",
       "      <td>-0.194079</td>\n",
       "      <td>1.184179</td>\n",
       "      <td>-0.428158</td>\n",
       "      <td>2</td>\n",
       "    </tr>\n",
       "    <tr>\n",
       "      <th>404</th>\n",
       "      <td>-0.179833</td>\n",
       "      <td>1.182062</td>\n",
       "      <td>-0.428591</td>\n",
       "      <td>2</td>\n",
       "    </tr>\n",
       "    <tr>\n",
       "      <th>808</th>\n",
       "      <td>-0.190391</td>\n",
       "      <td>0.816650</td>\n",
       "      <td>-0.317264</td>\n",
       "      <td>2</td>\n",
       "    </tr>\n",
       "    <tr>\n",
       "      <th>1337</th>\n",
       "      <td>0.266990</td>\n",
       "      <td>1.911346</td>\n",
       "      <td>-0.578929</td>\n",
       "      <td>2</td>\n",
       "    </tr>\n",
       "    <tr>\n",
       "      <th>BTC</th>\n",
       "      <td>-0.263124</td>\n",
       "      <td>-1.432037</td>\n",
       "      <td>0.125684</td>\n",
       "      <td>0</td>\n",
       "    </tr>\n",
       "  </tbody>\n",
       "</table>\n",
       "</div>"
      ],
      "text/plain": [
       "                PC 1      PC 2      PC 3  class\n",
       "coins_name                                     \n",
       "42         -0.194079  1.184179 -0.428158      2\n",
       "404        -0.179833  1.182062 -0.428591      2\n",
       "808        -0.190391  0.816650 -0.317264      2\n",
       "1337        0.266990  1.911346 -0.578929      2\n",
       "BTC        -0.263124 -1.432037  0.125684      0"
      ]
     },
     "execution_count": 226,
     "metadata": {},
     "output_type": "execute_result"
    }
   ],
   "source": [
    "# Initialize the K-means model\n",
    "model = KMeans(n_clusters=3, random_state=0)\n",
    "\n",
    "# Fit the model\n",
    "model.fit(pcs_df)\n",
    "\n",
    "# Predict clusters\n",
    "predictions = model.predict(pcs_df)\n",
    "\n",
    "# Add the predicted class columns\n",
    "pcs_df[\"class\"] = model.labels_\n",
    "pcs_df.head()"
   ]
  },
  {
   "cell_type": "code",
   "execution_count": 238,
   "metadata": {},
   "outputs": [
    {
     "data": {
      "text/html": [
       "<div>\n",
       "<style scoped>\n",
       "    .dataframe tbody tr th:only-of-type {\n",
       "        vertical-align: middle;\n",
       "    }\n",
       "\n",
       "    .dataframe tbody tr th {\n",
       "        vertical-align: top;\n",
       "    }\n",
       "\n",
       "    .dataframe thead th {\n",
       "        text-align: right;\n",
       "    }\n",
       "</style>\n",
       "<table border=\"1\" class=\"dataframe\">\n",
       "  <thead>\n",
       "    <tr style=\"text-align: right;\">\n",
       "      <th></th>\n",
       "      <th>CoinName</th>\n",
       "      <th>Algorithm</th>\n",
       "      <th>ProofType</th>\n",
       "      <th>TotalCoinsMined</th>\n",
       "      <th>TotalCoinSupply</th>\n",
       "      <th>PC 1</th>\n",
       "      <th>PC 2</th>\n",
       "      <th>PC 3</th>\n",
       "      <th>class</th>\n",
       "    </tr>\n",
       "    <tr>\n",
       "      <th>coins_name</th>\n",
       "      <th></th>\n",
       "      <th></th>\n",
       "      <th></th>\n",
       "      <th></th>\n",
       "      <th></th>\n",
       "      <th></th>\n",
       "      <th></th>\n",
       "      <th></th>\n",
       "      <th></th>\n",
       "    </tr>\n",
       "  </thead>\n",
       "  <tbody>\n",
       "    <tr>\n",
       "      <th>42</th>\n",
       "      <td>42 Coin</td>\n",
       "      <td>Scrypt</td>\n",
       "      <td>PoW/PoS</td>\n",
       "      <td>4.199995e+01</td>\n",
       "      <td>42</td>\n",
       "      <td>-0.194079</td>\n",
       "      <td>1.184179</td>\n",
       "      <td>-0.428158</td>\n",
       "      <td>2</td>\n",
       "    </tr>\n",
       "    <tr>\n",
       "      <th>404</th>\n",
       "      <td>404Coin</td>\n",
       "      <td>Scrypt</td>\n",
       "      <td>PoW/PoS</td>\n",
       "      <td>1.055185e+09</td>\n",
       "      <td>532000000</td>\n",
       "      <td>-0.179833</td>\n",
       "      <td>1.182062</td>\n",
       "      <td>-0.428591</td>\n",
       "      <td>2</td>\n",
       "    </tr>\n",
       "    <tr>\n",
       "      <th>808</th>\n",
       "      <td>808</td>\n",
       "      <td>SHA-256</td>\n",
       "      <td>PoW/PoS</td>\n",
       "      <td>0.000000e+00</td>\n",
       "      <td>0</td>\n",
       "      <td>-0.190391</td>\n",
       "      <td>0.816650</td>\n",
       "      <td>-0.317264</td>\n",
       "      <td>2</td>\n",
       "    </tr>\n",
       "    <tr>\n",
       "      <th>1337</th>\n",
       "      <td>EliteCoin</td>\n",
       "      <td>X13</td>\n",
       "      <td>PoW/PoS</td>\n",
       "      <td>2.927942e+10</td>\n",
       "      <td>314159265359</td>\n",
       "      <td>0.266990</td>\n",
       "      <td>1.911346</td>\n",
       "      <td>-0.578929</td>\n",
       "      <td>2</td>\n",
       "    </tr>\n",
       "    <tr>\n",
       "      <th>BTC</th>\n",
       "      <td>Bitcoin</td>\n",
       "      <td>SHA-256</td>\n",
       "      <td>PoW</td>\n",
       "      <td>1.792718e+07</td>\n",
       "      <td>21000000</td>\n",
       "      <td>-0.263124</td>\n",
       "      <td>-1.432037</td>\n",
       "      <td>0.125684</td>\n",
       "      <td>0</td>\n",
       "    </tr>\n",
       "  </tbody>\n",
       "</table>\n",
       "</div>"
      ],
      "text/plain": [
       "             CoinName Algorithm ProofType  TotalCoinsMined TotalCoinSupply  \\\n",
       "coins_name                                                                   \n",
       "42            42 Coin    Scrypt   PoW/PoS     4.199995e+01              42   \n",
       "404           404Coin    Scrypt   PoW/PoS     1.055185e+09       532000000   \n",
       "808               808   SHA-256   PoW/PoS     0.000000e+00               0   \n",
       "1337        EliteCoin       X13   PoW/PoS     2.927942e+10    314159265359   \n",
       "BTC           Bitcoin   SHA-256       PoW     1.792718e+07        21000000   \n",
       "\n",
       "                PC 1      PC 2      PC 3  class  \n",
       "coins_name                                       \n",
       "42         -0.194079  1.184179 -0.428158      2  \n",
       "404        -0.179833  1.182062 -0.428591      2  \n",
       "808        -0.190391  0.816650 -0.317264      2  \n",
       "1337        0.266990  1.911346 -0.578929      2  \n",
       "BTC        -0.263124 -1.432037  0.125684      0  "
      ]
     },
     "execution_count": 238,
     "metadata": {},
     "output_type": "execute_result"
    }
   ],
   "source": [
    "# Create a new DataFrame named “clustered_df,” that includes the following columns: \n",
    "# Algorithm, ProofType, TotalCoinsMined, TotalCoinSupply, PC 1, PC 2, PC 3, CoinName, and Class\n",
    "clustered_df = pd.concat([crypto_df, pcs_df ], axis = 1, join = 'inner')\n",
    "clustered_df.head()"
   ]
  },
  {
   "cell_type": "code",
   "execution_count": 239,
   "metadata": {},
   "outputs": [
    {
     "data": {},
     "metadata": {},
     "output_type": "display_data"
    },
    {
     "data": {
      "application/vnd.holoviews_exec.v0+json": "",
      "text/html": [
       "<div id='2678'>\n",
       "\n",
       "\n",
       "\n",
       "\n",
       "\n",
       "  <div class=\"bk-root\" id=\"0956d806-9253-439c-a736-1b7541ecb76b\" data-root-id=\"2678\"></div>\n",
       "</div>\n",
       "<script type=\"application/javascript\">\n",
       "    function msg_handler(msg) {\n",
       "      var metadata = msg.metadata;\n",
       "      var buffers = msg.buffers;\n",
       "      var msg = msg.content.data;\n",
       "      if ((metadata.msg_type == \"Ready\")) {\n",
       "        if (metadata.content) {\n",
       "          console.log(\"Python callback returned following output:\", metadata.content);\n",
       "        }\n",
       "      } else if (metadata.msg_type == \"Error\") {\n",
       "        console.log(\"Python failed with the following traceback:\", metadata.traceback)\n",
       "      } else {\n",
       "        \n",
       "var plot_id = \"2678\";\n",
       "\n",
       "if ((plot_id in window.PyViz.plot_index) && (window.PyViz.plot_index[plot_id] != null)) {\n",
       "  var plot = window.PyViz.plot_index[plot_id];\n",
       "} else if ((Bokeh !== undefined) && (plot_id in Bokeh.index)) {\n",
       "  var plot = Bokeh.index[plot_id];\n",
       "}\n",
       "\n",
       "if (plot == null) {\n",
       "  return\n",
       "}\n",
       "\n",
       "if (plot_id in window.PyViz.receivers) {\n",
       "  var receiver = window.PyViz.receivers[plot_id];\n",
       "} else {\n",
       "  var receiver = new Bokeh.protocol.Receiver();\n",
       "  window.PyViz.receivers[plot_id] = receiver;\n",
       "}\n",
       "\n",
       "if ((buffers != undefined) && (buffers.length > 0)) {\n",
       "  receiver.consume(buffers[0].buffer)\n",
       "} else {\n",
       "  receiver.consume(msg)\n",
       "}\n",
       "\n",
       "const comm_msg = receiver.message;\n",
       "if ((comm_msg != null) && (Object.keys(comm_msg.content).length > 0)) {\n",
       "  plot.model.document.apply_json_patch(comm_msg.content, comm_msg.buffers)\n",
       "}\n",
       "\n",
       "      }\n",
       "    }\n",
       "    if ((window.PyViz == undefined) || (!window.PyViz.comm_manager)) {\n",
       "      console.log(\"Could not find comm manager\")\n",
       "    } else {\n",
       "      window.PyViz.comm_manager.register_target('2678', '01b455d62cf04c87b287666b5d97daa3', msg_handler);\n",
       "    }\n",
       "    \n",
       "(function(root) {\n",
       "  function embed_document(root) {\n",
       "  var docs_json = {\"a21081d8-9764-481d-9267-721ae6394644\":{\"roots\":{\"references\":[{\"attributes\":{\"callback\":null,\"end\":1032670428767.6898,\"reset_end\":1032670428767.6898,\"reset_start\":-48599692876.008446,\"start\":-48599692876.008446,\"tags\":[[[\"TotalCoinsMined\",\"TotalCoinsMined\",null]]]},\"id\":\"2680\",\"type\":\"Range1d\"},{\"attributes\":{\"active_drag\":\"auto\",\"active_inspect\":\"auto\",\"active_multi\":null,\"active_scroll\":\"auto\",\"active_tap\":\"auto\",\"tools\":[{\"id\":\"2682\",\"type\":\"HoverTool\"},{\"id\":\"2703\",\"type\":\"SaveTool\"},{\"id\":\"2704\",\"type\":\"PanTool\"},{\"id\":\"2705\",\"type\":\"WheelZoomTool\"},{\"id\":\"2706\",\"type\":\"BoxZoomTool\"},{\"id\":\"2707\",\"type\":\"ResetTool\"}]},\"id\":\"2708\",\"type\":\"Toolbar\"},{\"attributes\":{\"callback\":null,\"data\":{\"CoinName\":[\"BiblePay\",\"LitecoinCash\",\"Poa Network\",\"Acute Angle Cloud\",\"Fiii\",\"Waves\"],\"TotalCoinSupply\":[\"5200000000\",\"840000000\",\"252460800\",\"1000000000\",\"5000000000\",\"100000000\"],\"TotalCoinsMined\":{\"__ndarray__\":\"8dd4J/5n2kGWsBp+eAbDQQAAAH40YKhBAAAAAGXNzUHSe7+80gv2wQAAAACE15dB\",\"dtype\":\"float64\",\"shape\":[6]},\"class\":[1,1,1,1,1,1]},\"selected\":{\"id\":\"2736\",\"type\":\"Selection\"},\"selection_policy\":{\"id\":\"2769\",\"type\":\"UnionRenderers\"}},\"id\":\"2735\",\"type\":\"ColumnDataSource\"},{\"attributes\":{\"label\":{\"value\":\"0\"},\"renderers\":[{\"id\":\"2725\",\"type\":\"GlyphRenderer\"}]},\"id\":\"2734\",\"type\":\"LegendItem\"},{\"attributes\":{},\"id\":\"2718\",\"type\":\"CategoricalTickFormatter\"},{\"attributes\":{\"label\":{\"value\":\"1\"},\"renderers\":[{\"id\":\"2741\",\"type\":\"GlyphRenderer\"}]},\"id\":\"2751\",\"type\":\"LegendItem\"},{\"attributes\":{},\"id\":\"2707\",\"type\":\"ResetTool\"},{\"attributes\":{},\"id\":\"2700\",\"type\":\"CategoricalTicker\"},{\"attributes\":{\"source\":{\"id\":\"2719\",\"type\":\"ColumnDataSource\"}},\"id\":\"2726\",\"type\":\"CDSView\"},{\"attributes\":{\"data_source\":{\"id\":\"2752\",\"type\":\"ColumnDataSource\"},\"glyph\":{\"id\":\"2755\",\"type\":\"Scatter\"},\"hover_glyph\":null,\"muted_glyph\":{\"id\":\"2757\",\"type\":\"Scatter\"},\"nonselection_glyph\":{\"id\":\"2756\",\"type\":\"Scatter\"},\"selection_glyph\":null,\"view\":{\"id\":\"2759\",\"type\":\"CDSView\"}},\"id\":\"2758\",\"type\":\"GlyphRenderer\"},{\"attributes\":{},\"id\":\"2692\",\"type\":\"CategoricalScale\"},{\"attributes\":{},\"id\":\"2736\",\"type\":\"Selection\"},{\"attributes\":{},\"id\":\"2769\",\"type\":\"UnionRenderers\"},{\"attributes\":{\"source\":{\"id\":\"2735\",\"type\":\"ColumnDataSource\"}},\"id\":\"2742\",\"type\":\"CDSView\"},{\"attributes\":{},\"id\":\"2690\",\"type\":\"LinearScale\"},{\"attributes\":{},\"id\":\"2782\",\"type\":\"UnionRenderers\"},{\"attributes\":{\"fill_alpha\":{\"value\":0.1},\"fill_color\":{\"value\":\"#ff7e0e\"},\"line_alpha\":{\"value\":0.1},\"line_color\":{\"value\":\"#ff7e0e\"},\"size\":{\"units\":\"screen\",\"value\":5.477225575051661},\"x\":{\"field\":\"TotalCoinsMined\"},\"y\":{\"field\":\"TotalCoinSupply\"}},\"id\":\"2739\",\"type\":\"Scatter\"},{\"attributes\":{\"dimension\":1,\"grid_line_color\":null,\"ticker\":{\"id\":\"2700\",\"type\":\"CategoricalTicker\"}},\"id\":\"2702\",\"type\":\"Grid\"},{\"attributes\":{},\"id\":\"2703\",\"type\":\"SaveTool\"},{\"attributes\":{\"fill_alpha\":{\"value\":0.2},\"fill_color\":{\"value\":\"#1f77b3\"},\"line_alpha\":{\"value\":0.2},\"line_color\":{\"value\":\"#1f77b3\"},\"size\":{\"units\":\"screen\",\"value\":5.477225575051661},\"x\":{\"field\":\"TotalCoinsMined\"},\"y\":{\"field\":\"TotalCoinSupply\"}},\"id\":\"2724\",\"type\":\"Scatter\"},{\"attributes\":{},\"id\":\"2750\",\"type\":\"UnionRenderers\"},{\"attributes\":{\"overlay\":{\"id\":\"2732\",\"type\":\"BoxAnnotation\"}},\"id\":\"2706\",\"type\":\"BoxZoomTool\"},{\"attributes\":{\"fill_alpha\":{\"value\":0.2},\"fill_color\":{\"value\":\"#ff7e0e\"},\"line_alpha\":{\"value\":0.2},\"line_color\":{\"value\":\"#ff7e0e\"},\"size\":{\"units\":\"screen\",\"value\":5.477225575051661},\"x\":{\"field\":\"TotalCoinsMined\"},\"y\":{\"field\":\"TotalCoinSupply\"}},\"id\":\"2740\",\"type\":\"Scatter\"},{\"attributes\":{\"bottom_units\":\"screen\",\"fill_alpha\":{\"value\":0.5},\"fill_color\":{\"value\":\"lightgrey\"},\"left_units\":\"screen\",\"level\":\"overlay\",\"line_alpha\":{\"value\":1.0},\"line_color\":{\"value\":\"black\"},\"line_dash\":[4,4],\"line_width\":{\"value\":2},\"render_mode\":\"css\",\"right_units\":\"screen\",\"top_units\":\"screen\"},\"id\":\"2732\",\"type\":\"BoxAnnotation\"},{\"attributes\":{\"axis_label\":\"TotalCoinSupply\",\"axis_label_text_font_size\":{\"value\":\"10pt\"},\"bounds\":\"auto\",\"formatter\":{\"id\":\"2718\",\"type\":\"CategoricalTickFormatter\"},\"major_label_orientation\":\"horizontal\",\"ticker\":{\"id\":\"2700\",\"type\":\"CategoricalTicker\"}},\"id\":\"2699\",\"type\":\"CategoricalAxis\"},{\"attributes\":{\"fill_color\":{\"value\":\"#1f77b3\"},\"line_color\":{\"value\":\"#1f77b3\"},\"size\":{\"units\":\"screen\",\"value\":5.477225575051661},\"x\":{\"field\":\"TotalCoinsMined\"},\"y\":{\"field\":\"TotalCoinSupply\"}},\"id\":\"2722\",\"type\":\"Scatter\"},{\"attributes\":{\"fill_color\":{\"value\":\"#ff7e0e\"},\"line_color\":{\"value\":\"#ff7e0e\"},\"size\":{\"units\":\"screen\",\"value\":5.477225575051661},\"x\":{\"field\":\"TotalCoinsMined\"},\"y\":{\"field\":\"TotalCoinSupply\"}},\"id\":\"2738\",\"type\":\"Scatter\"},{\"attributes\":{},\"id\":\"2753\",\"type\":\"Selection\"},{\"attributes\":{\"fill_alpha\":{\"value\":0.1},\"fill_color\":{\"value\":\"#1f77b3\"},\"line_alpha\":{\"value\":0.1},\"line_color\":{\"value\":\"#1f77b3\"},\"size\":{\"units\":\"screen\",\"value\":5.477225575051661},\"x\":{\"field\":\"TotalCoinsMined\"},\"y\":{\"field\":\"TotalCoinSupply\"}},\"id\":\"2723\",\"type\":\"Scatter\"},{\"attributes\":{\"align\":null,\"below\":[{\"id\":\"2694\",\"type\":\"LinearAxis\"}],\"center\":[{\"id\":\"2698\",\"type\":\"Grid\"},{\"id\":\"2702\",\"type\":\"Grid\"}],\"left\":[{\"id\":\"2699\",\"type\":\"CategoricalAxis\"}],\"margin\":null,\"min_border_bottom\":10,\"min_border_left\":10,\"min_border_right\":10,\"min_border_top\":10,\"plot_height\":300,\"plot_width\":700,\"renderers\":[{\"id\":\"2725\",\"type\":\"GlyphRenderer\"},{\"id\":\"2741\",\"type\":\"GlyphRenderer\"},{\"id\":\"2758\",\"type\":\"GlyphRenderer\"}],\"right\":[{\"id\":\"2733\",\"type\":\"Legend\"}],\"sizing_mode\":\"fixed\",\"title\":{\"id\":\"2686\",\"type\":\"Title\"},\"toolbar\":{\"id\":\"2708\",\"type\":\"Toolbar\"},\"x_range\":{\"id\":\"2680\",\"type\":\"Range1d\"},\"x_scale\":{\"id\":\"2690\",\"type\":\"LinearScale\"},\"y_range\":{\"id\":\"2681\",\"type\":\"FactorRange\"},\"y_scale\":{\"id\":\"2692\",\"type\":\"CategoricalScale\"}},\"id\":\"2685\",\"subtype\":\"Figure\",\"type\":\"Plot\"},{\"attributes\":{\"click_policy\":\"mute\",\"items\":[{\"id\":\"2734\",\"type\":\"LegendItem\"},{\"id\":\"2751\",\"type\":\"LegendItem\"},{\"id\":\"2770\",\"type\":\"LegendItem\"}],\"label_text_font_size\":{\"value\":\"10pt\"},\"location\":[0,0],\"title\":\"class\",\"title_text_font_size\":{\"value\":\"10pt\"}},\"id\":\"2733\",\"type\":\"Legend\"},{\"attributes\":{\"callback\":null,\"renderers\":[{\"id\":\"2725\",\"type\":\"GlyphRenderer\"},{\"id\":\"2741\",\"type\":\"GlyphRenderer\"},{\"id\":\"2758\",\"type\":\"GlyphRenderer\"}],\"tags\":[\"hv_created\"],\"tooltips\":[[\"class\",\"@{class}\"],[\"TotalCoinsMined\",\"@{TotalCoinsMined}\"],[\"TotalCoinSupply\",\"@{TotalCoinSupply}\"],[\"CoinName\",\"@{CoinName}\"]]},\"id\":\"2682\",\"type\":\"HoverTool\"},{\"attributes\":{},\"id\":\"2705\",\"type\":\"WheelZoomTool\"},{\"attributes\":{\"fill_alpha\":{\"value\":0.2},\"fill_color\":{\"value\":\"#2ba02b\"},\"line_alpha\":{\"value\":0.2},\"line_color\":{\"value\":\"#2ba02b\"},\"size\":{\"units\":\"screen\",\"value\":5.477225575051661},\"x\":{\"field\":\"TotalCoinsMined\"},\"y\":{\"field\":\"TotalCoinSupply\"}},\"id\":\"2757\",\"type\":\"Scatter\"},{\"attributes\":{\"source\":{\"id\":\"2752\",\"type\":\"ColumnDataSource\"}},\"id\":\"2759\",\"type\":\"CDSView\"},{\"attributes\":{\"label\":{\"value\":\"2\"},\"renderers\":[{\"id\":\"2758\",\"type\":\"GlyphRenderer\"}]},\"id\":\"2770\",\"type\":\"LegendItem\"},{\"attributes\":{\"data_source\":{\"id\":\"2735\",\"type\":\"ColumnDataSource\"},\"glyph\":{\"id\":\"2738\",\"type\":\"Scatter\"},\"hover_glyph\":null,\"muted_glyph\":{\"id\":\"2740\",\"type\":\"Scatter\"},\"nonselection_glyph\":{\"id\":\"2739\",\"type\":\"Scatter\"},\"selection_glyph\":null,\"view\":{\"id\":\"2742\",\"type\":\"CDSView\"}},\"id\":\"2741\",\"type\":\"GlyphRenderer\"},{\"attributes\":{\"axis_label\":\"TotalCoinsMined\",\"axis_label_text_font_size\":{\"value\":\"10pt\"},\"bounds\":\"auto\",\"formatter\":{\"id\":\"2716\",\"type\":\"BasicTickFormatter\"},\"major_label_orientation\":\"horizontal\",\"ticker\":{\"id\":\"2695\",\"type\":\"BasicTicker\"}},\"id\":\"2694\",\"type\":\"LinearAxis\"},{\"attributes\":{\"margin\":[5,5,5,5],\"name\":\"HSpacer05650\",\"sizing_mode\":\"stretch_width\"},\"id\":\"2867\",\"type\":\"Spacer\"},{\"attributes\":{},\"id\":\"2716\",\"type\":\"BasicTickFormatter\"},{\"attributes\":{\"callback\":null,\"data\":{\"CoinName\":[\"42 Coin\",\"404Coin\",\"808\",\"EliteCoin\",\"Dash\",\"Bitshares\",\"BitcoinDark\",\"Bitstake\",\"PayCoin\",\"KoboCoin\",\"Aero Coin\",\"ApexCoin\",\"ArchCoin\",\"Aurora Coin\",\"BlueCoin\",\"EnergyCoin\",\"BitBar\",\"CashCoin\",\"CryptoBullion\",\"CinderCoin\",\"CoolCoin\",\"CasinoCoin\",\"eMark\",\"Diamond\",\"DarkCash\",\"Exclusive Coin\",\"Fuel2Coin\",\"FIBRE\",\"FlutterCoin\",\"GlyphCoin\",\"Halcyon\",\"HoboNickels\",\"HyperStake\",\"IOCoin\",\"JumBucks Coin\",\"JudgeCoin\",\"LibrexCoin\",\"MaxCoin\",\"MintCoin\",\"MazaCoin\",\"Nautilus Coin\",\"NavCoin\",\"OpalCoin\",\"Orbitcoin\",\"PotCoin\",\"PhoenixCoin\",\"Reddcoin\",\"ShieldCoin\",\"SilkCoin\",\"SuperCoin\",\"SyncCoin\",\"TeslaCoin\",\"TittieCoin\",\"TorCoin\",\"UnitaryStatus Dollar\",\"UltraCoin\",\"Utility Coin\",\"VeriCoin\",\"SocialXbotCoin\",\"X11 Coin\",\"Crypti\",\"StealthCoin\",\"XXXCoin\",\"ZCC Coin\",\"BurstCoin\",\"StorjCoin\",\"Neutron\",\"KryptCoin\",\"FairCoin\",\"RubyCoin\",\"Kore\",\"Dnotes\",\"MaieutiCoin\",\"8BIT Coin\",\"Sativa Coin\",\"AeroMe\",\"MasterTraderCoin\",\"Ucoin\",\"MaryJane Coin\",\"CyberCoin\",\"Vtorrent\",\"ViorCoin\",\"IslaCoin\",\"Nexus\",\"Singular\",\"Droidz\",\"CryptoCircuits\",\"Squall Coin\",\"Milllionaire Coin\",\"Diggits\",\"MapCoin\",\"Paycon\",\"Emercoin\",\"BlitzCoin\",\"EverGreenCoin\",\"Decred\",\"EDRCoin\",\"Hitcoin\",\"DubaiCoin\",\"BiosCrypto\",\"PWR Coin\",\"TrumpCoin\",\"BillaryCoin\",\"EthereumScrypt\",\"GPU Coin\",\"Universal Currency\",\"EuropeCoin\",\"ZeitCoin\",\"SwingCoin\",\"SafeExchangeCoin\",\"Nebuchadnezzar\",\"GIZMOcoin\",\"SecretCoin\",\"Ratecoin\",\"Digital Bullion Gold\",\"Revenu\",\"Clockcoin\",\"VIP Tokens\",\"OrlyCoin\",\"BitSend\",\"16BitCoin\",\"ChessCoin\",\"ReeCoin\",\"Let it Ride\",\"PutinCoin\",\"iBankCoin\",\"Frankywillcoin\",\"MudraCoin\",\"Lutetium Coin\",\"GoldBlocks\",\"WayCoin\",\"CarterCoin\",\"BitTokens\",\"MustangCoin\",\"ZoneCoin\",\"RootCoin\",\"PROUD Money\",\"BitCurrency\",\"Swiscoin\",\"BuzzCoin\",\"Opair\",\"PesoBit\",\"Halloween Coin\",\"CoffeeCoin\",\"RoyalCoin\",\"GanjaCoin V2\",\"TeamUP\",\"LanaCoin\",\"ARK\",\"InsaneCoin\",\"LuckChain\",\"EmberCoin\",\"XenixCoin\",\"FreeCoin\",\"NPCcoin\",\"PLNCoin\",\"Icobid\",\"AquariusCoin\",\"Creatio\",\"Eternity\",\"Eurocoin\",\"BitcoinFast\",\"Stakenet\",\"BitConnect Coin\",\"MoneyCoin\",\"Enigma\",\"Russiacoin\",\"PandaCoin\",\"GameUnits\",\"GAKHcoin\",\"Allsafe\",\"LiteCreed\",\"NeptuneClassic\",\"GoldenBird\",\"Ride My Car\",\"Klingon Empire Darsek\",\"Internet of People\",\"KushCoin\",\"Eryllium\",\"Printerium\",\"Impeach\",\"Zilbercoin\",\"FirstCoin\",\"FindCoin\",\"OpenChat\",\"RenosCoin\",\"VirtacoinPlus\",\"TajCoin\",\"Impact\",\"Universe\",\"Atmos\",\"HappyCoin\",\"MacronCoin\",\"Condensate\",\"Independent Money System\",\"ArgusCoin\",\"LomoCoin\",\"ProCurrency\",\"GoldReserve\",\"GrowthCoin\",\"Phreak\",\"Degas Coin\",\"ZSEcoin\",\"HTML5 Coin\",\"Ultimate Secure Cash\",\"QTUM\",\"Espers\",\"Denarius\",\"Virta Unique Coin\",\"Bitcoin Planet\",\"BritCoin\",\"Octanox\",\"Linda\",\"DeepOnion\",\"Signatum\",\"Cream\",\"Monoeci\",\"Draftcoin\",\"Vechain\",\"Stakecoin\",\"CoinonatX\",\"Ethereum Dark\",\"Obsidian\",\"Cardano\",\"Regalcoin\",\"TrezarCoin\",\"TerraNovaCoin\",\"Rupee\",\"WomenCoin\",\"Theresa May Coin\",\"NamoCoin\",\"LUXCoin\",\"Xios\",\"Bitcloud 2.0\",\"KekCoin\",\"BlackholeCoin\",\"AltCommunity Coin\",\"Pure\",\"Rupaya\",\"Infinity Economics\",\"Castle\",\"Magnet\",\"Lamden Tau\",\"Electra\",\"Bitcoin Diamond\",\"Cash & Back Coin\",\"Bulwark\",\"Kalkulus\",\"GermanCoin\",\"LiteCoin Ultra\",\"PhantomX\",\"HTML Coin\",\"Fantasy Cash\",\"Digiwage\",\"Trollcoin\",\"Litecoin Plus\",\"Monkey Project\",\"OP Coin\",\"Valorbit\",\"TokenPay\",\"My Big Coin\",\"Unified Society USDEX\",\"Tokyo Coin\",\"Stipend\",\"Pushi\",\"Ellerium\",\"Velox\",\"Ontology\",\"Bitspace\",\"Briacoin\",\"Ignition\",\"MedicCoin\",\"Zelcash\",\"Bitcoin Green\",\"Deviant Coin\",\"Abjcoin\",\"Profit Hunters Coin\",\"Semux\",\"BitBlocks\",\"Carebit\",\"Zealium\",\"Proton\",\"iDealCash\",\"Bitcoin Incognito\",\"HollyWoodCoin\",\"Swisscoin\",\"Xt3ch\",\"TheVig\",\"EmaratCoin\",\"Dekado\",\"Lynx\",\"Poseidon Quark\",\"BitcoinWSpectrum\",\"Muse\",\"Trivechain\",\"Dystem\",\"Giant\",\"Peony Coin\",\"SafeCoin\",\"Absolute Coin\",\"Vitae\",\"TPCash\",\"MUSDcoin\",\"ARENON\",\"EUNO\",\"MMOCoin\",\"Ketan\",\"Safe Trade Coin\",\"Mont Blanc\",\"XDNA\",\"PAXEX\",\"Apollon\",\"ThunderStake\",\"Kcash\",\"Traid\",\"Bettex coin\",\"BitMoney\",\"Junson Ming Chan Coin\",\"Zenad\",\"HerbCoin\",\"Oduwa\",\"Galilel\",\"Crypto Sports\",\"Credit\",\"Dash Platinum\",\"Nasdacoin\",\"Beetle Coin\",\"Titan Coin\",\"Award\",\"Insane Coin\",\"ALAX\",\"The Freedom Coin\",\"LiteDoge\",\"TruckCoin\",\"Ascension Coin\",\"OrangeCoin\",\"BitstarCoin\",\"NeosCoin\",\"HyperCoin\",\"PinkCoin\",\"AudioCoin\",\"IncaKoin\",\"Piggy Coin\",\"Genstake\",\"ParkByte\",\"XiaoMiCoin\",\"CapriCoin\",\" ClubCoin\",\"Radium\",\"Creditbit \",\"OKCash\",\"Lisk\",\"HiCoin\",\"WhiteCoin\",\"FriendshipCoin\",\"The Hempcoin\",\"Triangles Coin\",\"EOS\",\"Oxycoin\",\"TigerCash\",\"Particl\",\"BitTorrent\",\"Nxt\",\"ZEPHYR\",\"Gapcoin\",\"BitcoinPlus\"],\"TotalCoinSupply\":[\"42\",\"532000000\",\"0\",\"314159265359\",\"22000000\",\"3600570502\",\"22000000\",\"1300000\",\"12500000\",\"350000000\",\"7000000\",\"6000000\",\"16403135\",\"16768584\",\"0\",\"0\",\"500000\",\"47433600\",\"1000000\",\"114000000\",\"100000000\",\"40000000000\",\"0\",\"4380000\",\"3720000\",\"0\",\"100000000\",\"624000\",\"0\",\"7000000\",\"0\",\"120000000\",\"0\",\"22000000\",\"3293010\",\"21600000\",\"1000000\",\"100000000\",\"0\",\"2419200000\",\"16180000\",\"0\",\"0\",\"3770000\",\"420000000\",\"98000000\",\"0\",\"1000000\",\"1000000\",\"0\",\"1000\",\"100000000\",\"2300000000\",\"10000000\",\"1600000000\",\"100000000\",\"0\",\"0\",\"2000000\",\"5500000\",\"0\",\"0\",\"50000000\",\"1000000000\",\"2158812800\",\"500000000\",\"68000000\",\"17000000\",\"0\",\"0\",\"12000000\",\"500000000\",\"2014\",\"0\",\"10000000\",\"12000000\",\"10110000\",\"20000000\",\"0\",\"0\",\"20000000\",\"0\",\"0\",\"78000000\",\"0\",\"5060000\",\"0\",\"0\",\"0\",\"100000000\",\"2228921.184\",\"50000000\",\"1000000000\",\"3852156\",\"26298000\",\"21000000\",\"22000000\",\"26550000000\",\"10500000\",\"20190463.54969237\",\"0\",\"12000000\",\"42000000\",\"4200000\",\"221052632\",\"210000000\",\"384000000\",\" 99000000000\",\"40000000\",\"2147483647\",\"20000000\",\"100000\",\"21000000\",\"75000000\",\"15000000\",\"222725000\",\"525000000\",\"90000000\",\"36000000\",\"139000000\",\"16000000\",\"74666667\",\"350000000\",\"33500000\",\"2000000000\",\"44333333\",\"100000000\",\"200000000\",\"657000000\",\"50000000\",\"100000000\",\"90000000\",\"21000000\",\"3000000\",\"21000000\",\"0\",\"10000000000\",\"0\",\"3100000000\",\"20000000000\",\"74000000\",\"0\",\"1500000000\",\"39999898\",\"2500124\",\"100000000\",\"301000000\",\"7506000000\",\"125000000\",\"30000000\",\"1000000000\",\"850000000\",\"3853326.77707314\",\"50000000\",\"7000000000\",\"38540000 \",\"200000000 \",\"42000000\",\"20000000\",\"60000000\",\"20000000\",\"33000000\",\"76500000\",\"28000000\",\"650659833\",\"5000000\",\"144000000\",\"32514916898\",\"13000000\",\"3315789\",\"15000000\",\"78835200\",\"250000000\",\"450000000\",\"100000000\",\"500000000\",\"21000000\",\"9354000\",\"100000000\",\"20000000\",\"21933333\",\"55000000\",\"110000000\",\"14524851.4827\",\"1000000000\",\"34426423\",\"100000000\",\"36900000\",\"110000000\",\"112000000\",\"110290030\",\"100000000\",\"400000000\",\"500000000\",\"21212121\",\"28600000\",\"1000000000\",\"75000000000\",\"40000000\",\"2000000000\",\"30000000\",\"105000000\",\"2093500000\",\"90000000000\",\"200084200\",\"100000000\",\"50000000000\",\"10000000\",\"120000000\",\"100000000\",\"30000000\",\"7905634\",\"50000000000\",\"18898187.6216583\",\"137500000\",\"100000000\",\"9507271\",\"17405891.19707116\",\"86712634466\",\"61599965\",\"48252000\",\"4200000\",\"91388946\",\"45000000000\",\"27000000\",\"400000000\",\"15733333\",\"24000000\",\"25000000000\",\"100000000\",\"1200000000\",\"60000000\",\"21000000\",\"200000000\",\"21000000\",\"14788275.991\",\"5000000\",\"3686860\",\"75000000\",\"9000000000\",\"50000000 \",\"144000000\",\"500000000\",\"30000000000\",\"210000000\",\"210000000\",\"27716121\",\"20000000\",\"50000000000\",\"150000000\",\"50000000\",\"90000000000\",\"4600000\",\"120000000\",\"900000000\",\"4000000\",\"21000000\",\"2000000000\",\"92233720000000000\",\"25000000\",\"30000000\",\"232000000\",\"800000000\",\"19340594\",\"25000000\",\"60000000\",\"124000000\",\"1000000000\",\"50000000\",\"3000000\",\"5000000\",\"500000000\",\"210000000\",\"21000000\",\"88000000\",\"30000000\",\"100000000\",\"100000000\",\"500000000\",\"200000000\",\"80000000\",\"45000000\",\"5121951220\",\"21000000\",\"26000000\",\"10200000000\",\"44000000\",\"100000000\",\"84000000\",\"90000000\",\"92000000000\",\"650000000 \",\"100262205\",\"18081806 \",\"82546564\",\"21000000\",\"5151000\",\"16880000000\",\"36000000\",\"52500000\",\"100000000\",\"1000000000\",\"100000000\",\"55000000\",\"50000000\",\"260000000\",\"210000000\",\"840000000\",\"70000000\",\"366000000\",\"100000000\",\"250000000\",\"18000000000\",\"1000000000\",\"252000000\",\"50000000\",\"70000000000\",\"0\",\"46000000\",\"54000000\",\"21000000\",\"19035999\",\"13370000\",\"74800000000\",\"19700000\",\"84000000\",\"500000000\",\"5000000000\",\"420000000\",\"30000000\",\"1000000000\",\"25000000\",\"35000000000\",\"0\",\"0\",\"200000000\",\"54256119\",\"21000000\",\"0\",\"500000000\",\"10500000000\",\"190000000\",\"1000000000\",\"15000000\",\"25000000\",\"400000000\",\"208000000\",\"160000000\",\"9000000\",\"16504333\",\"105000000\",\"159918400\",\"10008835635\",\"300000000\",\"60168145\",\"300000000\",\"120000\",\"0\",\"0\",\"1000000000\",\"8634140\",\"990000000000\",\"1000000000\",\"2000000000\",\"250000000\",\"1000000\"],\"TotalCoinsMined\":{\"__ndarray__\":\"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\",\"dtype\":\"float64\",\"shape\":[366]},\"class\":[2,2,2,2,2,2,2,2,2,2,2,2,2,2,2,2,2,2,2,2,2,2,2,2,2,2,2,2,2,2,2,2,2,2,2,2,2,2,2,2,2,2,2,2,2,2,2,2,2,2,2,2,2,2,2,2,2,2,2,2,2,2,2,2,2,2,2,2,2,2,2,2,2,2,2,2,2,2,2,2,2,2,2,2,2,2,2,2,2,2,2,2,2,2,2,2,2,2,2,2,2,2,2,2,2,2,2,2,2,2,2,2,2,2,2,2,2,2,2,2,2,2,2,2,2,2,2,2,2,2,2,2,2,2,2,2,2,2,2,2,2,2,2,2,2,2,2,2,2,2,2,2,2,2,2,2,2,2,2,2,2,2,2,2,2,2,2,2,2,2,2,2,2,2,2,2,2,2,2,2,2,2,2,2,2,2,2,2,2,2,2,2,2,2,2,2,2,2,2,2,2,2,2,2,2,2,2,2,2,2,2,2,2,2,2,2,2,2,2,2,2,2,2,2,2,2,2,2,2,2,2,2,2,2,2,2,2,2,2,2,2,2,2,2,2,2,2,2,2,2,2,2,2,2,2,2,2,2,2,2,2,2,2,2,2,2,2,2,2,2,2,2,2,2,2,2,2,2,2,2,2,2,2,2,2,2,2,2,2,2,2,2,2,2,2,2,2,2,2,2,2,2,2,2,2,2,2,2,2,2,2,2,2,2,2,2,2,2,2,2,2,2,2,2,2,2,2,2,2,2,2,2,2,2,2,2,2,2,2,2,2,2,2,2,2,2,2,2,2,2,2,2,2,2,2,2,2,2,2,2,2,2,2,2,2,2]},\"selected\":{\"id\":\"2753\",\"type\":\"Selection\"},\"selection_policy\":{\"id\":\"2782\",\"type\":\"UnionRenderers\"}},\"id\":\"2752\",\"type\":\"ColumnDataSource\"},{\"attributes\":{\"grid_line_color\":null,\"ticker\":{\"id\":\"2695\",\"type\":\"BasicTicker\"}},\"id\":\"2698\",\"type\":\"Grid\"},{\"attributes\":{\"data_source\":{\"id\":\"2719\",\"type\":\"ColumnDataSource\"},\"glyph\":{\"id\":\"2722\",\"type\":\"Scatter\"},\"hover_glyph\":null,\"muted_glyph\":{\"id\":\"2724\",\"type\":\"Scatter\"},\"nonselection_glyph\":{\"id\":\"2723\",\"type\":\"Scatter\"},\"selection_glyph\":null,\"view\":{\"id\":\"2726\",\"type\":\"CDSView\"}},\"id\":\"2725\",\"type\":\"GlyphRenderer\"},{\"attributes\":{},\"id\":\"2704\",\"type\":\"PanTool\"},{\"attributes\":{\"text\":\"\",\"text_color\":{\"value\":\"black\"},\"text_font_size\":{\"value\":\"12pt\"}},\"id\":\"2686\",\"type\":\"Title\"},{\"attributes\":{\"callback\":null,\"factors\":[\"21000000\",\"0\",\"84000000\",\"210000000\",\"21000000000\",\"20000000\",\"1600000\",\"64000000\",\"32000000\",\"2000000000\",\"384000000000\",\"169795588\",\"250000000\",\"100000000\",\"247000000\",\"48166000\",\"21000000 \",\"27580000\",\"13140000\",\"18000000\",\"16555000000\",\"2043962\",\"13500000000\",\"75000000\",\"299792458\",\"100000000000\",\"2602410\",\"11235813\",\"336000000\",\"1420609614\",\"70000000\",\"72245700\",\"42000000\",\"90600000000\",\"265420800\",\"1350000\",\"82003200\",\"200000000\",\"10000000\",\"50000000\",\"15000000000\",\"337000000\",\"12000000\",\"51200000\",\"888000000\",\"47011968\",\"2625000\",\"80000000\",\"250000\",\"23000000\",\"45000000\",\"184467440735\",\"10000000000\",\"105120000\",\"1000000\",\"1680000000\",\"166386000\",\"2628000\",\"160000000\",\"1000000000\",\"3371337\",\"1840000000\",\"33000000\",\"619478\",\"92000000000\",\"65789100\",\"53760000\",\"210240000\",\"16906397\",\"16000000\",\"16500000000\",\"81962100\",\"18446744\",\"21626280000 \",\"15000000\",\"2250000000\",\"5000000000\",\"30000000\",\"168351300\",\"18400000\",\"24000000\",\"25000000\",\"2421227\",\"616448\",\"9736000\",\"1200000000\",\"10638298\",\"87500000\",\"21400000\",\"126000000\",\"26205539\",\"500000000\",\"228000000\",\"2714286\",\"9999999\",\"100640000\",\"185000000\",\"115000000\",\"3360000\",\"17000000\",\"100000000 \",\"454898394\",\"2232901\",\"4000000000\",\"48252000\",\"35520400\",\"2500000000\",\"72000000\",\"105000000\",\"340282367\",\"19276800\",\" 75000000\",\"60000000\",\"18900000\",\"54000000\",\"200000000000\",\"1100000000\",\"1010000000\",\"10500000000\",\"88888888\",\"1800000000\",\"27000000\",\"156306732.71\",\"350000000\",\"300000000\",\"280000000\",\"105100000\",\"31800000\",\"660000000\",\"85000000000\",\"12500000\",\"550000000\",\"999481516\",\"4999999999\",\" 90000000000\",\"19800000\",\"20166000\",\"1618033\",\"1000000000000\",\"16600000\",\"40000000\",\"18406979840\",\"31500000\",\"6500000000\",\"22000000\",\"84096000\",\"22300000\",\"26280000\",\"10500000\",\"600000518\",\"150000000\",\"184000000000\",\"168000000\",\"22075700\",\"22105263\",\"1750000000\",\"88188888\",\"184470000000\",\"175000000\",\"2100000000\",\"7600000000\",\"29300000\",\"13666237\",\"8080000000\",\"6100000\",\"105120001.44\",\"25228800\",\"20999764\",\"120000000\",\"262800000\",\"30886000\",\"2100000\",\"18450000\",\"98100000000\",\"7000000000\",\"50000000000\",\"5000000\",\"182000000\",\"890000000\",\"2800000\",\"24487944\",\"1400222610\",\"5200000000\",\"840000000\",\"252460800\",\"42\",\"532000000\",\"314159265359\",\"3600570502\",\"1300000\",\"7000000\",\"6000000\",\"16403135\",\"16768584\",\"500000\",\"47433600\",\"114000000\",\"40000000000\",\"4380000\",\"3720000\",\"624000\",\"3293010\",\"21600000\",\"2419200000\",\"16180000\",\"3770000\",\"420000000\",\"98000000\",\"1000\",\"2300000000\",\"1600000000\",\"2000000\",\"5500000\",\"2158812800\",\"68000000\",\"2014\",\"10110000\",\"78000000\",\"5060000\",\"2228921.184\",\"3852156\",\"26298000\",\"26550000000\",\"20190463.54969237\",\"4200000\",\"221052632\",\"384000000\",\" 99000000000\",\"2147483647\",\"100000\",\"222725000\",\"525000000\",\"90000000\",\"36000000\",\"139000000\",\"74666667\",\"33500000\",\"44333333\",\"657000000\",\"3000000\",\"3100000000\",\"20000000000\",\"74000000\",\"1500000000\",\"39999898\",\"2500124\",\"301000000\",\"7506000000\",\"125000000\",\"850000000\",\"3853326.77707314\",\"38540000 \",\"200000000 \",\"76500000\",\"28000000\",\"650659833\",\"144000000\",\"32514916898\",\"13000000\",\"3315789\",\"78835200\",\"450000000\",\"9354000\",\"21933333\",\"55000000\",\"110000000\",\"14524851.4827\",\"34426423\",\"36900000\",\"112000000\",\"110290030\",\"400000000\",\"21212121\",\"28600000\",\"75000000000\",\"2093500000\",\"90000000000\",\"200084200\",\"7905634\",\"18898187.6216583\",\"137500000\",\"9507271\",\"17405891.19707116\",\"86712634466\",\"61599965\",\"91388946\",\"45000000000\",\"15733333\",\"25000000000\",\"14788275.991\",\"3686860\",\"9000000000\",\"50000000 \",\"30000000000\",\"27716121\",\"4600000\",\"900000000\",\"4000000\",\"92233720000000000\",\"232000000\",\"800000000\",\"19340594\",\"124000000\",\"88000000\",\"5121951220\",\"26000000\",\"10200000000\",\"44000000\",\"650000000 \",\"100262205\",\"18081806 \",\"82546564\",\"5151000\",\"16880000000\",\"52500000\",\"260000000\",\"366000000\",\"18000000000\",\"252000000\",\"70000000000\",\"46000000\",\"19035999\",\"13370000\",\"74800000000\",\"19700000\",\"35000000000\",\"54256119\",\"190000000\",\"208000000\",\"9000000\",\"16504333\",\"159918400\",\"10008835635\",\"60168145\",\"120000\",\"8634140\",\"990000000000\"],\"tags\":[[[\"TotalCoinSupply\",\"TotalCoinSupply\",null]]]},\"id\":\"2681\",\"type\":\"FactorRange\"},{\"attributes\":{\"margin\":[5,5,5,5],\"name\":\"HSpacer05649\",\"sizing_mode\":\"stretch_width\"},\"id\":\"2679\",\"type\":\"Spacer\"},{\"attributes\":{\"callback\":null,\"data\":{\"CoinName\":[\"Bitcoin\",\"Ethereum\",\"Litecoin\",\"Monero\",\"Ethereum Classic\",\"ZCash\",\"DigiByte\",\"ProsperCoin\",\"Spreadcoin\",\"ACoin\",\"Argentum\",\"BetaCoin\",\"MyriadCoin\",\"MoonCoin\",\"ZetaCoin\",\"SexCoin\",\"Quatloo\",\"QuarkCoin\",\"Riecoin\",\"Digitalcoin \",\"LimeCoinX\",\"BitMark\",\"Catcoin\",\"CannaCoin\",\"CryptCoin\",\"Verge\",\"DarkShibe\",\"DevCoin\",\"EarthCoin\",\"E-Gulden\",\"Elacoin\",\"Einsteinium\",\"Emerald\",\"Flappy Coin\",\"FireRoosterCoin\",\"Franko\",\"FeatherCoin\",\"GrandCoin\",\"GlobalCoin\",\"GoldCoin\",\"HunterCoin\",\"Infinite Coin\",\"IXcoin\",\"KrugerCoin\",\"LuckyCoin\",\"Litebar \",\"LitecoinDark\",\"MegaCoin\",\"MediterraneanCoin\",\"MinCoin\",\"NoirBits\",\"NobleCoin\",\"Namecoin\",\"NyanCoin\",\"RipOffCoin\",\"RonPaulCoin\",\"StableCoin\",\"SmartCoin\",\"SpainCoin\",\"SecureCoin\",\"SysCoin\",\"TigerCoin\",\"TerraCoin\",\"Umbrella\",\"UnbreakableCoin\",\"Unobtanium\",\"UroCoin\",\"ViaCoin\",\"VootCoin\",\"Vertcoin\",\"WorldCoin\",\"JouleCoin\",\"ByteCoin\",\"DigitalNote \",\"MonaCoin\",\"Sling Coin\",\"Gulden\",\"PesetaCoin\",\"Wild Beast Coin\",\"Flo\",\"ArtByte\",\"BitCredit\",\"Folding Coin\",\"Unitus\",\"CypherPunkCoin\",\"OmniCron\",\"GreenCoin\",\"Unattanium\",\"Cryptonite\",\"Gridmaster\",\"ConSpiracy Coin \",\"MasterCoin\",\"SoonCoin\",\"1Credit\",\"Quicksilver coin\",\"MarsCoin \",\"Crypto\",\"Anarchists Prime\",\"BowsCoin\",\"Song Coin\",\"BitZeny\",\"Expanse\",\"Siacoin\",\"MindCoin\",\"I0coin\",\"DogeCoinDark\",\"Revolution VR\",\"HOdlcoin\",\"Gamecredits\",\"Dashcoin\",\"CarpeDiemCoin\",\"Phalanx\",\"SunShotCoin\",\"HempCoin\",\"Adzcoin\",\"VirtaCoin\",\"SoilCoin\",\"YoCoin\",\"AEON\",\"SibCoin\",\"Anti Bitcoin\",\"Francs\",\"BolivarCoin\",\"Clinton\",\"Omni\",\"PizzaCoin\",\"Komodo\",\"Karbo\",\"ZayedCoin\",\"Circuits of Value\",\"DopeCoin\",\"DollarCoin\",\"Shilling\",\"GBR Coin\",\"FujiCoin\",\"ZCoin\",\"LeaCoin\",\"Zurcoin\",\"Elementrem\",\"CashOut\",\"ZClassic\",\"KiloCoin\",\"Hush\",\"ArtexCoin\",\"Kurrent\",\"Cannabis Industry Coin\",\"OsmiumCoin\",\"Bikercoins\",\"HexxCoin\",\"MarxCoin\",\"PacCoin\",\"Solarflarecoin\",\"Citadel\",\"CreativeChain\",\"BeaverCoin\",\"VaultCoin\",\"Zero\",\"Canada eCoin\",\"Zoin\",\"Musicoin\",\"BnrtxCoin\",\"DubaiCoin\",\"EB3coin\",\"Coinonat\",\"Bitcoin Scrypt\",\"BenjiRolls\",\"ParallelCoin\",\"ILCoin\",\"EquiTrader\",\"Quantum Resistant Ledger\",\"Dynamic\",\"Nano\",\"ChanCoin\",\"Dinastycoin\",\"DigitalPrice\",\"Unify\",\"SocialCoin\",\"ArcticCoin\",\"DAS\",\"LeviarCoin\",\"Bitcore\",\"gCn Coin\",\"SmartCash\",\"Onix\",\"Bitcoin Cash\",\"CampusCoin\",\"Sojourn Coin\",\"NewYorkCoin\",\"LiteBitcoin\",\"FrazCoin\",\"Kronecoin\",\"AdCoin\",\"Linx\",\"Sumokoin\",\"BitcoinZ\",\"Elements\",\"VIVO Coin\",\"Bitcoin Gold\",\"Pirl\",\"eBoost\",\"Pura\",\"Innova\",\"Bitdeal\",\"Ellaism\",\"Sakuracoin\",\"GoByte\",\"SHIELD\",\"UltraNote\",\"BitCoal\",\"DaxxCoin\",\"AC3\",\"CHIPS\",\"Lethean\",\"PopularCoin\",\"Photon\",\"Sucre\",\"SparksPay\",\"GunCoin\",\"IrishCoin\",\"Pioneer Coin\",\"UnitedBitcoin\",\"Interzone\",\"1717 Masonic Commemorative Token\",\"TurtleCoin\",\"MUNcoin\",\"Niobio Cash\",\"Bitcoin Private\",\"Skeincoin\",\"ShareChain\",\"Travelflex\",\"KREDS\",\"BitFlip\",\"LottoCoin\",\"LeafCoin\",\"Cerberus\",\"Bitcoin Hush\",\"Crypto Improvement Fund\",\"Callisto Network\",\"Curium\",\"BitTube\",\"Dinero\",\"Poseidon\",\"Aidos Kuneen\",\"Snowgem\",\"Bitrolium\",\"Bitcoin Interest\",\"Alpenschillling\",\"FuturoCoin\",\"Monero Classic\",\"Jumpcoin\",\"Infinex\",\"KEYCO\",\"GINcoin\",\"PlatinCoin\",\"Loki\",\"Newton Coin\",\"MassGrid\",\"PluraCoin\",\"Motion\",\"PlusOneCoin\",\"Axe\",\"HexCoin\",\"Webchain\",\"Ryo\",\"Urals Coin\",\"Qwertycoin\",\"NIX\",\"Project Pai\",\"Azart\",\"Xchange\",\"CrypticCoin\",\"ZestCoin\",\"X-CASH\",\"Actinium\",\"ETHER-1\",\"Bitcoin SV\",\"Bitcoiin2Gen\",\"FREDEnergy\",\"C25 Coin\",\"Aquachain\",\"Universal Molecule\",\"Lithium\",\"Smart Bitcoin\",\"PirateCash\",\"Exosis\",\"Block-Logic\",\"Beam\",\"Bithereum\",\"SLICE\",\"Vidulum\",\"BlockStamp\",\"BLAST\",\"Bitcoin Rhodium\",\"GlobalToken\",\"Boolberry\",\"SolarCoin\",\"UFO Coin\",\"BlakeCoin\",\"FantomCoin \",\"Crypto Escudo\",\"Crown Coin\",\"Quazar Coin\",\"SmileyCoin\",\"Groestlcoin\",\"Bata\",\"Pakcoin\",\"Dotcoin\",\"JoinCoin\",\"Vollar\",\"Reality Clash\",\"iOlite\",\"Beldex\",\"Horizen\"],\"TotalCoinSupply\":[\"21000000\",\"0\",\"84000000\",\"0\",\"210000000\",\"21000000\",\"21000000000\",\"21000000\",\"20000000\",\"1600000\",\"64000000\",\"32000000\",\"2000000000\",\"384000000000\",\"169795588\",\"250000000\",\"100000000\",\"247000000\",\"84000000\",\"48166000\",\"21000000 \",\"27580000\",\"21000000 \",\"13140000\",\"18000000\",\"16555000000\",\"2043962\",\"21000000000\",\"13500000000\",\"21000000 \",\"75000000\",\"299792458\",\"32000000\",\"100000000000\",\"2602410\",\"11235813\",\"336000000\",\"1420609614\",\"70000000\",\"72245700\",\"42000000\",\"90600000000\",\"21000000\",\"265420800\",\"20000000\",\"1350000\",\"82003200\",\"42000000\",\"200000000\",\"10000000\",\"50000000\",\"15000000000\",\"21000000\",\"337000000\",\"12000000\",\"21000000\",\"250000000\",\"51200000\",\"50000000\",\"21000000\",\"888000000\",\"47011968\",\"42000000\",\"2625000\",\"80000000\",\"250000\",\"0\",\"23000000\",\"0\",\"84000000\",\"265420800\",\"45000000\",\"184467440735\",\"10000000000\",\"105120000\",\"1000000\",\"1680000000\",\"166386000\",\"2628000\",\"160000000\",\"1000000000\",\"210000000\",\"1000000000\",\"0\",\"0\",\"3371337\",\"10000000000\",\"0\",\"1840000000\",\"84000000\",\"33000000\",\"619478\",\"21000000\",\"92000000000\",\"33000000\",\"33000000\",\"65789100\",\"53760000\",\"21000000\",\"210240000\",\"250000000\",\"16906397\",\"0\",\"16000000\",\"21000000\",\"16500000000\",\"210000000\",\"81962100\",\"84000000\",\"18446744\",\"21626280000 \",\"15000000\",\"2250000000\",\"5000000000\",\"84000000\",\"21000000000\",\"30000000\",\"168351300\",\"18400000\",\"24000000\",\"42000000\",\"20000000\",\"25000000\",\"2421227\",\"616448\",\"25000000\",\"200000000\",\"10000000\",\"9736000\",\"1200000000\",\"200000000\",\"10638298\",\"30000000\",\"87500000\",\"10000000\",\"21400000\",\"2000000000\",\"126000000\",\"26205539\",\"100000000\",\"21000000\",\"10000000000\",\"21000000\",\"500000000\",\"228000000\",\"21000000\",\"2714286\",\"25000000\",\"9999999\",\"100640000\",\"100000000000\",\"20000000\",\"185000000\",\"115000000\",\"3360000\",\"1000000000\",\"17000000\",\"100000000 \",\"21000000\",\"454898394\",\"210000000\",\"2232901\",\"4000000000\",\"48252000\",\"21000000\",\"35520400\",\"1000000\",\"2500000000\",\"72000000\",\"105000000\",\"0\",\"340282367\",\"30000000\",\"2000000000\",\"100000000\",\"19276800\",\" 75000000\",\"60000000\",\"18900000\",\"54000000\",\"21000000\",\"200000000000\",\"5000000000\",\"1100000000\",\"21000000\",\"1010000000\",\"10500000000\",\"0\",\"1000000000\",\"20000000\",\"84000000\",\"100000000\",\"100000000\",\"88888888\",\"21000000000\",\"1800000000\",\"27000000\",\"21000000\",\"156306732.71\",\"100000000\",\"350000000\",\"45000000\",\"300000000\",\"280000000\",\"105100000\",\"31800000\",\"660000000\",\"85000000000\",\"12500000\",\"10000000000\",\"550000000\",\"21000000\",\"999481516\",\"4999999999\",\" 90000000000\",\"19800000\",\"21000000\",\"500000000\",\"64000000\",\"23000000\",\"20166000\",\"23000000\",\"1618033\",\"1000000000000\",\"16600000\",\"336000000\",\"21000000\",\"17000000\",\"10000000000\",\"100000000\",\"1100000000\",\"40000000\",\"18406979840\",\"21000000000\",\"31500000\",\"21000000\",\"500000000\",\"6500000000\",\"22000000\",\"1000000000\",\"100000000\",\"21000000\",\"25000000\",\"84096000\",\"70000000\",\"22300000\",\"300000000\",\"100000000\",\"18400000\",\"21000000\",\"26280000\",\"18000000\",\"10500000\",\"600000518\",\"150000000\",\"184000000000\",\"168000000\",\"1000000000\",\"22075700\",\"21000000\",\"21000000\",\"22105263\",\"1750000000\",\"88188888\",\"210000000\",\"184470000000\",\"175000000\",\"2100000000\",\"25000000\",\"100000000\",\"7600000000\",\"29300000\",\"100000000000\",\"84000000\",\"13666237\",\"21000000\",\"100000000\",\"8080000000\",\"6100000\",\"42000000\",\"105120001.44\",\"25228800\",\"20999764\",\"105000000\",\"21000000\",\"120000000\",\"262800000\",\"30886000\",\"100000000\",\"100000000\",\"105000000\",\"64000000\",\"2100000\",\"168000000\",\"18450000\",\"98100000000\",\"4000000000\",\"7000000000\",\"18400000\",\"1000000000\",\"42000000\",\"18446744\",\"50000000000\",\"105000000\",\"5000000\",\"182000000\",\"890000000\",\"2800000\",\"2100000000\",\"24487944\",\"1000000000\",\"1400222610\",\"21000000\"],\"TotalCoinsMined\":{\"__ndarray__\":\"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\",\"dtype\":\"float64\",\"shape\":[313]},\"class\":[0,0,0,0,0,0,0,0,0,0,0,0,0,0,0,0,0,0,0,0,0,0,0,0,0,0,0,0,0,0,0,0,0,0,0,0,0,0,0,0,0,0,0,0,0,0,0,0,0,0,0,0,0,0,0,0,0,0,0,0,0,0,0,0,0,0,0,0,0,0,0,0,0,0,0,0,0,0,0,0,0,0,0,0,0,0,0,0,0,0,0,0,0,0,0,0,0,0,0,0,0,0,0,0,0,0,0,0,0,0,0,0,0,0,0,0,0,0,0,0,0,0,0,0,0,0,0,0,0,0,0,0,0,0,0,0,0,0,0,0,0,0,0,0,0,0,0,0,0,0,0,0,0,0,0,0,0,0,0,0,0,0,0,0,0,0,0,0,0,0,0,0,0,0,0,0,0,0,0,0,0,0,0,0,0,0,0,0,0,0,0,0,0,0,0,0,0,0,0,0,0,0,0,0,0,0,0,0,0,0,0,0,0,0,0,0,0,0,0,0,0,0,0,0,0,0,0,0,0,0,0,0,0,0,0,0,0,0,0,0,0,0,0,0,0,0,0,0,0,0,0,0,0,0,0,0,0,0,0,0,0,0,0,0,0,0,0,0,0,0,0,0,0,0,0,0,0,0,0,0,0,0,0,0,0,0,0,0,0,0,0,0,0,0,0,0,0,0,0,0,0,0,0,0,0,0,0,0,0,0,0,0,0]},\"selected\":{\"id\":\"2720\",\"type\":\"Selection\"},\"selection_policy\":{\"id\":\"2750\",\"type\":\"UnionRenderers\"}},\"id\":\"2719\",\"type\":\"ColumnDataSource\"},{\"attributes\":{\"fill_color\":{\"value\":\"#2ba02b\"},\"line_color\":{\"value\":\"#2ba02b\"},\"size\":{\"units\":\"screen\",\"value\":5.477225575051661},\"x\":{\"field\":\"TotalCoinsMined\"},\"y\":{\"field\":\"TotalCoinSupply\"}},\"id\":\"2755\",\"type\":\"Scatter\"},{\"attributes\":{\"fill_alpha\":{\"value\":0.1},\"fill_color\":{\"value\":\"#2ba02b\"},\"line_alpha\":{\"value\":0.1},\"line_color\":{\"value\":\"#2ba02b\"},\"size\":{\"units\":\"screen\",\"value\":5.477225575051661},\"x\":{\"field\":\"TotalCoinsMined\"},\"y\":{\"field\":\"TotalCoinSupply\"}},\"id\":\"2756\",\"type\":\"Scatter\"},{\"attributes\":{},\"id\":\"2695\",\"type\":\"BasicTicker\"},{\"attributes\":{\"children\":[{\"id\":\"2679\",\"type\":\"Spacer\"},{\"id\":\"2685\",\"subtype\":\"Figure\",\"type\":\"Plot\"},{\"id\":\"2867\",\"type\":\"Spacer\"}],\"margin\":[0,0,0,0],\"name\":\"Row05645\",\"tags\":[\"embedded\"]},\"id\":\"2678\",\"type\":\"Row\"},{\"attributes\":{},\"id\":\"2720\",\"type\":\"Selection\"}],\"root_ids\":[\"2678\"]},\"title\":\"Bokeh Application\",\"version\":\"1.4.0\"}};\n",
       "  var render_items = [{\"docid\":\"a21081d8-9764-481d-9267-721ae6394644\",\"roots\":{\"2678\":\"0956d806-9253-439c-a736-1b7541ecb76b\"}}];\n",
       "  root.Bokeh.embed.embed_items_notebook(docs_json, render_items);\n",
       "  }\n",
       "if (root.Bokeh !== undefined) {\n",
       "    embed_document(root);\n",
       "  } else {\n",
       "    var attempts = 0;\n",
       "    var timer = setInterval(function(root) {\n",
       "      if (root.Bokeh !== undefined) {\n",
       "        clearInterval(timer);\n",
       "        embed_document(root);\n",
       "      } else if (document.readyState == \"complete\") {\n",
       "        attempts++;\n",
       "        if (attempts > 100) {\n",
       "          clearInterval(timer);\n",
       "          console.log(\"Bokeh: ERROR: Unable to run BokehJS code because BokehJS library is missing\");\n",
       "        }\n",
       "      }\n",
       "    }, 10, root)\n",
       "  }\n",
       "})(window);</script>"
      ],
      "text/plain": [
       ":NdOverlay   [class]\n",
       "   :Scatter   [TotalCoinsMined]   (TotalCoinSupply,CoinName)"
      ]
     },
     "execution_count": 239,
     "metadata": {
      "application/vnd.holoviews_exec.v0+json": {
       "id": "2678"
      }
     },
     "output_type": "execute_result"
    }
   ],
   "source": [
    "# Create a scatter plot using hvplot.scatter\n",
    "clustered_df.hvplot.scatter(\n",
    "    x=\"TotalCoinsMined\",\n",
    "    y=\"TotalCoinSupply\",\n",
    "    hover_cols=[\"CoinName\"],\n",
    "    by=\"class\",\n",
    ")"
   ]
  },
  {
   "cell_type": "code",
   "execution_count": 237,
   "metadata": {},
   "outputs": [
    {
     "data": {
      "application/vnd.plotly.v1+json": {
       "config": {
        "plotlyServerURL": "https://plot.ly"
       },
       "data": [
        {
         "customdata": [
          [
           "Scrypt"
          ],
          [
           "Scrypt"
          ],
          [
           "SHA-256"
          ],
          [
           "X13"
          ],
          [
           "X11"
          ],
          [
           "SHA-512"
          ],
          [
           "SHA-256"
          ],
          [
           "X11"
          ],
          [
           "SHA-256"
          ],
          [
           "X15"
          ],
          [
           "X13"
          ],
          [
           "X13"
          ],
          [
           "Scrypt"
          ],
          [
           "Scrypt"
          ],
          [
           "Scrypt"
          ],
          [
           "Scrypt"
          ],
          [
           "Scrypt"
          ],
          [
           "Scrypt"
          ],
          [
           "Scrypt"
          ],
          [
           "Multiple"
          ],
          [
           "Scrypt"
          ],
          [
           "Scrypt"
          ],
          [
           "SHA-256"
          ],
          [
           "Groestl"
          ],
          [
           "X11"
          ],
          [
           "PoS"
          ],
          [
           "X11"
          ],
          [
           "NIST5"
          ],
          [
           "Scrypt"
          ],
          [
           "X11"
          ],
          [
           "X15"
          ],
          [
           "Scrypt"
          ],
          [
           "X11"
          ],
          [
           "X11"
          ],
          [
           "X11"
          ],
          [
           "X13"
          ],
          [
           "X11"
          ],
          [
           "SHA3"
          ],
          [
           "Scrypt"
          ],
          [
           "SHA-256"
          ],
          [
           "Scrypt"
          ],
          [
           "X13"
          ],
          [
           "X13"
          ],
          [
           "NeoScrypt"
          ],
          [
           "Scrypt"
          ],
          [
           "Scrypt"
          ],
          [
           "Scrypt"
          ],
          [
           "X15"
          ],
          [
           "Scrypt"
          ],
          [
           "X11"
          ],
          [
           "X11"
          ],
          [
           "Multiple"
          ],
          [
           "PHI1612"
          ],
          [
           "X11"
          ],
          [
           "Scrypt"
          ],
          [
           "Scrypt"
          ],
          [
           "X13"
          ],
          [
           "Scrypt"
          ],
          [
           "Scrypt"
          ],
          [
           "X11"
          ],
          [
           "Multiple"
          ],
          [
           "X13"
          ],
          [
           "Scrypt"
          ],
          [
           "Scrypt"
          ],
          [
           "Shabal256"
          ],
          [
           "Counterparty"
          ],
          [
           "SHA-256"
          ],
          [
           "Scrypt"
          ],
          [
           "Groestl"
          ],
          [
           "Scrypt"
          ],
          [
           "X13"
          ],
          [
           "Scrypt"
          ],
          [
           "SHA-256"
          ],
          [
           "Scrypt"
          ],
          [
           "X13"
          ],
          [
           "X13"
          ],
          [
           "X11"
          ],
          [
           "X11"
          ],
          [
           "X15"
          ],
          [
           "Scrypt"
          ],
          [
           "Scrypt"
          ],
          [
           "Scrypt"
          ],
          [
           "X11"
          ],
          [
           "SHA3"
          ],
          [
           "Scrypt"
          ],
          [
           "QUAIT"
          ],
          [
           "vDPOS"
          ],
          [
           "X11"
          ],
          [
           "X11"
          ],
          [
           "Scrypt"
          ],
          [
           "X11"
          ],
          [
           "X13"
          ],
          [
           "SHA-256"
          ],
          [
           "X13"
          ],
          [
           "X15"
          ],
          [
           "BLAKE256"
          ],
          [
           "SHA-256"
          ],
          [
           "X11"
          ],
          [
           "SHA-256"
          ],
          [
           "Quark"
          ],
          [
           "NIST5"
          ],
          [
           "Blake"
          ],
          [
           "Scrypt"
          ],
          [
           "Scrypt"
          ],
          [
           "Scrypt"
          ],
          [
           "SHA-256"
          ],
          [
           "X11"
          ],
          [
           "Scrypt"
          ],
          [
           "SHA-256"
          ],
          [
           "Scrypt"
          ],
          [
           "PoS"
          ],
          [
           "X11"
          ],
          [
           "X11"
          ],
          [
           "X11"
          ],
          [
           "PoS"
          ],
          [
           "SHA-256"
          ],
          [
           "SHA-256"
          ],
          [
           "NIST5"
          ],
          [
           "X15"
          ],
          [
           "X11"
          ],
          [
           "NIST5"
          ],
          [
           "Scrypt"
          ],
          [
           "Scrypt"
          ],
          [
           "POS 3.0"
          ],
          [
           "Scrypt"
          ],
          [
           "Scrypt"
          ],
          [
           "Scrypt"
          ],
          [
           "X13"
          ],
          [
           "X11"
          ],
          [
           "X11"
          ],
          [
           "X11"
          ],
          [
           "Scrypt"
          ],
          [
           "SHA-256"
          ],
          [
           "X11"
          ],
          [
           "Scrypt"
          ],
          [
           "Scrypt"
          ],
          [
           "X11"
          ],
          [
           "Scrypt"
          ],
          [
           "Scrypt"
          ],
          [
           "SHA-256D"
          ],
          [
           "PoS"
          ],
          [
           "Scrypt"
          ],
          [
           "X11"
          ],
          [
           "PoS"
          ],
          [
           "X13"
          ],
          [
           "X14"
          ],
          [
           "PoS"
          ],
          [
           "SHA-256D"
          ],
          [
           "DPoS"
          ],
          [
           "X11"
          ],
          [
           "Scrypt"
          ],
          [
           "X13"
          ],
          [
           "X11"
          ],
          [
           "PoS"
          ],
          [
           "SHA-256D"
          ],
          [
           "Scrypt"
          ],
          [
           "Scrypt"
          ],
          [
           "Scrypt"
          ],
          [
           "PoS"
          ],
          [
           "X11"
          ],
          [
           "SHA-256"
          ],
          [
           "Scrypt"
          ],
          [
           "X11"
          ],
          [
           "Scrypt"
          ],
          [
           "Scrypt"
          ],
          [
           "X11"
          ],
          [
           "Scrypt"
          ],
          [
           "Scrypt"
          ],
          [
           "Scrypt"
          ],
          [
           "Scrypt"
          ],
          [
           "Quark"
          ],
          [
           "QuBit"
          ],
          [
           "X11"
          ],
          [
           "X13"
          ],
          [
           "PoS"
          ],
          [
           "Scrypt"
          ],
          [
           "SHA-256"
          ],
          [
           "X11"
          ],
          [
           "X11"
          ],
          [
           "Scrypt"
          ],
          [
           "Scrypt"
          ],
          [
           "Scrypt"
          ],
          [
           "Scrypt"
          ],
          [
           "X13"
          ],
          [
           "Scrypt"
          ],
          [
           "Scrypt"
          ],
          [
           "X11"
          ],
          [
           "Blake2S"
          ],
          [
           "X11"
          ],
          [
           "Scrypt"
          ],
          [
           "PoS"
          ],
          [
           "X11"
          ],
          [
           "PoS"
          ],
          [
           "X11"
          ],
          [
           "Scrypt"
          ],
          [
           "Scrypt"
          ],
          [
           "Scrypt"
          ],
          [
           "SHA-256"
          ],
          [
           "X11"
          ],
          [
           "Scrypt"
          ],
          [
           "PoS"
          ],
          [
           "Scrypt"
          ],
          [
           "X11"
          ],
          [
           "X15"
          ],
          [
           "SHA-256"
          ],
          [
           "POS 3.0"
          ],
          [
           "536"
          ],
          [
           "NIST5"
          ],
          [
           "NIST5"
          ],
          [
           "Skein"
          ],
          [
           "X13"
          ],
          [
           "X11"
          ],
          [
           "Scrypt"
          ],
          [
           "X13"
          ],
          [
           "SkunkHash v2 Raptor"
          ],
          [
           "Skein"
          ],
          [
           "X11"
          ],
          [
           "Scrypt"
          ],
          [
           "VeChainThor Authority"
          ],
          [
           "PoS"
          ],
          [
           "Scrypt"
          ],
          [
           "Scrypt"
          ],
          [
           "SHA-512"
          ],
          [
           "Ouroboros"
          ],
          [
           "X11"
          ],
          [
           "NeoScrypt"
          ],
          [
           "Scrypt"
          ],
          [
           "Lyra2REv2"
          ],
          [
           "Scrypt"
          ],
          [
           "SHA-256"
          ],
          [
           "NIST5"
          ],
          [
           "PHI1612"
          ],
          [
           "Scrypt"
          ],
          [
           "Quark"
          ],
          [
           "POS 2.0"
          ],
          [
           "Scrypt"
          ],
          [
           "SkunkHash"
          ],
          [
           "X11"
          ],
          [
           "Quark"
          ],
          [
           "SHA-256"
          ],
          [
           "Quark"
          ],
          [
           "X11"
          ],
          [
           "DPoS"
          ],
          [
           "NIST5"
          ],
          [
           "X13"
          ],
          [
           "Scrypt"
          ],
          [
           "NIST5"
          ],
          [
           "Quark"
          ],
          [
           "Scrypt"
          ],
          [
           "Scrypt"
          ],
          [
           "X11"
          ],
          [
           "SHA-256"
          ],
          [
           "Scrypt"
          ],
          [
           "Quark"
          ],
          [
           "Scrypt"
          ],
          [
           "Scrypt"
          ],
          [
           "X11"
          ],
          [
           "Scrypt"
          ],
          [
           "Scrypt"
          ],
          [
           "POS 3.0"
          ],
          [
           "Scrypt"
          ],
          [
           "Scrypt"
          ],
          [
           "X13"
          ],
          [
           "C11"
          ],
          [
           "X11"
          ],
          [
           "XEVAN"
          ],
          [
           "Scrypt"
          ],
          [
           "VBFT"
          ],
          [
           "NIST5"
          ],
          [
           "Scrypt"
          ],
          [
           "Scrypt"
          ],
          [
           "Scrypt"
          ],
          [
           "Equihash"
          ],
          [
           "Green Protocol"
          ],
          [
           "PoS"
          ],
          [
           "Scrypt"
          ],
          [
           "Scrypt"
          ],
          [
           "Semux BFT consensus"
          ],
          [
           "Scrypt"
          ],
          [
           "Quark"
          ],
          [
           "PoS"
          ],
          [
           "X16R"
          ],
          [
           "Scrypt"
          ],
          [
           "XEVAN"
          ],
          [
           "Scrypt"
          ],
          [
           "Scrypt"
          ],
          [
           "Scrypt"
          ],
          [
           "SHA-256D"
          ],
          [
           "Scrypt"
          ],
          [
           "X15"
          ],
          [
           "Scrypt"
          ],
          [
           "Quark"
          ],
          [
           "SHA-256"
          ],
          [
           "DPoS"
          ],
          [
           "X16R"
          ],
          [
           "Quark"
          ],
          [
           "Quark"
          ],
          [
           "Scrypt"
          ],
          [
           "Zhash"
          ],
          [
           "Lyra2REv2"
          ],
          [
           "Quark"
          ],
          [
           "Scrypt"
          ],
          [
           "Scrypt"
          ],
          [
           "X11"
          ],
          [
           "X11"
          ],
          [
           "Scrypt"
          ],
          [
           "PoS"
          ],
          [
           "Scrypt"
          ],
          [
           "Scrypt"
          ],
          [
           "Keccak"
          ],
          [
           "X11"
          ],
          [
           "Quark"
          ],
          [
           "Scrypt"
          ],
          [
           "SHA-512"
          ],
          [
           "NeoScrypt"
          ],
          [
           "XEVAN"
          ],
          [
           "XEVAN"
          ],
          [
           "X11"
          ],
          [
           "Quark"
          ],
          [
           "Quark"
          ],
          [
           "Scrypt"
          ],
          [
           "Quark"
          ],
          [
           "Quark"
          ],
          [
           "Scrypt"
          ],
          [
           "X11"
          ],
          [
           "Scrypt"
          ],
          [
           "XEVAN"
          ],
          [
           "SHA-256D"
          ],
          [
           "X11"
          ],
          [
           "X11"
          ],
          [
           "DPoS"
          ],
          [
           "X11"
          ],
          [
           "Scrypt"
          ],
          [
           "X11"
          ],
          [
           "QuBit"
          ],
          [
           "Scrypt"
          ],
          [
           "Scrypt"
          ],
          [
           "SHA-256"
          ],
          [
           "Scrypt"
          ],
          [
           "X11"
          ],
          [
           "Scrypt"
          ],
          [
           "SHA-256"
          ],
          [
           "X11"
          ],
          [
           "Scrypt"
          ],
          [
           "SHA-256"
          ],
          [
           "Scrypt"
          ],
          [
           "X11"
          ],
          [
           "Scrypt"
          ],
          [
           "PoS"
          ],
          [
           "X11"
          ],
          [
           "SHA-256"
          ],
          [
           "DPoS"
          ],
          [
           "Scrypt"
          ],
          [
           "Scrypt"
          ],
          [
           "NeoScrypt"
          ],
          [
           "Scrypt"
          ],
          [
           "X13"
          ],
          [
           "DPoS"
          ],
          [
           "DPoS"
          ],
          [
           "SHA-256"
          ],
          [
           "PoS"
          ],
          [
           "TRC10"
          ],
          [
           "PoS"
          ],
          [
           "SHA-256"
          ],
          [
           "Scrypt"
          ],
          [
           "Scrypt"
          ]
         ],
         "hovertemplate": "<b>%{hovertext}</b><br><br>class=%{marker.color}<br>PC 1=%{x}<br>PC 2=%{y}<br>PC 3=%{z}<br>Algorithm=%{customdata[0]}<extra></extra>",
         "hovertext": [
          "42 Coin",
          "404Coin",
          "808",
          "EliteCoin",
          "Dash",
          "Bitshares",
          "BitcoinDark",
          "Bitstake",
          "PayCoin",
          "KoboCoin",
          "Aero Coin",
          "ApexCoin",
          "ArchCoin",
          "Aurora Coin",
          "BlueCoin",
          "EnergyCoin",
          "BitBar",
          "CashCoin",
          "CryptoBullion",
          "CinderCoin",
          "CoolCoin",
          "CasinoCoin",
          "eMark",
          "Diamond",
          "DarkCash",
          "Exclusive Coin",
          "Fuel2Coin",
          "FIBRE",
          "FlutterCoin",
          "GlyphCoin",
          "Halcyon",
          "HoboNickels",
          "HyperStake",
          "IOCoin",
          "JumBucks Coin",
          "JudgeCoin",
          "LibrexCoin",
          "MaxCoin",
          "MintCoin",
          "MazaCoin",
          "Nautilus Coin",
          "NavCoin",
          "OpalCoin",
          "Orbitcoin",
          "PotCoin",
          "PhoenixCoin",
          "Reddcoin",
          "ShieldCoin",
          "SilkCoin",
          "SuperCoin",
          "SyncCoin",
          "TeslaCoin",
          "TittieCoin",
          "TorCoin",
          "UnitaryStatus Dollar",
          "UltraCoin",
          "Utility Coin",
          "VeriCoin",
          "SocialXbotCoin",
          "X11 Coin",
          "Crypti",
          "StealthCoin",
          "XXXCoin",
          "ZCC Coin",
          "BurstCoin",
          "StorjCoin",
          "Neutron",
          "KryptCoin",
          "FairCoin",
          "RubyCoin",
          "Kore",
          "Dnotes",
          "MaieutiCoin",
          "8BIT Coin",
          "Sativa Coin",
          "AeroMe",
          "MasterTraderCoin",
          "Ucoin",
          "MaryJane Coin",
          "CyberCoin",
          "Vtorrent",
          "ViorCoin",
          "IslaCoin",
          "Nexus",
          "Singular",
          "Droidz",
          "CryptoCircuits",
          "Squall Coin",
          "Milllionaire Coin",
          "Diggits",
          "MapCoin",
          "Paycon",
          "Emercoin",
          "BlitzCoin",
          "EverGreenCoin",
          "Decred",
          "EDRCoin",
          "Hitcoin",
          "DubaiCoin",
          "BiosCrypto",
          "PWR Coin",
          "TrumpCoin",
          "BillaryCoin",
          "EthereumScrypt",
          "GPU Coin",
          "Universal Currency",
          "EuropeCoin",
          "ZeitCoin",
          "SwingCoin",
          "SafeExchangeCoin",
          "Nebuchadnezzar",
          "GIZMOcoin",
          "SecretCoin",
          "Ratecoin",
          "Digital Bullion Gold",
          "Revenu",
          "Clockcoin",
          "VIP Tokens",
          "OrlyCoin",
          "BitSend",
          "16BitCoin",
          "ChessCoin",
          "ReeCoin",
          "Let it Ride",
          "PutinCoin",
          "iBankCoin",
          "Frankywillcoin",
          "MudraCoin",
          "Lutetium Coin",
          "GoldBlocks",
          "WayCoin",
          "CarterCoin",
          "BitTokens",
          "MustangCoin",
          "ZoneCoin",
          "RootCoin",
          "PROUD Money",
          "BitCurrency",
          "Swiscoin",
          "BuzzCoin",
          "Opair",
          "PesoBit",
          "Halloween Coin",
          "CoffeeCoin",
          "RoyalCoin",
          "GanjaCoin V2",
          "TeamUP",
          "LanaCoin",
          "ARK",
          "InsaneCoin",
          "LuckChain",
          "EmberCoin",
          "XenixCoin",
          "FreeCoin",
          "NPCcoin",
          "PLNCoin",
          "Icobid",
          "AquariusCoin",
          "Creatio",
          "Eternity",
          "Eurocoin",
          "BitcoinFast",
          "Stakenet",
          "BitConnect Coin",
          "MoneyCoin",
          "Enigma",
          "Russiacoin",
          "PandaCoin",
          "GameUnits",
          "GAKHcoin",
          "Allsafe",
          "LiteCreed",
          "NeptuneClassic",
          "GoldenBird",
          "Ride My Car",
          "Klingon Empire Darsek",
          "Internet of People",
          "KushCoin",
          "Eryllium",
          "Printerium",
          "Impeach",
          "Zilbercoin",
          "FirstCoin",
          "FindCoin",
          "OpenChat",
          "RenosCoin",
          "VirtacoinPlus",
          "TajCoin",
          "Impact",
          "Universe",
          "Atmos",
          "HappyCoin",
          "MacronCoin",
          "Condensate",
          "Independent Money System",
          "ArgusCoin",
          "LomoCoin",
          "ProCurrency",
          "GoldReserve",
          "GrowthCoin",
          "Phreak",
          "Degas Coin",
          "ZSEcoin",
          "HTML5 Coin",
          "Ultimate Secure Cash",
          "QTUM",
          "Espers",
          "Denarius",
          "Virta Unique Coin",
          "Bitcoin Planet",
          "BritCoin",
          "Octanox",
          "Linda",
          "DeepOnion",
          "Signatum",
          "Cream",
          "Monoeci",
          "Draftcoin",
          "Vechain",
          "Stakecoin",
          "CoinonatX",
          "Ethereum Dark",
          "Obsidian",
          "Cardano",
          "Regalcoin",
          "TrezarCoin",
          "TerraNovaCoin",
          "Rupee",
          "WomenCoin",
          "Theresa May Coin",
          "NamoCoin",
          "LUXCoin",
          "Xios",
          "Bitcloud 2.0",
          "KekCoin",
          "BlackholeCoin",
          "AltCommunity Coin",
          "Pure",
          "Rupaya",
          "Infinity Economics",
          "Castle",
          "Magnet",
          "Lamden Tau",
          "Electra",
          "Bitcoin Diamond",
          "Cash & Back Coin",
          "Bulwark",
          "Kalkulus",
          "GermanCoin",
          "LiteCoin Ultra",
          "PhantomX",
          "HTML Coin",
          "Fantasy Cash",
          "Digiwage",
          "Trollcoin",
          "Litecoin Plus",
          "Monkey Project",
          "OP Coin",
          "Valorbit",
          "TokenPay",
          "My Big Coin",
          "Unified Society USDEX",
          "Tokyo Coin",
          "Stipend",
          "Pushi",
          "Ellerium",
          "Velox",
          "Ontology",
          "Bitspace",
          "Briacoin",
          "Ignition",
          "MedicCoin",
          "Zelcash",
          "Bitcoin Green",
          "Deviant Coin",
          "Abjcoin",
          "Profit Hunters Coin",
          "Semux",
          "BitBlocks",
          "Carebit",
          "Zealium",
          "Proton",
          "iDealCash",
          "Bitcoin Incognito",
          "HollyWoodCoin",
          "Swisscoin",
          "Xt3ch",
          "TheVig",
          "EmaratCoin",
          "Dekado",
          "Lynx",
          "Poseidon Quark",
          "BitcoinWSpectrum",
          "Muse",
          "Trivechain",
          "Dystem",
          "Giant",
          "Peony Coin",
          "SafeCoin",
          "Absolute Coin",
          "Vitae",
          "TPCash",
          "MUSDcoin",
          "ARENON",
          "EUNO",
          "MMOCoin",
          "Ketan",
          "Safe Trade Coin",
          "Mont Blanc",
          "XDNA",
          "PAXEX",
          "Apollon",
          "ThunderStake",
          "Kcash",
          "Traid",
          "Bettex coin",
          "BitMoney",
          "Junson Ming Chan Coin",
          "Zenad",
          "HerbCoin",
          "Oduwa",
          "Galilel",
          "Crypto Sports",
          "Credit",
          "Dash Platinum",
          "Nasdacoin",
          "Beetle Coin",
          "Titan Coin",
          "Award",
          "Insane Coin",
          "ALAX",
          "The Freedom Coin",
          "LiteDoge",
          "TruckCoin",
          "Ascension Coin",
          "OrangeCoin",
          "BitstarCoin",
          "NeosCoin",
          "HyperCoin",
          "PinkCoin",
          "AudioCoin",
          "IncaKoin",
          "Piggy Coin",
          "Genstake",
          "ParkByte",
          "XiaoMiCoin",
          "CapriCoin",
          " ClubCoin",
          "Radium",
          "Creditbit ",
          "OKCash",
          "Lisk",
          "HiCoin",
          "WhiteCoin",
          "FriendshipCoin",
          "The Hempcoin",
          "Triangles Coin",
          "EOS",
          "Oxycoin",
          "TigerCash",
          "Particl",
          "BitTorrent",
          "Nxt",
          "ZEPHYR",
          "Gapcoin",
          "BitcoinPlus"
         ],
         "legendgroup": "2",
         "marker": {
          "color": [
           2,
           2,
           2,
           2,
           2,
           2,
           2,
           2,
           2,
           2,
           2,
           2,
           2,
           2,
           2,
           2,
           2,
           2,
           2,
           2,
           2,
           2,
           2,
           2,
           2,
           2,
           2,
           2,
           2,
           2,
           2,
           2,
           2,
           2,
           2,
           2,
           2,
           2,
           2,
           2,
           2,
           2,
           2,
           2,
           2,
           2,
           2,
           2,
           2,
           2,
           2,
           2,
           2,
           2,
           2,
           2,
           2,
           2,
           2,
           2,
           2,
           2,
           2,
           2,
           2,
           2,
           2,
           2,
           2,
           2,
           2,
           2,
           2,
           2,
           2,
           2,
           2,
           2,
           2,
           2,
           2,
           2,
           2,
           2,
           2,
           2,
           2,
           2,
           2,
           2,
           2,
           2,
           2,
           2,
           2,
           2,
           2,
           2,
           2,
           2,
           2,
           2,
           2,
           2,
           2,
           2,
           2,
           2,
           2,
           2,
           2,
           2,
           2,
           2,
           2,
           2,
           2,
           2,
           2,
           2,
           2,
           2,
           2,
           2,
           2,
           2,
           2,
           2,
           2,
           2,
           2,
           2,
           2,
           2,
           2,
           2,
           2,
           2,
           2,
           2,
           2,
           2,
           2,
           2,
           2,
           2,
           2,
           2,
           2,
           2,
           2,
           2,
           2,
           2,
           2,
           2,
           2,
           2,
           2,
           2,
           2,
           2,
           2,
           2,
           2,
           2,
           2,
           2,
           2,
           2,
           2,
           2,
           2,
           2,
           2,
           2,
           2,
           2,
           2,
           2,
           2,
           2,
           2,
           2,
           2,
           2,
           2,
           2,
           2,
           2,
           2,
           2,
           2,
           2,
           2,
           2,
           2,
           2,
           2,
           2,
           2,
           2,
           2,
           2,
           2,
           2,
           2,
           2,
           2,
           2,
           2,
           2,
           2,
           2,
           2,
           2,
           2,
           2,
           2,
           2,
           2,
           2,
           2,
           2,
           2,
           2,
           2,
           2,
           2,
           2,
           2,
           2,
           2,
           2,
           2,
           2,
           2,
           2,
           2,
           2,
           2,
           2,
           2,
           2,
           2,
           2,
           2,
           2,
           2,
           2,
           2,
           2,
           2,
           2,
           2,
           2,
           2,
           2,
           2,
           2,
           2,
           2,
           2,
           2,
           2,
           2,
           2,
           2,
           2,
           2,
           2,
           2,
           2,
           2,
           2,
           2,
           2,
           2,
           2,
           2,
           2,
           2,
           2,
           2,
           2,
           2,
           2,
           2,
           2,
           2,
           2,
           2,
           2,
           2,
           2,
           2,
           2,
           2,
           2,
           2,
           2,
           2,
           2,
           2,
           2,
           2,
           2,
           2,
           2,
           2,
           2,
           2,
           2,
           2,
           2,
           2,
           2,
           2,
           2,
           2,
           2,
           2,
           2,
           2,
           2,
           2,
           2,
           2,
           2,
           2,
           2,
           2,
           2,
           2,
           2,
           2,
           2,
           2,
           2,
           2,
           2,
           2,
           2,
           2,
           2,
           2,
           2,
           2,
           2,
           2,
           2,
           2,
           2,
           2,
           2,
           2,
           2,
           2,
           2,
           2,
           2,
           2,
           2,
           2,
           2,
           2
          ],
          "coloraxis": "coloraxis",
          "symbol": "circle"
         },
         "mode": "markers",
         "name": "2",
         "scene": "scene",
         "showlegend": true,
         "type": "scatter3d",
         "x": [
          -0.1940790884597316,
          -0.1798329850423959,
          -0.1903913089860539,
          0.26699023456462,
          -0.23383316477286328,
          0.4662063714803114,
          -0.19037390803527363,
          -0.23395509669886033,
          -0.03313311718494997,
          -0.15018633194801934,
          0.028784056598686828,
          -0.12831218559798657,
          -0.03698284685848435,
          -0.19383424615142197,
          -0.18550019867387524,
          -0.1924176118972429,
          -0.1940785141600084,
          -0.19407908911419552,
          -0.19406505986191358,
          -0.15985743882246214,
          -0.03698284701256703,
          1.0328540460537083,
          -0.19039130898605927,
          -0.2092730750120842,
          -0.2339550967033207,
          0.09468747238011146,
          -0.07685885468226303,
          -0.15887034153222698,
          -0.09802064771941167,
          -0.23395509670936604,
          -0.1505311823734274,
          -0.19287389184158585,
          -0.054197069485054476,
          -0.23371679085079453,
          -0.23395509670253364,
          -0.1283121856267399,
          -0.23395509669830727,
          0.24187415297543083,
          0.2505075223246548,
          -0.16860283027744102,
          -0.036764399856142674,
          -0.12741994034385937,
          -0.12810755874216945,
          -0.271671459386701,
          -0.1910727132606649,
          -0.1930805612836172,
          0.20171187252890946,
          -0.15053118237527047,
          -0.19407908902861093,
          -0.07617424778076277,
          -0.23395508080572883,
          -0.001677596000116428,
          0.016258750627518265,
          -0.2339357652218075,
          -0.179242077197281,
          -0.19340086107355067,
          -0.128312185586928,
          -0.11002393033864652,
          -0.19407908903045415,
          -0.23386125318286366,
          -0.001411091333909426,
          -0.1278653855190028,
          -0.1940790891189256,
          -0.19208106714920703,
          1.4489024461562954,
          0.08438315387494214,
          -0.18986312513335152,
          -0.03698284685958431,
          -0.208599516446421,
          -0.036615827642521505,
          -0.12828488020786713,
          -0.03462494169372649,
          -0.03329506678754556,
          -0.19405927163086173,
          -0.12821637088901203,
          -0.12831218560904556,
          -0.2339550967150983,
          -0.07682253924635823,
          -0.1505311823734274,
          -0.19407908902676782,
          -0.19392241312239888,
          -0.19407908902676782,
          -0.23393466010186503,
          0.8941645893228591,
          -0.19407908902676782,
          -0.2696577541877407,
          0.01600050102791595,
          -0.266633343405572,
          -0.23395509669646403,
          -0.03563274193265242,
          -0.07685885450205523,
          -0.12800108631193732,
          -0.18980995835216152,
          0.028784056604488618,
          -0.15034850569235803,
          -0.052592941698781225,
          -0.1903417643305929,
          -0.08549329637425558,
          -0.19032206192684883,
          0.008975429641545353,
          -0.02292219863163154,
          -0.0716386474585031,
          -0.19395759661455225,
          -0.19407908903450874,
          -0.03643636463544532,
          -0.1903913093731231,
          -0.2338145883261476,
          0.4621675066738406,
          -0.19033221385862337,
          0.5218054061194274,
          0.09488081137350257,
          -0.23395509669664866,
          -0.23395509673517034,
          -0.23213846373894276,
          0.0946107903667351,
          -0.19037516855282072,
          -0.19016634437444255,
          -0.15774367356684862,
          -0.15053118243978114,
          -0.2336258370452987,
          -0.15887034156056715,
          -0.19407908916439012,
          -0.1940790896718745,
          0.11340578660511913,
          -0.1831014917455856,
          -0.1940179789782239,
          -0.192728984131169,
          0.02885156149695252,
          -0.06798866533386518,
          -0.23374496814861764,
          -0.07685885468226303,
          -0.19349630958438174,
          -0.19038327010758918,
          -0.2339462179202856,
          -0.1940442297573421,
          -0.19405289848683369,
          -0.23395511512809147,
          -0.03469308729816954,
          -0.13322819547216996,
          0.07922701538858218,
          0.09561032444438104,
          -0.19362649388137282,
          -0.23038166215041392,
          0.09661862360815948,
          0.02881781090810922,
          -0.10432326870109955,
          0.0948513607726795,
          -0.17048332918627523,
          7.137363968424135,
          -0.23370744950164665,
          -0.19407909086993042,
          1.1163877957463713,
          -0.23390307274300312,
          0.09528584284218126,
          -0.18509366096895669,
          -0.193848361540066,
          -0.19407908939539997,
          -0.19404601723505963,
          0.09488081137350257,
          -0.2338731524212049,
          -0.1902236724966179,
          -0.19380577349603922,
          -0.19220706962113535,
          -0.1939294876826737,
          -0.1939317341141785,
          -0.2339440977911242,
          -0.19396597920322106,
          0.41953006565891005,
          -0.1940322001308211,
          -0.19403432239715077,
          0.16621367283367466,
          -0.2983345460356948,
          -0.2339550971572547,
          -0.12831218641635103,
          0.0946107902100663,
          -0.19375553224355643,
          -0.19035720431094852,
          -0.23387869295820746,
          -0.23395509688078045,
          -0.1939194833133692,
          -0.19407492832686016,
          -0.03694338857002709,
          -0.06617811806317483,
          0.028980157342535173,
          -0.180578040070783,
          -0.03649612908251156,
          -0.2337773859367164,
          -0.31373136517089784,
          -0.2324614704129132,
          -0.0369828470346848,
          0.09611124077054414,
          -0.2336645364190597,
          0.10003040038388337,
          -0.23231248617490047,
          -0.19400660281519372,
          -0.19406358549882408,
          -0.19407234034453094,
          -0.03193773181386583,
          -0.23372326506951688,
          -0.03299821159059434,
          0.09476457035857991,
          -0.19379072346252849,
          -0.23395510055512536,
          0.3984081462054625,
          -0.0331554242622955,
          0.11423488859533729,
          0.3964929305154726,
          -0.15881402350922338,
          -0.1580205576002778,
          -0.24556878253494413,
          -0.12802504405172987,
          -0.23395509671103545,
          -0.07196310904541171,
          -0.12801628284771113,
          0.16932128197338828,
          -0.24502161950229898,
          -0.23378539846198182,
          -0.03673087273474412,
          7.061329144965957,
          0.09466479448404064,
          -0.19381528414552154,
          -0.1940223846211525,
          0.4295298283788642,
          0.6209100417239369,
          -0.23385704668732762,
          -0.2692491315047329,
          -0.19406368793570652,
          -0.03741788721490016,
          0.4601746641954876,
          -0.18914852664347323,
          -0.15130215123351826,
          -0.16262846310837023,
          -0.19405006601858382,
          0.009390067513945171,
          -0.020657575470908324,
          -0.19385817750288456,
          -0.2248640265219588,
          -0.2339550967032597,
          0.16607167173903917,
          0.0882143736813067,
          4.254153581403112,
          -0.23343937579256646,
          7.139792651286779,
          0.22454797278485789,
          -0.12583428378058295,
          -0.19258078360585812,
          -0.0015952485486305035,
          0.16630059248369472,
          -0.1277687665475763,
          -0.19396541852480784,
          -0.23334519742914064,
          -0.19039147487070743,
          -0.19407908903524593,
          0.16644024602257773,
          -0.18609966254141475,
          -0.1940452758383541,
          -0.07679935200351651,
          -0.19407909271309332,
          -0.36408084686004094,
          0.1131608242688684,
          -0.02967097998433461,
          -0.1909084180900664,
          0.031893332622472674,
          -0.24863293207405324,
          -0.23392582879874216,
          -0.22944844100264905,
          -0.03663762501053487,
          0.047980788073347075,
          -0.15868419109749382,
          -0.19406767203321942,
          -0.19406312872152776,
          -0.033374048243443005,
          -0.24551724467787034,
          0.17970173630996897,
          0.09490614714259889,
          -0.1939456919176197,
          -0.19407908921108386,
          7.5142670710775095,
          -0.194079089948349,
          0.010862060701216352,
          0.09476031781505295,
          -0.036698450314223446,
          -0.17512149633210955,
          -0.26198956438354987,
          -0.03646026427529218,
          -0.05636838967572686,
          -0.03687983389154434,
          -0.18464489784422383,
          -0.1937874753994429,
          0.006973928132796028,
          1.7740425389160857,
          0.16610834311033587,
          -0.032514557711078904,
          3.048066867925775,
          -0.1933556475822928,
          0.1661672915760825,
          0.009055349001329843,
          -0.036968809677786436,
          -0.21997238373225572,
          -0.1946581503330153,
          0.1669634684502647,
          -0.19400613385792492,
          -0.19407908921108386,
          -0.07659869596674611,
          -0.23353965425367224,
          -0.03552792185240381,
          0.09473671608482108,
          -0.03698284837650731,
          -0.036982846957272136,
          -0.20484528884793626,
          -0.07679803732229225,
          0.008975429217968978,
          -0.17976862831898943,
          1.017774351068592,
          -0.2717149415482197,
          -0.07226622234177285,
          -0.2482383549787803,
          0.15549320000763803,
          0.13100810120333578,
          0.009452181192783472,
          -0.19387957662041783,
          0.009222026488387557,
          0.16609779235823247,
          0.22210024973483483,
          -0.07684919237977068,
          -0.19380168946053805,
          -0.2267682284789066,
          -0.1729918396190803,
          -0.2337469081007472,
          -0.23363409630367027,
          7.149404175777855,
          -0.07685885454402601,
          0.012741919129712244,
          -0.23068009137927917,
          -0.29874265227868224,
          -0.1940313341535658,
          -0.19380128432296817,
          -0.0332357667245399,
          -0.193949057706404,
          -0.22806386516740945,
          -0.18083818868584517,
          0.05181382982352611,
          -0.22728233020057087,
          -0.19326902600646598,
          -0.19039130903213833,
          -0.18862039248876133,
          -0.23123646706610712,
          -0.1926800851076394,
          0.09466238121066603,
          -0.2802765142048447,
          -0.1893831038332362,
          7.13752341652577,
          0.09803094612136715,
          -0.19067674965588474,
          -0.27169981481977507,
          -0.19407908957971656,
          -0.12831028493954968,
          7.149681550270661,
          7.151056467045712,
          -0.019794017831557566,
          0.0947361224901859,
          31.7126947569953,
          0.10633400217250076,
          4.081788940679042,
          -0.19387750467494017,
          -0.03698111428079726
         ],
         "y": [
          1.184179485306167,
          1.1820617618517089,
          0.8166502270112973,
          1.9113463182519603,
          1.4116597774686062,
          0.985985576747165,
          0.8166476405881256,
          1.411677902783643,
          0.362936050518269,
          2.072658016088967,
          1.5164151479022978,
          1.9701052502006415,
          0.730489383296355,
          1.1841430889054738,
          1.1829042049824,
          1.1839325013232251,
          1.1841793999411097,
          1.1841794860194095,
          1.1841773999217178,
          0.46204749726810335,
          0.7304893844048137,
          0.10831020377173144,
          0.8166502270112952,
          1.0123564297091237,
          1.411677902815731,
          1.3013028831358302,
          0.9579878017807586,
          1.74285318034996,
          0.3849358926910526,
          1.4116779028592221,
          2.072709274699639,
          1.1840003304034323,
          0.9546190512052113,
          1.4116424781004215,
          1.4116779028100694,
          1.9701052504074912,
          1.4116779027796649,
          2.010658781172213,
          0.6877529894188953,
          0.8134113290452135,
          0.7304569104244935,
          1.9699726149164296,
          1.9700748316642271,
          0.732559267052077,
          1.1837325831493435,
          1.1840310522134432,
          1.1253438506875049,
          2.0727092747128992,
          1.18417948540372,
          0.9578860314033579,
          1.4116779004042084,
          0.008196313960180291,
          1.4039643518694604,
          1.411675029208654,
          1.1819739353159118,
          1.1840786658619233,
          1.9701052501210845,
          0.4769441312064761,
          1.1841794854169796,
          1.4116639526893349,
          0.008156695862072965,
          1.970038831814112,
          1.1841794860534391,
          1.1838824858195742,
          0.006124690939070933,
          1.2433658876334663,
          0.8165717116187234,
          0.7304893833042692,
          1.0122563029450464,
          0.7304348244637342,
          1.970101191242058,
          0.7301388791794577,
          0.3629601246997179,
          1.1841765394690538,
          1.9700910070793847,
          1.9701052502802003,
          1.4116779029004596,
          0.9579824023323259,
          2.072709274699639,
          1.1841794853904608,
          1.1841561952591029,
          1.1841794853904608,
          1.4116748647990656,
          1.896605481343847,
          1.1841794853904608,
          2.221402762701075,
          1.295974948595198,
          1.0556926265122761,
          1.4116779027664053,
          0.7302886868219779,
          0.957987800484356,
          1.9700590048348128,
          0.8165638203035168,
          1.5164151478605588,
          2.0726821195486633,
          1.0467592498470009,
          0.8166428623201751,
          1.3896089101823375,
          0.8166399333433991,
          1.7031445884215235,
          1.7226440395297338,
          0.00607443617592082,
          1.1841614256871915,
          1.1841794854461507,
          0.7304081495650222,
          0.8166502297958048,
          1.411657020719176,
          0.6562903186857423,
          0.8166414428446889,
          0.18427878180753954,
          1.3012741429151018,
          1.411677902767731,
          1.4116779030448565,
          1.4114078552463962,
          1.3013142823653707,
          0.8166478305747557,
          0.8166167920955967,
          1.7426856985933599,
          2.0727092751769836,
          1.4116289590359032,
          1.7428531805538392,
          1.1841794863805082,
          1.1841794900313096,
          1.2116786228262488,
          1.1825476552398544,
          1.184170401755442,
          1.1839787891335816,
          1.5164051155822533,
          0.9566692260471072,
          1.4116466671124768,
          0.9579878017807586,
          1.1840928544687026,
          0.8166490322781358,
          1.4116765829459346,
          1.1841743037175319,
          1.184175592080128,
          1.4116780353620955,
          0.7301490027560218,
          0.5012841426075866,
          2.148883643901654,
          1.3011656990869667,
          1.1841122056260664,
          1.4111467193876863,
          1.3010158116418769,
          1.516410130154196,
          1.9934665709456267,
          1.3012785244932084,
          2.1860037497862654,
          0.6891357710937731,
          1.411641089581877,
          1.1841794986500294,
          1.7850764946385973,
          1.4116701692837978,
          1.301213934038038,
          2.1881756173287976,
          1.184145187487368,
          1.1841794880423742,
          1.1841745697047001,
          1.3012741429151018,
          1.4116657222581594,
          0.8166253075527372,
          1.1841388565619106,
          0.8760470881437005,
          1.1841572470197572,
          1.1841575890448228,
          1.411676267807698,
          1.184162673111234,
          0.6626276518814409,
          1.1841725153699014,
          1.1841728307260515,
          1.249433377125441,
          1.1197075289465062,
          1.4116779060812978,
          1.970105256087891,
          1.3013142834924347,
          1.1841313940979235,
          0.816645157511306,
          1.4116665452196313,
          1.4116779040923617,
          1.1841557597333061,
          1.1841788671734832,
          0.7304835181925511,
          0.3986449583335717,
          1.516385996976238,
          1.182172522821672,
          0.7304170313241778,
          1.4116514867731123,
          2.086084081189993,
          1.4114558717106598,
          0.7304893845639286,
          1.3010912366905756,
          1.4116347113192942,
          1.3005086444215126,
          1.4114337297755943,
          1.1841687103509622,
          1.184177181111173,
          1.1841784951621153,
          0.36275932628750773,
          1.4116434407481746,
          0.7298970798509156,
          1.3012914226560546,
          1.1841366202596437,
          1.4116779305253135,
          1.9911087977161406,
          0.36293936897494045,
          1.2115553749383876,
          1.9367244998633197,
          1.7428448086114368,
          1.7427268587097227,
          1.3829522532565237,
          1.970062565972313,
          1.4116779028712305,
          1.1660271905966597,
          1.9700612634462116,
          1.1681203829294668,
          1.3828709156631003,
          1.4116526766863775,
          0.7304519265229944,
          2.8008990950432633,
          1.3013062550799532,
          1.184140270549449,
          1.1841710561476717,
          0.9914376205429717,
          1.0400437910119942,
          1.411663327659058,
          0.7321991851508108,
          1.1841771961716734,
          0.34296038859689965,
          1.0869228270095452,
          0.8164654846066713,
          1.7417281594203624,
          1.8608937250413955,
          1.184175171297057,
          1.7030829534661565,
          1.2120839838387671,
          1.1841466463542576,
          0.7688883377743915,
          1.4116779028152915,
          1.2494544868366702,
          0.34489746160066337,
          0.8773424255348876,
          1.411601241019274,
          0.68877474422794,
          1.6858571701154026,
          1.9697369045539597,
          1.1839567600640382,
          1.2891364916297787,
          1.2494204562970845,
          1.1743228860472332,
          1.1841625898424486,
          1.411587239873604,
          0.8166514203725063,
          1.1841794854514545,
          1.2493996976354693,
          1.1829933289548273,
          1.184174459000177,
          0.957978955485019,
          1.1841795119095988,
          2.4071588608325736,
          1.211715037176866,
          0.44938229383821604,
          1.1837081576878754,
          1.5159529540413648,
          1.1389173298069322,
          1.4116735523213049,
          1.6813949409676718,
          0.7304380663247511,
          1.235998509727779,
          1.7428255091137015,
          1.1841777882555882,
          1.1841771129032586,
          0.7299529297333059,
          0.3356198224488528,
          1.224141549878555,
          1.3012703775522987,
          1.1841596558588154,
          1.1841794867164175,
          0.7277572938905797,
          1.184179492020245,
          1.7028641368132669,
          1.3012920554599854,
          0.49896660364163753,
          1.1813614430844932,
          1.3253892803711127,
          0.7304116997926137,
          1.1637084671888165,
          0.7304740704366767,
          2.1881088176064605,
          1.1841361371516326,
          1.6189583939313021,
          -0.02526007290690045,
          1.249449042982819,
          0.36284410074750284,
          1.0614284728167929,
          0.9525914409606526,
          1.2494402719306064,
          1.7031327079492258,
          0.730487515606577,
          2.1340774522634063,
          0.7966719004643447,
          1.2493219186323958,
          1.1841686533490392,
          1.1841794867164175,
          0.9579491277434039,
          1.4116161465233383,
          0.7302731070482635,
          1.3012955656233238,
          0.7304893942168947,
          0.7304893840070263,
          0.6993708960900167,
          0.9579787610791698,
          1.703144591468699,
          1.182052421844102,
          0.644148602117447,
          0.7325657340425245,
          1.227692057840892,
          1.4269346092246136,
          0.9234478995241713,
          1.6952245548894715,
          1.7030737181665891,
          1.1841498274844748,
          1.7031079309701354,
          1.2494506031199861,
          1.1223140223442012,
          0.957986364404813,
          1.184138250118798,
          1.680996524230359,
          2.1863766156120046,
          1.411646960297437,
          1.4116301853865325,
          0.687345965834703,
          0.9579878007862908,
          1.1534353133864397,
          1.4111910624006356,
          1.119768194264781,
          1.1841723890678229,
          1.1841381895075176,
          0.3629513098220094,
          1.1841601558048762,
          1.4108021582192212,
          1.1822113181361888,
          0.7806456349972459,
          1.410685986955864,
          1.1840590670396527,
          0.8166502273427844,
          1.1833680373008613,
          1.4112737721865554,
          1.1839715209112351,
          1.3013066131379767,
          0.8199908838855725,
          0.8165003553462405,
          0.6891120690598532,
          0.7104192664458971,
          1.1836737202923853,
          0.7325634829132933,
          1.1841794893683315,
          1.9701049675851274,
          0.6873047202139246,
          0.6871003342905923,
          0.3609531621309025,
          1.3012956512482765,
          -3.4511311794496606,
          1.6198826180277075,
          -0.013165861398758593,
          1.1841495224566279,
          0.7304891255429364
         ],
         "z": [
          -0.4281584388064109,
          -0.42859060852450703,
          -0.3172636924847579,
          -0.5789289662608265,
          -0.47271047305402947,
          0.1514938409040835,
          -0.3172642204906473,
          -0.47270677402888367,
          -0.03365977011163128,
          -0.6150540295091547,
          -0.28332640533850173,
          -0.5669352406473526,
          -0.14454960357382532,
          -0.4281658663880802,
          -0.4284186859997559,
          -0.4282088409706747,
          -0.4281584562312936,
          -0.4281584390770408,
          -0.4281588643807949,
          -0.23627850672243922,
          -0.14454960408110062,
          -0.2530505543084489,
          -0.31726369248474695,
          -0.3203111786899416,
          -0.4727067740435685,
          -0.06840756957352503,
          -0.18909793931288832,
          -0.5135209350105844,
          -0.00943775314426773,
          -0.47270677406347217,
          -0.6150435660639235,
          -0.4281950001039224,
          -0.18978540131406352,
          -0.4727140033461018,
          -0.4727067740409776,
          -0.5669352407420148,
          -0.4727067740270635,
          -0.3219070188027999,
          -0.15327084404896527,
          -0.3179246774922683,
          -0.14455623032961215,
          -0.5669623075538793,
          -0.5669414481230298,
          -0.31737339308158896,
          -0.42824964207314153,
          -0.4281887304933545,
          -0.44016506079599077,
          -0.6150435660699911,
          -0.42815843879527643,
          -0.18911870677527182,
          -0.4727067745030589,
          0.0472974568232211,
          -0.09882003341676078,
          -0.47270736051732776,
          -0.4286085407071093,
          -0.4281790139661156,
          -0.5669352406109438,
          -0.12477572984176111,
          -0.4281584388013444,
          -0.4727096208695494,
          0.047289372812423854,
          -0.5669487946332668,
          -0.42815843909261403,
          -0.4282190564374402,
          -0.3231597323133505,
          -0.05224304692761152,
          -0.3172797157629577,
          -0.14454960357744728,
          -0.3203316115781741,
          -0.14456073728243637,
          -0.5669360690140228,
          -0.14462113539478788,
          -0.0336548571698403,
          -0.42815903996509386,
          -0.5669381472844425,
          -0.5669352406837613,
          -0.47270677408234385,
          -0.18909904047953244,
          -0.6150435660639235,
          -0.4281584387892083,
          -0.4281631917952664,
          -0.4281584387892083,
          -0.4727073939807474,
          0.12867805414114167,
          -0.4281584387892083,
          -0.7145692329705151,
          0.008508561441790453,
          -0.2798499716979209,
          -0.47270677402099526,
          -0.14459056055292183,
          -0.18909793871960176,
          -0.5669446783519638,
          -0.3172813343255889,
          -0.28332640531940023,
          -0.6150491078620292,
          -0.3550313901397923,
          -0.3172651955945518,
          -0.4772106390530548,
          -0.3172657932116358,
          -0.42212167319152466,
          -0.5176450260620915,
          0.13332470834278695,
          -0.428162124611809,
          -0.4281584388146943,
          -0.14456618278396305,
          -0.3172636937590515,
          -0.47271103880167004,
          -0.15969231809121529,
          -0.3172654854256677,
          -0.23754727052718833,
          -0.06841343478247387,
          -0.47270677402160216,
          -0.47270677414842555,
          -0.4727618834326603,
          -0.06840524345776915,
          -0.3172641834811278,
          -0.31727052017368595,
          -0.513555113893718,
          -0.6150435662823751,
          -0.47271676321597644,
          -0.513520935103888,
          -0.42815843924229435,
          -0.428158440913049,
          -0.07883999696458009,
          -0.42849146485996886,
          -0.4281602928808416,
          -0.428199395867841,
          -0.28332845433323933,
          -0.18936702671269307,
          -0.47271314873766046,
          -0.18909793931288832,
          -0.42817611840118264,
          -0.31726393647888795,
          -0.47270704338384384,
          -0.42815949640045425,
          -0.42815923329929984,
          -0.4727068347021599,
          -0.14461906508366015,
          -0.09544723448142502,
          -0.6762625921972384,
          -0.06843556545100565,
          -0.42817216860964563,
          -0.4728151860813552,
          -0.06846615277030958,
          -0.2833274292737776,
          -0.5650308471891076,
          -0.06841254309679001,
          -0.6686873610951597,
          0.06273076731616128,
          -0.47271428677207633,
          -0.4281584448573247,
          -0.604694173228399,
          -0.4727083522310733,
          -0.06842572190606354,
          -0.6682441423898113,
          -0.4281654383202818,
          -0.42815844000283165,
          -0.4281594423045529,
          -0.06841343478247387,
          -0.47270926023079884,
          -0.31726877798854947,
          -0.4281667302272938,
          -0.37861694334613316,
          -0.4281629772320533,
          -0.4281629128980205,
          -0.47270710771183433,
          -0.42816187094421154,
          -0.15839847149978492,
          -0.4281598612793976,
          -0.42815979683951627,
          -0.13851714555373754,
          -0.4251372411970658,
          -0.4727067755380245,
          -0.5669352433415961,
          -0.06840524397355927,
          -0.4281682571940965,
          -0.31726472720479626,
          -0.47270909184420695,
          -0.4727067746278068,
          -0.4281632806732676,
          -0.42815856514154743,
          -0.14455080080760027,
          -0.04280442367182116,
          -0.2833323542508678,
          -0.4285680095755351,
          -0.1445643686407754,
          -0.4727121656254271,
          -0.5883062336949858,
          -0.4727520849921134,
          -0.1445496041539184,
          -0.06845076135371855,
          -0.47271558900199134,
          -0.06856965383697841,
          -0.472756606931472,
          -0.42816063784386654,
          -0.4281589092757519,
          -0.4281586496396838,
          -0.03369649226828065,
          -0.47271380705595006,
          -0.14467049268463655,
          -0.06840990858348282,
          -0.42816718722251934,
          -0.47270678672459704,
          -0.6316966122634107,
          -0.033659094558123596,
          -0.078865148815819,
          -0.6542043467054015,
          -0.5135226435183726,
          -0.5135467145881828,
          -0.4606359891048862,
          -0.5669439514530942,
          -0.47270677406896755,
          -0.43186322678803196,
          -0.5669442171629415,
          -0.01386444799875514,
          -0.46065258771462514,
          -0.47271192200515527,
          -0.14455724740802994,
          1.8866359896175882,
          -0.06840688199941637,
          -0.42816644180786,
          -0.4281601589865108,
          0.1526064734247547,
          0.07146548743021906,
          -0.4727097486084803,
          -0.3174468786799903,
          -0.42815890608945467,
          0.009134478458885537,
          -0.4480058806723612,
          -0.31730139385152156,
          -0.513750529205776,
          -0.3817678091997147,
          -0.4281593193529985,
          -0.4221342526501683,
          0.2013430013005204,
          -0.4281651404000741,
          -0.39218695882513593,
          -0.4727067740433674,
          -0.13851283820919646,
          -0.037340994242673196,
          -0.09928822440023853,
          -0.47272241969153345,
          0.06265708906456625,
          -0.5251524070026429,
          -0.5670104109464343,
          -0.42820389231794553,
          -0.22991752543714936,
          -0.13851978235852427,
          -0.43017031941886197,
          -0.4281618879895647,
          -0.4727252760886725,
          -0.3172642386152283,
          -0.4281584388171217,
          -0.13852401946800805,
          -0.4284005063157535,
          -0.42815946456267673,
          -0.18909974388843054,
          -0.4281584509254412,
          -0.9878433932821781,
          -0.07883256579240651,
          -0.06018692660097902,
          -0.428254624941679,
          -0.28342073246483984,
          -0.4365351763867432,
          -0.4727076620381936,
          -0.4469787764231734,
          -0.14456007680196,
          -0.13330554443699613,
          -0.5135265823289994,
          -0.42815878515082534,
          -0.4281589229879139,
          -0.14465908220582469,
          -0.24879240756434337,
          -0.134148281841169,
          -0.06841420377887128,
          -0.4281624856764215,
          -0.4281584393960198,
          0.006101606670227537,
          -0.42815844182326646,
          -0.4221789066910959,
          -0.06840977988551879,
          -0.08110700472549345,
          -0.4287335632526811,
          -0.25412613360246333,
          -0.1445654565755723,
          -0.43233606080974113,
          -0.14455272872009248,
          -0.6682577137071578,
          -0.42816728562639655,
          -0.331447134633487,
          -0.2080817208396502,
          -0.13851395418465348,
          -0.033678535124565145,
          0.02354301805990645,
          -0.3647291590346356,
          -0.13851573857950303,
          -0.42212409751442204,
          -0.14455013267563147,
          -0.5296581133934444,
          -0.2744699880456477,
          -0.13853989169867587,
          -0.42816065806417125,
          -0.4281584393960198,
          -0.18910583115123153,
          -0.47271937709194034,
          -0.14459374133019665,
          -0.06840906470507627,
          -0.14454960857150717,
          -0.14454960389905758,
          -0.22028407714889442,
          -0.1890997842540909,
          -0.4221216745860355,
          -0.4285926678095735,
          0.5279714121370789,
          -0.31737207553707864,
          -0.16337254920886074,
          -0.2523852054148438,
          -0.196146516268289,
          -0.22537348502581106,
          -0.42213613602208827,
          -0.4281644912794921,
          -0.4221291538887044,
          -0.1385136302207651,
          -0.4407840159141135,
          -0.18909823193447636,
          -0.4281668544319649,
          -0.4470600854177794,
          -0.6686112481627648,
          -0.47271309215361795,
          -0.4727165119975276,
          0.06236551304439321,
          -0.1890979388577793,
          -0.4344327268439152,
          -0.4728061238160463,
          -0.42512486049877374,
          -0.42815988869467464,
          -0.42816686653997094,
          -0.03365665621126948,
          -0.42816238338891954,
          -0.4728854921043078,
          -0.42856017594630236,
          -0.32461117207065115,
          -0.47290920362822164,
          -0.42818301276332277,
          -0.3172636926364498,
          -0.4283240349798294,
          -0.4727892470071837,
          -0.4282008796246199,
          -0.06840680846879615,
          -0.269959628135603,
          -0.3172942778033969,
          0.06272593012201422,
          -0.14864541160252584,
          -0.42826165319752924,
          -0.3173725332431893,
          -0.42815844060964314,
          -0.5669352982692728,
          0.06235710480070643,
          0.062315395647106704,
          -0.03406442795615467,
          -0.06840904546475754,
          -0.7981588881478432,
          -0.19694641015710795,
          0.0047506149166953735,
          -0.4281645555359482,
          -0.1445496560385675
         ]
        },
        {
         "customdata": [
          [
           "SHA-256"
          ],
          [
           "Ethash"
          ],
          [
           "Scrypt"
          ],
          [
           "CryptoNight-V7"
          ],
          [
           "Ethash"
          ],
          [
           "Equihash"
          ],
          [
           "Multiple"
          ],
          [
           "Scrypt"
          ],
          [
           "X11"
          ],
          [
           "SHA-256"
          ],
          [
           "Scrypt"
          ],
          [
           "SHA-256"
          ],
          [
           "Multiple"
          ],
          [
           "Scrypt"
          ],
          [
           "SHA-256"
          ],
          [
           "Scrypt"
          ],
          [
           "Scrypt"
          ],
          [
           "Quark"
          ],
          [
           "Groestl"
          ],
          [
           "Scrypt"
          ],
          [
           "X11"
          ],
          [
           "Scrypt"
          ],
          [
           "Scrypt"
          ],
          [
           "Scrypt"
          ],
          [
           "X11"
          ],
          [
           "Multiple"
          ],
          [
           "Scrypt"
          ],
          [
           "SHA-256"
          ],
          [
           "Scrypt"
          ],
          [
           "Scrypt"
          ],
          [
           "Scrypt"
          ],
          [
           "Scrypt"
          ],
          [
           "Scrypt"
          ],
          [
           "Scrypt"
          ],
          [
           "SHA-256"
          ],
          [
           "Scrypt"
          ],
          [
           "NeoScrypt"
          ],
          [
           "Scrypt"
          ],
          [
           "Scrypt"
          ],
          [
           "Scrypt"
          ],
          [
           "Multiple"
          ],
          [
           "Scrypt"
          ],
          [
           "SHA-256"
          ],
          [
           "Scrypt"
          ],
          [
           "Scrypt"
          ],
          [
           "Scrypt"
          ],
          [
           "Scrypt"
          ],
          [
           "Scrypt"
          ],
          [
           "HybridScryptHash256"
          ],
          [
           "Scrypt"
          ],
          [
           "SHA-256"
          ],
          [
           "Scrypt"
          ],
          [
           "SHA-256"
          ],
          [
           "Scrypt"
          ],
          [
           "Scrypt"
          ],
          [
           "Scrypt"
          ],
          [
           "Scrypt"
          ],
          [
           "Scrypt"
          ],
          [
           "Scrypt-n"
          ],
          [
           "Scrypt"
          ],
          [
           "SHA-256"
          ],
          [
           "SHA-256"
          ],
          [
           "SHA-256"
          ],
          [
           "SHA-256"
          ],
          [
           "SHA-256"
          ],
          [
           "SHA-256"
          ],
          [
           "X11"
          ],
          [
           "Scrypt"
          ],
          [
           "X11"
          ],
          [
           "Lyra2REv2"
          ],
          [
           "Scrypt"
          ],
          [
           "SHA-256"
          ],
          [
           "CryptoNight"
          ],
          [
           "CryptoNight"
          ],
          [
           "Scrypt"
          ],
          [
           "SHA-256"
          ],
          [
           "Scrypt"
          ],
          [
           "Scrypt"
          ],
          [
           "Scrypt"
          ],
          [
           "Scrypt"
          ],
          [
           "Scrypt"
          ],
          [
           "Momentum"
          ],
          [
           "Stanford Folding"
          ],
          [
           "Multiple"
          ],
          [
           "QuBit"
          ],
          [
           "Scrypt"
          ],
          [
           "Scrypt"
          ],
          [
           "SHA-256"
          ],
          [
           "M7 POW"
          ],
          [
           "Scrypt"
          ],
          [
           "X11"
          ],
          [
           "Scrypt"
          ],
          [
           "SHA-256"
          ],
          [
           "Scrypt"
          ],
          [
           "X11"
          ],
          [
           "X11"
          ],
          [
           "Lyra2RE"
          ],
          [
           "SHA-256"
          ],
          [
           "X11"
          ],
          [
           "Scrypt"
          ],
          [
           "Scrypt"
          ],
          [
           "Ethash"
          ],
          [
           "Blake2b"
          ],
          [
           "X11"
          ],
          [
           "SHA-256"
          ],
          [
           "Scrypt"
          ],
          [
           "Scrypt"
          ],
          [
           "1GB AES Pattern Search"
          ],
          [
           "Scrypt"
          ],
          [
           "CryptoNight"
          ],
          [
           "SHA-256"
          ],
          [
           "SHA-256"
          ],
          [
           "X11"
          ],
          [
           "Scrypt-n"
          ],
          [
           "X11"
          ],
          [
           "Scrypt"
          ],
          [
           "Dagger"
          ],
          [
           "Scrypt"
          ],
          [
           "CryptoNight-Lite"
          ],
          [
           "X11GOST"
          ],
          [
           "SHA-256"
          ],
          [
           "Scrypt"
          ],
          [
           "X11"
          ],
          [
           "SHA-256"
          ],
          [
           "Scrypt"
          ],
          [
           "X11"
          ],
          [
           "Equihash"
          ],
          [
           "CryptoNight"
          ],
          [
           "SHA-256"
          ],
          [
           "Multiple"
          ],
          [
           "Scrypt"
          ],
          [
           "SHA-256"
          ],
          [
           "Scrypt"
          ],
          [
           "Scrypt"
          ],
          [
           "Scrypt-n"
          ],
          [
           "Lyra2Z"
          ],
          [
           "SHA-256"
          ],
          [
           "Quark"
          ],
          [
           "Ethash"
          ],
          [
           "SHA-256"
          ],
          [
           "Equihash"
          ],
          [
           "Scrypt"
          ],
          [
           "Equihash"
          ],
          [
           "X11"
          ],
          [
           "X11"
          ],
          [
           "CryptoNight"
          ],
          [
           "Scrypt"
          ],
          [
           "CryptoNight"
          ],
          [
           "Lyra2RE"
          ],
          [
           "X11"
          ],
          [
           "X11"
          ],
          [
           "Scrypt"
          ],
          [
           "CryptoNight-V7"
          ],
          [
           "Keccak"
          ],
          [
           "Scrypt"
          ],
          [
           "X11"
          ],
          [
           "Equihash"
          ],
          [
           "Scrypt"
          ],
          [
           "Lyra2RE"
          ],
          [
           "Ethash"
          ],
          [
           "X11"
          ],
          [
           "Dagger-Hashimoto"
          ],
          [
           "Scrypt"
          ],
          [
           "NIST5"
          ],
          [
           "Scrypt"
          ],
          [
           "Scrypt"
          ],
          [
           "Scrypt"
          ],
          [
           "SHA-256"
          ],
          [
           "Scrypt"
          ],
          [
           "CryptoNight-V7"
          ],
          [
           "Argon2d"
          ],
          [
           "Blake2b"
          ],
          [
           "Cloverhash"
          ],
          [
           "CryptoNight"
          ],
          [
           "X11"
          ],
          [
           "Scrypt"
          ],
          [
           "Scrypt"
          ],
          [
           "X11"
          ],
          [
           "X11"
          ],
          [
           "CryptoNight"
          ],
          [
           "Time Travel"
          ],
          [
           "Scrypt"
          ],
          [
           "Keccak"
          ],
          [
           "X11"
          ],
          [
           "SHA-256"
          ],
          [
           "Scrypt"
          ],
          [
           "Scrypt"
          ],
          [
           "Scrypt"
          ],
          [
           "Scrypt"
          ],
          [
           "Scrypt"
          ],
          [
           "Scrypt"
          ],
          [
           "Scrypt"
          ],
          [
           "Scrypt"
          ],
          [
           "CryptoNight"
          ],
          [
           "Equihash"
          ],
          [
           "X11"
          ],
          [
           "NeoScrypt"
          ],
          [
           "Equihash"
          ],
          [
           "Dagger"
          ],
          [
           "Scrypt"
          ],
          [
           "X11"
          ],
          [
           "NeoScrypt"
          ],
          [
           "Scrypt"
          ],
          [
           "Ethash"
          ],
          [
           "Scrypt"
          ],
          [
           "NeoScrypt"
          ],
          [
           "Multiple"
          ],
          [
           "CryptoNight"
          ],
          [
           "CryptoNight"
          ],
          [
           "Ethash"
          ],
          [
           "X11"
          ],
          [
           "SHA-256"
          ],
          [
           "CryptoNight-V7"
          ],
          [
           "Scrypt"
          ],
          [
           "BLAKE256"
          ],
          [
           "X11"
          ],
          [
           "NeoScrypt"
          ],
          [
           "NeoScrypt"
          ],
          [
           "Scrypt"
          ],
          [
           "X11"
          ],
          [
           "SHA-256"
          ],
          [
           "C11"
          ],
          [
           "Ethash"
          ],
          [
           "CryptoNight"
          ],
          [
           "SkunkHash"
          ],
          [
           "CryptoNight"
          ],
          [
           "Equihash"
          ],
          [
           "Skein"
          ],
          [
           "Scrypt"
          ],
          [
           "Dagger"
          ],
          [
           "Lyra2REv2"
          ],
          [
           "Scrypt"
          ],
          [
           "Scrypt"
          ],
          [
           "Scrypt"
          ],
          [
           "NeoScrypt"
          ],
          [
           "Equihash"
          ],
          [
           "X11"
          ],
          [
           "Ethash"
          ],
          [
           "X11"
          ],
          [
           "CryptoNight"
          ],
          [
           "NeoScrypt"
          ],
          [
           "Scrypt"
          ],
          [
           "IMesh"
          ],
          [
           "Equihash"
          ],
          [
           "Equihash"
          ],
          [
           "Equihash"
          ],
          [
           "Lyra2Z"
          ],
          [
           "X11"
          ],
          [
           "CryptoNight"
          ],
          [
           "NIST5"
          ],
          [
           "Lyra2RE"
          ],
          [
           "Tribus"
          ],
          [
           "Lyra2Z"
          ],
          [
           "CryptoNight"
          ],
          [
           "CryptoNight Heavy"
          ],
          [
           "CryptoNight"
          ],
          [
           "Jump Consistent Hash"
          ],
          [
           "CryptoNight"
          ],
          [
           "X16R"
          ],
          [
           "HMQ1725"
          ],
          [
           "X11"
          ],
          [
           "Scrypt"
          ],
          [
           "CryptoNight-V7"
          ],
          [
           "Cryptonight-GPU"
          ],
          [
           "XEVAN"
          ],
          [
           "CryptoNight Heavy"
          ],
          [
           "Lyra2REv2"
          ],
          [
           "SHA-256"
          ],
          [
           "X11"
          ],
          [
           "X16R"
          ],
          [
           "Equihash"
          ],
          [
           "Quark"
          ],
          [
           "CryptoNight Heavy X"
          ],
          [
           "Lyra2Z"
          ],
          [
           "Ethash"
          ],
          [
           "SHA-256"
          ],
          [
           "Ethash"
          ],
          [
           "CryptoNight"
          ],
          [
           "SkunkHash"
          ],
          [
           "Argon2"
          ],
          [
           "Blake"
          ],
          [
           "Blake"
          ],
          [
           "SHA-256"
          ],
          [
           "Equihash"
          ],
          [
           "Exosis"
          ],
          [
           "Scrypt"
          ],
          [
           "Equihash"
          ],
          [
           "Equihash"
          ],
          [
           "QuBit"
          ],
          [
           "Equihash1927"
          ],
          [
           "SHA-256"
          ],
          [
           "SHA-256"
          ],
          [
           "X13"
          ],
          [
           "SHA-256"
          ],
          [
           "X11"
          ],
          [
           "Scrypt"
          ],
          [
           "NeoScrypt"
          ],
          [
           "Blake"
          ],
          [
           "CryptoNight"
          ],
          [
           "Scrypt"
          ],
          [
           "SHA-256"
          ],
          [
           "CryptoNight"
          ],
          [
           "Scrypt"
          ],
          [
           "Groestl"
          ],
          [
           "Scrypt"
          ],
          [
           "Scrypt"
          ],
          [
           "Scrypt"
          ],
          [
           "Multiple"
          ],
          [
           "Equihash+Scrypt"
          ],
          [
           "Ethash"
          ],
          [
           "Ethash"
          ],
          [
           "CryptoNight"
          ],
          [
           "Equihash"
          ]
         ],
         "hovertemplate": "<b>%{hovertext}</b><br><br>class=%{marker.color}<br>PC 1=%{x}<br>PC 2=%{y}<br>PC 3=%{z}<br>Algorithm=%{customdata[0]}<extra></extra>",
         "hovertext": [
          "Bitcoin",
          "Ethereum",
          "Litecoin",
          "Monero",
          "Ethereum Classic",
          "ZCash",
          "DigiByte",
          "ProsperCoin",
          "Spreadcoin",
          "ACoin",
          "Argentum",
          "BetaCoin",
          "MyriadCoin",
          "MoonCoin",
          "ZetaCoin",
          "SexCoin",
          "Quatloo",
          "QuarkCoin",
          "Riecoin",
          "Digitalcoin ",
          "LimeCoinX",
          "BitMark",
          "Catcoin",
          "CannaCoin",
          "CryptCoin",
          "Verge",
          "DarkShibe",
          "DevCoin",
          "EarthCoin",
          "E-Gulden",
          "Elacoin",
          "Einsteinium",
          "Emerald",
          "Flappy Coin",
          "FireRoosterCoin",
          "Franko",
          "FeatherCoin",
          "GrandCoin",
          "GlobalCoin",
          "GoldCoin",
          "HunterCoin",
          "Infinite Coin",
          "IXcoin",
          "KrugerCoin",
          "LuckyCoin",
          "Litebar ",
          "LitecoinDark",
          "MegaCoin",
          "MediterraneanCoin",
          "MinCoin",
          "NoirBits",
          "NobleCoin",
          "Namecoin",
          "NyanCoin",
          "RipOffCoin",
          "RonPaulCoin",
          "StableCoin",
          "SmartCoin",
          "SpainCoin",
          "SecureCoin",
          "SysCoin",
          "TigerCoin",
          "TerraCoin",
          "Umbrella",
          "UnbreakableCoin",
          "Unobtanium",
          "UroCoin",
          "ViaCoin",
          "VootCoin",
          "Vertcoin",
          "WorldCoin",
          "JouleCoin",
          "ByteCoin",
          "DigitalNote ",
          "MonaCoin",
          "Sling Coin",
          "Gulden",
          "PesetaCoin",
          "Wild Beast Coin",
          "Flo",
          "ArtByte",
          "BitCredit",
          "Folding Coin",
          "Unitus",
          "CypherPunkCoin",
          "OmniCron",
          "GreenCoin",
          "Unattanium",
          "Cryptonite",
          "Gridmaster",
          "ConSpiracy Coin ",
          "MasterCoin",
          "SoonCoin",
          "1Credit",
          "Quicksilver coin",
          "MarsCoin ",
          "Crypto",
          "Anarchists Prime",
          "BowsCoin",
          "Song Coin",
          "BitZeny",
          "Expanse",
          "Siacoin",
          "MindCoin",
          "I0coin",
          "DogeCoinDark",
          "Revolution VR",
          "HOdlcoin",
          "Gamecredits",
          "Dashcoin",
          "CarpeDiemCoin",
          "Phalanx",
          "SunShotCoin",
          "HempCoin",
          "Adzcoin",
          "VirtaCoin",
          "SoilCoin",
          "YoCoin",
          "AEON",
          "SibCoin",
          "Anti Bitcoin",
          "Francs",
          "BolivarCoin",
          "Clinton",
          "Omni",
          "PizzaCoin",
          "Komodo",
          "Karbo",
          "ZayedCoin",
          "Circuits of Value",
          "DopeCoin",
          "DollarCoin",
          "Shilling",
          "GBR Coin",
          "FujiCoin",
          "ZCoin",
          "LeaCoin",
          "Zurcoin",
          "Elementrem",
          "CashOut",
          "ZClassic",
          "KiloCoin",
          "Hush",
          "ArtexCoin",
          "Kurrent",
          "Cannabis Industry Coin",
          "OsmiumCoin",
          "Bikercoins",
          "HexxCoin",
          "MarxCoin",
          "PacCoin",
          "Solarflarecoin",
          "Citadel",
          "CreativeChain",
          "BeaverCoin",
          "VaultCoin",
          "Zero",
          "Canada eCoin",
          "Zoin",
          "Musicoin",
          "BnrtxCoin",
          "DubaiCoin",
          "EB3coin",
          "Coinonat",
          "Bitcoin Scrypt",
          "BenjiRolls",
          "ParallelCoin",
          "ILCoin",
          "EquiTrader",
          "Quantum Resistant Ledger",
          "Dynamic",
          "Nano",
          "ChanCoin",
          "Dinastycoin",
          "DigitalPrice",
          "Unify",
          "SocialCoin",
          "ArcticCoin",
          "DAS",
          "LeviarCoin",
          "Bitcore",
          "gCn Coin",
          "SmartCash",
          "Onix",
          "Bitcoin Cash",
          "CampusCoin",
          "Sojourn Coin",
          "NewYorkCoin",
          "LiteBitcoin",
          "FrazCoin",
          "Kronecoin",
          "AdCoin",
          "Linx",
          "Sumokoin",
          "BitcoinZ",
          "Elements",
          "VIVO Coin",
          "Bitcoin Gold",
          "Pirl",
          "eBoost",
          "Pura",
          "Innova",
          "Bitdeal",
          "Ellaism",
          "Sakuracoin",
          "GoByte",
          "SHIELD",
          "UltraNote",
          "BitCoal",
          "DaxxCoin",
          "AC3",
          "CHIPS",
          "Lethean",
          "PopularCoin",
          "Photon",
          "Sucre",
          "SparksPay",
          "GunCoin",
          "IrishCoin",
          "Pioneer Coin",
          "UnitedBitcoin",
          "Interzone",
          "1717 Masonic Commemorative Token",
          "TurtleCoin",
          "MUNcoin",
          "Niobio Cash",
          "Bitcoin Private",
          "Skeincoin",
          "ShareChain",
          "Travelflex",
          "KREDS",
          "BitFlip",
          "LottoCoin",
          "LeafCoin",
          "Cerberus",
          "Bitcoin Hush",
          "Crypto Improvement Fund",
          "Callisto Network",
          "Curium",
          "BitTube",
          "Dinero",
          "Poseidon",
          "Aidos Kuneen",
          "Snowgem",
          "Bitrolium",
          "Bitcoin Interest",
          "Alpenschillling",
          "FuturoCoin",
          "Monero Classic",
          "Jumpcoin",
          "Infinex",
          "KEYCO",
          "GINcoin",
          "PlatinCoin",
          "Loki",
          "Newton Coin",
          "MassGrid",
          "PluraCoin",
          "Motion",
          "PlusOneCoin",
          "Axe",
          "HexCoin",
          "Webchain",
          "Ryo",
          "Urals Coin",
          "Qwertycoin",
          "NIX",
          "Project Pai",
          "Azart",
          "Xchange",
          "CrypticCoin",
          "ZestCoin",
          "X-CASH",
          "Actinium",
          "ETHER-1",
          "Bitcoin SV",
          "Bitcoiin2Gen",
          "FREDEnergy",
          "C25 Coin",
          "Aquachain",
          "Universal Molecule",
          "Lithium",
          "Smart Bitcoin",
          "PirateCash",
          "Exosis",
          "Block-Logic",
          "Beam",
          "Bithereum",
          "SLICE",
          "Vidulum",
          "BlockStamp",
          "BLAST",
          "Bitcoin Rhodium",
          "GlobalToken",
          "Boolberry",
          "SolarCoin",
          "UFO Coin",
          "BlakeCoin",
          "FantomCoin ",
          "Crypto Escudo",
          "Crown Coin",
          "Quazar Coin",
          "SmileyCoin",
          "Groestlcoin",
          "Bata",
          "Pakcoin",
          "Dotcoin",
          "JoinCoin",
          "Vollar",
          "Reality Clash",
          "iOlite",
          "Beldex",
          "Horizen"
         ],
         "legendgroup": "0",
         "marker": {
          "color": [
           0,
           0,
           0,
           0,
           0,
           0,
           0,
           0,
           0,
           0,
           0,
           0,
           0,
           0,
           0,
           0,
           0,
           0,
           0,
           0,
           0,
           0,
           0,
           0,
           0,
           0,
           0,
           0,
           0,
           0,
           0,
           0,
           0,
           0,
           0,
           0,
           0,
           0,
           0,
           0,
           0,
           0,
           0,
           0,
           0,
           0,
           0,
           0,
           0,
           0,
           0,
           0,
           0,
           0,
           0,
           0,
           0,
           0,
           0,
           0,
           0,
           0,
           0,
           0,
           0,
           0,
           0,
           0,
           0,
           0,
           0,
           0,
           0,
           0,
           0,
           0,
           0,
           0,
           0,
           0,
           0,
           0,
           0,
           0,
           0,
           0,
           0,
           0,
           0,
           0,
           0,
           0,
           0,
           0,
           0,
           0,
           0,
           0,
           0,
           0,
           0,
           0,
           0,
           0,
           0,
           0,
           0,
           0,
           0,
           0,
           0,
           0,
           0,
           0,
           0,
           0,
           0,
           0,
           0,
           0,
           0,
           0,
           0,
           0,
           0,
           0,
           0,
           0,
           0,
           0,
           0,
           0,
           0,
           0,
           0,
           0,
           0,
           0,
           0,
           0,
           0,
           0,
           0,
           0,
           0,
           0,
           0,
           0,
           0,
           0,
           0,
           0,
           0,
           0,
           0,
           0,
           0,
           0,
           0,
           0,
           0,
           0,
           0,
           0,
           0,
           0,
           0,
           0,
           0,
           0,
           0,
           0,
           0,
           0,
           0,
           0,
           0,
           0,
           0,
           0,
           0,
           0,
           0,
           0,
           0,
           0,
           0,
           0,
           0,
           0,
           0,
           0,
           0,
           0,
           0,
           0,
           0,
           0,
           0,
           0,
           0,
           0,
           0,
           0,
           0,
           0,
           0,
           0,
           0,
           0,
           0,
           0,
           0,
           0,
           0,
           0,
           0,
           0,
           0,
           0,
           0,
           0,
           0,
           0,
           0,
           0,
           0,
           0,
           0,
           0,
           0,
           0,
           0,
           0,
           0,
           0,
           0,
           0,
           0,
           0,
           0,
           0,
           0,
           0,
           0,
           0,
           0,
           0,
           0,
           0,
           0,
           0,
           0,
           0,
           0,
           0,
           0,
           0,
           0,
           0,
           0,
           0,
           0,
           0,
           0,
           0,
           0,
           0,
           0,
           0,
           0,
           0,
           0,
           0,
           0,
           0,
           0,
           0,
           0,
           0,
           0,
           0,
           0,
           0,
           0,
           0,
           0,
           0,
           0,
           0,
           0,
           0,
           0,
           0,
           0,
           0,
           0,
           0,
           0,
           0,
           0,
           0,
           0,
           0,
           0,
           0,
           0,
           0,
           0,
           0,
           0,
           0,
           0
          ],
          "coloraxis": "coloraxis",
          "symbol": "diamond"
         },
         "mode": "markers",
         "name": "0",
         "scene": "scene",
         "showlegend": true,
         "type": "scatter3d",
         "x": [
          -0.2631244180290394,
          -0.33849740136380146,
          -0.26620313786008465,
          -0.33013805207358005,
          -0.3384207768028425,
          -0.3183927100166619,
          -0.07883667797454602,
          -0.26697635552377136,
          -0.3067797083128608,
          -0.2633664536936402,
          -0.2668894427850161,
          -0.26336645374967277,
          -0.2100393806121732,
          -0.267054940317807,
          -0.2610685158913342,
          -0.26531339586017816,
          -0.2669548959544531,
          -0.060495421012337215,
          -0.28162387595539357,
          -0.2666027183356696,
          -0.3069302414398027,
          -0.26705423378223464,
          -0.2669567567686577,
          -0.26699072643929045,
          -0.30686277686966673,
          -0.017767211060163986,
          -0.2670542337351673,
          -0.009899688593660147,
          -0.09776437760553629,
          -0.26677192033350877,
          -0.26705423386963745,
          -0.2640992336908141,
          -0.26679100668798644,
          -0.26705441804767605,
          -0.2633664536954879,
          -0.26703880566731425,
          -0.34187283438276805,
          -0.25511760898417624,
          -0.26616758312522604,
          -0.2664917983416891,
          -0.23283258339438664,
          0.9560834629695832,
          -0.2630817253572412,
          -0.26500953180725256,
          -0.266793308151743,
          -0.2670393239263478,
          -0.2670542338825453,
          -0.2665391417188169,
          -0.3598592041542734,
          -0.2669758708847909,
          -0.2633664537828498,
          -0.23510987999056027,
          -0.2631674968444011,
          -0.26253530812335707,
          -0.2670542337535179,
          -0.2670393264846659,
          -0.2667273037936109,
          -0.2667086914805636,
          -0.36796248675672905,
          -0.2670542337701063,
          -0.25576082006631323,
          -0.26277866122890975,
          -0.26305680182160956,
          -0.2633664536955299,
          -0.26333569641926624,
          -0.26336374117084865,
          -0.30691394144745604,
          -0.26674167240258745,
          -0.30693024140109637,
          -0.2671224004029893,
          -0.26543941483424227,
          -0.2628372701053959,
          2.3064231853970942,
          -0.08542590911020782,
          -0.2661335341554866,
          -0.26336645369253464,
          -0.26145086304220055,
          -0.26519760120005403,
          -0.2670517776352947,
          -0.26499842004480256,
          -0.25635414990209665,
          -0.36136916133710173,
          -0.2601312339915458,
          -0.23195348531897134,
          -0.3716318589471788,
          -0.266917332482483,
          -0.20480980896899928,
          -0.26336645369069134,
          -0.4252597139361178,
          -0.26705423388622584,
          -0.3069302414619206,
          -0.2670458701285951,
          -0.2631981952636873,
          -0.26705321233418,
          -0.3069302414619206,
          -0.3064952163434339,
          -0.28206354051028565,
          -0.2631673510934321,
          -0.30671606296384574,
          -0.266614568349317,
          -0.26603335898653874,
          -0.3398095542742905,
          0.2842241974260565,
          -0.3067160108743266,
          -0.2630829657275891,
          -0.2670542641435855,
          -0.26421901345064325,
          -0.3788251923934886,
          -0.26611137315251154,
          -0.17867208088912043,
          0.030145971834016128,
          -0.26336645371833883,
          -0.3069302455482124,
          -0.3679624958803846,
          -0.3063212047800321,
          -0.26705427243781793,
          -0.32264577534337124,
          -0.2670456411283468,
          -0.31175387951458006,
          -0.35260879957158947,
          -0.2633664537681044,
          -0.26696552096029763,
          -0.3067458969857434,
          -0.2633664536951543,
          -0.26704591103677333,
          -0.30691163811976135,
          -0.22731344769995437,
          -0.17856646981196653,
          -0.2632821553076147,
          -0.2193315347296219,
          -0.2654767007411666,
          -0.26324350350197223,
          -0.26690411290264926,
          -0.2670542338926769,
          -0.3679624866830024,
          -0.35197804151098744,
          -0.26336645737701686,
          -0.06399971525811132,
          -0.33959744925960106,
          -0.2633664538750077,
          -0.318416600210431,
          -0.26440402328478707,
          -0.3184923890341447,
          -0.29580537646418037,
          -0.3061017523637443,
          -0.17865887490849244,
          -0.2670421634459612,
          -0.1785457503807786,
          -0.28222375186287313,
          -0.30693024158659216,
          -0.29968060345806685,
          -0.2670542337682635,
          -0.33022218859535873,
          -0.27788351693670654,
          -0.2670121744810827,
          -0.30652000652515954,
          -0.31839893942585634,
          -0.26570624298808426,
          -0.2819986946174738,
          -0.33995125236301,
          -0.30693024178816064,
          -0.18026228707019012,
          -0.26618887704997446,
          -0.23170881248719535,
          -0.2670542337701063,
          -0.26678048515228414,
          -0.2670542337332432,
          -0.24557548236064933,
          -0.2668696285092648,
          -0.3294382270042693,
          -0.373983913152535,
          -0.1608385939912069,
          -0.35280998169746264,
          -0.1542423767244149,
          -0.30645582849890785,
          -0.2668094165800846,
          -0.2669844634768437,
          -0.3065786422273489,
          -0.30689482971880566,
          -0.17848088173294036,
          -0.2745596811943027,
          1.9343605520434346,
          -0.24762754757554922,
          -0.3052766936130175,
          -0.26312349435941423,
          -0.26705423559299474,
          -0.2670477021857466,
          1.6636860790679708,
          -0.2670542355745629,
          -0.26692321900426436,
          -0.26681858992888347,
          -0.2666134687412083,
          -0.26659902538541974,
          -0.1785512918023211,
          -0.24813098242293316,
          -0.27043885303084386,
          -0.3446338408982828,
          -0.3182601390832169,
          -0.32226389927239285,
          -0.26570426382614637,
          -0.3045646438330281,
          -0.34460401317516054,
          -0.2670542342843488,
          -0.33977902768176366,
          -0.26705423392511646,
          -0.344611343575592,
          -0.2263287156827489,
          0.08165261287968867,
          -0.17861132614956352,
          -0.33291868357354754,
          -0.305845889224134,
          -0.2633664537293976,
          -0.3244129456072329,
          -0.2135333605081608,
          0.28053399258877126,
          -0.3068731449469156,
          -0.3445841374470186,
          -0.34064249931702284,
          -0.26644016488972555,
          -0.30681577812611843,
          -0.263094191537445,
          -0.32159909526664904,
          -0.10985801947866317,
          0.5387696906615341,
          -0.29777411860850694,
          -0.17686385242334948,
          -0.3184923890341447,
          -0.3186357931236122,
          -0.13204374417155662,
          -0.3212737552434264,
          -0.2591213800144866,
          -0.26688619837673805,
          -0.07141034582936566,
          -0.26705427243781793,
          -0.3446900858464344,
          -0.3184923890341447,
          -0.30407750217154284,
          -0.3366082351986616,
          -0.306930241441646,
          -0.17759133596354745,
          -0.3446900859726914,
          -0.2669992816291153,
          -0.2621130217051743,
          -0.3184923891504408,
          -0.3175290152046852,
          -0.3184923890365409,
          -0.3517110962724344,
          -0.3065008884424427,
          -0.17845583639452672,
          -0.23156102796035866,
          -0.282180257673578,
          -0.3229367558972206,
          -0.3519858975031988,
          -0.17867094382243603,
          0.10288849800069,
          0.3788469924788454,
          -0.31443867629908284,
          -0.17111033380297905,
          -0.2667195853861939,
          -0.3431840055737863,
          -0.30686283027871597,
          -0.2670351073321243,
          -0.33015993974419033,
          -0.28139843578056956,
          -0.3022301580799153,
          1.4467011665727774,
          -0.26781329961554695,
          -0.23501425088312408,
          -0.30686252177795387,
          -0.26669760732321596,
          -0.2613139474479187,
          -0.06399971507987767,
          -0.3224770874912979,
          -0.3518961365734937,
          -0.33995125154974704,
          -0.2631235358751454,
          -0.3399512517088742,
          -0.1534648930588727,
          -0.29783917122861847,
          -0.29556571975508156,
          -0.30168872607709984,
          -0.30149608699746233,
          -0.2633664537293975,
          -0.08823906320533575,
          -0.33940116557675315,
          -0.2665778531935807,
          -0.31801057045940573,
          -0.3181528269926902,
          -0.3715432854145152,
          -0.2386614178870754,
          -0.26336645388422353,
          -0.26266043206385975,
          -0.20127153011693866,
          -0.2622240882389694,
          -0.3069302414351027,
          -0.2663042276267159,
          -0.29305282652327735,
          -0.3013947060313613,
          -0.17867208088903444,
          -0.25652057127982486,
          -0.26305610607080565,
          -0.17867208088912043,
          0.13236061680064853,
          -0.28130323118494843,
          -0.26698601892647694,
          -0.2661134206940669,
          -0.26705423537181505,
          -0.23278758536615224,
          -0.2907757753598349,
          -0.33962063859248887,
          -0.33995125336772053,
          -0.16543804838639162,
          -0.318393878110699
         ],
         "y": [
          -1.432037287916599,
          -2.085049133850765,
          -1.0645985675327234,
          -2.190623686682412,
          -2.0850605216180598,
          -1.9130465334720874,
          -1.8094957677009236,
          -1.0644836269892775,
          -0.8369960100144775,
          -1.4320013087669377,
          -1.0644965462967995,
          -1.4320013083638474,
          -1.7899922989956703,
          -1.0644669589111015,
          -1.4323429026328554,
          -1.0647308284664057,
          -1.0644868159993297,
          -0.5460278693265893,
          -1.2363879158202722,
          -1.064539169039562,
          -0.8369736327545921,
          -1.0644720500432896,
          -1.0644865404090078,
          -1.0644814908072502,
          -0.8369836616249006,
          -1.8185740035407782,
          -1.0644720503818859,
          -1.4696797085447348,
          -1.0896373717961672,
          -1.0645140169560605,
          -1.0644720494145206,
          -1.0649113170396518,
          -1.0645111795635374,
          -1.0644707244520872,
          -1.4320013087536465,
          -1.0644743436958075,
          -1.5165045944689113,
          -1.0662464506861582,
          -1.0646038530433857,
          -1.0645556573506192,
          -1.7866040394860345,
          -1.2462943355522869,
          -1.432043634323379,
          -1.064775998662033,
          -1.0645108375991692,
          -1.0644742667832623,
          -1.0644720493216608,
          -1.0645486199938756,
          -2.3081244649817596,
          -1.0644836991753055,
          -1.432001308125175,
          -1.0692204893994144,
          -1.4320308841082992,
          -1.0651437992615724,
          -1.064472050249873,
          -1.064474266147793,
          -1.064520646378497,
          -1.0645234157418864,
          -2.0954412587104128,
          -1.064472050130537,
          -1.433131899835276,
          -1.4320886854700388,
          -1.4320473390166373,
          -1.4320013087533479,
          -1.4320058799193713,
          -1.4320017120099473,
          -0.8369760560750305,
          -1.064518513385004,
          -0.8369736330330432,
          -1.4520555811022373,
          -1.0647120951291134,
          -1.4320799730929472,
          -2.6316787492212783,
          -2.2761247407426817,
          -1.0646089140792316,
          -1.432001308774894,
          -1.065304988167837,
          -1.0647480428111626,
          -1.0644724154816663,
          -1.0647776518312002,
          -1.0660626402532423,
          -2.3504605519797384,
          -2.108815134302285,
          -1.7867347208661541,
          -1.128896116507803,
          -1.0644924011883814,
          -1.073724760040059,
          -1.4320013087881533,
          -2.221720497830925,
          -1.0644720492951845,
          -0.8369736325954774,
          -1.0644732936781467,
          -1.4320263206868005,
          -1.064471007569998,
          -0.8369736325954774,
          -0.8370383005172948,
          -2.225935575579145,
          -1.4320309053492553,
          -0.8370054710929997,
          -1.0645374053912395,
          -1.0646238035678692,
          -2.0848540777638265,
          -2.2378765418574695,
          -0.8370054789012069,
          -1.4320434499382269,
          -1.0644718316260995,
          -1.0648935125484336,
          -2.063981418465137,
          -1.0646122086598309,
          -2.262263518703303,
          -1.475632620203678,
          -1.4320013085892602,
          -0.8369736031990128,
          -2.0954411930755468,
          -0.8370641672491169,
          -1.0644717719580385,
          -2.2750513574578366,
          -1.0644733255416956,
          -2.25447937772562,
          -2.225988011577272,
          -1.432001308231252,
          -1.0644852375959366,
          -0.8370010361150874,
          -1.4320013087560495,
          -1.0644732875970497,
          -0.8369763981476663,
          -1.0303389995204235,
          -2.262279218248701,
          -1.4320138398950149,
          -1.7886109999598108,
          -1.064706553305329,
          -1.4320195856019675,
          -1.0644943659768318,
          -1.0644720492487756,
          -2.0954412592407956,
          -2.1804792661432733,
          -1.4320012822690154,
          -0.5455069459749361,
          -2.0848856077546083,
          -1.432001307462197,
          -1.9130429821158155,
          -1.0648658830962505,
          -1.9130317158566545,
          -0.8386273744858251,
          -0.8370967877062642,
          -2.26226548178282,
          -1.0644738446615698,
          -2.2622822980658497,
          -2.2259117603564658,
          -0.8369736316986001,
          -0.8380500171189212,
          -1.0644720501437968,
          -2.190611177108009,
          -1.54927126541524,
          -1.0644783026119407,
          -0.837034602817786,
          -1.913045607501762,
          -1.064672432390142,
          -2.2259452157170685,
          -2.0848330081869832,
          -0.8369736302485337,
          -2.2093123264693393,
          -1.064600636597769,
          -0.5058186718356673,
          -1.064472050130537,
          -1.0645127435788833,
          -1.0644720503957286,
          -1.4346459630196093,
          -1.0644994916505004,
          -2.190727716628717,
          -2.204686699073728,
          -2.171716482361197,
          -2.2427508440658177,
          -2.26589504924697,
          -0.8370441547805448,
          -1.064508443037442,
          -1.0644824210140318,
          -0.83702589863328,
          -0.8369788968512399,
          -2.262291940628189,
          -2.0259355817665012,
          -1.3917170378681831,
          -1.5537688518358639,
          -0.8372194240933281,
          -1.4320374252231414,
          -1.0644720370168235,
          -1.0644728849962828,
          -1.351482979874477,
          -1.0644720371494187,
          -1.0644915259215282,
          -1.0645070785483532,
          -1.0645375702831499,
          -1.0645397173357294,
          -2.262281473485586,
          -1.9234908991011908,
          -0.8423981751607461,
          -1.516094165736552,
          -1.91306624057955,
          -2.2751081229578953,
          -1.064672726599106,
          -0.8373252823859522,
          -1.5160985994924476,
          -1.064472046431117,
          -2.0848586122262875,
          -1.0644720490154072,
          -1.5160975099756024,
          -1.7875708528944996,
          -2.300960541388121,
          -2.2622725501733822,
          -2.0858782988347,
          -0.8371348184263548,
          -1.432001308509702,
          -2.191474729703851,
          -1.0724280401963726,
          -1.2622595339160227,
          -0.8369821203525722,
          -1.516101554396787,
          -1.5166874857136123,
          -1.0645633329410005,
          -0.8369906480785532,
          -1.432041781195316,
          -1.1097355410764496,
          -0.28987482806256115,
          -2.368900624175833,
          -1.4797728681611304,
          -2.262532313718139,
          -1.9130317158566545,
          -0.8656856274534077,
          -1.0845416760968738,
          -2.275255311871849,
          -1.4532449460366248,
          -1.0644970289004683,
          -1.0935549220116976,
          -1.0644717719580385,
          -1.5160858046806585,
          -1.9130317158566545,
          -0.8373976956563183,
          -2.085329880239513,
          -0.8369736327413327,
          -2.262424162262804,
          -1.5160858037723781,
          -1.0644802189479368,
          -2.1071319090211333,
          -1.9130317150200284,
          -1.9131749239244957,
          -1.9130317158394174,
          -2.1805189448175772,
          -0.8370374564709946,
          -2.262295664162817,
          -0.5058406408479591,
          -2.2259182257000667,
          -2.109901673113566,
          -2.1804780984656063,
          -2.262263680180213,
          -2.4805507549056762,
          -2.34513818270495,
          -2.247857183010329,
          -2.2633875846566083,
          -1.296002300244702,
          -2.215062472572107,
          -0.8369836536465121,
          -1.0644748933244121,
          -2.1906204102830675,
          -2.202682528004476,
          -0.5672853465401141,
          -2.680310556494589,
          -1.4519528754688695,
          -1.4362159301826096,
          -0.8369836994542278,
          -1.2960055663445196,
          -1.9215313817813078,
          -0.5455069472571364,
          -2.187611909181834,
          -2.1804914407700675,
          -2.084833014037531,
          -1.4320374190516902,
          -2.0848330128927826,
          -2.2660105458114796,
          -1.4797631980104717,
          -2.1952210010766295,
          -1.7888901636496388,
          -1.7889188011230202,
          -1.4320013085097059,
          -0.11809732710071076,
          -2.1650693513647554,
          -1.0645428643923185,
          -1.9131033366405044,
          -1.9130821927481467,
          -1.1289092819576516,
          -2.300178163325483,
          -1.4320013073958986,
          -1.4321062604056254,
          -0.27854863439927824,
          -1.4321711230070084,
          -0.8369736327884041,
          -1.0645822674104761,
          -1.5237618024302249,
          -1.7889337811673136,
          -2.2622635187039233,
          -1.0660379011653451,
          -1.4320474424422946,
          -2.262263518703303,
          -1.1238457389080307,
          -1.2364355804525768,
          -1.064482190700293,
          -1.0646119030134242,
          -1.0644720386079718,
          -1.7866107291007043,
          -2.1225534797767454,
          -2.0848821606059267,
          -2.0848330009591707,
          -2.264230783436126,
          -1.913046359831047
         ],
         "z": [
          0.1256841104887832,
          0.2511412428346603,
          0.014770887490486646,
          0.2763456996597465,
          0.251138917083858,
          0.1941597151825159,
          0.20200492704988882,
          0.014794344026438595,
          -0.029756195240683465,
          0.12569145294488102,
          0.014791707198597327,
          0.12569145276041044,
          0.20598517789626164,
          0.014794376457366414,
          0.12562174221132252,
          0.014743895468762503,
          0.01479369255016627,
          0.020727165414397886,
          0.12262502631553415,
          0.014783009289754534,
          -0.029751628709088766,
          0.0147967064827701,
          0.014793749483188982,
          0.014794780027304274,
          -0.029753675280131665,
          0.20015236521127464,
          0.014796706637725754,
          0.11800221586743681,
          0.009661086508931254,
          0.014788142328338331,
          0.014796706195020009,
          0.014707062624339044,
          0.01478872126015785,
          0.014796099838482735,
          0.12569145293879835,
          0.014796238559177827,
          0.12549760589425973,
          0.014434591294745613,
          0.01476980899610687,
          0.014779644299304359,
          0.2066766391538021,
          -0.022308667177346784,
          0.12568281537387962,
          0.014734677425510547,
          0.014788791150312213,
          0.0147962543415037,
          0.0147967061525237,
          0.014781080682141448,
          0.3444563074856732,
          0.014794329391908237,
          0.1256914526511842,
          0.013827558348594443,
          0.125685417317646,
          0.014659619516375302,
          0.014796706577311344,
          0.014796254298775081,
          0.014786787449019973,
          0.014786224047703285,
          0.2844203447376662,
          0.014796706522698237,
          0.1254607247943076,
          0.125673621532092,
          0.12568205917072936,
          0.12569145293866127,
          0.12569051941927786,
          0.12569137066669178,
          -0.029752123053238294,
          0.014787224721934939,
          -0.029751628581658307,
          0.16846965882067913,
          0.014747718256437838,
          0.12567539948957795,
          0.16582358450641346,
          0.23838322746178794,
          0.014768775879451294,
          0.12569145294852188,
          0.014626713819547579,
          0.014740383261100092,
          0.014796632126478033,
          0.014734340987284796,
          0.014472105286544922,
          0.13835974865867015,
          0.29859934380808567,
          0.20664997129747764,
          0.01782767794440585,
          0.014792553625226083,
          0.012908413103524558,
          0.1256914529545901,
          0.42305233678848536,
          0.014796706140407019,
          -0.029751628781906122,
          0.014796452930037165,
          0.12568634857771108,
          0.014796112254481958,
          -0.029751628781906122,
          -0.029764825602118006,
          0.24597472400675577,
          0.12568541269555572,
          -0.029758125977224173,
          0.014783367776450018,
          0.01476573610171459,
          0.25118104789481155,
          0.27406977837752466,
          -0.029758127526779546,
          0.1256828530014642,
          0.014796606526207184,
          0.01471069678500011,
          0.2913833319109248,
          0.014768103737789594,
          0.24121198263945667,
          0.11678739624680406,
          0.12569145286356834,
          -0.029751642234920356,
          0.2844203147004898,
          -0.029770104688517512,
          0.01479657921968305,
          0.3002580937184824,
          0.014796444955944458,
          0.11675996473264737,
          0.38354594470136083,
          0.1256914526997293,
          0.014794015357779999,
          -0.029757220963812177,
          0.12569145293989775,
          0.014796454171036696,
          -0.029752193079549023,
          0.021616161472635714,
          0.24120877889825804,
          0.1256888956389407,
          0.206267067408713,
          0.014748849753625426,
          0.12568772310128243,
          0.014792152436070625,
          0.01479670611916853,
          0.2844203449803907,
          0.16849206473205397,
          0.12569144081835718,
          0.02083347160574787,
          0.2511746134697638,
          0.12569145234777845,
          0.1941604399098437,
          0.014716249245786326,
          0.1941627390218675,
          -0.030089112943521762,
          -0.029776762827533238,
          0.241211582010282,
          0.014796340472151318,
          0.2412081502665807,
          0.2459795844825176,
          -0.029751629192353576,
          -0.029972164305126038,
          0.014796706528766395,
          0.2763482508726404,
          0.2226729835103558,
          0.014795430729974962,
          -0.029764079494902538,
          0.19415990418091095,
          0.014755813705925103,
          0.2459727571312131,
          0.25118534373260165,
          -0.029751629855962806,
          0.3092196153662429,
          0.014770430896187141,
          -0.07056993596581514,
          0.014796706522698237,
          0.014788402059753503,
          0.0147967066440606,
          0.12515173490078912,
          0.014791106068371794,
          0.2763244692871584,
          0.31093722300352766,
          0.2875710970029889,
          0.26012413829393266,
          0.24047087671462733,
          -0.02976602087286402,
          0.014789279816254495,
          0.014794589656708374,
          -0.029762294979371464,
          -0.02975270293791116,
          0.2412061822488604,
          0.21065823985547705,
          -0.051986122033501427,
          0.22175511558689892,
          -0.02980179695691115,
          0.1256840824685568,
          0.014796700521331137,
          0.014796444208370757,
          -0.043773779744816534,
          0.014796700582012297,
          0.014792732095539189,
          0.014789557700450567,
          0.014783335094108821,
          0.014782896943846973,
          0.24120831797859074,
          0.19202814337729543,
          -0.030858633824644748,
          0.12558136503424885,
          0.1941556935416957,
          0.30024650844183426,
          0.01475575366653165,
          -0.029823392939416306,
          0.12558046007718637,
          0.014796704829693757,
          0.2511801202360497,
          0.01479670601236964,
          0.1255806825313359,
          0.2064793355599572,
          0.2333143132076967,
          0.24121013963431037,
          0.25097194691672,
          -0.02978452660381009,
          0.1256914528271596,
          0.27617201804862823,
          0.013173079342123669,
          0.07560378661257962,
          -0.029753360767589335,
          0.12557985727872437,
          0.12546028173322518,
          0.014778078009483045,
          -0.02975510105363985,
          0.12568319355011295,
          0.006419696569135662,
          0.09183837366951192,
          0.2194417129998649,
          0.05076621312216034,
          0.24115712669908365,
          0.1941627390218675,
          -0.017678056335290147,
          0.010700998786861217,
          0.30021647200905877,
          0.16822693551615286,
          0.014791608923963672,
          0.008861586716513421,
          0.01479657921968305,
          0.12558307124027804,
          0.1941627390218675,
          -0.02983817167348746,
          0.25108389372568285,
          -0.02975162871515686,
          0.24117919140319394,
          0.12558307082461215,
          0.014795039507406259,
          0.24064200424908755,
          0.19416273863899375,
          0.1941335140386994,
          0.1941627390139791,
          0.16848396503759938,
          -0.029764653944959602,
          0.24120542269734946,
          -0.07057441895575225,
          0.2459782649532679,
          0.3004658420774309,
          0.16849230311634766,
          0.24121194458421497,
          0.2970844108749848,
          0.2242980877635735,
          0.3623925481323303,
          0.24098258523800697,
          0.07823778111152066,
          0.3145034473345157,
          -0.02975367367829935,
          0.014796126300781991,
          0.2763463529219482,
          0.33799223643870285,
          -0.004029499677688245,
          0.2563176953909656,
          0.1684906172202553,
          0.12483135430330389,
          -0.029753683061402327,
          0.07823711391293359,
          0.19242814078188794,
          0.020833472192534713,
          0.3037643283393889,
          0.16848957969966916,
          0.25118534641004964,
          0.12568408372796833,
          0.25118534588616653,
          0.24044725391795307,
          0.05076818660752595,
          0.28036189587587973,
          0.29267037149380043,
          0.2926645281290084,
          0.12569145282716107,
          0.0348109091263502,
          0.32025681861467953,
          0.014782254546708323,
          0.1941481212055245,
          0.19415243808668295,
          0.01782499038603954,
          0.42603768547179205,
          0.1256914523174379,
          0.12567003485576794,
          -0.12398057449486781,
          0.1256567973946881,
          -0.029751628693615036,
          0.014773353873051375,
          0.12401659111977505,
          0.2926614099460311,
          0.2412119826397405,
          0.014477153806522139,
          0.1256820380645958,
          0.24121198263945667,
          0.0026798449937274504,
          0.12261529918219426,
          0.014794637271146589,
          0.01476816525137608,
          0.01479670124950512,
          0.20667527434420782,
          0.42409498608817914,
          0.2511753169464593,
          0.2511853404248617,
          0.2408105096637755,
          0.19415975061754234
         ]
        },
        {
         "customdata": [
          [
           "Proof-of-BibleHash"
          ],
          [
           "SHA-256 + Hive"
          ],
          [
           "Proof-of-Authority"
          ],
          [
           "ECC 256K1"
          ],
          [
           "SHA3-256"
          ],
          [
           "Leased POS"
          ]
         ],
         "hovertemplate": "<b>%{hovertext}</b><br><br>class=%{marker.color}<br>PC 1=%{x}<br>PC 2=%{y}<br>PC 3=%{z}<br>Algorithm=%{customdata[0]}<extra></extra>",
         "hovertext": [
          "BiblePay",
          "LitecoinCash",
          "Poa Network",
          "Acute Angle Cloud",
          "Fiii",
          "Waves"
         ],
         "legendgroup": "1",
         "marker": {
          "color": [
           1,
           1,
           1,
           1,
           1,
           1
          ],
          "coloraxis": "coloraxis",
          "symbol": "square"
         },
         "mode": "markers",
         "name": "1",
         "scene": "scene",
         "showlegend": true,
         "type": "scatter3d",
         "x": [
          0.04456424683275302,
          0.6744607572781592,
          0.3061301733704112,
          -1.547702918517557,
          -0.455581437240607,
          0.2734654202176023
         ],
         "y": [
          4.022961154532508,
          0.4114202019216545,
          2.3707102707052647,
          4.601680411035417,
          5.537339140437048,
          1.332381391772567
         ],
         "z": [
          9.18604507505668,
          19.99320050577169,
          19.611398783711838,
          11.390338003843146,
          11.031690256004818,
          13.787005820025266
         ]
        }
       ],
       "layout": {
        "coloraxis": {
         "colorbar": {
          "title": {
           "text": "class"
          }
         },
         "colorscale": [
          [
           0,
           "#0d0887"
          ],
          [
           0.1111111111111111,
           "#46039f"
          ],
          [
           0.2222222222222222,
           "#7201a8"
          ],
          [
           0.3333333333333333,
           "#9c179e"
          ],
          [
           0.4444444444444444,
           "#bd3786"
          ],
          [
           0.5555555555555556,
           "#d8576b"
          ],
          [
           0.6666666666666666,
           "#ed7953"
          ],
          [
           0.7777777777777778,
           "#fb9f3a"
          ],
          [
           0.8888888888888888,
           "#fdca26"
          ],
          [
           1,
           "#f0f921"
          ]
         ]
        },
        "legend": {
         "title": {
          "text": "class"
         },
         "tracegroupgap": 0,
         "x": 0,
         "y": 1
        },
        "margin": {
         "t": 60
        },
        "scene": {
         "domain": {
          "x": [
           0,
           1
          ],
          "y": [
           0,
           1
          ]
         },
         "xaxis": {
          "title": {
           "text": "PC 1"
          }
         },
         "yaxis": {
          "title": {
           "text": "PC 2"
          }
         },
         "zaxis": {
          "title": {
           "text": "PC 3"
          }
         }
        },
        "template": {
         "data": {
          "bar": [
           {
            "error_x": {
             "color": "#2a3f5f"
            },
            "error_y": {
             "color": "#2a3f5f"
            },
            "marker": {
             "line": {
              "color": "#E5ECF6",
              "width": 0.5
             }
            },
            "type": "bar"
           }
          ],
          "barpolar": [
           {
            "marker": {
             "line": {
              "color": "#E5ECF6",
              "width": 0.5
             }
            },
            "type": "barpolar"
           }
          ],
          "carpet": [
           {
            "aaxis": {
             "endlinecolor": "#2a3f5f",
             "gridcolor": "white",
             "linecolor": "white",
             "minorgridcolor": "white",
             "startlinecolor": "#2a3f5f"
            },
            "baxis": {
             "endlinecolor": "#2a3f5f",
             "gridcolor": "white",
             "linecolor": "white",
             "minorgridcolor": "white",
             "startlinecolor": "#2a3f5f"
            },
            "type": "carpet"
           }
          ],
          "choropleth": [
           {
            "colorbar": {
             "outlinewidth": 0,
             "ticks": ""
            },
            "type": "choropleth"
           }
          ],
          "contour": [
           {
            "colorbar": {
             "outlinewidth": 0,
             "ticks": ""
            },
            "colorscale": [
             [
              0,
              "#0d0887"
             ],
             [
              0.1111111111111111,
              "#46039f"
             ],
             [
              0.2222222222222222,
              "#7201a8"
             ],
             [
              0.3333333333333333,
              "#9c179e"
             ],
             [
              0.4444444444444444,
              "#bd3786"
             ],
             [
              0.5555555555555556,
              "#d8576b"
             ],
             [
              0.6666666666666666,
              "#ed7953"
             ],
             [
              0.7777777777777778,
              "#fb9f3a"
             ],
             [
              0.8888888888888888,
              "#fdca26"
             ],
             [
              1,
              "#f0f921"
             ]
            ],
            "type": "contour"
           }
          ],
          "contourcarpet": [
           {
            "colorbar": {
             "outlinewidth": 0,
             "ticks": ""
            },
            "type": "contourcarpet"
           }
          ],
          "heatmap": [
           {
            "colorbar": {
             "outlinewidth": 0,
             "ticks": ""
            },
            "colorscale": [
             [
              0,
              "#0d0887"
             ],
             [
              0.1111111111111111,
              "#46039f"
             ],
             [
              0.2222222222222222,
              "#7201a8"
             ],
             [
              0.3333333333333333,
              "#9c179e"
             ],
             [
              0.4444444444444444,
              "#bd3786"
             ],
             [
              0.5555555555555556,
              "#d8576b"
             ],
             [
              0.6666666666666666,
              "#ed7953"
             ],
             [
              0.7777777777777778,
              "#fb9f3a"
             ],
             [
              0.8888888888888888,
              "#fdca26"
             ],
             [
              1,
              "#f0f921"
             ]
            ],
            "type": "heatmap"
           }
          ],
          "heatmapgl": [
           {
            "colorbar": {
             "outlinewidth": 0,
             "ticks": ""
            },
            "colorscale": [
             [
              0,
              "#0d0887"
             ],
             [
              0.1111111111111111,
              "#46039f"
             ],
             [
              0.2222222222222222,
              "#7201a8"
             ],
             [
              0.3333333333333333,
              "#9c179e"
             ],
             [
              0.4444444444444444,
              "#bd3786"
             ],
             [
              0.5555555555555556,
              "#d8576b"
             ],
             [
              0.6666666666666666,
              "#ed7953"
             ],
             [
              0.7777777777777778,
              "#fb9f3a"
             ],
             [
              0.8888888888888888,
              "#fdca26"
             ],
             [
              1,
              "#f0f921"
             ]
            ],
            "type": "heatmapgl"
           }
          ],
          "histogram": [
           {
            "marker": {
             "colorbar": {
              "outlinewidth": 0,
              "ticks": ""
             }
            },
            "type": "histogram"
           }
          ],
          "histogram2d": [
           {
            "colorbar": {
             "outlinewidth": 0,
             "ticks": ""
            },
            "colorscale": [
             [
              0,
              "#0d0887"
             ],
             [
              0.1111111111111111,
              "#46039f"
             ],
             [
              0.2222222222222222,
              "#7201a8"
             ],
             [
              0.3333333333333333,
              "#9c179e"
             ],
             [
              0.4444444444444444,
              "#bd3786"
             ],
             [
              0.5555555555555556,
              "#d8576b"
             ],
             [
              0.6666666666666666,
              "#ed7953"
             ],
             [
              0.7777777777777778,
              "#fb9f3a"
             ],
             [
              0.8888888888888888,
              "#fdca26"
             ],
             [
              1,
              "#f0f921"
             ]
            ],
            "type": "histogram2d"
           }
          ],
          "histogram2dcontour": [
           {
            "colorbar": {
             "outlinewidth": 0,
             "ticks": ""
            },
            "colorscale": [
             [
              0,
              "#0d0887"
             ],
             [
              0.1111111111111111,
              "#46039f"
             ],
             [
              0.2222222222222222,
              "#7201a8"
             ],
             [
              0.3333333333333333,
              "#9c179e"
             ],
             [
              0.4444444444444444,
              "#bd3786"
             ],
             [
              0.5555555555555556,
              "#d8576b"
             ],
             [
              0.6666666666666666,
              "#ed7953"
             ],
             [
              0.7777777777777778,
              "#fb9f3a"
             ],
             [
              0.8888888888888888,
              "#fdca26"
             ],
             [
              1,
              "#f0f921"
             ]
            ],
            "type": "histogram2dcontour"
           }
          ],
          "mesh3d": [
           {
            "colorbar": {
             "outlinewidth": 0,
             "ticks": ""
            },
            "type": "mesh3d"
           }
          ],
          "parcoords": [
           {
            "line": {
             "colorbar": {
              "outlinewidth": 0,
              "ticks": ""
             }
            },
            "type": "parcoords"
           }
          ],
          "pie": [
           {
            "automargin": true,
            "type": "pie"
           }
          ],
          "scatter": [
           {
            "marker": {
             "colorbar": {
              "outlinewidth": 0,
              "ticks": ""
             }
            },
            "type": "scatter"
           }
          ],
          "scatter3d": [
           {
            "line": {
             "colorbar": {
              "outlinewidth": 0,
              "ticks": ""
             }
            },
            "marker": {
             "colorbar": {
              "outlinewidth": 0,
              "ticks": ""
             }
            },
            "type": "scatter3d"
           }
          ],
          "scattercarpet": [
           {
            "marker": {
             "colorbar": {
              "outlinewidth": 0,
              "ticks": ""
             }
            },
            "type": "scattercarpet"
           }
          ],
          "scattergeo": [
           {
            "marker": {
             "colorbar": {
              "outlinewidth": 0,
              "ticks": ""
             }
            },
            "type": "scattergeo"
           }
          ],
          "scattergl": [
           {
            "marker": {
             "colorbar": {
              "outlinewidth": 0,
              "ticks": ""
             }
            },
            "type": "scattergl"
           }
          ],
          "scattermapbox": [
           {
            "marker": {
             "colorbar": {
              "outlinewidth": 0,
              "ticks": ""
             }
            },
            "type": "scattermapbox"
           }
          ],
          "scatterpolar": [
           {
            "marker": {
             "colorbar": {
              "outlinewidth": 0,
              "ticks": ""
             }
            },
            "type": "scatterpolar"
           }
          ],
          "scatterpolargl": [
           {
            "marker": {
             "colorbar": {
              "outlinewidth": 0,
              "ticks": ""
             }
            },
            "type": "scatterpolargl"
           }
          ],
          "scatterternary": [
           {
            "marker": {
             "colorbar": {
              "outlinewidth": 0,
              "ticks": ""
             }
            },
            "type": "scatterternary"
           }
          ],
          "surface": [
           {
            "colorbar": {
             "outlinewidth": 0,
             "ticks": ""
            },
            "colorscale": [
             [
              0,
              "#0d0887"
             ],
             [
              0.1111111111111111,
              "#46039f"
             ],
             [
              0.2222222222222222,
              "#7201a8"
             ],
             [
              0.3333333333333333,
              "#9c179e"
             ],
             [
              0.4444444444444444,
              "#bd3786"
             ],
             [
              0.5555555555555556,
              "#d8576b"
             ],
             [
              0.6666666666666666,
              "#ed7953"
             ],
             [
              0.7777777777777778,
              "#fb9f3a"
             ],
             [
              0.8888888888888888,
              "#fdca26"
             ],
             [
              1,
              "#f0f921"
             ]
            ],
            "type": "surface"
           }
          ],
          "table": [
           {
            "cells": {
             "fill": {
              "color": "#EBF0F8"
             },
             "line": {
              "color": "white"
             }
            },
            "header": {
             "fill": {
              "color": "#C8D4E3"
             },
             "line": {
              "color": "white"
             }
            },
            "type": "table"
           }
          ]
         },
         "layout": {
          "annotationdefaults": {
           "arrowcolor": "#2a3f5f",
           "arrowhead": 0,
           "arrowwidth": 1
          },
          "coloraxis": {
           "colorbar": {
            "outlinewidth": 0,
            "ticks": ""
           }
          },
          "colorscale": {
           "diverging": [
            [
             0,
             "#8e0152"
            ],
            [
             0.1,
             "#c51b7d"
            ],
            [
             0.2,
             "#de77ae"
            ],
            [
             0.3,
             "#f1b6da"
            ],
            [
             0.4,
             "#fde0ef"
            ],
            [
             0.5,
             "#f7f7f7"
            ],
            [
             0.6,
             "#e6f5d0"
            ],
            [
             0.7,
             "#b8e186"
            ],
            [
             0.8,
             "#7fbc41"
            ],
            [
             0.9,
             "#4d9221"
            ],
            [
             1,
             "#276419"
            ]
           ],
           "sequential": [
            [
             0,
             "#0d0887"
            ],
            [
             0.1111111111111111,
             "#46039f"
            ],
            [
             0.2222222222222222,
             "#7201a8"
            ],
            [
             0.3333333333333333,
             "#9c179e"
            ],
            [
             0.4444444444444444,
             "#bd3786"
            ],
            [
             0.5555555555555556,
             "#d8576b"
            ],
            [
             0.6666666666666666,
             "#ed7953"
            ],
            [
             0.7777777777777778,
             "#fb9f3a"
            ],
            [
             0.8888888888888888,
             "#fdca26"
            ],
            [
             1,
             "#f0f921"
            ]
           ],
           "sequentialminus": [
            [
             0,
             "#0d0887"
            ],
            [
             0.1111111111111111,
             "#46039f"
            ],
            [
             0.2222222222222222,
             "#7201a8"
            ],
            [
             0.3333333333333333,
             "#9c179e"
            ],
            [
             0.4444444444444444,
             "#bd3786"
            ],
            [
             0.5555555555555556,
             "#d8576b"
            ],
            [
             0.6666666666666666,
             "#ed7953"
            ],
            [
             0.7777777777777778,
             "#fb9f3a"
            ],
            [
             0.8888888888888888,
             "#fdca26"
            ],
            [
             1,
             "#f0f921"
            ]
           ]
          },
          "colorway": [
           "#636efa",
           "#EF553B",
           "#00cc96",
           "#ab63fa",
           "#FFA15A",
           "#19d3f3",
           "#FF6692",
           "#B6E880",
           "#FF97FF",
           "#FECB52"
          ],
          "font": {
           "color": "#2a3f5f"
          },
          "geo": {
           "bgcolor": "white",
           "lakecolor": "white",
           "landcolor": "#E5ECF6",
           "showlakes": true,
           "showland": true,
           "subunitcolor": "white"
          },
          "hoverlabel": {
           "align": "left"
          },
          "hovermode": "closest",
          "mapbox": {
           "style": "light"
          },
          "paper_bgcolor": "white",
          "plot_bgcolor": "#E5ECF6",
          "polar": {
           "angularaxis": {
            "gridcolor": "white",
            "linecolor": "white",
            "ticks": ""
           },
           "bgcolor": "#E5ECF6",
           "radialaxis": {
            "gridcolor": "white",
            "linecolor": "white",
            "ticks": ""
           }
          },
          "scene": {
           "xaxis": {
            "backgroundcolor": "#E5ECF6",
            "gridcolor": "white",
            "gridwidth": 2,
            "linecolor": "white",
            "showbackground": true,
            "ticks": "",
            "zerolinecolor": "white"
           },
           "yaxis": {
            "backgroundcolor": "#E5ECF6",
            "gridcolor": "white",
            "gridwidth": 2,
            "linecolor": "white",
            "showbackground": true,
            "ticks": "",
            "zerolinecolor": "white"
           },
           "zaxis": {
            "backgroundcolor": "#E5ECF6",
            "gridcolor": "white",
            "gridwidth": 2,
            "linecolor": "white",
            "showbackground": true,
            "ticks": "",
            "zerolinecolor": "white"
           }
          },
          "shapedefaults": {
           "line": {
            "color": "#2a3f5f"
           }
          },
          "ternary": {
           "aaxis": {
            "gridcolor": "white",
            "linecolor": "white",
            "ticks": ""
           },
           "baxis": {
            "gridcolor": "white",
            "linecolor": "white",
            "ticks": ""
           },
           "bgcolor": "#E5ECF6",
           "caxis": {
            "gridcolor": "white",
            "linecolor": "white",
            "ticks": ""
           }
          },
          "title": {
           "x": 0.05
          },
          "xaxis": {
           "automargin": true,
           "gridcolor": "white",
           "linecolor": "white",
           "ticks": "",
           "title": {
            "standoff": 15
           },
           "zerolinecolor": "white",
           "zerolinewidth": 2
          },
          "yaxis": {
           "automargin": true,
           "gridcolor": "white",
           "linecolor": "white",
           "ticks": "",
           "title": {
            "standoff": 15
           },
           "zerolinecolor": "white",
           "zerolinewidth": 2
          }
         }
        },
        "width": 800
       }
      },
      "text/html": [
       "<div>                            <div id=\"24d7e59d-ae3d-4d8e-9b2a-f9fdb06d41b0\" class=\"plotly-graph-div\" style=\"height:525px; width:800px;\"></div>            <script type=\"text/javascript\">                require([\"plotly\"], function(Plotly) {                    window.PLOTLYENV=window.PLOTLYENV || {};                                    if (document.getElementById(\"24d7e59d-ae3d-4d8e-9b2a-f9fdb06d41b0\")) {                    Plotly.newPlot(                        \"24d7e59d-ae3d-4d8e-9b2a-f9fdb06d41b0\",                        [{\"customdata\": [[\"Scrypt\"], [\"Scrypt\"], [\"SHA-256\"], [\"X13\"], [\"X11\"], [\"SHA-512\"], [\"SHA-256\"], [\"X11\"], [\"SHA-256\"], [\"X15\"], [\"X13\"], [\"X13\"], [\"Scrypt\"], [\"Scrypt\"], [\"Scrypt\"], [\"Scrypt\"], [\"Scrypt\"], [\"Scrypt\"], [\"Scrypt\"], [\"Multiple\"], [\"Scrypt\"], [\"Scrypt\"], [\"SHA-256\"], [\"Groestl\"], [\"X11\"], [\"PoS\"], [\"X11\"], [\"NIST5\"], [\"Scrypt\"], [\"X11\"], [\"X15\"], [\"Scrypt\"], [\"X11\"], [\"X11\"], [\"X11\"], [\"X13\"], [\"X11\"], [\"SHA3\"], [\"Scrypt\"], [\"SHA-256\"], [\"Scrypt\"], [\"X13\"], [\"X13\"], [\"NeoScrypt\"], [\"Scrypt\"], [\"Scrypt\"], [\"Scrypt\"], [\"X15\"], [\"Scrypt\"], [\"X11\"], [\"X11\"], [\"Multiple\"], [\"PHI1612\"], [\"X11\"], [\"Scrypt\"], [\"Scrypt\"], [\"X13\"], [\"Scrypt\"], [\"Scrypt\"], [\"X11\"], [\"Multiple\"], [\"X13\"], [\"Scrypt\"], [\"Scrypt\"], [\"Shabal256\"], [\"Counterparty\"], [\"SHA-256\"], [\"Scrypt\"], [\"Groestl\"], [\"Scrypt\"], [\"X13\"], [\"Scrypt\"], [\"SHA-256\"], [\"Scrypt\"], [\"X13\"], [\"X13\"], [\"X11\"], [\"X11\"], [\"X15\"], [\"Scrypt\"], [\"Scrypt\"], [\"Scrypt\"], [\"X11\"], [\"SHA3\"], [\"Scrypt\"], [\"QUAIT\"], [\"vDPOS\"], [\"X11\"], [\"X11\"], [\"Scrypt\"], [\"X11\"], [\"X13\"], [\"SHA-256\"], [\"X13\"], [\"X15\"], [\"BLAKE256\"], [\"SHA-256\"], [\"X11\"], [\"SHA-256\"], [\"Quark\"], [\"NIST5\"], [\"Blake\"], [\"Scrypt\"], [\"Scrypt\"], [\"Scrypt\"], [\"SHA-256\"], [\"X11\"], [\"Scrypt\"], [\"SHA-256\"], [\"Scrypt\"], [\"PoS\"], [\"X11\"], [\"X11\"], [\"X11\"], [\"PoS\"], [\"SHA-256\"], [\"SHA-256\"], [\"NIST5\"], [\"X15\"], [\"X11\"], [\"NIST5\"], [\"Scrypt\"], [\"Scrypt\"], [\"POS 3.0\"], [\"Scrypt\"], [\"Scrypt\"], [\"Scrypt\"], [\"X13\"], [\"X11\"], [\"X11\"], [\"X11\"], [\"Scrypt\"], [\"SHA-256\"], [\"X11\"], [\"Scrypt\"], [\"Scrypt\"], [\"X11\"], [\"Scrypt\"], [\"Scrypt\"], [\"SHA-256D\"], [\"PoS\"], [\"Scrypt\"], [\"X11\"], [\"PoS\"], [\"X13\"], [\"X14\"], [\"PoS\"], [\"SHA-256D\"], [\"DPoS\"], [\"X11\"], [\"Scrypt\"], [\"X13\"], [\"X11\"], [\"PoS\"], [\"SHA-256D\"], [\"Scrypt\"], [\"Scrypt\"], [\"Scrypt\"], [\"PoS\"], [\"X11\"], [\"SHA-256\"], [\"Scrypt\"], [\"X11\"], [\"Scrypt\"], [\"Scrypt\"], [\"X11\"], [\"Scrypt\"], [\"Scrypt\"], [\"Scrypt\"], [\"Scrypt\"], [\"Quark\"], [\"QuBit\"], [\"X11\"], [\"X13\"], [\"PoS\"], [\"Scrypt\"], [\"SHA-256\"], [\"X11\"], [\"X11\"], [\"Scrypt\"], [\"Scrypt\"], [\"Scrypt\"], [\"Scrypt\"], [\"X13\"], [\"Scrypt\"], [\"Scrypt\"], [\"X11\"], [\"Blake2S\"], [\"X11\"], [\"Scrypt\"], [\"PoS\"], [\"X11\"], [\"PoS\"], [\"X11\"], [\"Scrypt\"], [\"Scrypt\"], [\"Scrypt\"], [\"SHA-256\"], [\"X11\"], [\"Scrypt\"], [\"PoS\"], [\"Scrypt\"], [\"X11\"], [\"X15\"], [\"SHA-256\"], [\"POS 3.0\"], [\"536\"], [\"NIST5\"], [\"NIST5\"], [\"Skein\"], [\"X13\"], [\"X11\"], [\"Scrypt\"], [\"X13\"], [\"SkunkHash v2 Raptor\"], [\"Skein\"], [\"X11\"], [\"Scrypt\"], [\"VeChainThor Authority\"], [\"PoS\"], [\"Scrypt\"], [\"Scrypt\"], [\"SHA-512\"], [\"Ouroboros\"], [\"X11\"], [\"NeoScrypt\"], [\"Scrypt\"], [\"Lyra2REv2\"], [\"Scrypt\"], [\"SHA-256\"], [\"NIST5\"], [\"PHI1612\"], [\"Scrypt\"], [\"Quark\"], [\"POS 2.0\"], [\"Scrypt\"], [\"SkunkHash\"], [\"X11\"], [\"Quark\"], [\"SHA-256\"], [\"Quark\"], [\"X11\"], [\"DPoS\"], [\"NIST5\"], [\"X13\"], [\"Scrypt\"], [\"NIST5\"], [\"Quark\"], [\"Scrypt\"], [\"Scrypt\"], [\"X11\"], [\"SHA-256\"], [\"Scrypt\"], [\"Quark\"], [\"Scrypt\"], [\"Scrypt\"], [\"X11\"], [\"Scrypt\"], [\"Scrypt\"], [\"POS 3.0\"], [\"Scrypt\"], [\"Scrypt\"], [\"X13\"], [\"C11\"], [\"X11\"], [\"XEVAN\"], [\"Scrypt\"], [\"VBFT\"], [\"NIST5\"], [\"Scrypt\"], [\"Scrypt\"], [\"Scrypt\"], [\"Equihash\"], [\"Green Protocol\"], [\"PoS\"], [\"Scrypt\"], [\"Scrypt\"], [\"Semux BFT consensus\"], [\"Scrypt\"], [\"Quark\"], [\"PoS\"], [\"X16R\"], [\"Scrypt\"], [\"XEVAN\"], [\"Scrypt\"], [\"Scrypt\"], [\"Scrypt\"], [\"SHA-256D\"], [\"Scrypt\"], [\"X15\"], [\"Scrypt\"], [\"Quark\"], [\"SHA-256\"], [\"DPoS\"], [\"X16R\"], [\"Quark\"], [\"Quark\"], [\"Scrypt\"], [\"Zhash\"], [\"Lyra2REv2\"], [\"Quark\"], [\"Scrypt\"], [\"Scrypt\"], [\"X11\"], [\"X11\"], [\"Scrypt\"], [\"PoS\"], [\"Scrypt\"], [\"Scrypt\"], [\"Keccak\"], [\"X11\"], [\"Quark\"], [\"Scrypt\"], [\"SHA-512\"], [\"NeoScrypt\"], [\"XEVAN\"], [\"XEVAN\"], [\"X11\"], [\"Quark\"], [\"Quark\"], [\"Scrypt\"], [\"Quark\"], [\"Quark\"], [\"Scrypt\"], [\"X11\"], [\"Scrypt\"], [\"XEVAN\"], [\"SHA-256D\"], [\"X11\"], [\"X11\"], [\"DPoS\"], [\"X11\"], [\"Scrypt\"], [\"X11\"], [\"QuBit\"], [\"Scrypt\"], [\"Scrypt\"], [\"SHA-256\"], [\"Scrypt\"], [\"X11\"], [\"Scrypt\"], [\"SHA-256\"], [\"X11\"], [\"Scrypt\"], [\"SHA-256\"], [\"Scrypt\"], [\"X11\"], [\"Scrypt\"], [\"PoS\"], [\"X11\"], [\"SHA-256\"], [\"DPoS\"], [\"Scrypt\"], [\"Scrypt\"], [\"NeoScrypt\"], [\"Scrypt\"], [\"X13\"], [\"DPoS\"], [\"DPoS\"], [\"SHA-256\"], [\"PoS\"], [\"TRC10\"], [\"PoS\"], [\"SHA-256\"], [\"Scrypt\"], [\"Scrypt\"]], \"hovertemplate\": \"<b>%{hovertext}</b><br><br>class=%{marker.color}<br>PC 1=%{x}<br>PC 2=%{y}<br>PC 3=%{z}<br>Algorithm=%{customdata[0]}<extra></extra>\", \"hovertext\": [\"42 Coin\", \"404Coin\", \"808\", \"EliteCoin\", \"Dash\", \"Bitshares\", \"BitcoinDark\", \"Bitstake\", \"PayCoin\", \"KoboCoin\", \"Aero Coin\", \"ApexCoin\", \"ArchCoin\", \"Aurora Coin\", \"BlueCoin\", \"EnergyCoin\", \"BitBar\", \"CashCoin\", \"CryptoBullion\", \"CinderCoin\", \"CoolCoin\", \"CasinoCoin\", \"eMark\", \"Diamond\", \"DarkCash\", \"Exclusive Coin\", \"Fuel2Coin\", \"FIBRE\", \"FlutterCoin\", \"GlyphCoin\", \"Halcyon\", \"HoboNickels\", \"HyperStake\", \"IOCoin\", \"JumBucks Coin\", \"JudgeCoin\", \"LibrexCoin\", \"MaxCoin\", \"MintCoin\", \"MazaCoin\", \"Nautilus Coin\", \"NavCoin\", \"OpalCoin\", \"Orbitcoin\", \"PotCoin\", \"PhoenixCoin\", \"Reddcoin\", \"ShieldCoin\", \"SilkCoin\", \"SuperCoin\", \"SyncCoin\", \"TeslaCoin\", \"TittieCoin\", \"TorCoin\", \"UnitaryStatus Dollar\", \"UltraCoin\", \"Utility Coin\", \"VeriCoin\", \"SocialXbotCoin\", \"X11 Coin\", \"Crypti\", \"StealthCoin\", \"XXXCoin\", \"ZCC Coin\", \"BurstCoin\", \"StorjCoin\", \"Neutron\", \"KryptCoin\", \"FairCoin\", \"RubyCoin\", \"Kore\", \"Dnotes\", \"MaieutiCoin\", \"8BIT Coin\", \"Sativa Coin\", \"AeroMe\", \"MasterTraderCoin\", \"Ucoin\", \"MaryJane Coin\", \"CyberCoin\", \"Vtorrent\", \"ViorCoin\", \"IslaCoin\", \"Nexus\", \"Singular\", \"Droidz\", \"CryptoCircuits\", \"Squall Coin\", \"Milllionaire Coin\", \"Diggits\", \"MapCoin\", \"Paycon\", \"Emercoin\", \"BlitzCoin\", \"EverGreenCoin\", \"Decred\", \"EDRCoin\", \"Hitcoin\", \"DubaiCoin\", \"BiosCrypto\", \"PWR Coin\", \"TrumpCoin\", \"BillaryCoin\", \"EthereumScrypt\", \"GPU Coin\", \"Universal Currency\", \"EuropeCoin\", \"ZeitCoin\", \"SwingCoin\", \"SafeExchangeCoin\", \"Nebuchadnezzar\", \"GIZMOcoin\", \"SecretCoin\", \"Ratecoin\", \"Digital Bullion Gold\", \"Revenu\", \"Clockcoin\", \"VIP Tokens\", \"OrlyCoin\", \"BitSend\", \"16BitCoin\", \"ChessCoin\", \"ReeCoin\", \"Let it Ride\", \"PutinCoin\", \"iBankCoin\", \"Frankywillcoin\", \"MudraCoin\", \"Lutetium Coin\", \"GoldBlocks\", \"WayCoin\", \"CarterCoin\", \"BitTokens\", \"MustangCoin\", \"ZoneCoin\", \"RootCoin\", \"PROUD Money\", \"BitCurrency\", \"Swiscoin\", \"BuzzCoin\", \"Opair\", \"PesoBit\", \"Halloween Coin\", \"CoffeeCoin\", \"RoyalCoin\", \"GanjaCoin V2\", \"TeamUP\", \"LanaCoin\", \"ARK\", \"InsaneCoin\", \"LuckChain\", \"EmberCoin\", \"XenixCoin\", \"FreeCoin\", \"NPCcoin\", \"PLNCoin\", \"Icobid\", \"AquariusCoin\", \"Creatio\", \"Eternity\", \"Eurocoin\", \"BitcoinFast\", \"Stakenet\", \"BitConnect Coin\", \"MoneyCoin\", \"Enigma\", \"Russiacoin\", \"PandaCoin\", \"GameUnits\", \"GAKHcoin\", \"Allsafe\", \"LiteCreed\", \"NeptuneClassic\", \"GoldenBird\", \"Ride My Car\", \"Klingon Empire Darsek\", \"Internet of People\", \"KushCoin\", \"Eryllium\", \"Printerium\", \"Impeach\", \"Zilbercoin\", \"FirstCoin\", \"FindCoin\", \"OpenChat\", \"RenosCoin\", \"VirtacoinPlus\", \"TajCoin\", \"Impact\", \"Universe\", \"Atmos\", \"HappyCoin\", \"MacronCoin\", \"Condensate\", \"Independent Money System\", \"ArgusCoin\", \"LomoCoin\", \"ProCurrency\", \"GoldReserve\", \"GrowthCoin\", \"Phreak\", \"Degas Coin\", \"ZSEcoin\", \"HTML5 Coin\", \"Ultimate Secure Cash\", \"QTUM\", \"Espers\", \"Denarius\", \"Virta Unique Coin\", \"Bitcoin Planet\", \"BritCoin\", \"Octanox\", \"Linda\", \"DeepOnion\", \"Signatum\", \"Cream\", \"Monoeci\", \"Draftcoin\", \"Vechain\", \"Stakecoin\", \"CoinonatX\", \"Ethereum Dark\", \"Obsidian\", \"Cardano\", \"Regalcoin\", \"TrezarCoin\", \"TerraNovaCoin\", \"Rupee\", \"WomenCoin\", \"Theresa May Coin\", \"NamoCoin\", \"LUXCoin\", \"Xios\", \"Bitcloud 2.0\", \"KekCoin\", \"BlackholeCoin\", \"AltCommunity Coin\", \"Pure\", \"Rupaya\", \"Infinity Economics\", \"Castle\", \"Magnet\", \"Lamden Tau\", \"Electra\", \"Bitcoin Diamond\", \"Cash & Back Coin\", \"Bulwark\", \"Kalkulus\", \"GermanCoin\", \"LiteCoin Ultra\", \"PhantomX\", \"HTML Coin\", \"Fantasy Cash\", \"Digiwage\", \"Trollcoin\", \"Litecoin Plus\", \"Monkey Project\", \"OP Coin\", \"Valorbit\", \"TokenPay\", \"My Big Coin\", \"Unified Society USDEX\", \"Tokyo Coin\", \"Stipend\", \"Pushi\", \"Ellerium\", \"Velox\", \"Ontology\", \"Bitspace\", \"Briacoin\", \"Ignition\", \"MedicCoin\", \"Zelcash\", \"Bitcoin Green\", \"Deviant Coin\", \"Abjcoin\", \"Profit Hunters Coin\", \"Semux\", \"BitBlocks\", \"Carebit\", \"Zealium\", \"Proton\", \"iDealCash\", \"Bitcoin Incognito\", \"HollyWoodCoin\", \"Swisscoin\", \"Xt3ch\", \"TheVig\", \"EmaratCoin\", \"Dekado\", \"Lynx\", \"Poseidon Quark\", \"BitcoinWSpectrum\", \"Muse\", \"Trivechain\", \"Dystem\", \"Giant\", \"Peony Coin\", \"SafeCoin\", \"Absolute Coin\", \"Vitae\", \"TPCash\", \"MUSDcoin\", \"ARENON\", \"EUNO\", \"MMOCoin\", \"Ketan\", \"Safe Trade Coin\", \"Mont Blanc\", \"XDNA\", \"PAXEX\", \"Apollon\", \"ThunderStake\", \"Kcash\", \"Traid\", \"Bettex coin\", \"BitMoney\", \"Junson Ming Chan Coin\", \"Zenad\", \"HerbCoin\", \"Oduwa\", \"Galilel\", \"Crypto Sports\", \"Credit\", \"Dash Platinum\", \"Nasdacoin\", \"Beetle Coin\", \"Titan Coin\", \"Award\", \"Insane Coin\", \"ALAX\", \"The Freedom Coin\", \"LiteDoge\", \"TruckCoin\", \"Ascension Coin\", \"OrangeCoin\", \"BitstarCoin\", \"NeosCoin\", \"HyperCoin\", \"PinkCoin\", \"AudioCoin\", \"IncaKoin\", \"Piggy Coin\", \"Genstake\", \"ParkByte\", \"XiaoMiCoin\", \"CapriCoin\", \" ClubCoin\", \"Radium\", \"Creditbit \", \"OKCash\", \"Lisk\", \"HiCoin\", \"WhiteCoin\", \"FriendshipCoin\", \"The Hempcoin\", \"Triangles Coin\", \"EOS\", \"Oxycoin\", \"TigerCash\", \"Particl\", \"BitTorrent\", \"Nxt\", \"ZEPHYR\", \"Gapcoin\", \"BitcoinPlus\"], \"legendgroup\": \"2\", \"marker\": {\"color\": [2, 2, 2, 2, 2, 2, 2, 2, 2, 2, 2, 2, 2, 2, 2, 2, 2, 2, 2, 2, 2, 2, 2, 2, 2, 2, 2, 2, 2, 2, 2, 2, 2, 2, 2, 2, 2, 2, 2, 2, 2, 2, 2, 2, 2, 2, 2, 2, 2, 2, 2, 2, 2, 2, 2, 2, 2, 2, 2, 2, 2, 2, 2, 2, 2, 2, 2, 2, 2, 2, 2, 2, 2, 2, 2, 2, 2, 2, 2, 2, 2, 2, 2, 2, 2, 2, 2, 2, 2, 2, 2, 2, 2, 2, 2, 2, 2, 2, 2, 2, 2, 2, 2, 2, 2, 2, 2, 2, 2, 2, 2, 2, 2, 2, 2, 2, 2, 2, 2, 2, 2, 2, 2, 2, 2, 2, 2, 2, 2, 2, 2, 2, 2, 2, 2, 2, 2, 2, 2, 2, 2, 2, 2, 2, 2, 2, 2, 2, 2, 2, 2, 2, 2, 2, 2, 2, 2, 2, 2, 2, 2, 2, 2, 2, 2, 2, 2, 2, 2, 2, 2, 2, 2, 2, 2, 2, 2, 2, 2, 2, 2, 2, 2, 2, 2, 2, 2, 2, 2, 2, 2, 2, 2, 2, 2, 2, 2, 2, 2, 2, 2, 2, 2, 2, 2, 2, 2, 2, 2, 2, 2, 2, 2, 2, 2, 2, 2, 2, 2, 2, 2, 2, 2, 2, 2, 2, 2, 2, 2, 2, 2, 2, 2, 2, 2, 2, 2, 2, 2, 2, 2, 2, 2, 2, 2, 2, 2, 2, 2, 2, 2, 2, 2, 2, 2, 2, 2, 2, 2, 2, 2, 2, 2, 2, 2, 2, 2, 2, 2, 2, 2, 2, 2, 2, 2, 2, 2, 2, 2, 2, 2, 2, 2, 2, 2, 2, 2, 2, 2, 2, 2, 2, 2, 2, 2, 2, 2, 2, 2, 2, 2, 2, 2, 2, 2, 2, 2, 2, 2, 2, 2, 2, 2, 2, 2, 2, 2, 2, 2, 2, 2, 2, 2, 2, 2, 2, 2, 2, 2, 2, 2, 2, 2, 2, 2, 2, 2, 2, 2, 2, 2, 2, 2, 2, 2, 2, 2, 2, 2, 2, 2, 2, 2, 2, 2, 2, 2, 2, 2, 2, 2, 2, 2, 2, 2, 2], \"coloraxis\": \"coloraxis\", \"symbol\": \"circle\"}, \"mode\": \"markers\", \"name\": \"2\", \"scene\": \"scene\", \"showlegend\": true, \"type\": \"scatter3d\", \"x\": [-0.1940790884597316, -0.1798329850423959, -0.1903913089860539, 0.26699023456462, -0.23383316477286328, 0.4662063714803114, -0.19037390803527363, -0.23395509669886033, -0.03313311718494997, -0.15018633194801934, 0.028784056598686828, -0.12831218559798657, -0.03698284685848435, -0.19383424615142197, -0.18550019867387524, -0.1924176118972429, -0.1940785141600084, -0.19407908911419552, -0.19406505986191358, -0.15985743882246214, -0.03698284701256703, 1.0328540460537083, -0.19039130898605927, -0.2092730750120842, -0.2339550967033207, 0.09468747238011146, -0.07685885468226303, -0.15887034153222698, -0.09802064771941167, -0.23395509670936604, -0.1505311823734274, -0.19287389184158585, -0.054197069485054476, -0.23371679085079453, -0.23395509670253364, -0.1283121856267399, -0.23395509669830727, 0.24187415297543083, 0.2505075223246548, -0.16860283027744102, -0.036764399856142674, -0.12741994034385937, -0.12810755874216945, -0.271671459386701, -0.1910727132606649, -0.1930805612836172, 0.20171187252890946, -0.15053118237527047, -0.19407908902861093, -0.07617424778076277, -0.23395508080572883, -0.001677596000116428, 0.016258750627518265, -0.2339357652218075, -0.179242077197281, -0.19340086107355067, -0.128312185586928, -0.11002393033864652, -0.19407908903045415, -0.23386125318286366, -0.001411091333909426, -0.1278653855190028, -0.1940790891189256, -0.19208106714920703, 1.4489024461562954, 0.08438315387494214, -0.18986312513335152, -0.03698284685958431, -0.208599516446421, -0.036615827642521505, -0.12828488020786713, -0.03462494169372649, -0.03329506678754556, -0.19405927163086173, -0.12821637088901203, -0.12831218560904556, -0.2339550967150983, -0.07682253924635823, -0.1505311823734274, -0.19407908902676782, -0.19392241312239888, -0.19407908902676782, -0.23393466010186503, 0.8941645893228591, -0.19407908902676782, -0.2696577541877407, 0.01600050102791595, -0.266633343405572, -0.23395509669646403, -0.03563274193265242, -0.07685885450205523, -0.12800108631193732, -0.18980995835216152, 0.028784056604488618, -0.15034850569235803, -0.052592941698781225, -0.1903417643305929, -0.08549329637425558, -0.19032206192684883, 0.008975429641545353, -0.02292219863163154, -0.0716386474585031, -0.19395759661455225, -0.19407908903450874, -0.03643636463544532, -0.1903913093731231, -0.2338145883261476, 0.4621675066738406, -0.19033221385862337, 0.5218054061194274, 0.09488081137350257, -0.23395509669664866, -0.23395509673517034, -0.23213846373894276, 0.0946107903667351, -0.19037516855282072, -0.19016634437444255, -0.15774367356684862, -0.15053118243978114, -0.2336258370452987, -0.15887034156056715, -0.19407908916439012, -0.1940790896718745, 0.11340578660511913, -0.1831014917455856, -0.1940179789782239, -0.192728984131169, 0.02885156149695252, -0.06798866533386518, -0.23374496814861764, -0.07685885468226303, -0.19349630958438174, -0.19038327010758918, -0.2339462179202856, -0.1940442297573421, -0.19405289848683369, -0.23395511512809147, -0.03469308729816954, -0.13322819547216996, 0.07922701538858218, 0.09561032444438104, -0.19362649388137282, -0.23038166215041392, 0.09661862360815948, 0.02881781090810922, -0.10432326870109955, 0.0948513607726795, -0.17048332918627523, 7.137363968424135, -0.23370744950164665, -0.19407909086993042, 1.1163877957463713, -0.23390307274300312, 0.09528584284218126, -0.18509366096895669, -0.193848361540066, -0.19407908939539997, -0.19404601723505963, 0.09488081137350257, -0.2338731524212049, -0.1902236724966179, -0.19380577349603922, -0.19220706962113535, -0.1939294876826737, -0.1939317341141785, -0.2339440977911242, -0.19396597920322106, 0.41953006565891005, -0.1940322001308211, -0.19403432239715077, 0.16621367283367466, -0.2983345460356948, -0.2339550971572547, -0.12831218641635103, 0.0946107902100663, -0.19375553224355643, -0.19035720431094852, -0.23387869295820746, -0.23395509688078045, -0.1939194833133692, -0.19407492832686016, -0.03694338857002709, -0.06617811806317483, 0.028980157342535173, -0.180578040070783, -0.03649612908251156, -0.2337773859367164, -0.31373136517089784, -0.2324614704129132, -0.0369828470346848, 0.09611124077054414, -0.2336645364190597, 0.10003040038388337, -0.23231248617490047, -0.19400660281519372, -0.19406358549882408, -0.19407234034453094, -0.03193773181386583, -0.23372326506951688, -0.03299821159059434, 0.09476457035857991, -0.19379072346252849, -0.23395510055512536, 0.3984081462054625, -0.0331554242622955, 0.11423488859533729, 0.3964929305154726, -0.15881402350922338, -0.1580205576002778, -0.24556878253494413, -0.12802504405172987, -0.23395509671103545, -0.07196310904541171, -0.12801628284771113, 0.16932128197338828, -0.24502161950229898, -0.23378539846198182, -0.03673087273474412, 7.061329144965957, 0.09466479448404064, -0.19381528414552154, -0.1940223846211525, 0.4295298283788642, 0.6209100417239369, -0.23385704668732762, -0.2692491315047329, -0.19406368793570652, -0.03741788721490016, 0.4601746641954876, -0.18914852664347323, -0.15130215123351826, -0.16262846310837023, -0.19405006601858382, 0.009390067513945171, -0.020657575470908324, -0.19385817750288456, -0.2248640265219588, -0.2339550967032597, 0.16607167173903917, 0.0882143736813067, 4.254153581403112, -0.23343937579256646, 7.139792651286779, 0.22454797278485789, -0.12583428378058295, -0.19258078360585812, -0.0015952485486305035, 0.16630059248369472, -0.1277687665475763, -0.19396541852480784, -0.23334519742914064, -0.19039147487070743, -0.19407908903524593, 0.16644024602257773, -0.18609966254141475, -0.1940452758383541, -0.07679935200351651, -0.19407909271309332, -0.36408084686004094, 0.1131608242688684, -0.02967097998433461, -0.1909084180900664, 0.031893332622472674, -0.24863293207405324, -0.23392582879874216, -0.22944844100264905, -0.03663762501053487, 0.047980788073347075, -0.15868419109749382, -0.19406767203321942, -0.19406312872152776, -0.033374048243443005, -0.24551724467787034, 0.17970173630996897, 0.09490614714259889, -0.1939456919176197, -0.19407908921108386, 7.5142670710775095, -0.194079089948349, 0.010862060701216352, 0.09476031781505295, -0.036698450314223446, -0.17512149633210955, -0.26198956438354987, -0.03646026427529218, -0.05636838967572686, -0.03687983389154434, -0.18464489784422383, -0.1937874753994429, 0.006973928132796028, 1.7740425389160857, 0.16610834311033587, -0.032514557711078904, 3.048066867925775, -0.1933556475822928, 0.1661672915760825, 0.009055349001329843, -0.036968809677786436, -0.21997238373225572, -0.1946581503330153, 0.1669634684502647, -0.19400613385792492, -0.19407908921108386, -0.07659869596674611, -0.23353965425367224, -0.03552792185240381, 0.09473671608482108, -0.03698284837650731, -0.036982846957272136, -0.20484528884793626, -0.07679803732229225, 0.008975429217968978, -0.17976862831898943, 1.017774351068592, -0.2717149415482197, -0.07226622234177285, -0.2482383549787803, 0.15549320000763803, 0.13100810120333578, 0.009452181192783472, -0.19387957662041783, 0.009222026488387557, 0.16609779235823247, 0.22210024973483483, -0.07684919237977068, -0.19380168946053805, -0.2267682284789066, -0.1729918396190803, -0.2337469081007472, -0.23363409630367027, 7.149404175777855, -0.07685885454402601, 0.012741919129712244, -0.23068009137927917, -0.29874265227868224, -0.1940313341535658, -0.19380128432296817, -0.0332357667245399, -0.193949057706404, -0.22806386516740945, -0.18083818868584517, 0.05181382982352611, -0.22728233020057087, -0.19326902600646598, -0.19039130903213833, -0.18862039248876133, -0.23123646706610712, -0.1926800851076394, 0.09466238121066603, -0.2802765142048447, -0.1893831038332362, 7.13752341652577, 0.09803094612136715, -0.19067674965588474, -0.27169981481977507, -0.19407908957971656, -0.12831028493954968, 7.149681550270661, 7.151056467045712, -0.019794017831557566, 0.0947361224901859, 31.7126947569953, 0.10633400217250076, 4.081788940679042, -0.19387750467494017, -0.03698111428079726], \"y\": [1.184179485306167, 1.1820617618517089, 0.8166502270112973, 1.9113463182519603, 1.4116597774686062, 0.985985576747165, 0.8166476405881256, 1.411677902783643, 0.362936050518269, 2.072658016088967, 1.5164151479022978, 1.9701052502006415, 0.730489383296355, 1.1841430889054738, 1.1829042049824, 1.1839325013232251, 1.1841793999411097, 1.1841794860194095, 1.1841773999217178, 0.46204749726810335, 0.7304893844048137, 0.10831020377173144, 0.8166502270112952, 1.0123564297091237, 1.411677902815731, 1.3013028831358302, 0.9579878017807586, 1.74285318034996, 0.3849358926910526, 1.4116779028592221, 2.072709274699639, 1.1840003304034323, 0.9546190512052113, 1.4116424781004215, 1.4116779028100694, 1.9701052504074912, 1.4116779027796649, 2.010658781172213, 0.6877529894188953, 0.8134113290452135, 0.7304569104244935, 1.9699726149164296, 1.9700748316642271, 0.732559267052077, 1.1837325831493435, 1.1840310522134432, 1.1253438506875049, 2.0727092747128992, 1.18417948540372, 0.9578860314033579, 1.4116779004042084, 0.008196313960180291, 1.4039643518694604, 1.411675029208654, 1.1819739353159118, 1.1840786658619233, 1.9701052501210845, 0.4769441312064761, 1.1841794854169796, 1.4116639526893349, 0.008156695862072965, 1.970038831814112, 1.1841794860534391, 1.1838824858195742, 0.006124690939070933, 1.2433658876334663, 0.8165717116187234, 0.7304893833042692, 1.0122563029450464, 0.7304348244637342, 1.970101191242058, 0.7301388791794577, 0.3629601246997179, 1.1841765394690538, 1.9700910070793847, 1.9701052502802003, 1.4116779029004596, 0.9579824023323259, 2.072709274699639, 1.1841794853904608, 1.1841561952591029, 1.1841794853904608, 1.4116748647990656, 1.896605481343847, 1.1841794853904608, 2.221402762701075, 1.295974948595198, 1.0556926265122761, 1.4116779027664053, 0.7302886868219779, 0.957987800484356, 1.9700590048348128, 0.8165638203035168, 1.5164151478605588, 2.0726821195486633, 1.0467592498470009, 0.8166428623201751, 1.3896089101823375, 0.8166399333433991, 1.7031445884215235, 1.7226440395297338, 0.00607443617592082, 1.1841614256871915, 1.1841794854461507, 0.7304081495650222, 0.8166502297958048, 1.411657020719176, 0.6562903186857423, 0.8166414428446889, 0.18427878180753954, 1.3012741429151018, 1.411677902767731, 1.4116779030448565, 1.4114078552463962, 1.3013142823653707, 0.8166478305747557, 0.8166167920955967, 1.7426856985933599, 2.0727092751769836, 1.4116289590359032, 1.7428531805538392, 1.1841794863805082, 1.1841794900313096, 1.2116786228262488, 1.1825476552398544, 1.184170401755442, 1.1839787891335816, 1.5164051155822533, 0.9566692260471072, 1.4116466671124768, 0.9579878017807586, 1.1840928544687026, 0.8166490322781358, 1.4116765829459346, 1.1841743037175319, 1.184175592080128, 1.4116780353620955, 0.7301490027560218, 0.5012841426075866, 2.148883643901654, 1.3011656990869667, 1.1841122056260664, 1.4111467193876863, 1.3010158116418769, 1.516410130154196, 1.9934665709456267, 1.3012785244932084, 2.1860037497862654, 0.6891357710937731, 1.411641089581877, 1.1841794986500294, 1.7850764946385973, 1.4116701692837978, 1.301213934038038, 2.1881756173287976, 1.184145187487368, 1.1841794880423742, 1.1841745697047001, 1.3012741429151018, 1.4116657222581594, 0.8166253075527372, 1.1841388565619106, 0.8760470881437005, 1.1841572470197572, 1.1841575890448228, 1.411676267807698, 1.184162673111234, 0.6626276518814409, 1.1841725153699014, 1.1841728307260515, 1.249433377125441, 1.1197075289465062, 1.4116779060812978, 1.970105256087891, 1.3013142834924347, 1.1841313940979235, 0.816645157511306, 1.4116665452196313, 1.4116779040923617, 1.1841557597333061, 1.1841788671734832, 0.7304835181925511, 0.3986449583335717, 1.516385996976238, 1.182172522821672, 0.7304170313241778, 1.4116514867731123, 2.086084081189993, 1.4114558717106598, 0.7304893845639286, 1.3010912366905756, 1.4116347113192942, 1.3005086444215126, 1.4114337297755943, 1.1841687103509622, 1.184177181111173, 1.1841784951621153, 0.36275932628750773, 1.4116434407481746, 0.7298970798509156, 1.3012914226560546, 1.1841366202596437, 1.4116779305253135, 1.9911087977161406, 0.36293936897494045, 1.2115553749383876, 1.9367244998633197, 1.7428448086114368, 1.7427268587097227, 1.3829522532565237, 1.970062565972313, 1.4116779028712305, 1.1660271905966597, 1.9700612634462116, 1.1681203829294668, 1.3828709156631003, 1.4116526766863775, 0.7304519265229944, 2.8008990950432633, 1.3013062550799532, 1.184140270549449, 1.1841710561476717, 0.9914376205429717, 1.0400437910119942, 1.411663327659058, 0.7321991851508108, 1.1841771961716734, 0.34296038859689965, 1.0869228270095452, 0.8164654846066713, 1.7417281594203624, 1.8608937250413955, 1.184175171297057, 1.7030829534661565, 1.2120839838387671, 1.1841466463542576, 0.7688883377743915, 1.4116779028152915, 1.2494544868366702, 0.34489746160066337, 0.8773424255348876, 1.411601241019274, 0.68877474422794, 1.6858571701154026, 1.9697369045539597, 1.1839567600640382, 1.2891364916297787, 1.2494204562970845, 1.1743228860472332, 1.1841625898424486, 1.411587239873604, 0.8166514203725063, 1.1841794854514545, 1.2493996976354693, 1.1829933289548273, 1.184174459000177, 0.957978955485019, 1.1841795119095988, 2.4071588608325736, 1.211715037176866, 0.44938229383821604, 1.1837081576878754, 1.5159529540413648, 1.1389173298069322, 1.4116735523213049, 1.6813949409676718, 0.7304380663247511, 1.235998509727779, 1.7428255091137015, 1.1841777882555882, 1.1841771129032586, 0.7299529297333059, 0.3356198224488528, 1.224141549878555, 1.3012703775522987, 1.1841596558588154, 1.1841794867164175, 0.7277572938905797, 1.184179492020245, 1.7028641368132669, 1.3012920554599854, 0.49896660364163753, 1.1813614430844932, 1.3253892803711127, 0.7304116997926137, 1.1637084671888165, 0.7304740704366767, 2.1881088176064605, 1.1841361371516326, 1.6189583939313021, -0.02526007290690045, 1.249449042982819, 0.36284410074750284, 1.0614284728167929, 0.9525914409606526, 1.2494402719306064, 1.7031327079492258, 0.730487515606577, 2.1340774522634063, 0.7966719004643447, 1.2493219186323958, 1.1841686533490392, 1.1841794867164175, 0.9579491277434039, 1.4116161465233383, 0.7302731070482635, 1.3012955656233238, 0.7304893942168947, 0.7304893840070263, 0.6993708960900167, 0.9579787610791698, 1.703144591468699, 1.182052421844102, 0.644148602117447, 0.7325657340425245, 1.227692057840892, 1.4269346092246136, 0.9234478995241713, 1.6952245548894715, 1.7030737181665891, 1.1841498274844748, 1.7031079309701354, 1.2494506031199861, 1.1223140223442012, 0.957986364404813, 1.184138250118798, 1.680996524230359, 2.1863766156120046, 1.411646960297437, 1.4116301853865325, 0.687345965834703, 0.9579878007862908, 1.1534353133864397, 1.4111910624006356, 1.119768194264781, 1.1841723890678229, 1.1841381895075176, 0.3629513098220094, 1.1841601558048762, 1.4108021582192212, 1.1822113181361888, 0.7806456349972459, 1.410685986955864, 1.1840590670396527, 0.8166502273427844, 1.1833680373008613, 1.4112737721865554, 1.1839715209112351, 1.3013066131379767, 0.8199908838855725, 0.8165003553462405, 0.6891120690598532, 0.7104192664458971, 1.1836737202923853, 0.7325634829132933, 1.1841794893683315, 1.9701049675851274, 0.6873047202139246, 0.6871003342905923, 0.3609531621309025, 1.3012956512482765, -3.4511311794496606, 1.6198826180277075, -0.013165861398758593, 1.1841495224566279, 0.7304891255429364], \"z\": [-0.4281584388064109, -0.42859060852450703, -0.3172636924847579, -0.5789289662608265, -0.47271047305402947, 0.1514938409040835, -0.3172642204906473, -0.47270677402888367, -0.03365977011163128, -0.6150540295091547, -0.28332640533850173, -0.5669352406473526, -0.14454960357382532, -0.4281658663880802, -0.4284186859997559, -0.4282088409706747, -0.4281584562312936, -0.4281584390770408, -0.4281588643807949, -0.23627850672243922, -0.14454960408110062, -0.2530505543084489, -0.31726369248474695, -0.3203111786899416, -0.4727067740435685, -0.06840756957352503, -0.18909793931288832, -0.5135209350105844, -0.00943775314426773, -0.47270677406347217, -0.6150435660639235, -0.4281950001039224, -0.18978540131406352, -0.4727140033461018, -0.4727067740409776, -0.5669352407420148, -0.4727067740270635, -0.3219070188027999, -0.15327084404896527, -0.3179246774922683, -0.14455623032961215, -0.5669623075538793, -0.5669414481230298, -0.31737339308158896, -0.42824964207314153, -0.4281887304933545, -0.44016506079599077, -0.6150435660699911, -0.42815843879527643, -0.18911870677527182, -0.4727067745030589, 0.0472974568232211, -0.09882003341676078, -0.47270736051732776, -0.4286085407071093, -0.4281790139661156, -0.5669352406109438, -0.12477572984176111, -0.4281584388013444, -0.4727096208695494, 0.047289372812423854, -0.5669487946332668, -0.42815843909261403, -0.4282190564374402, -0.3231597323133505, -0.05224304692761152, -0.3172797157629577, -0.14454960357744728, -0.3203316115781741, -0.14456073728243637, -0.5669360690140228, -0.14462113539478788, -0.0336548571698403, -0.42815903996509386, -0.5669381472844425, -0.5669352406837613, -0.47270677408234385, -0.18909904047953244, -0.6150435660639235, -0.4281584387892083, -0.4281631917952664, -0.4281584387892083, -0.4727073939807474, 0.12867805414114167, -0.4281584387892083, -0.7145692329705151, 0.008508561441790453, -0.2798499716979209, -0.47270677402099526, -0.14459056055292183, -0.18909793871960176, -0.5669446783519638, -0.3172813343255889, -0.28332640531940023, -0.6150491078620292, -0.3550313901397923, -0.3172651955945518, -0.4772106390530548, -0.3172657932116358, -0.42212167319152466, -0.5176450260620915, 0.13332470834278695, -0.428162124611809, -0.4281584388146943, -0.14456618278396305, -0.3172636937590515, -0.47271103880167004, -0.15969231809121529, -0.3172654854256677, -0.23754727052718833, -0.06841343478247387, -0.47270677402160216, -0.47270677414842555, -0.4727618834326603, -0.06840524345776915, -0.3172641834811278, -0.31727052017368595, -0.513555113893718, -0.6150435662823751, -0.47271676321597644, -0.513520935103888, -0.42815843924229435, -0.428158440913049, -0.07883999696458009, -0.42849146485996886, -0.4281602928808416, -0.428199395867841, -0.28332845433323933, -0.18936702671269307, -0.47271314873766046, -0.18909793931288832, -0.42817611840118264, -0.31726393647888795, -0.47270704338384384, -0.42815949640045425, -0.42815923329929984, -0.4727068347021599, -0.14461906508366015, -0.09544723448142502, -0.6762625921972384, -0.06843556545100565, -0.42817216860964563, -0.4728151860813552, -0.06846615277030958, -0.2833274292737776, -0.5650308471891076, -0.06841254309679001, -0.6686873610951597, 0.06273076731616128, -0.47271428677207633, -0.4281584448573247, -0.604694173228399, -0.4727083522310733, -0.06842572190606354, -0.6682441423898113, -0.4281654383202818, -0.42815844000283165, -0.4281594423045529, -0.06841343478247387, -0.47270926023079884, -0.31726877798854947, -0.4281667302272938, -0.37861694334613316, -0.4281629772320533, -0.4281629128980205, -0.47270710771183433, -0.42816187094421154, -0.15839847149978492, -0.4281598612793976, -0.42815979683951627, -0.13851714555373754, -0.4251372411970658, -0.4727067755380245, -0.5669352433415961, -0.06840524397355927, -0.4281682571940965, -0.31726472720479626, -0.47270909184420695, -0.4727067746278068, -0.4281632806732676, -0.42815856514154743, -0.14455080080760027, -0.04280442367182116, -0.2833323542508678, -0.4285680095755351, -0.1445643686407754, -0.4727121656254271, -0.5883062336949858, -0.4727520849921134, -0.1445496041539184, -0.06845076135371855, -0.47271558900199134, -0.06856965383697841, -0.472756606931472, -0.42816063784386654, -0.4281589092757519, -0.4281586496396838, -0.03369649226828065, -0.47271380705595006, -0.14467049268463655, -0.06840990858348282, -0.42816718722251934, -0.47270678672459704, -0.6316966122634107, -0.033659094558123596, -0.078865148815819, -0.6542043467054015, -0.5135226435183726, -0.5135467145881828, -0.4606359891048862, -0.5669439514530942, -0.47270677406896755, -0.43186322678803196, -0.5669442171629415, -0.01386444799875514, -0.46065258771462514, -0.47271192200515527, -0.14455724740802994, 1.8866359896175882, -0.06840688199941637, -0.42816644180786, -0.4281601589865108, 0.1526064734247547, 0.07146548743021906, -0.4727097486084803, -0.3174468786799903, -0.42815890608945467, 0.009134478458885537, -0.4480058806723612, -0.31730139385152156, -0.513750529205776, -0.3817678091997147, -0.4281593193529985, -0.4221342526501683, 0.2013430013005204, -0.4281651404000741, -0.39218695882513593, -0.4727067740433674, -0.13851283820919646, -0.037340994242673196, -0.09928822440023853, -0.47272241969153345, 0.06265708906456625, -0.5251524070026429, -0.5670104109464343, -0.42820389231794553, -0.22991752543714936, -0.13851978235852427, -0.43017031941886197, -0.4281618879895647, -0.4727252760886725, -0.3172642386152283, -0.4281584388171217, -0.13852401946800805, -0.4284005063157535, -0.42815946456267673, -0.18909974388843054, -0.4281584509254412, -0.9878433932821781, -0.07883256579240651, -0.06018692660097902, -0.428254624941679, -0.28342073246483984, -0.4365351763867432, -0.4727076620381936, -0.4469787764231734, -0.14456007680196, -0.13330554443699613, -0.5135265823289994, -0.42815878515082534, -0.4281589229879139, -0.14465908220582469, -0.24879240756434337, -0.134148281841169, -0.06841420377887128, -0.4281624856764215, -0.4281584393960198, 0.006101606670227537, -0.42815844182326646, -0.4221789066910959, -0.06840977988551879, -0.08110700472549345, -0.4287335632526811, -0.25412613360246333, -0.1445654565755723, -0.43233606080974113, -0.14455272872009248, -0.6682577137071578, -0.42816728562639655, -0.331447134633487, -0.2080817208396502, -0.13851395418465348, -0.033678535124565145, 0.02354301805990645, -0.3647291590346356, -0.13851573857950303, -0.42212409751442204, -0.14455013267563147, -0.5296581133934444, -0.2744699880456477, -0.13853989169867587, -0.42816065806417125, -0.4281584393960198, -0.18910583115123153, -0.47271937709194034, -0.14459374133019665, -0.06840906470507627, -0.14454960857150717, -0.14454960389905758, -0.22028407714889442, -0.1890997842540909, -0.4221216745860355, -0.4285926678095735, 0.5279714121370789, -0.31737207553707864, -0.16337254920886074, -0.2523852054148438, -0.196146516268289, -0.22537348502581106, -0.42213613602208827, -0.4281644912794921, -0.4221291538887044, -0.1385136302207651, -0.4407840159141135, -0.18909823193447636, -0.4281668544319649, -0.4470600854177794, -0.6686112481627648, -0.47271309215361795, -0.4727165119975276, 0.06236551304439321, -0.1890979388577793, -0.4344327268439152, -0.4728061238160463, -0.42512486049877374, -0.42815988869467464, -0.42816686653997094, -0.03365665621126948, -0.42816238338891954, -0.4728854921043078, -0.42856017594630236, -0.32461117207065115, -0.47290920362822164, -0.42818301276332277, -0.3172636926364498, -0.4283240349798294, -0.4727892470071837, -0.4282008796246199, -0.06840680846879615, -0.269959628135603, -0.3172942778033969, 0.06272593012201422, -0.14864541160252584, -0.42826165319752924, -0.3173725332431893, -0.42815844060964314, -0.5669352982692728, 0.06235710480070643, 0.062315395647106704, -0.03406442795615467, -0.06840904546475754, -0.7981588881478432, -0.19694641015710795, 0.0047506149166953735, -0.4281645555359482, -0.1445496560385675]}, {\"customdata\": [[\"SHA-256\"], [\"Ethash\"], [\"Scrypt\"], [\"CryptoNight-V7\"], [\"Ethash\"], [\"Equihash\"], [\"Multiple\"], [\"Scrypt\"], [\"X11\"], [\"SHA-256\"], [\"Scrypt\"], [\"SHA-256\"], [\"Multiple\"], [\"Scrypt\"], [\"SHA-256\"], [\"Scrypt\"], [\"Scrypt\"], [\"Quark\"], [\"Groestl\"], [\"Scrypt\"], [\"X11\"], [\"Scrypt\"], [\"Scrypt\"], [\"Scrypt\"], [\"X11\"], [\"Multiple\"], [\"Scrypt\"], [\"SHA-256\"], [\"Scrypt\"], [\"Scrypt\"], [\"Scrypt\"], [\"Scrypt\"], [\"Scrypt\"], [\"Scrypt\"], [\"SHA-256\"], [\"Scrypt\"], [\"NeoScrypt\"], [\"Scrypt\"], [\"Scrypt\"], [\"Scrypt\"], [\"Multiple\"], [\"Scrypt\"], [\"SHA-256\"], [\"Scrypt\"], [\"Scrypt\"], [\"Scrypt\"], [\"Scrypt\"], [\"Scrypt\"], [\"HybridScryptHash256\"], [\"Scrypt\"], [\"SHA-256\"], [\"Scrypt\"], [\"SHA-256\"], [\"Scrypt\"], [\"Scrypt\"], [\"Scrypt\"], [\"Scrypt\"], [\"Scrypt\"], [\"Scrypt-n\"], [\"Scrypt\"], [\"SHA-256\"], [\"SHA-256\"], [\"SHA-256\"], [\"SHA-256\"], [\"SHA-256\"], [\"SHA-256\"], [\"X11\"], [\"Scrypt\"], [\"X11\"], [\"Lyra2REv2\"], [\"Scrypt\"], [\"SHA-256\"], [\"CryptoNight\"], [\"CryptoNight\"], [\"Scrypt\"], [\"SHA-256\"], [\"Scrypt\"], [\"Scrypt\"], [\"Scrypt\"], [\"Scrypt\"], [\"Scrypt\"], [\"Momentum\"], [\"Stanford Folding\"], [\"Multiple\"], [\"QuBit\"], [\"Scrypt\"], [\"Scrypt\"], [\"SHA-256\"], [\"M7 POW\"], [\"Scrypt\"], [\"X11\"], [\"Scrypt\"], [\"SHA-256\"], [\"Scrypt\"], [\"X11\"], [\"X11\"], [\"Lyra2RE\"], [\"SHA-256\"], [\"X11\"], [\"Scrypt\"], [\"Scrypt\"], [\"Ethash\"], [\"Blake2b\"], [\"X11\"], [\"SHA-256\"], [\"Scrypt\"], [\"Scrypt\"], [\"1GB AES Pattern Search\"], [\"Scrypt\"], [\"CryptoNight\"], [\"SHA-256\"], [\"SHA-256\"], [\"X11\"], [\"Scrypt-n\"], [\"X11\"], [\"Scrypt\"], [\"Dagger\"], [\"Scrypt\"], [\"CryptoNight-Lite\"], [\"X11GOST\"], [\"SHA-256\"], [\"Scrypt\"], [\"X11\"], [\"SHA-256\"], [\"Scrypt\"], [\"X11\"], [\"Equihash\"], [\"CryptoNight\"], [\"SHA-256\"], [\"Multiple\"], [\"Scrypt\"], [\"SHA-256\"], [\"Scrypt\"], [\"Scrypt\"], [\"Scrypt-n\"], [\"Lyra2Z\"], [\"SHA-256\"], [\"Quark\"], [\"Ethash\"], [\"SHA-256\"], [\"Equihash\"], [\"Scrypt\"], [\"Equihash\"], [\"X11\"], [\"X11\"], [\"CryptoNight\"], [\"Scrypt\"], [\"CryptoNight\"], [\"Lyra2RE\"], [\"X11\"], [\"X11\"], [\"Scrypt\"], [\"CryptoNight-V7\"], [\"Keccak\"], [\"Scrypt\"], [\"X11\"], [\"Equihash\"], [\"Scrypt\"], [\"Lyra2RE\"], [\"Ethash\"], [\"X11\"], [\"Dagger-Hashimoto\"], [\"Scrypt\"], [\"NIST5\"], [\"Scrypt\"], [\"Scrypt\"], [\"Scrypt\"], [\"SHA-256\"], [\"Scrypt\"], [\"CryptoNight-V7\"], [\"Argon2d\"], [\"Blake2b\"], [\"Cloverhash\"], [\"CryptoNight\"], [\"X11\"], [\"Scrypt\"], [\"Scrypt\"], [\"X11\"], [\"X11\"], [\"CryptoNight\"], [\"Time Travel\"], [\"Scrypt\"], [\"Keccak\"], [\"X11\"], [\"SHA-256\"], [\"Scrypt\"], [\"Scrypt\"], [\"Scrypt\"], [\"Scrypt\"], [\"Scrypt\"], [\"Scrypt\"], [\"Scrypt\"], [\"Scrypt\"], [\"CryptoNight\"], [\"Equihash\"], [\"X11\"], [\"NeoScrypt\"], [\"Equihash\"], [\"Dagger\"], [\"Scrypt\"], [\"X11\"], [\"NeoScrypt\"], [\"Scrypt\"], [\"Ethash\"], [\"Scrypt\"], [\"NeoScrypt\"], [\"Multiple\"], [\"CryptoNight\"], [\"CryptoNight\"], [\"Ethash\"], [\"X11\"], [\"SHA-256\"], [\"CryptoNight-V7\"], [\"Scrypt\"], [\"BLAKE256\"], [\"X11\"], [\"NeoScrypt\"], [\"NeoScrypt\"], [\"Scrypt\"], [\"X11\"], [\"SHA-256\"], [\"C11\"], [\"Ethash\"], [\"CryptoNight\"], [\"SkunkHash\"], [\"CryptoNight\"], [\"Equihash\"], [\"Skein\"], [\"Scrypt\"], [\"Dagger\"], [\"Lyra2REv2\"], [\"Scrypt\"], [\"Scrypt\"], [\"Scrypt\"], [\"NeoScrypt\"], [\"Equihash\"], [\"X11\"], [\"Ethash\"], [\"X11\"], [\"CryptoNight\"], [\"NeoScrypt\"], [\"Scrypt\"], [\"IMesh\"], [\"Equihash\"], [\"Equihash\"], [\"Equihash\"], [\"Lyra2Z\"], [\"X11\"], [\"CryptoNight\"], [\"NIST5\"], [\"Lyra2RE\"], [\"Tribus\"], [\"Lyra2Z\"], [\"CryptoNight\"], [\"CryptoNight Heavy\"], [\"CryptoNight\"], [\"Jump Consistent Hash\"], [\"CryptoNight\"], [\"X16R\"], [\"HMQ1725\"], [\"X11\"], [\"Scrypt\"], [\"CryptoNight-V7\"], [\"Cryptonight-GPU\"], [\"XEVAN\"], [\"CryptoNight Heavy\"], [\"Lyra2REv2\"], [\"SHA-256\"], [\"X11\"], [\"X16R\"], [\"Equihash\"], [\"Quark\"], [\"CryptoNight Heavy X\"], [\"Lyra2Z\"], [\"Ethash\"], [\"SHA-256\"], [\"Ethash\"], [\"CryptoNight\"], [\"SkunkHash\"], [\"Argon2\"], [\"Blake\"], [\"Blake\"], [\"SHA-256\"], [\"Equihash\"], [\"Exosis\"], [\"Scrypt\"], [\"Equihash\"], [\"Equihash\"], [\"QuBit\"], [\"Equihash1927\"], [\"SHA-256\"], [\"SHA-256\"], [\"X13\"], [\"SHA-256\"], [\"X11\"], [\"Scrypt\"], [\"NeoScrypt\"], [\"Blake\"], [\"CryptoNight\"], [\"Scrypt\"], [\"SHA-256\"], [\"CryptoNight\"], [\"Scrypt\"], [\"Groestl\"], [\"Scrypt\"], [\"Scrypt\"], [\"Scrypt\"], [\"Multiple\"], [\"Equihash+Scrypt\"], [\"Ethash\"], [\"Ethash\"], [\"CryptoNight\"], [\"Equihash\"]], \"hovertemplate\": \"<b>%{hovertext}</b><br><br>class=%{marker.color}<br>PC 1=%{x}<br>PC 2=%{y}<br>PC 3=%{z}<br>Algorithm=%{customdata[0]}<extra></extra>\", \"hovertext\": [\"Bitcoin\", \"Ethereum\", \"Litecoin\", \"Monero\", \"Ethereum Classic\", \"ZCash\", \"DigiByte\", \"ProsperCoin\", \"Spreadcoin\", \"ACoin\", \"Argentum\", \"BetaCoin\", \"MyriadCoin\", \"MoonCoin\", \"ZetaCoin\", \"SexCoin\", \"Quatloo\", \"QuarkCoin\", \"Riecoin\", \"Digitalcoin \", \"LimeCoinX\", \"BitMark\", \"Catcoin\", \"CannaCoin\", \"CryptCoin\", \"Verge\", \"DarkShibe\", \"DevCoin\", \"EarthCoin\", \"E-Gulden\", \"Elacoin\", \"Einsteinium\", \"Emerald\", \"Flappy Coin\", \"FireRoosterCoin\", \"Franko\", \"FeatherCoin\", \"GrandCoin\", \"GlobalCoin\", \"GoldCoin\", \"HunterCoin\", \"Infinite Coin\", \"IXcoin\", \"KrugerCoin\", \"LuckyCoin\", \"Litebar \", \"LitecoinDark\", \"MegaCoin\", \"MediterraneanCoin\", \"MinCoin\", \"NoirBits\", \"NobleCoin\", \"Namecoin\", \"NyanCoin\", \"RipOffCoin\", \"RonPaulCoin\", \"StableCoin\", \"SmartCoin\", \"SpainCoin\", \"SecureCoin\", \"SysCoin\", \"TigerCoin\", \"TerraCoin\", \"Umbrella\", \"UnbreakableCoin\", \"Unobtanium\", \"UroCoin\", \"ViaCoin\", \"VootCoin\", \"Vertcoin\", \"WorldCoin\", \"JouleCoin\", \"ByteCoin\", \"DigitalNote \", \"MonaCoin\", \"Sling Coin\", \"Gulden\", \"PesetaCoin\", \"Wild Beast Coin\", \"Flo\", \"ArtByte\", \"BitCredit\", \"Folding Coin\", \"Unitus\", \"CypherPunkCoin\", \"OmniCron\", \"GreenCoin\", \"Unattanium\", \"Cryptonite\", \"Gridmaster\", \"ConSpiracy Coin \", \"MasterCoin\", \"SoonCoin\", \"1Credit\", \"Quicksilver coin\", \"MarsCoin \", \"Crypto\", \"Anarchists Prime\", \"BowsCoin\", \"Song Coin\", \"BitZeny\", \"Expanse\", \"Siacoin\", \"MindCoin\", \"I0coin\", \"DogeCoinDark\", \"Revolution VR\", \"HOdlcoin\", \"Gamecredits\", \"Dashcoin\", \"CarpeDiemCoin\", \"Phalanx\", \"SunShotCoin\", \"HempCoin\", \"Adzcoin\", \"VirtaCoin\", \"SoilCoin\", \"YoCoin\", \"AEON\", \"SibCoin\", \"Anti Bitcoin\", \"Francs\", \"BolivarCoin\", \"Clinton\", \"Omni\", \"PizzaCoin\", \"Komodo\", \"Karbo\", \"ZayedCoin\", \"Circuits of Value\", \"DopeCoin\", \"DollarCoin\", \"Shilling\", \"GBR Coin\", \"FujiCoin\", \"ZCoin\", \"LeaCoin\", \"Zurcoin\", \"Elementrem\", \"CashOut\", \"ZClassic\", \"KiloCoin\", \"Hush\", \"ArtexCoin\", \"Kurrent\", \"Cannabis Industry Coin\", \"OsmiumCoin\", \"Bikercoins\", \"HexxCoin\", \"MarxCoin\", \"PacCoin\", \"Solarflarecoin\", \"Citadel\", \"CreativeChain\", \"BeaverCoin\", \"VaultCoin\", \"Zero\", \"Canada eCoin\", \"Zoin\", \"Musicoin\", \"BnrtxCoin\", \"DubaiCoin\", \"EB3coin\", \"Coinonat\", \"Bitcoin Scrypt\", \"BenjiRolls\", \"ParallelCoin\", \"ILCoin\", \"EquiTrader\", \"Quantum Resistant Ledger\", \"Dynamic\", \"Nano\", \"ChanCoin\", \"Dinastycoin\", \"DigitalPrice\", \"Unify\", \"SocialCoin\", \"ArcticCoin\", \"DAS\", \"LeviarCoin\", \"Bitcore\", \"gCn Coin\", \"SmartCash\", \"Onix\", \"Bitcoin Cash\", \"CampusCoin\", \"Sojourn Coin\", \"NewYorkCoin\", \"LiteBitcoin\", \"FrazCoin\", \"Kronecoin\", \"AdCoin\", \"Linx\", \"Sumokoin\", \"BitcoinZ\", \"Elements\", \"VIVO Coin\", \"Bitcoin Gold\", \"Pirl\", \"eBoost\", \"Pura\", \"Innova\", \"Bitdeal\", \"Ellaism\", \"Sakuracoin\", \"GoByte\", \"SHIELD\", \"UltraNote\", \"BitCoal\", \"DaxxCoin\", \"AC3\", \"CHIPS\", \"Lethean\", \"PopularCoin\", \"Photon\", \"Sucre\", \"SparksPay\", \"GunCoin\", \"IrishCoin\", \"Pioneer Coin\", \"UnitedBitcoin\", \"Interzone\", \"1717 Masonic Commemorative Token\", \"TurtleCoin\", \"MUNcoin\", \"Niobio Cash\", \"Bitcoin Private\", \"Skeincoin\", \"ShareChain\", \"Travelflex\", \"KREDS\", \"BitFlip\", \"LottoCoin\", \"LeafCoin\", \"Cerberus\", \"Bitcoin Hush\", \"Crypto Improvement Fund\", \"Callisto Network\", \"Curium\", \"BitTube\", \"Dinero\", \"Poseidon\", \"Aidos Kuneen\", \"Snowgem\", \"Bitrolium\", \"Bitcoin Interest\", \"Alpenschillling\", \"FuturoCoin\", \"Monero Classic\", \"Jumpcoin\", \"Infinex\", \"KEYCO\", \"GINcoin\", \"PlatinCoin\", \"Loki\", \"Newton Coin\", \"MassGrid\", \"PluraCoin\", \"Motion\", \"PlusOneCoin\", \"Axe\", \"HexCoin\", \"Webchain\", \"Ryo\", \"Urals Coin\", \"Qwertycoin\", \"NIX\", \"Project Pai\", \"Azart\", \"Xchange\", \"CrypticCoin\", \"ZestCoin\", \"X-CASH\", \"Actinium\", \"ETHER-1\", \"Bitcoin SV\", \"Bitcoiin2Gen\", \"FREDEnergy\", \"C25 Coin\", \"Aquachain\", \"Universal Molecule\", \"Lithium\", \"Smart Bitcoin\", \"PirateCash\", \"Exosis\", \"Block-Logic\", \"Beam\", \"Bithereum\", \"SLICE\", \"Vidulum\", \"BlockStamp\", \"BLAST\", \"Bitcoin Rhodium\", \"GlobalToken\", \"Boolberry\", \"SolarCoin\", \"UFO Coin\", \"BlakeCoin\", \"FantomCoin \", \"Crypto Escudo\", \"Crown Coin\", \"Quazar Coin\", \"SmileyCoin\", \"Groestlcoin\", \"Bata\", \"Pakcoin\", \"Dotcoin\", \"JoinCoin\", \"Vollar\", \"Reality Clash\", \"iOlite\", \"Beldex\", \"Horizen\"], \"legendgroup\": \"0\", \"marker\": {\"color\": [0, 0, 0, 0, 0, 0, 0, 0, 0, 0, 0, 0, 0, 0, 0, 0, 0, 0, 0, 0, 0, 0, 0, 0, 0, 0, 0, 0, 0, 0, 0, 0, 0, 0, 0, 0, 0, 0, 0, 0, 0, 0, 0, 0, 0, 0, 0, 0, 0, 0, 0, 0, 0, 0, 0, 0, 0, 0, 0, 0, 0, 0, 0, 0, 0, 0, 0, 0, 0, 0, 0, 0, 0, 0, 0, 0, 0, 0, 0, 0, 0, 0, 0, 0, 0, 0, 0, 0, 0, 0, 0, 0, 0, 0, 0, 0, 0, 0, 0, 0, 0, 0, 0, 0, 0, 0, 0, 0, 0, 0, 0, 0, 0, 0, 0, 0, 0, 0, 0, 0, 0, 0, 0, 0, 0, 0, 0, 0, 0, 0, 0, 0, 0, 0, 0, 0, 0, 0, 0, 0, 0, 0, 0, 0, 0, 0, 0, 0, 0, 0, 0, 0, 0, 0, 0, 0, 0, 0, 0, 0, 0, 0, 0, 0, 0, 0, 0, 0, 0, 0, 0, 0, 0, 0, 0, 0, 0, 0, 0, 0, 0, 0, 0, 0, 0, 0, 0, 0, 0, 0, 0, 0, 0, 0, 0, 0, 0, 0, 0, 0, 0, 0, 0, 0, 0, 0, 0, 0, 0, 0, 0, 0, 0, 0, 0, 0, 0, 0, 0, 0, 0, 0, 0, 0, 0, 0, 0, 0, 0, 0, 0, 0, 0, 0, 0, 0, 0, 0, 0, 0, 0, 0, 0, 0, 0, 0, 0, 0, 0, 0, 0, 0, 0, 0, 0, 0, 0, 0, 0, 0, 0, 0, 0, 0, 0, 0, 0, 0, 0, 0, 0, 0, 0, 0, 0, 0, 0, 0, 0, 0, 0, 0, 0, 0, 0, 0, 0, 0, 0, 0, 0, 0, 0, 0, 0, 0, 0, 0, 0, 0, 0, 0, 0, 0, 0, 0, 0, 0, 0, 0, 0, 0, 0], \"coloraxis\": \"coloraxis\", \"symbol\": \"diamond\"}, \"mode\": \"markers\", \"name\": \"0\", \"scene\": \"scene\", \"showlegend\": true, \"type\": \"scatter3d\", \"x\": [-0.2631244180290394, -0.33849740136380146, -0.26620313786008465, -0.33013805207358005, -0.3384207768028425, -0.3183927100166619, -0.07883667797454602, -0.26697635552377136, -0.3067797083128608, -0.2633664536936402, -0.2668894427850161, -0.26336645374967277, -0.2100393806121732, -0.267054940317807, -0.2610685158913342, -0.26531339586017816, -0.2669548959544531, -0.060495421012337215, -0.28162387595539357, -0.2666027183356696, -0.3069302414398027, -0.26705423378223464, -0.2669567567686577, -0.26699072643929045, -0.30686277686966673, -0.017767211060163986, -0.2670542337351673, -0.009899688593660147, -0.09776437760553629, -0.26677192033350877, -0.26705423386963745, -0.2640992336908141, -0.26679100668798644, -0.26705441804767605, -0.2633664536954879, -0.26703880566731425, -0.34187283438276805, -0.25511760898417624, -0.26616758312522604, -0.2664917983416891, -0.23283258339438664, 0.9560834629695832, -0.2630817253572412, -0.26500953180725256, -0.266793308151743, -0.2670393239263478, -0.2670542338825453, -0.2665391417188169, -0.3598592041542734, -0.2669758708847909, -0.2633664537828498, -0.23510987999056027, -0.2631674968444011, -0.26253530812335707, -0.2670542337535179, -0.2670393264846659, -0.2667273037936109, -0.2667086914805636, -0.36796248675672905, -0.2670542337701063, -0.25576082006631323, -0.26277866122890975, -0.26305680182160956, -0.2633664536955299, -0.26333569641926624, -0.26336374117084865, -0.30691394144745604, -0.26674167240258745, -0.30693024140109637, -0.2671224004029893, -0.26543941483424227, -0.2628372701053959, 2.3064231853970942, -0.08542590911020782, -0.2661335341554866, -0.26336645369253464, -0.26145086304220055, -0.26519760120005403, -0.2670517776352947, -0.26499842004480256, -0.25635414990209665, -0.36136916133710173, -0.2601312339915458, -0.23195348531897134, -0.3716318589471788, -0.266917332482483, -0.20480980896899928, -0.26336645369069134, -0.4252597139361178, -0.26705423388622584, -0.3069302414619206, -0.2670458701285951, -0.2631981952636873, -0.26705321233418, -0.3069302414619206, -0.3064952163434339, -0.28206354051028565, -0.2631673510934321, -0.30671606296384574, -0.266614568349317, -0.26603335898653874, -0.3398095542742905, 0.2842241974260565, -0.3067160108743266, -0.2630829657275891, -0.2670542641435855, -0.26421901345064325, -0.3788251923934886, -0.26611137315251154, -0.17867208088912043, 0.030145971834016128, -0.26336645371833883, -0.3069302455482124, -0.3679624958803846, -0.3063212047800321, -0.26705427243781793, -0.32264577534337124, -0.2670456411283468, -0.31175387951458006, -0.35260879957158947, -0.2633664537681044, -0.26696552096029763, -0.3067458969857434, -0.2633664536951543, -0.26704591103677333, -0.30691163811976135, -0.22731344769995437, -0.17856646981196653, -0.2632821553076147, -0.2193315347296219, -0.2654767007411666, -0.26324350350197223, -0.26690411290264926, -0.2670542338926769, -0.3679624866830024, -0.35197804151098744, -0.26336645737701686, -0.06399971525811132, -0.33959744925960106, -0.2633664538750077, -0.318416600210431, -0.26440402328478707, -0.3184923890341447, -0.29580537646418037, -0.3061017523637443, -0.17865887490849244, -0.2670421634459612, -0.1785457503807786, -0.28222375186287313, -0.30693024158659216, -0.29968060345806685, -0.2670542337682635, -0.33022218859535873, -0.27788351693670654, -0.2670121744810827, -0.30652000652515954, -0.31839893942585634, -0.26570624298808426, -0.2819986946174738, -0.33995125236301, -0.30693024178816064, -0.18026228707019012, -0.26618887704997446, -0.23170881248719535, -0.2670542337701063, -0.26678048515228414, -0.2670542337332432, -0.24557548236064933, -0.2668696285092648, -0.3294382270042693, -0.373983913152535, -0.1608385939912069, -0.35280998169746264, -0.1542423767244149, -0.30645582849890785, -0.2668094165800846, -0.2669844634768437, -0.3065786422273489, -0.30689482971880566, -0.17848088173294036, -0.2745596811943027, 1.9343605520434346, -0.24762754757554922, -0.3052766936130175, -0.26312349435941423, -0.26705423559299474, -0.2670477021857466, 1.6636860790679708, -0.2670542355745629, -0.26692321900426436, -0.26681858992888347, -0.2666134687412083, -0.26659902538541974, -0.1785512918023211, -0.24813098242293316, -0.27043885303084386, -0.3446338408982828, -0.3182601390832169, -0.32226389927239285, -0.26570426382614637, -0.3045646438330281, -0.34460401317516054, -0.2670542342843488, -0.33977902768176366, -0.26705423392511646, -0.344611343575592, -0.2263287156827489, 0.08165261287968867, -0.17861132614956352, -0.33291868357354754, -0.305845889224134, -0.2633664537293976, -0.3244129456072329, -0.2135333605081608, 0.28053399258877126, -0.3068731449469156, -0.3445841374470186, -0.34064249931702284, -0.26644016488972555, -0.30681577812611843, -0.263094191537445, -0.32159909526664904, -0.10985801947866317, 0.5387696906615341, -0.29777411860850694, -0.17686385242334948, -0.3184923890341447, -0.3186357931236122, -0.13204374417155662, -0.3212737552434264, -0.2591213800144866, -0.26688619837673805, -0.07141034582936566, -0.26705427243781793, -0.3446900858464344, -0.3184923890341447, -0.30407750217154284, -0.3366082351986616, -0.306930241441646, -0.17759133596354745, -0.3446900859726914, -0.2669992816291153, -0.2621130217051743, -0.3184923891504408, -0.3175290152046852, -0.3184923890365409, -0.3517110962724344, -0.3065008884424427, -0.17845583639452672, -0.23156102796035866, -0.282180257673578, -0.3229367558972206, -0.3519858975031988, -0.17867094382243603, 0.10288849800069, 0.3788469924788454, -0.31443867629908284, -0.17111033380297905, -0.2667195853861939, -0.3431840055737863, -0.30686283027871597, -0.2670351073321243, -0.33015993974419033, -0.28139843578056956, -0.3022301580799153, 1.4467011665727774, -0.26781329961554695, -0.23501425088312408, -0.30686252177795387, -0.26669760732321596, -0.2613139474479187, -0.06399971507987767, -0.3224770874912979, -0.3518961365734937, -0.33995125154974704, -0.2631235358751454, -0.3399512517088742, -0.1534648930588727, -0.29783917122861847, -0.29556571975508156, -0.30168872607709984, -0.30149608699746233, -0.2633664537293975, -0.08823906320533575, -0.33940116557675315, -0.2665778531935807, -0.31801057045940573, -0.3181528269926902, -0.3715432854145152, -0.2386614178870754, -0.26336645388422353, -0.26266043206385975, -0.20127153011693866, -0.2622240882389694, -0.3069302414351027, -0.2663042276267159, -0.29305282652327735, -0.3013947060313613, -0.17867208088903444, -0.25652057127982486, -0.26305610607080565, -0.17867208088912043, 0.13236061680064853, -0.28130323118494843, -0.26698601892647694, -0.2661134206940669, -0.26705423537181505, -0.23278758536615224, -0.2907757753598349, -0.33962063859248887, -0.33995125336772053, -0.16543804838639162, -0.318393878110699], \"y\": [-1.432037287916599, -2.085049133850765, -1.0645985675327234, -2.190623686682412, -2.0850605216180598, -1.9130465334720874, -1.8094957677009236, -1.0644836269892775, -0.8369960100144775, -1.4320013087669377, -1.0644965462967995, -1.4320013083638474, -1.7899922989956703, -1.0644669589111015, -1.4323429026328554, -1.0647308284664057, -1.0644868159993297, -0.5460278693265893, -1.2363879158202722, -1.064539169039562, -0.8369736327545921, -1.0644720500432896, -1.0644865404090078, -1.0644814908072502, -0.8369836616249006, -1.8185740035407782, -1.0644720503818859, -1.4696797085447348, -1.0896373717961672, -1.0645140169560605, -1.0644720494145206, -1.0649113170396518, -1.0645111795635374, -1.0644707244520872, -1.4320013087536465, -1.0644743436958075, -1.5165045944689113, -1.0662464506861582, -1.0646038530433857, -1.0645556573506192, -1.7866040394860345, -1.2462943355522869, -1.432043634323379, -1.064775998662033, -1.0645108375991692, -1.0644742667832623, -1.0644720493216608, -1.0645486199938756, -2.3081244649817596, -1.0644836991753055, -1.432001308125175, -1.0692204893994144, -1.4320308841082992, -1.0651437992615724, -1.064472050249873, -1.064474266147793, -1.064520646378497, -1.0645234157418864, -2.0954412587104128, -1.064472050130537, -1.433131899835276, -1.4320886854700388, -1.4320473390166373, -1.4320013087533479, -1.4320058799193713, -1.4320017120099473, -0.8369760560750305, -1.064518513385004, -0.8369736330330432, -1.4520555811022373, -1.0647120951291134, -1.4320799730929472, -2.6316787492212783, -2.2761247407426817, -1.0646089140792316, -1.432001308774894, -1.065304988167837, -1.0647480428111626, -1.0644724154816663, -1.0647776518312002, -1.0660626402532423, -2.3504605519797384, -2.108815134302285, -1.7867347208661541, -1.128896116507803, -1.0644924011883814, -1.073724760040059, -1.4320013087881533, -2.221720497830925, -1.0644720492951845, -0.8369736325954774, -1.0644732936781467, -1.4320263206868005, -1.064471007569998, -0.8369736325954774, -0.8370383005172948, -2.225935575579145, -1.4320309053492553, -0.8370054710929997, -1.0645374053912395, -1.0646238035678692, -2.0848540777638265, -2.2378765418574695, -0.8370054789012069, -1.4320434499382269, -1.0644718316260995, -1.0648935125484336, -2.063981418465137, -1.0646122086598309, -2.262263518703303, -1.475632620203678, -1.4320013085892602, -0.8369736031990128, -2.0954411930755468, -0.8370641672491169, -1.0644717719580385, -2.2750513574578366, -1.0644733255416956, -2.25447937772562, -2.225988011577272, -1.432001308231252, -1.0644852375959366, -0.8370010361150874, -1.4320013087560495, -1.0644732875970497, -0.8369763981476663, -1.0303389995204235, -2.262279218248701, -1.4320138398950149, -1.7886109999598108, -1.064706553305329, -1.4320195856019675, -1.0644943659768318, -1.0644720492487756, -2.0954412592407956, -2.1804792661432733, -1.4320012822690154, -0.5455069459749361, -2.0848856077546083, -1.432001307462197, -1.9130429821158155, -1.0648658830962505, -1.9130317158566545, -0.8386273744858251, -0.8370967877062642, -2.26226548178282, -1.0644738446615698, -2.2622822980658497, -2.2259117603564658, -0.8369736316986001, -0.8380500171189212, -1.0644720501437968, -2.190611177108009, -1.54927126541524, -1.0644783026119407, -0.837034602817786, -1.913045607501762, -1.064672432390142, -2.2259452157170685, -2.0848330081869832, -0.8369736302485337, -2.2093123264693393, -1.064600636597769, -0.5058186718356673, -1.064472050130537, -1.0645127435788833, -1.0644720503957286, -1.4346459630196093, -1.0644994916505004, -2.190727716628717, -2.204686699073728, -2.171716482361197, -2.2427508440658177, -2.26589504924697, -0.8370441547805448, -1.064508443037442, -1.0644824210140318, -0.83702589863328, -0.8369788968512399, -2.262291940628189, -2.0259355817665012, -1.3917170378681831, -1.5537688518358639, -0.8372194240933281, -1.4320374252231414, -1.0644720370168235, -1.0644728849962828, -1.351482979874477, -1.0644720371494187, -1.0644915259215282, -1.0645070785483532, -1.0645375702831499, -1.0645397173357294, -2.262281473485586, -1.9234908991011908, -0.8423981751607461, -1.516094165736552, -1.91306624057955, -2.2751081229578953, -1.064672726599106, -0.8373252823859522, -1.5160985994924476, -1.064472046431117, -2.0848586122262875, -1.0644720490154072, -1.5160975099756024, -1.7875708528944996, -2.300960541388121, -2.2622725501733822, -2.0858782988347, -0.8371348184263548, -1.432001308509702, -2.191474729703851, -1.0724280401963726, -1.2622595339160227, -0.8369821203525722, -1.516101554396787, -1.5166874857136123, -1.0645633329410005, -0.8369906480785532, -1.432041781195316, -1.1097355410764496, -0.28987482806256115, -2.368900624175833, -1.4797728681611304, -2.262532313718139, -1.9130317158566545, -0.8656856274534077, -1.0845416760968738, -2.275255311871849, -1.4532449460366248, -1.0644970289004683, -1.0935549220116976, -1.0644717719580385, -1.5160858046806585, -1.9130317158566545, -0.8373976956563183, -2.085329880239513, -0.8369736327413327, -2.262424162262804, -1.5160858037723781, -1.0644802189479368, -2.1071319090211333, -1.9130317150200284, -1.9131749239244957, -1.9130317158394174, -2.1805189448175772, -0.8370374564709946, -2.262295664162817, -0.5058406408479591, -2.2259182257000667, -2.109901673113566, -2.1804780984656063, -2.262263680180213, -2.4805507549056762, -2.34513818270495, -2.247857183010329, -2.2633875846566083, -1.296002300244702, -2.215062472572107, -0.8369836536465121, -1.0644748933244121, -2.1906204102830675, -2.202682528004476, -0.5672853465401141, -2.680310556494589, -1.4519528754688695, -1.4362159301826096, -0.8369836994542278, -1.2960055663445196, -1.9215313817813078, -0.5455069472571364, -2.187611909181834, -2.1804914407700675, -2.084833014037531, -1.4320374190516902, -2.0848330128927826, -2.2660105458114796, -1.4797631980104717, -2.1952210010766295, -1.7888901636496388, -1.7889188011230202, -1.4320013085097059, -0.11809732710071076, -2.1650693513647554, -1.0645428643923185, -1.9131033366405044, -1.9130821927481467, -1.1289092819576516, -2.300178163325483, -1.4320013073958986, -1.4321062604056254, -0.27854863439927824, -1.4321711230070084, -0.8369736327884041, -1.0645822674104761, -1.5237618024302249, -1.7889337811673136, -2.2622635187039233, -1.0660379011653451, -1.4320474424422946, -2.262263518703303, -1.1238457389080307, -1.2364355804525768, -1.064482190700293, -1.0646119030134242, -1.0644720386079718, -1.7866107291007043, -2.1225534797767454, -2.0848821606059267, -2.0848330009591707, -2.264230783436126, -1.913046359831047], \"z\": [0.1256841104887832, 0.2511412428346603, 0.014770887490486646, 0.2763456996597465, 0.251138917083858, 0.1941597151825159, 0.20200492704988882, 0.014794344026438595, -0.029756195240683465, 0.12569145294488102, 0.014791707198597327, 0.12569145276041044, 0.20598517789626164, 0.014794376457366414, 0.12562174221132252, 0.014743895468762503, 0.01479369255016627, 0.020727165414397886, 0.12262502631553415, 0.014783009289754534, -0.029751628709088766, 0.0147967064827701, 0.014793749483188982, 0.014794780027304274, -0.029753675280131665, 0.20015236521127464, 0.014796706637725754, 0.11800221586743681, 0.009661086508931254, 0.014788142328338331, 0.014796706195020009, 0.014707062624339044, 0.01478872126015785, 0.014796099838482735, 0.12569145293879835, 0.014796238559177827, 0.12549760589425973, 0.014434591294745613, 0.01476980899610687, 0.014779644299304359, 0.2066766391538021, -0.022308667177346784, 0.12568281537387962, 0.014734677425510547, 0.014788791150312213, 0.0147962543415037, 0.0147967061525237, 0.014781080682141448, 0.3444563074856732, 0.014794329391908237, 0.1256914526511842, 0.013827558348594443, 0.125685417317646, 0.014659619516375302, 0.014796706577311344, 0.014796254298775081, 0.014786787449019973, 0.014786224047703285, 0.2844203447376662, 0.014796706522698237, 0.1254607247943076, 0.125673621532092, 0.12568205917072936, 0.12569145293866127, 0.12569051941927786, 0.12569137066669178, -0.029752123053238294, 0.014787224721934939, -0.029751628581658307, 0.16846965882067913, 0.014747718256437838, 0.12567539948957795, 0.16582358450641346, 0.23838322746178794, 0.014768775879451294, 0.12569145294852188, 0.014626713819547579, 0.014740383261100092, 0.014796632126478033, 0.014734340987284796, 0.014472105286544922, 0.13835974865867015, 0.29859934380808567, 0.20664997129747764, 0.01782767794440585, 0.014792553625226083, 0.012908413103524558, 0.1256914529545901, 0.42305233678848536, 0.014796706140407019, -0.029751628781906122, 0.014796452930037165, 0.12568634857771108, 0.014796112254481958, -0.029751628781906122, -0.029764825602118006, 0.24597472400675577, 0.12568541269555572, -0.029758125977224173, 0.014783367776450018, 0.01476573610171459, 0.25118104789481155, 0.27406977837752466, -0.029758127526779546, 0.1256828530014642, 0.014796606526207184, 0.01471069678500011, 0.2913833319109248, 0.014768103737789594, 0.24121198263945667, 0.11678739624680406, 0.12569145286356834, -0.029751642234920356, 0.2844203147004898, -0.029770104688517512, 0.01479657921968305, 0.3002580937184824, 0.014796444955944458, 0.11675996473264737, 0.38354594470136083, 0.1256914526997293, 0.014794015357779999, -0.029757220963812177, 0.12569145293989775, 0.014796454171036696, -0.029752193079549023, 0.021616161472635714, 0.24120877889825804, 0.1256888956389407, 0.206267067408713, 0.014748849753625426, 0.12568772310128243, 0.014792152436070625, 0.01479670611916853, 0.2844203449803907, 0.16849206473205397, 0.12569144081835718, 0.02083347160574787, 0.2511746134697638, 0.12569145234777845, 0.1941604399098437, 0.014716249245786326, 0.1941627390218675, -0.030089112943521762, -0.029776762827533238, 0.241211582010282, 0.014796340472151318, 0.2412081502665807, 0.2459795844825176, -0.029751629192353576, -0.029972164305126038, 0.014796706528766395, 0.2763482508726404, 0.2226729835103558, 0.014795430729974962, -0.029764079494902538, 0.19415990418091095, 0.014755813705925103, 0.2459727571312131, 0.25118534373260165, -0.029751629855962806, 0.3092196153662429, 0.014770430896187141, -0.07056993596581514, 0.014796706522698237, 0.014788402059753503, 0.0147967066440606, 0.12515173490078912, 0.014791106068371794, 0.2763244692871584, 0.31093722300352766, 0.2875710970029889, 0.26012413829393266, 0.24047087671462733, -0.02976602087286402, 0.014789279816254495, 0.014794589656708374, -0.029762294979371464, -0.02975270293791116, 0.2412061822488604, 0.21065823985547705, -0.051986122033501427, 0.22175511558689892, -0.02980179695691115, 0.1256840824685568, 0.014796700521331137, 0.014796444208370757, -0.043773779744816534, 0.014796700582012297, 0.014792732095539189, 0.014789557700450567, 0.014783335094108821, 0.014782896943846973, 0.24120831797859074, 0.19202814337729543, -0.030858633824644748, 0.12558136503424885, 0.1941556935416957, 0.30024650844183426, 0.01475575366653165, -0.029823392939416306, 0.12558046007718637, 0.014796704829693757, 0.2511801202360497, 0.01479670601236964, 0.1255806825313359, 0.2064793355599572, 0.2333143132076967, 0.24121013963431037, 0.25097194691672, -0.02978452660381009, 0.1256914528271596, 0.27617201804862823, 0.013173079342123669, 0.07560378661257962, -0.029753360767589335, 0.12557985727872437, 0.12546028173322518, 0.014778078009483045, -0.02975510105363985, 0.12568319355011295, 0.006419696569135662, 0.09183837366951192, 0.2194417129998649, 0.05076621312216034, 0.24115712669908365, 0.1941627390218675, -0.017678056335290147, 0.010700998786861217, 0.30021647200905877, 0.16822693551615286, 0.014791608923963672, 0.008861586716513421, 0.01479657921968305, 0.12558307124027804, 0.1941627390218675, -0.02983817167348746, 0.25108389372568285, -0.02975162871515686, 0.24117919140319394, 0.12558307082461215, 0.014795039507406259, 0.24064200424908755, 0.19416273863899375, 0.1941335140386994, 0.1941627390139791, 0.16848396503759938, -0.029764653944959602, 0.24120542269734946, -0.07057441895575225, 0.2459782649532679, 0.3004658420774309, 0.16849230311634766, 0.24121194458421497, 0.2970844108749848, 0.2242980877635735, 0.3623925481323303, 0.24098258523800697, 0.07823778111152066, 0.3145034473345157, -0.02975367367829935, 0.014796126300781991, 0.2763463529219482, 0.33799223643870285, -0.004029499677688245, 0.2563176953909656, 0.1684906172202553, 0.12483135430330389, -0.029753683061402327, 0.07823711391293359, 0.19242814078188794, 0.020833472192534713, 0.3037643283393889, 0.16848957969966916, 0.25118534641004964, 0.12568408372796833, 0.25118534588616653, 0.24044725391795307, 0.05076818660752595, 0.28036189587587973, 0.29267037149380043, 0.2926645281290084, 0.12569145282716107, 0.0348109091263502, 0.32025681861467953, 0.014782254546708323, 0.1941481212055245, 0.19415243808668295, 0.01782499038603954, 0.42603768547179205, 0.1256914523174379, 0.12567003485576794, -0.12398057449486781, 0.1256567973946881, -0.029751628693615036, 0.014773353873051375, 0.12401659111977505, 0.2926614099460311, 0.2412119826397405, 0.014477153806522139, 0.1256820380645958, 0.24121198263945667, 0.0026798449937274504, 0.12261529918219426, 0.014794637271146589, 0.01476816525137608, 0.01479670124950512, 0.20667527434420782, 0.42409498608817914, 0.2511753169464593, 0.2511853404248617, 0.2408105096637755, 0.19415975061754234]}, {\"customdata\": [[\"Proof-of-BibleHash\"], [\"SHA-256 + Hive\"], [\"Proof-of-Authority\"], [\"ECC 256K1\"], [\"SHA3-256\"], [\"Leased POS\"]], \"hovertemplate\": \"<b>%{hovertext}</b><br><br>class=%{marker.color}<br>PC 1=%{x}<br>PC 2=%{y}<br>PC 3=%{z}<br>Algorithm=%{customdata[0]}<extra></extra>\", \"hovertext\": [\"BiblePay\", \"LitecoinCash\", \"Poa Network\", \"Acute Angle Cloud\", \"Fiii\", \"Waves\"], \"legendgroup\": \"1\", \"marker\": {\"color\": [1, 1, 1, 1, 1, 1], \"coloraxis\": \"coloraxis\", \"symbol\": \"square\"}, \"mode\": \"markers\", \"name\": \"1\", \"scene\": \"scene\", \"showlegend\": true, \"type\": \"scatter3d\", \"x\": [0.04456424683275302, 0.6744607572781592, 0.3061301733704112, -1.547702918517557, -0.455581437240607, 0.2734654202176023], \"y\": [4.022961154532508, 0.4114202019216545, 2.3707102707052647, 4.601680411035417, 5.537339140437048, 1.332381391772567], \"z\": [9.18604507505668, 19.99320050577169, 19.611398783711838, 11.390338003843146, 11.031690256004818, 13.787005820025266]}],                        {\"coloraxis\": {\"colorbar\": {\"title\": {\"text\": \"class\"}}, \"colorscale\": [[0.0, \"#0d0887\"], [0.1111111111111111, \"#46039f\"], [0.2222222222222222, \"#7201a8\"], [0.3333333333333333, \"#9c179e\"], [0.4444444444444444, \"#bd3786\"], [0.5555555555555556, \"#d8576b\"], [0.6666666666666666, \"#ed7953\"], [0.7777777777777778, \"#fb9f3a\"], [0.8888888888888888, \"#fdca26\"], [1.0, \"#f0f921\"]]}, \"legend\": {\"title\": {\"text\": \"class\"}, \"tracegroupgap\": 0, \"x\": 0, \"y\": 1}, \"margin\": {\"t\": 60}, \"scene\": {\"domain\": {\"x\": [0.0, 1.0], \"y\": [0.0, 1.0]}, \"xaxis\": {\"title\": {\"text\": \"PC 1\"}}, \"yaxis\": {\"title\": {\"text\": \"PC 2\"}}, \"zaxis\": {\"title\": {\"text\": \"PC 3\"}}}, \"template\": {\"data\": {\"bar\": [{\"error_x\": {\"color\": \"#2a3f5f\"}, \"error_y\": {\"color\": \"#2a3f5f\"}, \"marker\": {\"line\": {\"color\": \"#E5ECF6\", \"width\": 0.5}}, \"type\": \"bar\"}], \"barpolar\": [{\"marker\": {\"line\": {\"color\": \"#E5ECF6\", \"width\": 0.5}}, \"type\": \"barpolar\"}], \"carpet\": [{\"aaxis\": {\"endlinecolor\": \"#2a3f5f\", \"gridcolor\": \"white\", \"linecolor\": \"white\", \"minorgridcolor\": \"white\", \"startlinecolor\": \"#2a3f5f\"}, \"baxis\": {\"endlinecolor\": \"#2a3f5f\", \"gridcolor\": \"white\", \"linecolor\": \"white\", \"minorgridcolor\": \"white\", \"startlinecolor\": \"#2a3f5f\"}, \"type\": \"carpet\"}], \"choropleth\": [{\"colorbar\": {\"outlinewidth\": 0, \"ticks\": \"\"}, \"type\": \"choropleth\"}], \"contour\": [{\"colorbar\": {\"outlinewidth\": 0, \"ticks\": \"\"}, \"colorscale\": [[0.0, \"#0d0887\"], [0.1111111111111111, \"#46039f\"], [0.2222222222222222, \"#7201a8\"], [0.3333333333333333, \"#9c179e\"], [0.4444444444444444, \"#bd3786\"], [0.5555555555555556, \"#d8576b\"], [0.6666666666666666, \"#ed7953\"], [0.7777777777777778, \"#fb9f3a\"], [0.8888888888888888, \"#fdca26\"], [1.0, \"#f0f921\"]], \"type\": \"contour\"}], \"contourcarpet\": [{\"colorbar\": {\"outlinewidth\": 0, \"ticks\": \"\"}, \"type\": \"contourcarpet\"}], \"heatmap\": [{\"colorbar\": {\"outlinewidth\": 0, \"ticks\": \"\"}, \"colorscale\": [[0.0, \"#0d0887\"], [0.1111111111111111, \"#46039f\"], [0.2222222222222222, \"#7201a8\"], [0.3333333333333333, \"#9c179e\"], [0.4444444444444444, \"#bd3786\"], [0.5555555555555556, \"#d8576b\"], [0.6666666666666666, \"#ed7953\"], [0.7777777777777778, \"#fb9f3a\"], [0.8888888888888888, \"#fdca26\"], [1.0, \"#f0f921\"]], \"type\": \"heatmap\"}], \"heatmapgl\": [{\"colorbar\": {\"outlinewidth\": 0, \"ticks\": \"\"}, \"colorscale\": [[0.0, \"#0d0887\"], [0.1111111111111111, \"#46039f\"], [0.2222222222222222, \"#7201a8\"], [0.3333333333333333, \"#9c179e\"], [0.4444444444444444, \"#bd3786\"], [0.5555555555555556, \"#d8576b\"], [0.6666666666666666, \"#ed7953\"], [0.7777777777777778, \"#fb9f3a\"], [0.8888888888888888, \"#fdca26\"], [1.0, \"#f0f921\"]], \"type\": \"heatmapgl\"}], \"histogram\": [{\"marker\": {\"colorbar\": {\"outlinewidth\": 0, \"ticks\": \"\"}}, \"type\": \"histogram\"}], \"histogram2d\": [{\"colorbar\": {\"outlinewidth\": 0, \"ticks\": \"\"}, \"colorscale\": [[0.0, \"#0d0887\"], [0.1111111111111111, \"#46039f\"], [0.2222222222222222, \"#7201a8\"], [0.3333333333333333, \"#9c179e\"], [0.4444444444444444, \"#bd3786\"], [0.5555555555555556, \"#d8576b\"], [0.6666666666666666, \"#ed7953\"], [0.7777777777777778, \"#fb9f3a\"], [0.8888888888888888, \"#fdca26\"], [1.0, \"#f0f921\"]], \"type\": \"histogram2d\"}], \"histogram2dcontour\": [{\"colorbar\": {\"outlinewidth\": 0, \"ticks\": \"\"}, \"colorscale\": [[0.0, \"#0d0887\"], [0.1111111111111111, \"#46039f\"], [0.2222222222222222, \"#7201a8\"], [0.3333333333333333, \"#9c179e\"], [0.4444444444444444, \"#bd3786\"], [0.5555555555555556, \"#d8576b\"], [0.6666666666666666, \"#ed7953\"], [0.7777777777777778, \"#fb9f3a\"], [0.8888888888888888, \"#fdca26\"], [1.0, \"#f0f921\"]], \"type\": \"histogram2dcontour\"}], \"mesh3d\": [{\"colorbar\": {\"outlinewidth\": 0, \"ticks\": \"\"}, \"type\": \"mesh3d\"}], \"parcoords\": [{\"line\": {\"colorbar\": {\"outlinewidth\": 0, \"ticks\": \"\"}}, \"type\": \"parcoords\"}], \"pie\": [{\"automargin\": true, \"type\": \"pie\"}], \"scatter\": [{\"marker\": {\"colorbar\": {\"outlinewidth\": 0, \"ticks\": \"\"}}, \"type\": \"scatter\"}], \"scatter3d\": [{\"line\": {\"colorbar\": {\"outlinewidth\": 0, \"ticks\": \"\"}}, \"marker\": {\"colorbar\": {\"outlinewidth\": 0, \"ticks\": \"\"}}, \"type\": \"scatter3d\"}], \"scattercarpet\": [{\"marker\": {\"colorbar\": {\"outlinewidth\": 0, \"ticks\": \"\"}}, \"type\": \"scattercarpet\"}], \"scattergeo\": [{\"marker\": {\"colorbar\": {\"outlinewidth\": 0, \"ticks\": \"\"}}, \"type\": \"scattergeo\"}], \"scattergl\": [{\"marker\": {\"colorbar\": {\"outlinewidth\": 0, \"ticks\": \"\"}}, \"type\": \"scattergl\"}], \"scattermapbox\": [{\"marker\": {\"colorbar\": {\"outlinewidth\": 0, \"ticks\": \"\"}}, \"type\": \"scattermapbox\"}], \"scatterpolar\": [{\"marker\": {\"colorbar\": {\"outlinewidth\": 0, \"ticks\": \"\"}}, \"type\": \"scatterpolar\"}], \"scatterpolargl\": [{\"marker\": {\"colorbar\": {\"outlinewidth\": 0, \"ticks\": \"\"}}, \"type\": \"scatterpolargl\"}], \"scatterternary\": [{\"marker\": {\"colorbar\": {\"outlinewidth\": 0, \"ticks\": \"\"}}, \"type\": \"scatterternary\"}], \"surface\": [{\"colorbar\": {\"outlinewidth\": 0, \"ticks\": \"\"}, \"colorscale\": [[0.0, \"#0d0887\"], [0.1111111111111111, \"#46039f\"], [0.2222222222222222, \"#7201a8\"], [0.3333333333333333, \"#9c179e\"], [0.4444444444444444, \"#bd3786\"], [0.5555555555555556, \"#d8576b\"], [0.6666666666666666, \"#ed7953\"], [0.7777777777777778, \"#fb9f3a\"], [0.8888888888888888, \"#fdca26\"], [1.0, \"#f0f921\"]], \"type\": \"surface\"}], \"table\": [{\"cells\": {\"fill\": {\"color\": \"#EBF0F8\"}, \"line\": {\"color\": \"white\"}}, \"header\": {\"fill\": {\"color\": \"#C8D4E3\"}, \"line\": {\"color\": \"white\"}}, \"type\": \"table\"}]}, \"layout\": {\"annotationdefaults\": {\"arrowcolor\": \"#2a3f5f\", \"arrowhead\": 0, \"arrowwidth\": 1}, \"coloraxis\": {\"colorbar\": {\"outlinewidth\": 0, \"ticks\": \"\"}}, \"colorscale\": {\"diverging\": [[0, \"#8e0152\"], [0.1, \"#c51b7d\"], [0.2, \"#de77ae\"], [0.3, \"#f1b6da\"], [0.4, \"#fde0ef\"], [0.5, \"#f7f7f7\"], [0.6, \"#e6f5d0\"], [0.7, \"#b8e186\"], [0.8, \"#7fbc41\"], [0.9, \"#4d9221\"], [1, \"#276419\"]], \"sequential\": [[0.0, \"#0d0887\"], [0.1111111111111111, \"#46039f\"], [0.2222222222222222, \"#7201a8\"], [0.3333333333333333, \"#9c179e\"], [0.4444444444444444, \"#bd3786\"], [0.5555555555555556, \"#d8576b\"], [0.6666666666666666, \"#ed7953\"], [0.7777777777777778, \"#fb9f3a\"], [0.8888888888888888, \"#fdca26\"], [1.0, \"#f0f921\"]], \"sequentialminus\": [[0.0, \"#0d0887\"], [0.1111111111111111, \"#46039f\"], [0.2222222222222222, \"#7201a8\"], [0.3333333333333333, \"#9c179e\"], [0.4444444444444444, \"#bd3786\"], [0.5555555555555556, \"#d8576b\"], [0.6666666666666666, \"#ed7953\"], [0.7777777777777778, \"#fb9f3a\"], [0.8888888888888888, \"#fdca26\"], [1.0, \"#f0f921\"]]}, \"colorway\": [\"#636efa\", \"#EF553B\", \"#00cc96\", \"#ab63fa\", \"#FFA15A\", \"#19d3f3\", \"#FF6692\", \"#B6E880\", \"#FF97FF\", \"#FECB52\"], \"font\": {\"color\": \"#2a3f5f\"}, \"geo\": {\"bgcolor\": \"white\", \"lakecolor\": \"white\", \"landcolor\": \"#E5ECF6\", \"showlakes\": true, \"showland\": true, \"subunitcolor\": \"white\"}, \"hoverlabel\": {\"align\": \"left\"}, \"hovermode\": \"closest\", \"mapbox\": {\"style\": \"light\"}, \"paper_bgcolor\": \"white\", \"plot_bgcolor\": \"#E5ECF6\", \"polar\": {\"angularaxis\": {\"gridcolor\": \"white\", \"linecolor\": \"white\", \"ticks\": \"\"}, \"bgcolor\": \"#E5ECF6\", \"radialaxis\": {\"gridcolor\": \"white\", \"linecolor\": \"white\", \"ticks\": \"\"}}, \"scene\": {\"xaxis\": {\"backgroundcolor\": \"#E5ECF6\", \"gridcolor\": \"white\", \"gridwidth\": 2, \"linecolor\": \"white\", \"showbackground\": true, \"ticks\": \"\", \"zerolinecolor\": \"white\"}, \"yaxis\": {\"backgroundcolor\": \"#E5ECF6\", \"gridcolor\": \"white\", \"gridwidth\": 2, \"linecolor\": \"white\", \"showbackground\": true, \"ticks\": \"\", \"zerolinecolor\": \"white\"}, \"zaxis\": {\"backgroundcolor\": \"#E5ECF6\", \"gridcolor\": \"white\", \"gridwidth\": 2, \"linecolor\": \"white\", \"showbackground\": true, \"ticks\": \"\", \"zerolinecolor\": \"white\"}}, \"shapedefaults\": {\"line\": {\"color\": \"#2a3f5f\"}}, \"ternary\": {\"aaxis\": {\"gridcolor\": \"white\", \"linecolor\": \"white\", \"ticks\": \"\"}, \"baxis\": {\"gridcolor\": \"white\", \"linecolor\": \"white\", \"ticks\": \"\"}, \"bgcolor\": \"#E5ECF6\", \"caxis\": {\"gridcolor\": \"white\", \"linecolor\": \"white\", \"ticks\": \"\"}}, \"title\": {\"x\": 0.05}, \"xaxis\": {\"automargin\": true, \"gridcolor\": \"white\", \"linecolor\": \"white\", \"ticks\": \"\", \"title\": {\"standoff\": 15}, \"zerolinecolor\": \"white\", \"zerolinewidth\": 2}, \"yaxis\": {\"automargin\": true, \"gridcolor\": \"white\", \"linecolor\": \"white\", \"ticks\": \"\", \"title\": {\"standoff\": 15}, \"zerolinecolor\": \"white\", \"zerolinewidth\": 2}}}, \"width\": 800},                        {\"responsive\": true}                    ).then(function(){\n",
       "                            \n",
       "var gd = document.getElementById('24d7e59d-ae3d-4d8e-9b2a-f9fdb06d41b0');\n",
       "var x = new MutationObserver(function (mutations, observer) {{\n",
       "        var display = window.getComputedStyle(gd).display;\n",
       "        if (!display || display === 'none') {{\n",
       "            console.log([gd, 'removed!']);\n",
       "            Plotly.purge(gd);\n",
       "            observer.disconnect();\n",
       "        }}\n",
       "}});\n",
       "\n",
       "// Listen for the removal of the full notebook cells\n",
       "var notebookContainer = gd.closest('#notebook-container');\n",
       "if (notebookContainer) {{\n",
       "    x.observe(notebookContainer, {childList: true});\n",
       "}}\n",
       "\n",
       "// Listen for the clearing of the current output cell\n",
       "var outputEl = gd.closest('.output');\n",
       "if (outputEl) {{\n",
       "    x.observe(outputEl, {childList: true});\n",
       "}}\n",
       "\n",
       "                        })                };                });            </script>        </div>"
      ]
     },
     "metadata": {},
     "output_type": "display_data"
    }
   ],
   "source": [
    "# Create a 3D scatter plot using Plotly Express to plot the clusters using the clustered_df \n",
    "fig = px.scatter_3d(\n",
    "    clustered_df,\n",
    "    x=\"PC 1\",\n",
    "    y=\"PC 2\",\n",
    "    z=\"PC 3\",\n",
    "    color=\"class\",\n",
    "    symbol=\"class\",\n",
    "    width=800,\n",
    "    hover_name=\"CoinName\",\n",
    "    hover_data=[\"Algorithm\"],\n",
    ")\n",
    "fig.update_layout(legend=dict(x=0, y=1))\n",
    "fig.show()"
   ]
  },
  {
   "cell_type": "code",
   "execution_count": 235,
   "metadata": {},
   "outputs": [
    {
     "data": {},
     "metadata": {},
     "output_type": "display_data"
    },
    {
     "data": {
      "application/vnd.holoviews_exec.v0+json": "",
      "text/html": [
       "<div id='2628'>\n",
       "\n",
       "\n",
       "\n",
       "\n",
       "\n",
       "  <div class=\"bk-root\" id=\"ea7f2f08-a2f9-4f8d-8a80-b8cd71e55ffa\" data-root-id=\"2628\"></div>\n",
       "</div>\n",
       "<script type=\"application/javascript\">\n",
       "    function msg_handler(msg) {\n",
       "      var metadata = msg.metadata;\n",
       "      var buffers = msg.buffers;\n",
       "      var msg = msg.content.data;\n",
       "      if ((metadata.msg_type == \"Ready\")) {\n",
       "        if (metadata.content) {\n",
       "          console.log(\"Python callback returned following output:\", metadata.content);\n",
       "        }\n",
       "      } else if (metadata.msg_type == \"Error\") {\n",
       "        console.log(\"Python failed with the following traceback:\", metadata.traceback)\n",
       "      } else {\n",
       "        \n",
       "var plot_id = \"2628\";\n",
       "\n",
       "if ((plot_id in window.PyViz.plot_index) && (window.PyViz.plot_index[plot_id] != null)) {\n",
       "  var plot = window.PyViz.plot_index[plot_id];\n",
       "} else if ((Bokeh !== undefined) && (plot_id in Bokeh.index)) {\n",
       "  var plot = Bokeh.index[plot_id];\n",
       "}\n",
       "\n",
       "if (plot == null) {\n",
       "  return\n",
       "}\n",
       "\n",
       "if (plot_id in window.PyViz.receivers) {\n",
       "  var receiver = window.PyViz.receivers[plot_id];\n",
       "} else {\n",
       "  var receiver = new Bokeh.protocol.Receiver();\n",
       "  window.PyViz.receivers[plot_id] = receiver;\n",
       "}\n",
       "\n",
       "if ((buffers != undefined) && (buffers.length > 0)) {\n",
       "  receiver.consume(buffers[0].buffer)\n",
       "} else {\n",
       "  receiver.consume(msg)\n",
       "}\n",
       "\n",
       "const comm_msg = receiver.message;\n",
       "if ((comm_msg != null) && (Object.keys(comm_msg.content).length > 0)) {\n",
       "  plot.model.document.apply_json_patch(comm_msg.content, comm_msg.buffers)\n",
       "}\n",
       "\n",
       "      }\n",
       "    }\n",
       "    if ((window.PyViz == undefined) || (!window.PyViz.comm_manager)) {\n",
       "      console.log(\"Could not find comm manager\")\n",
       "    } else {\n",
       "      window.PyViz.comm_manager.register_target('2628', 'cede041876a3426fa0aa8f4c737768f9', msg_handler);\n",
       "    }\n",
       "    \n",
       "(function(root) {\n",
       "  function embed_document(root) {\n",
       "  var docs_json = {\"3c8dfc35-a324-462b-b02e-a62ad6df25c3\":{\"roots\":{\"references\":[{\"attributes\":{\"children\":[{\"id\":\"2629\",\"type\":\"Spacer\"},{\"id\":\"2662\",\"type\":\"DataTable\"},{\"id\":\"2666\",\"type\":\"Spacer\"}],\"margin\":[0,0,0,0],\"name\":\"Row05468\",\"tags\":[\"embedded\"]},\"id\":\"2628\",\"type\":\"Row\"},{\"attributes\":{},\"id\":\"2637\",\"type\":\"StringFormatter\"},{\"attributes\":{},\"id\":\"2653\",\"type\":\"NumberEditor\"},{\"attributes\":{\"margin\":[5,5,5,5],\"name\":\"HSpacer05473\",\"sizing_mode\":\"stretch_width\"},\"id\":\"2666\",\"type\":\"Spacer\"},{\"attributes\":{},\"id\":\"2642\",\"type\":\"StringFormatter\"},{\"attributes\":{\"editor\":{\"id\":\"2653\",\"type\":\"NumberEditor\"},\"field\":\"TotalCoinsMined\",\"formatter\":{\"id\":\"2652\",\"type\":\"NumberFormatter\"},\"title\":\"TotalCoinsMined\"},\"id\":\"2654\",\"type\":\"TableColumn\"},{\"attributes\":{},\"id\":\"2657\",\"type\":\"NumberFormatter\"},{\"attributes\":{\"callback\":null,\"data\":{\"Algorithm\":[\"Scrypt\",\"Scrypt\",\"SHA-256\",\"X13\",\"SHA-256\",\"Ethash\",\"Scrypt\",\"X11\",\"CryptoNight-V7\",\"Ethash\",\"Equihash\",\"SHA-512\",\"Multiple\",\"SHA-256\",\"X11\",\"SHA-256\",\"Scrypt\",\"X15\",\"X11\",\"SHA-256\",\"X13\",\"X13\",\"Scrypt\",\"Scrypt\",\"Scrypt\",\"SHA-256\",\"Scrypt\",\"Multiple\",\"Scrypt\",\"SHA-256\",\"Scrypt\",\"Scrypt\",\"Scrypt\",\"Quark\",\"Groestl\",\"Scrypt\",\"X11\",\"Scrypt\",\"Scrypt\",\"Scrypt\",\"Scrypt\",\"Scrypt\",\"Scrypt\",\"Multiple\",\"Scrypt\",\"X11\",\"Scrypt\",\"SHA-256\",\"Groestl\",\"Multiple\",\"X11\",\"Scrypt\",\"SHA-256\",\"Scrypt\",\"Scrypt\",\"Scrypt\",\"Scrypt\",\"Scrypt\",\"PoS\",\"Scrypt\",\"X11\",\"NIST5\",\"SHA-256\",\"Scrypt\",\"Scrypt\",\"NeoScrypt\",\"Scrypt\",\"Scrypt\",\"Scrypt\",\"X11\",\"X15\",\"Scrypt\",\"Multiple\",\"X11\",\"Scrypt\",\"X11\",\"SHA-256\",\"X11\",\"X13\",\"Scrypt\",\"Scrypt\",\"Scrypt\",\"Scrypt\",\"X11\",\"SHA3\",\"Scrypt\",\"HybridScryptHash256\",\"Scrypt\",\"Scrypt\",\"SHA-256\",\"Scrypt\",\"X13\",\"SHA-256\",\"Scrypt\",\"SHA-256\",\"Scrypt\",\"X13\",\"NeoScrypt\",\"Scrypt\",\"Scrypt\",\"Scrypt\",\"Scrypt\",\"Scrypt\",\"Scrypt\",\"X15\",\"Scrypt\",\"Scrypt\",\"Scrypt-n\",\"Scrypt\",\"X11\",\"X11\",\"SHA-256\",\"Multiple\",\"SHA-256\",\"PHI1612\",\"X11\",\"SHA-256\",\"SHA-256\",\"SHA-256\",\"SHA-256\",\"X11\",\"Scrypt\",\"Scrypt\",\"X13\",\"Scrypt\",\"X11\",\"Scrypt\",\"Lyra2REv2\",\"Scrypt\",\"Scrypt\",\"X11\",\"Multiple\",\"SHA-256\",\"X13\",\"Scrypt\",\"Scrypt\",\"CryptoNight\",\"CryptoNight\",\"Shabal256\",\"Counterparty\",\"Scrypt\",\"SHA-256\",\"SHA-256\",\"Scrypt\",\"Groestl\",\"Scrypt\",\"Scrypt\",\"Scrypt\",\"X13\",\"Scrypt\",\"Scrypt\",\"Scrypt\",\"SHA-256\",\"Scrypt\",\"X13\",\"X13\",\"Scrypt\",\"X11\",\"Momentum\",\"Stanford Folding\",\"X11\",\"Multiple\",\"QuBit\",\"X15\",\"Scrypt\",\"Scrypt\",\"Scrypt\",\"Scrypt\",\"SHA-256\",\"M7 POW\",\"Scrypt\",\"X11\",\"Scrypt\",\"SHA-256\",\"Scrypt\",\"Scrypt\",\"X11\",\"X11\",\"SHA3\",\"X11\",\"Scrypt\",\"Lyra2RE\",\"SHA-256\",\"QUAIT\",\"X11\",\"vDPOS\",\"X11\",\"X11\",\"Scrypt\",\"Scrypt\",\"Scrypt\",\"Ethash\",\"X11\",\"X13\",\"Blake2b\",\"SHA-256\",\"X13\",\"X15\",\"X11\",\"SHA-256\",\"BLAKE256\",\"Scrypt\",\"Scrypt\",\"1GB AES Pattern Search\",\"SHA-256\",\"X11\",\"Scrypt\",\"CryptoNight\",\"SHA-256\",\"Quark\",\"SHA-256\",\"NIST5\",\"Blake\",\"Scrypt\",\"Scrypt\",\"SHA-256\",\"X11\",\"Scrypt\",\"Scrypt-n\",\"X11\",\"Scrypt\",\"Dagger\",\"Scrypt\",\"SHA-256\",\"CryptoNight-Lite\",\"X11GOST\",\"X11\",\"SHA-256\",\"Scrypt\",\"SHA-256\",\"Scrypt\",\"PoS\",\"Scrypt\",\"X11\",\"X11\",\"X11\",\"X11\",\"PoS\",\"SHA-256\",\"SHA-256\",\"SHA-256\",\"NIST5\",\"X15\",\"X11\",\"NIST5\",\"Scrypt\",\"Scrypt\",\"Scrypt\",\"POS 3.0\",\"Scrypt\",\"Scrypt\",\"Scrypt\",\"X13\",\"X11\",\"X11\",\"Equihash\",\"X11\",\"X11\",\"Scrypt\",\"CryptoNight\",\"SHA-256\",\"SHA-256\",\"X11\",\"Scrypt\",\"Multiple\",\"Scrypt\",\"Scrypt\",\"X11\",\"Scrypt\",\"SHA-256\",\"Scrypt\",\"Scrypt\",\"SHA-256D\",\"PoS\",\"Scrypt\",\"Scrypt\",\"X11\",\"Scrypt-n\",\"Lyra2Z\",\"SHA-256\",\"PoS\",\"X13\",\"Quark\",\"X14\",\"PoS\",\"SHA-256D\",\"Ethash\",\"SHA-256\",\"Equihash\",\"DPoS\",\"X11\",\"Scrypt\",\"Scrypt\",\"Equihash\",\"X11\",\"X13\",\"X11\",\"PoS\",\"SHA-256D\",\"Scrypt\",\"Scrypt\",\"Scrypt\",\"X11\",\"PoS\",\"X11\",\"SHA-256\",\"Scrypt\",\"X11\",\"Scrypt\",\"Scrypt\",\"X11\",\"CryptoNight\",\"Scrypt\",\"Scrypt\",\"Scrypt\",\"Scrypt\",\"Quark\",\"QuBit\",\"Scrypt\",\"CryptoNight\",\"X11\",\"Lyra2RE\",\"X13\",\"PoS\",\"Scrypt\",\"SHA-256\",\"X11\",\"X11\",\"X11\",\"Scrypt\",\"X11\",\"Scrypt\",\"Scrypt\",\"CryptoNight-V7\",\"Scrypt\",\"Scrypt\",\"Keccak\",\"Scrypt\",\"X13\",\"X11\",\"Equihash\",\"Scrypt\",\"Scrypt\",\"Lyra2RE\",\"Ethash\",\"X11\",\"Scrypt\",\"Dagger-Hashimoto\",\"X11\",\"Blake2S\",\"X11\",\"Scrypt\",\"Scrypt\",\"PoS\",\"X11\",\"NIST5\",\"PoS\",\"X11\",\"Scrypt\",\"Scrypt\",\"Scrypt\",\"Scrypt\",\"SHA-256\",\"X11\",\"Scrypt\",\"Scrypt\",\"Scrypt\",\"SHA-256\",\"PoS\",\"Scrypt\",\"X11\",\"X15\",\"SHA-256\",\"Scrypt\",\"POS 3.0\",\"CryptoNight-V7\",\"536\",\"Argon2d\",\"Blake2b\",\"Cloverhash\",\"CryptoNight\",\"NIST5\",\"X11\",\"NIST5\",\"Skein\",\"Scrypt\",\"X13\",\"Scrypt\",\"X11\",\"X11\",\"X11\",\"Scrypt\",\"CryptoNight\",\"X13\",\"Time Travel\",\"Scrypt\",\"Keccak\",\"SkunkHash v2 Raptor\",\"X11\",\"Skein\",\"SHA-256\",\"X11\",\"Scrypt\",\"Scrypt\",\"VeChainThor Authority\",\"Scrypt\",\"PoS\",\"Scrypt\",\"Scrypt\",\"Scrypt\",\"Scrypt\",\"Scrypt\",\"Scrypt\",\"Scrypt\",\"Scrypt\",\"CryptoNight\",\"SHA-512\",\"Ouroboros\",\"X11\",\"Equihash\",\"NeoScrypt\",\"X11\",\"Scrypt\",\"NeoScrypt\",\"Lyra2REv2\",\"Equihash\",\"Scrypt\",\"SHA-256\",\"NIST5\",\"PHI1612\",\"Dagger\",\"Scrypt\",\"Quark\",\"Scrypt\",\"POS 2.0\",\"Scrypt\",\"SkunkHash\",\"X11\",\"Quark\",\"SHA-256\",\"X11\",\"NeoScrypt\",\"Scrypt\",\"Ethash\",\"Scrypt\",\"NeoScrypt\",\"Quark\",\"X11\",\"DPoS\",\"NIST5\",\"X13\",\"Multiple\",\"Scrypt\",\"CryptoNight\",\"CryptoNight\",\"Ethash\",\"NIST5\",\"Quark\",\"X11\",\"SHA-256\",\"CryptoNight-V7\",\"Scrypt\",\"Scrypt\",\"Scrypt\",\"X11\",\"SHA-256\",\"BLAKE256\",\"X11\",\"Scrypt\",\"NeoScrypt\",\"Quark\",\"NeoScrypt\",\"Scrypt\",\"Scrypt\",\"Scrypt\",\"X11\",\"X11\",\"SHA-256\",\"C11\",\"Scrypt\",\"Scrypt\",\"POS 3.0\",\"Ethash\",\"Scrypt\",\"CryptoNight\",\"SkunkHash\",\"Scrypt\",\"CryptoNight\",\"Equihash\",\"Skein\",\"Scrypt\",\"Dagger\",\"Lyra2REv2\",\"X13\",\"Proof-of-BibleHash\",\"SHA-256 + Hive\",\"Scrypt\",\"Scrypt\",\"Scrypt\",\"NeoScrypt\",\"Equihash\",\"X11\",\"C11\",\"Proof-of-Authority\",\"X11\",\"XEVAN\",\"Scrypt\",\"VBFT\",\"Ethash\",\"X11\",\"CryptoNight\",\"NeoScrypt\",\"Scrypt\",\"IMesh\",\"NIST5\",\"Equihash\",\"Scrypt\",\"Scrypt\",\"Equihash\",\"Equihash\",\"Scrypt\",\"Lyra2Z\",\"Equihash\",\"Green Protocol\",\"PoS\",\"Scrypt\",\"Scrypt\",\"Semux BFT consensus\",\"Scrypt\",\"X11\",\"Quark\",\"PoS\",\"CryptoNight\",\"X16R\",\"Scrypt\",\"NIST5\",\"Lyra2RE\",\"XEVAN\",\"Tribus\",\"Scrypt\",\"Lyra2Z\",\"CryptoNight\",\"CryptoNight Heavy\",\"CryptoNight\",\"Scrypt\",\"Scrypt\",\"Jump Consistent Hash\",\"SHA-256D\",\"CryptoNight\",\"Scrypt\",\"X15\",\"Scrypt\",\"Quark\",\"SHA-256\",\"DPoS\",\"X16R\",\"HMQ1725\",\"X11\",\"X16R\",\"Quark\",\"Quark\",\"Scrypt\",\"Zhash\",\"Lyra2REv2\",\"Quark\",\"Scrypt\",\"Scrypt\",\"CryptoNight-V7\",\"Cryptonight-GPU\",\"Scrypt\",\"XEVAN\",\"CryptoNight Heavy\",\"X11\",\"X11\",\"Scrypt\",\"PoS\",\"Lyra2REv2\",\"Scrypt\",\"SHA-256\",\"Scrypt\",\"Keccak\",\"X11\",\"X11\",\"Quark\",\"Scrypt\",\"SHA-512\",\"X16R\",\"ECC 256K1\",\"NeoScrypt\",\"Equihash\",\"XEVAN\",\"Quark\",\"CryptoNight Heavy X\",\"Lyra2Z\",\"Ethash\",\"SHA-256\",\"XEVAN\",\"Ethash\",\"X11\",\"CryptoNight\",\"Quark\",\"SkunkHash\",\"Quark\",\"Argon2\",\"Blake\",\"Blake\",\"SHA-256\",\"Equihash\",\"Exosis\",\"Scrypt\",\"Scrypt\",\"Equihash\",\"Quark\",\"Equihash\",\"Quark\",\"Scrypt\",\"QuBit\",\"X11\",\"Scrypt\",\"Equihash1927\",\"XEVAN\",\"SHA-256D\",\"X11\",\"SHA-256\",\"SHA-256\",\"X13\",\"SHA-256\",\"X11\",\"DPoS\",\"X11\",\"Scrypt\",\"X11\",\"Scrypt\",\"X11\",\"NeoScrypt\",\"QuBit\",\"Scrypt\",\"Blake\",\"Scrypt\",\"SHA-256\",\"Scrypt\",\"X11\",\"CryptoNight\",\"Scrypt\",\"Scrypt\",\"SHA-256\",\"X11\",\"SHA-256\",\"Scrypt\",\"CryptoNight\",\"Scrypt\",\"SHA-256\",\"Scrypt\",\"Groestl\",\"X11\",\"Scrypt\",\"PoS\",\"Scrypt\",\"Scrypt\",\"X11\",\"SHA-256\",\"DPoS\",\"Scrypt\",\"Scrypt\",\"Scrypt\",\"NeoScrypt\",\"Scrypt\",\"SHA3-256\",\"Multiple\",\"X13\",\"Equihash+Scrypt\",\"DPoS\",\"Ethash\",\"DPoS\",\"Ethash\",\"SHA-256\",\"Leased POS\",\"PoS\",\"TRC10\",\"PoS\",\"SHA-256\",\"Scrypt\",\"CryptoNight\",\"Equihash\",\"Scrypt\"],\"CoinName\":[\"42 Coin\",\"404Coin\",\"808\",\"EliteCoin\",\"Bitcoin\",\"Ethereum\",\"Litecoin\",\"Dash\",\"Monero\",\"Ethereum Classic\",\"ZCash\",\"Bitshares\",\"DigiByte\",\"BitcoinDark\",\"Bitstake\",\"PayCoin\",\"ProsperCoin\",\"KoboCoin\",\"Spreadcoin\",\"ACoin\",\"Aero Coin\",\"ApexCoin\",\"ArchCoin\",\"Argentum\",\"Aurora Coin\",\"BetaCoin\",\"BlueCoin\",\"MyriadCoin\",\"MoonCoin\",\"ZetaCoin\",\"SexCoin\",\"Quatloo\",\"EnergyCoin\",\"QuarkCoin\",\"Riecoin\",\"Digitalcoin \",\"LimeCoinX\",\"BitBar\",\"BitMark\",\"CashCoin\",\"Catcoin\",\"CryptoBullion\",\"CannaCoin\",\"CinderCoin\",\"CoolCoin\",\"CryptCoin\",\"CasinoCoin\",\"eMark\",\"Diamond\",\"Verge\",\"DarkCash\",\"DarkShibe\",\"DevCoin\",\"EarthCoin\",\"E-Gulden\",\"Elacoin\",\"Einsteinium\",\"Emerald\",\"Exclusive Coin\",\"Flappy Coin\",\"Fuel2Coin\",\"FIBRE\",\"FireRoosterCoin\",\"FlutterCoin\",\"Franko\",\"FeatherCoin\",\"GrandCoin\",\"GlobalCoin\",\"GoldCoin\",\"GlyphCoin\",\"Halcyon\",\"HoboNickels\",\"HunterCoin\",\"HyperStake\",\"Infinite Coin\",\"IOCoin\",\"IXcoin\",\"JumBucks Coin\",\"JudgeCoin\",\"KrugerCoin\",\"LuckyCoin\",\"Litebar \",\"LitecoinDark\",\"LibrexCoin\",\"MaxCoin\",\"MegaCoin\",\"MediterraneanCoin\",\"MintCoin\",\"MinCoin\",\"MazaCoin\",\"Nautilus Coin\",\"NavCoin\",\"NoirBits\",\"NobleCoin\",\"Namecoin\",\"NyanCoin\",\"OpalCoin\",\"Orbitcoin\",\"PotCoin\",\"PhoenixCoin\",\"Reddcoin\",\"RipOffCoin\",\"RonPaulCoin\",\"StableCoin\",\"ShieldCoin\",\"SilkCoin\",\"SmartCoin\",\"SpainCoin\",\"SecureCoin\",\"SuperCoin\",\"SyncCoin\",\"SysCoin\",\"TeslaCoin\",\"TigerCoin\",\"TittieCoin\",\"TorCoin\",\"TerraCoin\",\"Umbrella\",\"UnbreakableCoin\",\"Unobtanium\",\"UroCoin\",\"UnitaryStatus Dollar\",\"UltraCoin\",\"Utility Coin\",\"ViaCoin\",\"VootCoin\",\"VeriCoin\",\"Vertcoin\",\"WorldCoin\",\"SocialXbotCoin\",\"X11 Coin\",\"Crypti\",\"JouleCoin\",\"StealthCoin\",\"XXXCoin\",\"ZCC Coin\",\"ByteCoin\",\"DigitalNote \",\"BurstCoin\",\"StorjCoin\",\"MonaCoin\",\"Neutron\",\"Sling Coin\",\"KryptCoin\",\"FairCoin\",\"Gulden\",\"RubyCoin\",\"PesetaCoin\",\"Kore\",\"Wild Beast Coin\",\"Dnotes\",\"Flo\",\"MaieutiCoin\",\"8BIT Coin\",\"Sativa Coin\",\"AeroMe\",\"ArtByte\",\"MasterTraderCoin\",\"BitCredit\",\"Folding Coin\",\"Ucoin\",\"Unitus\",\"CypherPunkCoin\",\"MaryJane Coin\",\"OmniCron\",\"CyberCoin\",\"Vtorrent\",\"GreenCoin\",\"Unattanium\",\"Cryptonite\",\"Gridmaster\",\"ConSpiracy Coin \",\"MasterCoin\",\"SoonCoin\",\"1Credit\",\"ViorCoin\",\"IslaCoin\",\"Quicksilver coin\",\"Nexus\",\"MarsCoin \",\"Singular\",\"Crypto\",\"Anarchists Prime\",\"Droidz\",\"BowsCoin\",\"CryptoCircuits\",\"Squall Coin\",\"Milllionaire Coin\",\"Song Coin\",\"BitZeny\",\"Diggits\",\"Expanse\",\"MapCoin\",\"Paycon\",\"Siacoin\",\"Emercoin\",\"BlitzCoin\",\"EverGreenCoin\",\"MindCoin\",\"I0coin\",\"Decred\",\"DogeCoinDark\",\"Revolution VR\",\"HOdlcoin\",\"EDRCoin\",\"Hitcoin\",\"Gamecredits\",\"Dashcoin\",\"DubaiCoin\",\"BiosCrypto\",\"CarpeDiemCoin\",\"PWR Coin\",\"TrumpCoin\",\"BillaryCoin\",\"EthereumScrypt\",\"Phalanx\",\"SunShotCoin\",\"GPU Coin\",\"HempCoin\",\"Adzcoin\",\"VirtaCoin\",\"SoilCoin\",\"YoCoin\",\"Universal Currency\",\"AEON\",\"SibCoin\",\"EuropeCoin\",\"Anti Bitcoin\",\"ZeitCoin\",\"SwingCoin\",\"SafeExchangeCoin\",\"Nebuchadnezzar\",\"Francs\",\"BolivarCoin\",\"GIZMOcoin\",\"SecretCoin\",\"Ratecoin\",\"Digital Bullion Gold\",\"Revenu\",\"Clinton\",\"Clockcoin\",\"VIP Tokens\",\"OrlyCoin\",\"BitSend\",\"16BitCoin\",\"ChessCoin\",\"ReeCoin\",\"Omni\",\"Let it Ride\",\"PutinCoin\",\"iBankCoin\",\"Frankywillcoin\",\"MudraCoin\",\"PizzaCoin\",\"Lutetium Coin\",\"Komodo\",\"GoldBlocks\",\"WayCoin\",\"CarterCoin\",\"Karbo\",\"BitTokens\",\"ZayedCoin\",\"MustangCoin\",\"ZoneCoin\",\"Circuits of Value\",\"RootCoin\",\"DopeCoin\",\"PROUD Money\",\"BitCurrency\",\"DollarCoin\",\"Swiscoin\",\"Shilling\",\"BuzzCoin\",\"Opair\",\"PesoBit\",\"GBR Coin\",\"Halloween Coin\",\"FujiCoin\",\"ZCoin\",\"LeaCoin\",\"CoffeeCoin\",\"RoyalCoin\",\"Zurcoin\",\"GanjaCoin V2\",\"TeamUP\",\"LanaCoin\",\"Elementrem\",\"CashOut\",\"ZClassic\",\"ARK\",\"InsaneCoin\",\"LuckChain\",\"KiloCoin\",\"Hush\",\"ArtexCoin\",\"EmberCoin\",\"XenixCoin\",\"FreeCoin\",\"NPCcoin\",\"PLNCoin\",\"Icobid\",\"AquariusCoin\",\"Kurrent\",\"Creatio\",\"Eternity\",\"Eurocoin\",\"BitcoinFast\",\"Stakenet\",\"BitConnect Coin\",\"MoneyCoin\",\"Enigma\",\"Cannabis Industry Coin\",\"Russiacoin\",\"PandaCoin\",\"GameUnits\",\"GAKHcoin\",\"Allsafe\",\"LiteCreed\",\"OsmiumCoin\",\"Bikercoins\",\"NeptuneClassic\",\"HexxCoin\",\"GoldenBird\",\"Ride My Car\",\"Klingon Empire Darsek\",\"Internet of People\",\"KushCoin\",\"Eryllium\",\"MarxCoin\",\"Printerium\",\"PacCoin\",\"Impeach\",\"Solarflarecoin\",\"Citadel\",\"Zilbercoin\",\"FirstCoin\",\"CreativeChain\",\"BeaverCoin\",\"FindCoin\",\"VaultCoin\",\"Zero\",\"OpenChat\",\"Canada eCoin\",\"Zoin\",\"Musicoin\",\"BnrtxCoin\",\"RenosCoin\",\"DubaiCoin\",\"VirtacoinPlus\",\"TajCoin\",\"Impact\",\"EB3coin\",\"Universe\",\"Atmos\",\"HappyCoin\",\"Coinonat\",\"MacronCoin\",\"Condensate\",\"Independent Money System\",\"ArgusCoin\",\"LomoCoin\",\"Bitcoin Scrypt\",\"ProCurrency\",\"GoldReserve\",\"BenjiRolls\",\"ParallelCoin\",\"GrowthCoin\",\"ILCoin\",\"Phreak\",\"Degas Coin\",\"ZSEcoin\",\"HTML5 Coin\",\"Ultimate Secure Cash\",\"EquiTrader\",\"QTUM\",\"Quantum Resistant Ledger\",\"Espers\",\"Dynamic\",\"Nano\",\"ChanCoin\",\"Dinastycoin\",\"Denarius\",\"DigitalPrice\",\"Virta Unique Coin\",\"Bitcoin Planet\",\"Unify\",\"BritCoin\",\"SocialCoin\",\"Octanox\",\"ArcticCoin\",\"DAS\",\"Linda\",\"LeviarCoin\",\"DeepOnion\",\"Bitcore\",\"gCn Coin\",\"SmartCash\",\"Signatum\",\"Onix\",\"Cream\",\"Bitcoin Cash\",\"Monoeci\",\"CampusCoin\",\"Draftcoin\",\"Vechain\",\"Sojourn Coin\",\"Stakecoin\",\"NewYorkCoin\",\"LiteBitcoin\",\"FrazCoin\",\"Kronecoin\",\"AdCoin\",\"Linx\",\"CoinonatX\",\"Ethereum Dark\",\"Sumokoin\",\"Obsidian\",\"Cardano\",\"Regalcoin\",\"BitcoinZ\",\"TrezarCoin\",\"Elements\",\"TerraNovaCoin\",\"VIVO Coin\",\"Rupee\",\"Bitcoin Gold\",\"WomenCoin\",\"Theresa May Coin\",\"NamoCoin\",\"LUXCoin\",\"Pirl\",\"Xios\",\"Bitcloud 2.0\",\"eBoost\",\"KekCoin\",\"BlackholeCoin\",\"AltCommunity Coin\",\"Pure\",\"Rupaya\",\"Infinity Economics\",\"Pura\",\"Innova\",\"Bitdeal\",\"Ellaism\",\"Sakuracoin\",\"GoByte\",\"Castle\",\"Magnet\",\"Lamden Tau\",\"Electra\",\"Bitcoin Diamond\",\"SHIELD\",\"Cash & Back Coin\",\"UltraNote\",\"BitCoal\",\"DaxxCoin\",\"Bulwark\",\"Kalkulus\",\"AC3\",\"CHIPS\",\"Lethean\",\"GermanCoin\",\"LiteCoin Ultra\",\"PopularCoin\",\"PhantomX\",\"HTML Coin\",\"Photon\",\"Sucre\",\"Fantasy Cash\",\"SparksPay\",\"Digiwage\",\"GunCoin\",\"IrishCoin\",\"Trollcoin\",\"Litecoin Plus\",\"Monkey Project\",\"Pioneer Coin\",\"UnitedBitcoin\",\"Interzone\",\"OP Coin\",\"Valorbit\",\"TokenPay\",\"1717 Masonic Commemorative Token\",\"My Big Coin\",\"TurtleCoin\",\"MUNcoin\",\"Unified Society USDEX\",\"Niobio Cash\",\"Bitcoin Private\",\"Skeincoin\",\"ShareChain\",\"Travelflex\",\"KREDS\",\"Tokyo Coin\",\"BiblePay\",\"LitecoinCash\",\"BitFlip\",\"LottoCoin\",\"LeafCoin\",\"Cerberus\",\"Bitcoin Hush\",\"Crypto Improvement Fund\",\"Stipend\",\"Poa Network\",\"Pushi\",\"Ellerium\",\"Velox\",\"Ontology\",\"Callisto Network\",\"Curium\",\"BitTube\",\"Dinero\",\"Poseidon\",\"Aidos Kuneen\",\"Bitspace\",\"Snowgem\",\"Briacoin\",\"Ignition\",\"Bitrolium\",\"Bitcoin Interest\",\"MedicCoin\",\"Alpenschillling\",\"Zelcash\",\"Bitcoin Green\",\"Deviant Coin\",\"Abjcoin\",\"Profit Hunters Coin\",\"Semux\",\"BitBlocks\",\"FuturoCoin\",\"Carebit\",\"Zealium\",\"Monero Classic\",\"Proton\",\"iDealCash\",\"Jumpcoin\",\"Infinex\",\"Bitcoin Incognito\",\"KEYCO\",\"HollyWoodCoin\",\"GINcoin\",\"PlatinCoin\",\"Loki\",\"Newton Coin\",\"Swisscoin\",\"Xt3ch\",\"MassGrid\",\"TheVig\",\"PluraCoin\",\"EmaratCoin\",\"Dekado\",\"Lynx\",\"Poseidon Quark\",\"BitcoinWSpectrum\",\"Muse\",\"Motion\",\"PlusOneCoin\",\"Axe\",\"Trivechain\",\"Dystem\",\"Giant\",\"Peony Coin\",\"SafeCoin\",\"Absolute Coin\",\"Vitae\",\"HexCoin\",\"TPCash\",\"Webchain\",\"Ryo\",\"MUSDcoin\",\"Urals Coin\",\"Qwertycoin\",\"ARENON\",\"EUNO\",\"MMOCoin\",\"Ketan\",\"NIX\",\"Safe Trade Coin\",\"Project Pai\",\"Mont Blanc\",\"XDNA\",\"PAXEX\",\"Azart\",\"Apollon\",\"ThunderStake\",\"Kcash\",\"Xchange\",\"Acute Angle Cloud\",\"Traid\",\"CrypticCoin\",\"Bettex coin\",\"ZestCoin\",\"X-CASH\",\"Actinium\",\"ETHER-1\",\"Bitcoin SV\",\"BitMoney\",\"Bitcoiin2Gen\",\"Junson Ming Chan Coin\",\"FREDEnergy\",\"Zenad\",\"C25 Coin\",\"HerbCoin\",\"Aquachain\",\"Universal Molecule\",\"Lithium\",\"Smart Bitcoin\",\"PirateCash\",\"Exosis\",\"Block-Logic\",\"Oduwa\",\"Beam\",\"Galilel\",\"Bithereum\",\"Crypto Sports\",\"Credit\",\"SLICE\",\"Dash Platinum\",\"Nasdacoin\",\"Vidulum\",\"Beetle Coin\",\"Titan Coin\",\"Award\",\"BlockStamp\",\"BLAST\",\"Bitcoin Rhodium\",\"GlobalToken\",\"Insane Coin\",\"ALAX\",\"The Freedom Coin\",\"LiteDoge\",\"Boolberry\",\"SolarCoin\",\"TruckCoin\",\"UFO Coin\",\"Ascension Coin\",\"OrangeCoin\",\"BlakeCoin\",\"BitstarCoin\",\"NeosCoin\",\"HyperCoin\",\"PinkCoin\",\"FantomCoin \",\"Crypto Escudo\",\"AudioCoin\",\"IncaKoin\",\"Piggy Coin\",\"Crown Coin\",\"Genstake\",\"Quazar Coin\",\"SmileyCoin\",\"ParkByte\",\"XiaoMiCoin\",\"Groestlcoin\",\"CapriCoin\",\" ClubCoin\",\"Radium\",\"Bata\",\"Pakcoin\",\"Creditbit \",\"OKCash\",\"Lisk\",\"HiCoin\",\"WhiteCoin\",\"Dotcoin\",\"FriendshipCoin\",\"The Hempcoin\",\"Fiii\",\"JoinCoin\",\"Triangles Coin\",\"Vollar\",\"EOS\",\"Reality Clash\",\"Oxycoin\",\"iOlite\",\"TigerCash\",\"Waves\",\"Particl\",\"BitTorrent\",\"Nxt\",\"ZEPHYR\",\"Gapcoin\",\"Beldex\",\"Horizen\",\"BitcoinPlus\"],\"ProofType\":[\"PoW/PoS\",\"PoW/PoS\",\"PoW/PoS\",\"PoW/PoS\",\"PoW\",\"PoW\",\"PoW\",\"PoW/PoS\",\"PoW\",\"PoW\",\"PoW\",\"PoS\",\"PoW\",\"PoW/PoS\",\"PoW/PoS\",\"PoS\",\"PoW\",\"PoW/PoS\",\"PoW\",\"PoW\",\"PoS\",\"PoW/PoS\",\"PoS\",\"PoW\",\"PoW/PoS\",\"PoW\",\"PoW/PoS\",\"PoW\",\"PoW\",\"PoW\",\"PoW\",\"PoW\",\"PoW/PoS\",\"PoW\",\"PoW\",\"PoW\",\"PoW\",\"PoW/PoS\",\"PoW\",\"PoW/PoS\",\"PoW\",\"PoW/PoS\",\"PoW\",\"PoW/PoS\",\"PoS\",\"PoW\",\"PoC\",\"PoW/PoS\",\"PoW/PoS\",\"PoW\",\"PoW/PoS\",\"PoW\",\"PoW\",\"PoW\",\"PoW\",\"PoW\",\"PoW\",\"PoW\",\"PoS\",\"PoW\",\"PoS\",\"PoW/PoS\",\"PoW\",\"PoS/PoW/PoT\",\"PoW\",\"PoW\",\"PoW\",\"PoW\",\"PoW\",\"PoW/PoS\",\"PoW/PoS\",\"PoW/PoS\",\"PoW\",\"PoS\",\"PoW\",\"PoW/PoS\",\"PoW\",\"PoW/PoS\",\"PoW/PoS\",\"PoW\",\"PoW\",\"PoW\",\"PoW\",\"PoW/PoS\",\"PoW/PoS\",\"PoW\",\"PoW\",\"PoS\",\"PoW\",\"PoW/PoS\",\"PoS\",\"PoW/PoS\",\"PoW\",\"PoW\",\"PoW\",\"PoW\",\"PoW/PoS\",\"PoW/PoS\",\"PoW/PoS\",\"PoW/PoS\",\"PoW/PoS\",\"PoW\",\"PoW\",\"PoW\",\"PoW/PoS\",\"PoW/PoS\",\"PoW\",\"PoW\",\"PoW\",\"PoS\",\"PoW/PoS\",\"PoW\",\"PoS\",\"PoW\",\"PoS\",\"PoW/PoS\",\"PoW\",\"PoW\",\"PoW\",\"PoW\",\"PoW\",\"PoW/PoS\",\"PoW/PoS\",\"PoW/PoS\",\"PoW\",\"PoW\",\"PoST\",\"PoW\",\"PoW\",\"PoW/PoS\",\"PoW/PoS\",\"PoS\",\"PoW\",\"PoW/PoS\",\"PoW/PoS\",\"PoW/PoS\",\"PoW\",\"PoW\",\"PoC\",\"PoS\",\"PoW\",\"PoW/PoS\",\"PoW\",\"PoS\",\"PoW/PoS\",\"PoW\",\"PoS\",\"PoW\",\"PoW/PoS\",\"PoW\",\"PoS\",\"PoW\",\"PoS\",\"PoW/PoS\",\"PoW/PoS\",\"PoW/PoS\",\"PoW\",\"PoW/PoS\",\"PoW\",\"PoW\",\"PoS\",\"PoW\",\"PoW\",\"PoW/PoS\",\"PoW\",\"PoW/PoS\",\"PoW/PoS\",\"PoW\",\"PoW\",\"PoW\",\"PoW\",\"PoW\",\"PoW\",\"PoW\",\"PoW\",\"PoW/PoS\",\"PoW/PoS\",\"PoW\",\"PoW/nPoS\",\"PoW\",\"PoW/PoS\",\"PoW\",\"PoW\",\"PoW/PoS\",\"PoW\",\"PoS\",\"PoS/PoW\",\"PoW/PoS\",\"PoW\",\"PoW\",\"PoS\",\"PoW\",\"PoS\",\"PoW/PoS\",\"PoW\",\"PoW/PoS\",\"PoS\",\"PoW/PoS\",\"PoW\",\"PoW\",\"PoW/PoS\",\"PoW\",\"PoW\",\"PoW\",\"PoW/PoS\",\"PoW/PoS\",\"PoW\",\"PoW\",\"PoW/PoS\",\"PoW/PoS\",\"PoW\",\"PoW/PoS\",\"PoS\",\"PoW/PoS\",\"PoW/PoS\",\"PoW\",\"PoW\",\"PoS\",\"PoW\",\"PoW\",\"PoW\",\"PoW\",\"PoW\",\"PoW/PoS\",\"PoW\",\"PoW\",\"PoW/PoS\",\"PoW\",\"PoS\",\"PoW/PoS\",\"PoC\",\"PoS\",\"PoW\",\"PoW\",\"PoW/PoS\",\"PoW/PoS\",\"PoW/PoS\",\"PoS\",\"PoW/PoS\",\"PoW\",\"PoW/PoS\",\"PoW/PoS\",\"PoW/PoS\",\"PoW/PoS\",\"PoW/PoS\",\"PoW/PoS\",\"PoW/PoS\",\"PoW\",\"PoS\",\"PoW/PoS\",\"PoW/PoS\",\"PoW/PoS\",\"PoS\",\"PoW\",\"PoS\",\"dPoW/PoW\",\"PoW/PoS\",\"PoS\",\"PoW/PoS\",\"PoW\",\"PoW/PoS\",\"PoW\",\"PoW/PoS\",\"PoW/PoS\",\"PoW\",\"PoW/PoS\",\"PoW\",\"PoW/PoS\",\"PoS\",\"PoW\",\"PoW/PoW\",\"PoW\",\"PoW/PoS\",\"PoS\",\"PoW/PoS\",\"PoW\",\"PoW/PoS\",\"PoW\",\"PoW\",\"PoW\",\"PoS\",\"PoS\",\"PoW\",\"PoW/PoS\",\"PoS\",\"PoW/PoS\",\"PoW\",\"PoW\",\"PoW\",\"DPoS\",\"PoW/PoS\",\"PoW/PoS\",\"PoW\",\"PoW\",\"PoW\",\"PoW/PoS\",\"PoW/PoS\",\"PoS\",\"PoW/PoS\",\"PoW/PoS\",\"PoW/PoS\",\"PoW/PoS\",\"PoW\",\"PoS\",\"PoW/PoS\",\"PoW/PoS\",\"PoW/PoS\",\"TPoS\",\"PoW/PoS\",\"PoW/PoS\",\"PoW/PoS\",\"PoW\",\"PoW/PoS\",\"PoS\",\"PoW/PoS\",\"PoW/PoS\",\"PoS\",\"PoW/PoS\",\"PoW\",\"PoW\",\"PoW/PoS\",\"PoW\",\"PoW/PoS\",\"PoS\",\"PoW/PoS\",\"PoW/PoS\",\"PoW/PoS\",\"PoW/PoS\",\"PoW\",\"PoW/PoS\",\"PoW\",\"PoW/PoS\",\"PoW\",\"PoW\",\"PoS\",\"PoW/PoS \",\"PoW\",\"PoW\",\"PoS\",\"PoW\",\"PoW\",\"PoW/PoS\",\"PoW\",\"PoW\",\"PoW\",\"PoW\",\"PoS\",\"PoW\",\"PoW/PoS\",\"PoW/PoS\",\"PoW/PoS\",\"PoW\",\"PoS\",\"PoS\",\"PoW/PoS\",\"PoW\",\"PoS\",\"PoW/PoS\",\"PoW/PoS\",\"PoW/PoS\",\"PoW/PoS\",\"PoW\",\"PoS\",\"PoW/PoS\",\"PoW\",\"PoW\",\"PoS\",\"PoW\",\"PoS\",\"PoW/PoS\",\"PoW/PoS\",\"PoW/PoS\",\"PoS\",\"PoW\",\"PoS\",\"PoW\",\"PoW/PoS\",\"PoW\",\"PoW\",\"PoW\",\"PoW\",\"PoW/PoS\",\"PoW\",\"PoW/PoS\",\"PoW/PoS\",\"PoW\",\"PoW/PoS\",\"PoW\",\"PoW/PoS\",\"PoW\",\"PoW\",\"PoW/PoS\",\"PoW\",\"PoW/PoS\",\"PoW\",\"PoW\",\"PoW\",\"PoS\",\"PoW\",\"PoW/PoS\",\"PoW\",\"PoW/PoS\",\"PoW\",\"PoS\",\"Proof of Authority\",\"PoW\",\"PoS\",\"PoW\",\"PoW\",\"PoW\",\"PoW\",\"PoW\",\"PoW\",\"PoW/PoS\",\"PoW/PoS\",\"PoW\",\"PoS\",\"PoS\",\"PoW/PoS\",\"PoW\",\"PoW/PoS\",\"PoW\",\"PoW/PoS\",\"PoW\",\"PoS\",\"PoW\",\"PoW/PoS\",\"PoW/PoS\",\"PoW/PoS\",\"PoW/PoS\",\"PoW\",\"PoW/PoS\",\"PoW/PoS\",\"PoW\",\"PoS\",\"PoW/PoS\",\"PoW/PoS\",\"PoW/PoS\",\"PoS\",\"PoS\",\"PoW\",\"PoW\",\"PoW\",\"PoW\",\"PoW\",\"PoW\",\"DPoS\",\"PoW/PoS\",\"DPoS\",\"PoW/PoS\",\"PoW/PoS\",\"PoW\",\"PoW/PoS\",\"PoW\",\"PoW\",\"PoW\",\"PoS\",\"PoS\",\"PoW\",\"PoW\",\"PoW\",\"PoW/PoS\",\"PoW/PoS\",\"PoW\",\"PoW/PoS\",\"PoW/PoS\",\"PoW\",\"PoW\",\"PoW/PoS\",\"PoW\",\"PoS\",\"PoW\",\"PoW\",\"PoW/PoS\",\"PoW/PoS\",\"PoS\",\"PoW\",\"PoW\",\"PoW\",\"PoW/PoS\",\"PoW/PoS\",\"PoS\",\"PoS\",\"PoW and PoS\",\"PoW\",\"PoW\",\"PoW/PoS\",\"PoW\",\"PoW\",\"PoW\",\"PoW\",\"PoW\",\"PoW\",\"PoS\",\"POBh\",\"PoW + Hive\",\"PoW\",\"PoW\",\"PoW\",\"PoW\",\"PoW\",\"PoW\",\"PoW/PoS\",\"PoA\",\"PoW/PoS\",\"PoW/PoS\",\"PoS\",\"PoS\",\"PoW\",\"PoW\",\"PoW\",\"PoW\",\"PoW\",\"PoW\",\"PoW/PoS\",\"PoW\",\"PoW/PoS\",\"PoW/PoS\",\"PoW\",\"PoW\",\"PoS\",\"PoW\",\"PoW/PoS\",\"PoS\",\"PoS\",\"PoW/PoS\",\"PoW/PoS\",\"DPoS\",\"PoW/PoS\",\"PoW\",\"PoW/PoS\",\"PoS\",\"PoW\",\"PoS\",\"PoW/PoS\",\"PoW\",\"PoW\",\"PoS/PoW\",\"PoW\",\"PoS\",\"PoW\",\"PoW\",\"PoW\",\"PoW\",\"PoW/PoS\",\"PoS\",\"PoW\",\"PoW/PoS\",\"PoW\",\"PoW/PoS\",\"PoS\",\"HPoW\",\"PoS\",\"PoS\",\"PoS\",\"PoW\",\"PoW\",\"PoW\",\"PoW/PoS\",\"PoS\",\"PoW/PoS\",\"PoS\",\"PoW/PoS\",\"PoW/PoS\",\"PoS\",\"PoW\",\"PoW/PoS\",\"PoW\",\"PoW\",\"PoW/PoS\",\"PoW\",\"PoW\",\"PoS\",\"PoW/PoS\",\"PoS\",\"PoS\",\"PoW\",\"PoS\",\"PoW\",\"PoS\",\"PoW/PoS\",\"PoS\",\"PoW\",\"PoW/PoS\",\"PoW/PoS\",\"Zero-Knowledge Proof\",\"PoW\",\"DPOS\",\"PoW/PoS\",\"PoW\",\"PoS\",\"PoW\",\"PoW\",\"PoW\",\"PoW\",\"PoW\",\"Pos\",\"PoW\",\"PoS\",\"PoW\",\"POS / MN\",\"PoW\",\"PoW/PoS\",\"PoW\",\"PoW\",\"PoW\",\"PoW\",\"PoS\",\"PoW\",\"PoW\",\"PoW/PoS\",\"PoW\",\"PoW/PoS\",\"PoW\",\"PoS\",\"PoW/PoS\",\"PoW\",\"PoS\",\"PoW/PoS\",\"PoW\",\"PoW/PoS\",\"PoW/PoS\",\"PoW/PoS\",\"PoW\",\"PoW\",\"PoW\",\"PoW\",\"PoW/PoS\",\"DPoS\",\"PoS\",\"PoW/PoS\",\"PoW\",\"PoW\",\"PoW/PoS\",\"PoW\",\"PoW/PoS\",\"PoW/PoS\",\"PoW\",\"PoW/PoS\",\"PoS\",\"PoW/PoS\",\"PoW/PoS\",\"PoW\",\"PoW\",\"PoW/PoS\",\"PoW/PoS\",\"PoW/PoS\",\"PoW\",\"PoW/PoS\",\"PoW\",\"PoW\",\"PoW/PoS\",\"PoW/PoS\",\"PoW\",\"PoW/PoS\",\"PoW/PoS\",\"PoS\",\"PoW\",\"PoW\",\"Proof of Trust\",\"PoW/PoS\",\"DPoS\",\"PoS\",\"PoW/PoS\",\"PoW\",\"PoW/PoS\",\"PoW/PoS\",\"DPoC\",\"PoW\",\"PoW/PoS\",\"PoW\",\"DPoS\",\"PoW\",\"DPoS\",\"PoW\",\"PoS\",\"LPoS\",\"PoS\",\"DPoS\",\"PoS/LPoS\",\"DPoS\",\"PoW/PoS\",\"PoW\",\"PoW\",\"PoS\"],\"TotalCoinSupply\":[\"42\",\"532000000\",\"0\",\"314159265359\",\"21000000\",\"0\",\"84000000\",\"22000000\",\"0\",\"210000000\",\"21000000\",\"3600570502\",\"21000000000\",\"22000000\",\"1300000\",\"12500000\",\"21000000\",\"350000000\",\"20000000\",\"1600000\",\"7000000\",\"6000000\",\"16403135\",\"64000000\",\"16768584\",\"32000000\",\"0\",\"2000000000\",\"384000000000\",\"169795588\",\"250000000\",\"100000000\",\"0\",\"247000000\",\"84000000\",\"48166000\",\"21000000 \",\"500000\",\"27580000\",\"47433600\",\"21000000 \",\"1000000\",\"13140000\",\"114000000\",\"100000000\",\"18000000\",\"40000000000\",\"0\",\"4380000\",\"16555000000\",\"3720000\",\"2043962\",\"21000000000\",\"13500000000\",\"21000000 \",\"75000000\",\"299792458\",\"32000000\",\"0\",\"100000000000\",\"100000000\",\"624000\",\"2602410\",\"0\",\"11235813\",\"336000000\",\"1420609614\",\"70000000\",\"72245700\",\"7000000\",\"0\",\"120000000\",\"42000000\",\"0\",\"90600000000\",\"22000000\",\"21000000\",\"3293010\",\"21600000\",\"265420800\",\"20000000\",\"1350000\",\"82003200\",\"1000000\",\"100000000\",\"42000000\",\"200000000\",\"0\",\"10000000\",\"2419200000\",\"16180000\",\"0\",\"50000000\",\"15000000000\",\"21000000\",\"337000000\",\"0\",\"3770000\",\"420000000\",\"98000000\",\"0\",\"12000000\",\"21000000\",\"250000000\",\"1000000\",\"1000000\",\"51200000\",\"50000000\",\"21000000\",\"0\",\"1000\",\"888000000\",\"100000000\",\"47011968\",\"2300000000\",\"10000000\",\"42000000\",\"2625000\",\"80000000\",\"250000\",\"0\",\"1600000000\",\"100000000\",\"0\",\"23000000\",\"0\",\"0\",\"84000000\",\"265420800\",\"2000000\",\"5500000\",\"0\",\"45000000\",\"0\",\"50000000\",\"1000000000\",\"184467440735\",\"10000000000\",\"2158812800\",\"500000000\",\"105120000\",\"68000000\",\"1000000\",\"17000000\",\"0\",\"1680000000\",\"0\",\"166386000\",\"12000000\",\"2628000\",\"500000000\",\"160000000\",\"2014\",\"0\",\"10000000\",\"12000000\",\"1000000000\",\"10110000\",\"210000000\",\"1000000000\",\"20000000\",\"0\",\"0\",\"0\",\"3371337\",\"0\",\"20000000\",\"10000000000\",\"0\",\"1840000000\",\"84000000\",\"33000000\",\"619478\",\"21000000\",\"92000000000\",\"0\",\"0\",\"33000000\",\"78000000\",\"33000000\",\"0\",\"65789100\",\"53760000\",\"5060000\",\"21000000\",\"0\",\"0\",\"0\",\"210240000\",\"250000000\",\"100000000\",\"16906397\",\"2228921.184\",\"50000000\",\"0\",\"1000000000\",\"3852156\",\"26298000\",\"16000000\",\"21000000\",\"21000000\",\"16500000000\",\"210000000\",\"81962100\",\"22000000\",\"26550000000\",\"84000000\",\"18446744\",\"10500000\",\"20190463.54969237\",\"21626280000 \",\"0\",\"12000000\",\"42000000\",\"4200000\",\"15000000\",\"2250000000\",\"221052632\",\"5000000000\",\"84000000\",\"21000000000\",\"30000000\",\"168351300\",\"210000000\",\"18400000\",\"24000000\",\"384000000\",\"42000000\",\" 99000000000\",\"40000000\",\"2147483647\",\"20000000\",\"20000000\",\"25000000\",\"100000\",\"21000000\",\"75000000\",\"15000000\",\"222725000\",\"2421227\",\"525000000\",\"90000000\",\"36000000\",\"139000000\",\"16000000\",\"74666667\",\"350000000\",\"616448\",\"33500000\",\"2000000000\",\"44333333\",\"100000000\",\"200000000\",\"25000000\",\"657000000\",\"200000000\",\"50000000\",\"100000000\",\"90000000\",\"10000000\",\"21000000\",\"9736000\",\"3000000\",\"21000000\",\"1200000000\",\"0\",\"200000000\",\"10000000000\",\"0\",\"10638298\",\"3100000000\",\"30000000\",\"20000000000\",\"74000000\",\"0\",\"87500000\",\"1500000000\",\"10000000\",\"21400000\",\"2000000000\",\"39999898\",\"2500124\",\"126000000\",\"100000000\",\"301000000\",\"7506000000\",\"26205539\",\"100000000\",\"21000000\",\"125000000\",\"30000000\",\"1000000000\",\"10000000000\",\"21000000\",\"500000000\",\"850000000\",\"3853326.77707314\",\"50000000\",\"7000000000\",\"38540000 \",\"200000000 \",\"42000000\",\"228000000\",\"20000000\",\"60000000\",\"20000000\",\"33000000\",\"76500000\",\"28000000\",\"650659833\",\"5000000\",\"21000000\",\"144000000\",\"32514916898\",\"13000000\",\"3315789\",\"15000000\",\"78835200\",\"2714286\",\"25000000\",\"250000000\",\"9999999\",\"450000000\",\"100000000\",\"500000000\",\"21000000\",\"9354000\",\"100000000\",\"100640000\",\"20000000\",\"100000000000\",\"21933333\",\"20000000\",\"185000000\",\"55000000\",\"110000000\",\"115000000\",\"3360000\",\"14524851.4827\",\"1000000000\",\"17000000\",\"1000000000\",\"100000000 \",\"21000000\",\"454898394\",\"210000000\",\"34426423\",\"2232901\",\"100000000\",\"36900000\",\"110000000\",\"4000000000\",\"112000000\",\"110290030\",\"100000000\",\"48252000\",\"400000000\",\"500000000\",\"21212121\",\"28600000\",\"1000000000\",\"21000000\",\"75000000000\",\"40000000\",\"35520400\",\"1000000\",\"2000000000\",\"2500000000\",\"30000000\",\"105000000\",\"2093500000\",\"90000000000\",\"200084200\",\"72000000\",\"100000000\",\"105000000\",\"50000000000\",\"0\",\"340282367\",\"30000000\",\"2000000000\",\"10000000\",\"100000000\",\"120000000\",\"100000000\",\"19276800\",\"30000000\",\" 75000000\",\"7905634\",\"60000000\",\"18900000\",\"50000000000\",\"54000000\",\"18898187.6216583\",\"21000000\",\"200000000000\",\"5000000000\",\"137500000\",\"1100000000\",\"100000000\",\"21000000\",\"9507271\",\"1010000000\",\"17405891.19707116\",\"86712634466\",\"10500000000\",\"61599965\",\"0\",\"1000000000\",\"20000000\",\"84000000\",\"100000000\",\"100000000\",\"48252000\",\"4200000\",\"88888888\",\"91388946\",\"45000000000\",\"27000000\",\"21000000000\",\"400000000\",\"1800000000\",\"15733333\",\"27000000\",\"24000000\",\"21000000\",\"25000000000\",\"100000000\",\"1200000000\",\"60000000\",\"156306732.71\",\"21000000\",\"200000000\",\"100000000\",\"21000000\",\"14788275.991\",\"5000000\",\"3686860\",\"75000000\",\"9000000000\",\"350000000\",\"45000000\",\"300000000\",\"280000000\",\"105100000\",\"31800000\",\"50000000 \",\"144000000\",\"500000000\",\"30000000000\",\"210000000\",\"660000000\",\"210000000\",\"85000000000\",\"12500000\",\"10000000000\",\"27716121\",\"20000000\",\"550000000\",\"21000000\",\"999481516\",\"50000000000\",\"150000000\",\"4999999999\",\"50000000\",\"90000000000\",\" 90000000000\",\"19800000\",\"4600000\",\"21000000\",\"120000000\",\"500000000\",\"64000000\",\"900000000\",\"4000000\",\"21000000\",\"23000000\",\"20166000\",\"23000000\",\"2000000000\",\"92233720000000000\",\"25000000\",\"1618033\",\"30000000\",\"1000000000000\",\"16600000\",\"232000000\",\"336000000\",\"21000000\",\"17000000\",\"10000000000\",\"100000000\",\"1100000000\",\"800000000\",\"5200000000\",\"840000000\",\"40000000\",\"18406979840\",\"21000000000\",\"31500000\",\"21000000\",\"500000000\",\"19340594\",\"252460800\",\"25000000\",\"60000000\",\"124000000\",\"1000000000\",\"6500000000\",\"22000000\",\"1000000000\",\"100000000\",\"21000000\",\"25000000\",\"50000000\",\"84096000\",\"3000000\",\"5000000\",\"70000000\",\"22300000\",\"500000000\",\"300000000\",\"210000000\",\"21000000\",\"88000000\",\"30000000\",\"100000000\",\"100000000\",\"500000000\",\"100000000\",\"200000000\",\"80000000\",\"18400000\",\"45000000\",\"5121951220\",\"21000000\",\"26280000\",\"21000000\",\"18000000\",\"26000000\",\"10500000\",\"600000518\",\"150000000\",\"184000000000\",\"10200000000\",\"44000000\",\"168000000\",\"100000000\",\"1000000000\",\"84000000\",\"90000000\",\"92000000000\",\"650000000 \",\"100262205\",\"18081806 \",\"22075700\",\"21000000\",\"21000000\",\"82546564\",\"21000000\",\"5151000\",\"16880000000\",\"36000000\",\"52500000\",\"100000000\",\"22105263\",\"1000000000\",\"1750000000\",\"88188888\",\"100000000\",\"210000000\",\"184470000000\",\"55000000\",\"50000000\",\"260000000\",\"210000000\",\"175000000\",\"840000000\",\"2100000000\",\"70000000\",\"366000000\",\"100000000\",\"25000000\",\"250000000\",\"18000000000\",\"1000000000\",\"100000000\",\"1000000000\",\"252000000\",\"7600000000\",\"50000000\",\"29300000\",\"100000000000\",\"84000000\",\"13666237\",\"21000000\",\"70000000000\",\"100000000\",\"0\",\"8080000000\",\"46000000\",\"6100000\",\"54000000\",\"42000000\",\"105120001.44\",\"25228800\",\"20999764\",\"105000000\",\"21000000\",\"120000000\",\"21000000\",\"262800000\",\"19035999\",\"30886000\",\"13370000\",\"74800000000\",\"100000000\",\"19700000\",\"84000000\",\"100000000\",\"500000000\",\"5000000000\",\"420000000\",\"105000000\",\"64000000\",\"2100000\",\"168000000\",\"30000000\",\"1000000000\",\"25000000\",\"35000000000\",\"18450000\",\"98100000000\",\"0\",\"4000000000\",\"0\",\"200000000\",\"7000000000\",\"54256119\",\"21000000\",\"0\",\"500000000\",\"18400000\",\"1000000000\",\"10500000000\",\"190000000\",\"1000000000\",\"42000000\",\"15000000\",\"18446744\",\"50000000000\",\"25000000\",\"400000000\",\"105000000\",\"208000000\",\"160000000\",\"9000000\",\"5000000\",\"182000000\",\"16504333\",\"105000000\",\"159918400\",\"10008835635\",\"300000000\",\"890000000\",\"60168145\",\"300000000\",\"5000000000\",\"2800000\",\"120000\",\"2100000000\",\"0\",\"24487944\",\"0\",\"1000000000\",\"1000000000\",\"100000000\",\"8634140\",\"990000000000\",\"1000000000\",\"2000000000\",\"250000000\",\"1400222610\",\"21000000\",\"1000000\"],\"TotalCoinsMined\":{\"__ndarray__\":\"E66yfP7/REC4HgUDbHLPQQAAAAAAAAAAxAK6QcJEG0IAAABwwBhxQdv5vvqFrJlB92hmWjgPjkFzMQXMzzlhQWaQUXJ/Z3BBAAAAXO0Gm0EAAAAQBCpcQQAAADohbeRBAAAovOg+BUIAAAAAnqozQQAAAAAAAAAAKbtP3BjhZkEAAACAHQFWQbszaXn4W3hBaIHsvzREZUEAAAAAAAAAAAAAAAAAAAAAAAAAAAAAAAAAAAAAAAAAABASPW7cR2dB+ijjv4NLcUEAAAAAAAAAAAAAAE7m78JBAACAyi0o2UEAAAAAAABWQJF7gss5SqRBaXC7XO69nkHsUbiyWBFcQRLdg0QoV51BvFzUWQ7xrkGMXSFJaaCHQVAsgcXK5H9BAAAAAAAAAADO4sVCb8rkQAAAAAAAAAAAAAAAAAAAAABmWFwpvYpbQcJHik0Zti9B0Ooq4aHxUUEAAAAAAAAAAAAAAAAAAAAAQQ4rjd4PU0GutucKX6AiQgAAAAAAAAAAoF+p3xM2SUH99mjJyqsNQgAAAAAAAAAAAAAAAAAAAAAAAHBTCXwRQnSTloARWwdCS2bm7Bjxc0EAAAAAAAAAAN7//7BwF6pBtMj2JPWXckEAAABAlqpVQQAAAAAAAAAAAAAAAAAAAAAAAAAAAAAAAAAAAAAAAAAAwTRUEfeGu0GkPC0mzG8xQTD1A0oT4KhBAAAANVhZykEBWsSDsFCPQQ/x/79I3YNBAAAAAAAAAAAAAAAAAAAAAAwjvdZrSJVBAAAAAAAAAAD7XLHGCwPZQaOhOnztFzVCauuWH07VcEFt5/tPxBx0QQAAAAAAAAAAAAAAAAAAAACamZnD0A2iQc3MTPJWbnJB67a4OtjZMEEAAAAAAAAAAAAAAAAAAAAAAAAAaLVMjUFC3vH/OTGCQTMzM4eHR4NB0/wVEd7UE0K3KNQ4KyRWQdb//9BLDNhBAAAAAGTcbkFGZKnBRYOPQQAAAAAAAAAAaHk40Omg4UEAAAAAghtsQe6ue+dB87NBYLmUipHobEESpb0jRJJIQQJGB9SRi6pBAACAqh2ikUHuWgQ5YE0bQgAAAAAAAAAAs3X0ax3ZMEGamZnb6Bd3QQAAAAAAAAAAAAAAAAAAAACpBiuSeGh4QQAAAAAAAAAAAAAAAAAAAAAnrP5t5i2IQQAAAAAAZJJASWWmrurJwEEmvO6+tSKTQQAAAACNwoRBsaedNq8s2EHonwEAK9k1QQAAAEB233VBAAAAAAAAAAAAAAAAg2FBQXvkB1V+hghBAAAAAA5sMkFmZibkK2DQQeqwIlk69IdBAAAAAAAAAADy/6/CEhR2QQAAAAAAAAAABWSeRqeJfkHHd4jeymaIQQAAAHQ6hJxBAAAAAAAAAACqPTbG64NaQQAAAACE15dBZY7l2qKwgkGG/JjWhY9/QQAAAAAAAAAAzef0u02koUEAAAd1nm1FQnEgpp2iuvlBAAAA8CwE20EAAADAuGaIQXATfMtFQpBBAAAA8JingkEAAAAAAAAAAAAAAAAAAAAAAAAAOGNdiUEAAABk5Ly4QYXzRKbW7HlB4PPTrLRkoEGbqRDjQNw+QZMx4/L5NAZBGovew8bRpEHbpriR7iaiQQAAAAAAAAAAAAAAAMFlNkEAAACAgBJbQQAAAAAAAAAAAAAAUZSex0EAAAAAAAAAAAAAAAAAAAAAAAAAT7dwxUEAAAAAioVEQQAAALBmDI9BAAAAQBlIWEEAAAAAAAAAAMlLLY4xV2NBAAAAAAAAAAAAAABAXiJmQXE9DnLDLPFBAAAAAAAAAAAAAADMeR3FQQAAAAAAAAAAAAAAAAAAAAAAAAAArOciQQAAAIBDxWdBAAAAAFCJ9UAAAAAAAAAAAAAAAADoGDdBAAAAAAAAAAAAAAAgqFqOQbTMIm2Yun5BAAAAAAAAAAAAAABAUjZqQW6jAQDIIGxBv8x/y5xXYEEAAACwA0JuQQAAAAAAAAAASIrIEMAXFEEAAAAAAAAAAAAAAECDDn9BAAAAkCQHkkEAAAAAhNeXQQAAAMClBGRBAAAAAAAAAAAAAADAovl1QQAASLM/0x5Ccy9wllKIhEEAAAAAAAAAAHTfYI23zmlBAAAA4OVDbkF3ItdNVgZ0QWSJs90OxWNBAAAAAAAAAAAAAAAAsQipQQAAAKBO1mVB0TYn7F3/S0EAAJj8c3sEQgAAABB1ppBBAAAAAAAAAAAAAACAzZBTQQAAAAAAAAAAAABklTY/FELPZj/KfMECQgAAAAAAAAAAZta35+opYUEAAAAAAAAAAAAAAAAAAAAAAAAAAAAAAAAAAACQC02DQQAAAAAAAAAAAAAAoKGChUEAAAAAAAAAAAAAAABowFVBFXuiHl1sI0EAAAAAAAAAAAAAAAAAAAAAAAAAsK92cEGH0zi5rNljQQAAAAAAAAAAVp2dlVA3IULEswJnfrJQQQAAwP///99BAAAAANASc0H1ngjqzRBZQQAr9k8IC2pBAAAAAAAAAAAAAAAAAAAAAMZoTXpKCqBBAAAAAAAAAAAAAAAABT4yQQAAAAAAAAAAAAAAgCTIb0EAAACMaOWTQQAAAAAAAAAAZm8EyAhCd0EAAAAAAAAAAAAAAAAAAAAAAAAAAAAAAAAAAAAAANAiQfyTU4WrZoJBn69J+WY7yEEAAAAAPURRQQAAAACE15dBAAAAANASU0EAAAAAfQY1QQAAACCDlMNBAAAATNyhm0EAAAAgjK9tQQAAAAAAAAAAAAAA4DmVhEEqh1wuGNddQQAAAADKKyJBAAAAAIDRV0F1GeWwyBEkQQAAAADpskNBAAAAAGXNzUEAAAAAsZk9QQAAALCq25tBAAAAAAAAAAAAAAAwvTekQQAAAECjXmFBAACA3BLTw0EAAAAATDVlQQAA7E21OxJCKwwuO6qmkUEAAADQUPh/QQAAAAAAAAAA3sWTdFiNr0EAAAAAAAAAAFHN+E/m3lxBAAAAAAAAAAAAAAAgerqhQQAAAAAOE0NBAAAAAAAAAAAAAAAAhNeXQXh6paJD/nBBbVvich8g0EEAAAAw1v14QQAAAAAAAAAAAAAAgPtpVUEAAACQIcyZQQAAANA5fnFBAAAAAAAAAAAAAADmiWanQQAAAAAAAAAAAAAAAJ+OyEEAAMPVHnc1QvUhd2MHZk1BAAAAAITXh0EAAAAAAAAAAAAAAABETHBBAAAAAAAAAACnlim1VLBCQQAAAGjSQo1BAAAAANASc0H6EPGEOidXQQAAAEDFrmdBAWxAemNOc0EAAACEqwWSQW8KEEyCImVBAAAAQE7RZEEAAAAAntwoQQAAAADC2S1BAAAAQIT1X0G1VTeErn0fQgAAAIArf0pBAAAAgCZMSUG3QKeXoQ9kQQAAAGDS03xBAAAAAJRIK0EAAAAA5NhhQQAAAAAAAAAA6IGPcbKgPEEAAAAAAAAAAAAAAAAAAAAAAAAAwOvadkGII9U8v0VDQawzRD12llVBAAAAAAAAAAAAAAAAAAAAAAAAAABUjGZBAAAAHdkAwEEAAAAATM8SQQAAAAAAAAAABwq80BzsZEGMg2z7OkxGQQAAAADeOZpBAAAAAAAAAAAAAAAAfcRHQUVHcm82tGtBAAAAQFj6fEEceJZ5bWdaQQAAAABlzc1Bom1DQfXNl0EAAADYxa9xQQAAAAAAAAAAAAAAAAAAAAAAAADorTCBQQAAAIAiCUFBTeW+oh8baUEhj6B9UD1nQd7hZs9XYJpBAAAAoDmQjkEAAAAAAAAAAARWjnMxf5pBy5sooDqGdEEAAAAA+E5jQQAAAFk07bdBO1STrt4BnUEAAACAGXtUQQAAAACkhTFBAAAAAICEHkEAAAAAAAAAAAAAAETT+JdBAAAAYDtgcEGMKVgyOFZzQQAAAAAAAAAACaRc6miXsUEAAADLzqLTQWBHLT+iuWVBAAAAwIpedEEAAAAAAAAAAAAAwNHu7iJCAAAAIFm6Y0FyQtfNdxRqQQAAAACE15dBZQhWw591kEEAANx7ZDwVQqidawoi3nJBAAAApNTEn0GR22qx9Y1xQQAAwMGR9tpBAAAAADvTT0EAAAD4bMGAQQAAANhbA45BAAAAgOL0WUEAAACwDEtxQQAAAMBnSHRBAAAAwKe2U0EAAAAAAAAAACAV+sX/1XhBAAAAANMCREF/8PmL9dgAQgAAAGDxAmtBmt3JoNXmdEGSmpGSKPpwQQAATqtr+0JCSx+nv2Ky4EEAAAB4Ir6ZQcoYj9lRM51BkcPR086RhkFqvFladClxQSNYJtFV+WdBAAAAAAAAAADya5UVeMxxQQAAoDO40ilCAAAAAHidHUEAAAAAgIROQe/X1k3upUBCAAAAAAAAAAAAAABATYJiQXDZd1YrpXBBCTICsWQif0EAAABwyROAQQAAAEBoonJBAAAAAJAFUEEAAACgexBhQQAAAACE13dBAAAozX4lGELOvrqCMLRbQQM+oN4favNBAAAAgK7FpUHLSpu+SSPkQYums+r+ZzFBUXuZyafIT0EAAAAAYON2QfmEbJHLZ3BBAACMvNGQJkIAAADAVfKVQQAAAArCtMBB2W9W1BuvX0EAAAAgzTSAQQAAAACcZkBBinB46O9JfUEnT/nF59aXQeDzw8nmhGdByXa+H4Y1b0EAAAAAAAAAAAAAAAAAAAAAAAAAAAAAAAAAALDPiMMAQgAAAOYp46RBKVyPwtZRWEEAAAAAAAAAAAAAAOCxVGhBAAAAAAAAAAAAAAC4nD9WQQAAAAAAAAAAjnasFuo2gkFhb37H6SuxQQAAAJLichpCyZTHkQPhpUHp8JAGoLa8Qc9rLEV/dZpBOPiV+yT1EUIAAAAAiCpRQQAAAIQtDL9Bvu0uXFlEaUGq2m5OlytwQQAAALwcJpNBAAAAAAAAAAASg2C58Uy6QVyP1r74S/JBy6FFSgkPYEFI4RskHYntQQTn3DBuioVBAAAAAAAAAABZF6rN7wUcQv52QCDsIVBBAAAAAAAAAACpBFlVfu9dQQAAAAD2CHpBAAAAwY3esUGb8rdKIbCFQQAAAE4lncFBCd0lHZMbQ0EAAAAA9c9QQWzR3gqzK2BBAAAAAFc7c0FE3QeDpbpmQQAAAAAAAAAAAAAAAAAAAABWAY1Yqn9zQQAAAABxsDhB6KPo0IXtYUE9ipsSw74oQiP3U79oYVJB4XaQc/D+q0HFrxjPlu6fQQAAAAAAAAAAAAAAAAAAAAAAAAAgX6ACQiVzHEidlplB1SHF48Uvw0EAAABaKnSrQfHXeCf+Z9pBlrAafngGw0EVxhaAMr1nQQAAqKja/QpCAAAAAAAAAAAAAAAAAAAAAAAAAAAAAAAATz8AzUowqUFESwPG0XVlQQAAAH40YKhBzczMjAmKQEFSuB6FLZcZQVomKNKtYnhBAACAuJRlw0EAAABKiIStQQAAAAAAAAAAdXWf684Vk0EAAAAAAAAAAJhQHBOiDU9BAAAAAITXd0EZwhbUWUxqQQAAAAAAAAAAGbZ/oIvOKUEAAACAyQkyQQAAAFQxA5FBAAAAAAAAAAAAAKAYR92vQYN0bFrtEnpBAAAAAAAAAAB9BpRr9bJiQU0Fpq323HRB67Hly3bYYkEAAAAAAAAAAAAAAAAryTJBAAAAAAAAAACJEf1SB1R+QXJuA5mDqKBBTNr5wtYfZUEAAAAAvIxuQQAAAACWzFBB5nRdlm/s1EGTQQkk4hd0QURRfW02clNBjX70YrDMZEEAAAAAbkYoQbN2u8vzdIJBBFMT7aemWkEAAAAAwJT0QAAAAAAuRHJBAACivbA6I0IAAAAwvf8CQkhQ/AAsG11Bg20UIDEyoEGcs497yrJ/QSXLM+AdscBB78nDukaZdEHP8+dFmuF8QVnmi1WJITJC6NT8eTS5REEY0gHIAZGLQQAAAIAfWnFBpq1XQWr/XkE4UF7FY31gQaKloawBDFNBrPn2hDebgUFNI9YPZgRbQasgKXHAlFZBluWQ57jML0EAAAAAAAAAAKi1Hz4RbmlBIUABrTd/j0FIZOUQ1501QRnyvJ8mnVRB10bh6YS3bUEAAABARKhSQQAAAAAAAAAAacsUI0UgbEFdzQDq0y03QnE9Cl94YHJBFw2eX3tYfUH/sqtvYrGZQQdWG3NDymFBAAAAAAAAAAAAAAAAAAAAAAAAAEDdSt9BAAAAAAAAAAB7Zgl2ANNRQQAAAMAPL1FB2sDhV1IiU0EAAAAAAAAAABiaN9DOls9BAAAAAGXNzUFRV68zk5piQQAAAABlzc1BAAAAAAAAAAAAAACK1Y3vQXJgh0tT5FlBAAAAAAAAAAAAAAAAAAAAAAAAAECkAWpBAAAAAAAAAAA/zFkqtChxQWEUvDBm26hBAAAAAAAAAABwTkFiKgcQQpAsUsY/0ttBAAAAAAAAAAAAAAAAAAAAAIQl882R1oBBAAAAAAAAAACTuDtQKRU4Qcfd8SeoOW5BAAAAAAAAAAAAAAAACrRpQTMzM7MvyRhBzT1kaTfTgEEdRpysmS9sQQAAAABjBIFBoET6MztrcUEAAAA4VPx3QfT+3KxthT1BTx7ABmy1HEKNuYbNa6doQdWNf+IW1yVBJsJLAz6Yc0EAAAAAAAAAAG8PukAct6dBAAAAaLG2ykGt8T5RaWltQQAAAAAAAAAAzbkFZYbviEEAAACAdNsxQdL+/69fLJRBOMwhha2sdkEAAAAAZc3NQQAAAAAAAAAA5x1IVZ2IDEIAAAAAAAAAAPs/F6PYfopBKJtyMsbqrEEAAID6AX/sQQAAAAAAAAAAAAAAAH/8SkFIBWRiV0Z2QQAAAECRn3NBXkvGj1DBUEFveMf/u15iQReFfVg6ArpBAAAAAAAAAAAAAAAGiUDHQR9ofThlOs1BBFbV6ym1EEJuUAeag3W9QUrmXREL7HVBAAAAADicjEEAAAAAAAAAAGmvK2lfjRtCAAAAAAAAAACYo4s7YRm4QbqpjG/EeZFBrOHaziYBqEGuD6vQk7SYQQaJ6d5eJ01Bn0He+iJGU0GZOsGdM52QQQxbk4o5HnBBKqLLg93NkUEAAACw9ZycQQKaLf58oAJCiphieJkKrkEAAAAAAAAAAKD9SAGBGDFBAAAAAAAAAADSe7+80gv2wQAAAECdbUlBqDrkBk4vAUEAAAAAhNeXQdk9iQUjas5B+HqIgYBad0EUrtdyjLnQQQAAAAAAAAAAAAAAAGXNzUEAAAAAhNeXQdmqyTHItGFBxfR7nv3PbEIAAAAAZc3NQfOO0/5kzd1BlPryxIx6bEEAAIBBgTbNQQAAAGCG1VtBR9gB8W9U/0A=\",\"dtype\":\"float64\",\"shape\":[685]},\"class\":{\"__ndarray__\":\"AgAAAAIAAAACAAAAAgAAAAAAAAAAAAAAAAAAAAIAAAAAAAAAAAAAAAAAAAACAAAAAAAAAAIAAAACAAAAAgAAAAAAAAACAAAAAAAAAAAAAAACAAAAAgAAAAIAAAAAAAAAAgAAAAAAAAACAAAAAAAAAAAAAAAAAAAAAAAAAAAAAAACAAAAAAAAAAAAAAAAAAAAAAAAAAIAAAAAAAAAAgAAAAAAAAACAAAAAAAAAAIAAAACAAAAAAAAAAIAAAACAAAAAgAAAAAAAAACAAAAAAAAAAAAAAAAAAAAAAAAAAAAAAAAAAAAAAAAAAIAAAAAAAAAAgAAAAIAAAAAAAAAAgAAAAAAAAAAAAAAAAAAAAAAAAAAAAAAAgAAAAIAAAACAAAAAAAAAAIAAAAAAAAAAgAAAAAAAAACAAAAAgAAAAAAAAAAAAAAAAAAAAAAAAACAAAAAgAAAAAAAAAAAAAAAgAAAAAAAAACAAAAAgAAAAIAAAAAAAAAAAAAAAAAAAAAAAAAAgAAAAIAAAACAAAAAgAAAAIAAAAAAAAAAAAAAAAAAAACAAAAAgAAAAAAAAAAAAAAAAAAAAIAAAACAAAAAAAAAAIAAAAAAAAAAgAAAAIAAAAAAAAAAAAAAAAAAAAAAAAAAAAAAAIAAAACAAAAAgAAAAAAAAAAAAAAAgAAAAAAAAAAAAAAAgAAAAIAAAACAAAAAAAAAAIAAAACAAAAAgAAAAAAAAAAAAAAAgAAAAIAAAAAAAAAAgAAAAAAAAACAAAAAgAAAAAAAAACAAAAAAAAAAIAAAAAAAAAAgAAAAAAAAACAAAAAgAAAAIAAAACAAAAAAAAAAIAAAAAAAAAAAAAAAIAAAAAAAAAAAAAAAIAAAAAAAAAAgAAAAIAAAAAAAAAAAAAAAAAAAAAAAAAAAAAAAAAAAAAAAAAAAAAAAIAAAACAAAAAAAAAAIAAAAAAAAAAgAAAAAAAAAAAAAAAgAAAAAAAAACAAAAAgAAAAIAAAAAAAAAAAAAAAIAAAAAAAAAAgAAAAIAAAAAAAAAAgAAAAIAAAACAAAAAAAAAAAAAAACAAAAAAAAAAAAAAAAAAAAAgAAAAIAAAAAAAAAAAAAAAIAAAACAAAAAAAAAAIAAAACAAAAAgAAAAIAAAAAAAAAAAAAAAIAAAAAAAAAAAAAAAAAAAAAAAAAAAAAAAIAAAAAAAAAAAAAAAIAAAAAAAAAAgAAAAIAAAACAAAAAgAAAAAAAAAAAAAAAgAAAAIAAAACAAAAAgAAAAIAAAAAAAAAAgAAAAIAAAACAAAAAgAAAAIAAAACAAAAAgAAAAAAAAACAAAAAgAAAAIAAAACAAAAAgAAAAAAAAACAAAAAAAAAAIAAAACAAAAAgAAAAAAAAACAAAAAAAAAAIAAAACAAAAAAAAAAIAAAAAAAAAAgAAAAIAAAAAAAAAAgAAAAAAAAACAAAAAgAAAAIAAAAAAAAAAgAAAAAAAAAAAAAAAAAAAAIAAAACAAAAAAAAAAIAAAACAAAAAgAAAAAAAAAAAAAAAAAAAAIAAAACAAAAAgAAAAAAAAAAAAAAAAAAAAIAAAACAAAAAgAAAAIAAAACAAAAAgAAAAIAAAAAAAAAAgAAAAIAAAACAAAAAgAAAAIAAAACAAAAAgAAAAIAAAAAAAAAAgAAAAIAAAACAAAAAgAAAAIAAAACAAAAAAAAAAAAAAACAAAAAAAAAAIAAAACAAAAAgAAAAIAAAACAAAAAgAAAAAAAAACAAAAAAAAAAIAAAAAAAAAAAAAAAIAAAACAAAAAAAAAAAAAAACAAAAAAAAAAAAAAACAAAAAAAAAAAAAAAAAAAAAAAAAAIAAAAAAAAAAgAAAAIAAAACAAAAAAAAAAIAAAACAAAAAgAAAAAAAAACAAAAAgAAAAIAAAACAAAAAgAAAAAAAAACAAAAAgAAAAAAAAAAAAAAAgAAAAAAAAACAAAAAgAAAAIAAAACAAAAAgAAAAAAAAACAAAAAAAAAAIAAAAAAAAAAAAAAAAAAAAAAAAAAgAAAAAAAAACAAAAAgAAAAAAAAACAAAAAAAAAAIAAAAAAAAAAAAAAAIAAAAAAAAAAgAAAAAAAAAAAAAAAAAAAAIAAAAAAAAAAgAAAAAAAAACAAAAAAAAAAIAAAACAAAAAAAAAAIAAAAAAAAAAAAAAAAAAAAAAAAAAAAAAAAAAAACAAAAAgAAAAAAAAACAAAAAgAAAAIAAAAAAAAAAgAAAAAAAAACAAAAAAAAAAIAAAAAAAAAAgAAAAIAAAACAAAAAgAAAAAAAAACAAAAAgAAAAAAAAACAAAAAgAAAAIAAAACAAAAAgAAAAIAAAAAAAAAAAAAAAAAAAAAAAAAAAAAAAAAAAACAAAAAgAAAAIAAAACAAAAAgAAAAAAAAACAAAAAAAAAAAAAAAAAAAAAgAAAAIAAAAAAAAAAAAAAAAAAAACAAAAAgAAAAAAAAACAAAAAgAAAAAAAAAAAAAAAgAAAAAAAAACAAAAAAAAAAAAAAACAAAAAgAAAAIAAAAAAAAAAAAAAAAAAAACAAAAAgAAAAIAAAAAAAAAAgAAAAAAAAAAAAAAAgAAAAAAAAAAAAAAAAAAAAAAAAAAAAAAAAAAAAIAAAABAAAAAQAAAAAAAAAAAAAAAAAAAAAAAAAAAAAAAAAAAAIAAAABAAAAAgAAAAIAAAACAAAAAgAAAAAAAAAAAAAAAAAAAAAAAAAAAAAAAAAAAAIAAAAAAAAAAgAAAAIAAAAAAAAAAAAAAAIAAAAAAAAAAgAAAAIAAAACAAAAAgAAAAIAAAACAAAAAgAAAAAAAAACAAAAAgAAAAAAAAACAAAAAgAAAAAAAAAAAAAAAgAAAAAAAAACAAAAAAAAAAAAAAAAAAAAAAAAAAIAAAACAAAAAAAAAAIAAAAAAAAAAgAAAAIAAAACAAAAAgAAAAIAAAACAAAAAAAAAAAAAAAAAAAAAgAAAAIAAAACAAAAAgAAAAIAAAACAAAAAgAAAAAAAAACAAAAAAAAAAAAAAACAAAAAAAAAAAAAAACAAAAAgAAAAIAAAACAAAAAAAAAAIAAAAAAAAAAgAAAAIAAAACAAAAAAAAAAIAAAACAAAAAgAAAAAAAAABAAAAAgAAAAAAAAACAAAAAAAAAAAAAAAAAAAAAAAAAAAAAAACAAAAAAAAAAIAAAAAAAAAAgAAAAAAAAACAAAAAAAAAAAAAAAAAAAAAAAAAAAAAAAAAAAAAAAAAAIAAAAAAAAAAgAAAAAAAAACAAAAAgAAAAAAAAACAAAAAgAAAAAAAAACAAAAAgAAAAIAAAAAAAAAAAAAAAAAAAAAAAAAAgAAAAIAAAACAAAAAgAAAAAAAAAAAAAAAgAAAAAAAAACAAAAAgAAAAAAAAACAAAAAgAAAAIAAAACAAAAAAAAAAAAAAACAAAAAgAAAAIAAAAAAAAAAgAAAAAAAAAAAAAAAgAAAAIAAAAAAAAAAgAAAAIAAAACAAAAAAAAAAAAAAACAAAAAgAAAAIAAAACAAAAAgAAAAAAAAACAAAAAgAAAAEAAAAAAAAAAgAAAAAAAAACAAAAAAAAAAIAAAAAAAAAAgAAAAEAAAACAAAAAgAAAAIAAAACAAAAAgAAAAAAAAAAAAAAAgAAAA==\",\"dtype\":\"int32\",\"shape\":[685]}},\"selected\":{\"id\":\"2631\",\"type\":\"Selection\"},\"selection_policy\":{\"id\":\"2665\",\"type\":\"UnionRenderers\"}},\"id\":\"2630\",\"type\":\"ColumnDataSource\"},{\"attributes\":{},\"id\":\"2638\",\"type\":\"StringEditor\"},{\"attributes\":{},\"id\":\"2647\",\"type\":\"StringFormatter\"},{\"attributes\":{\"editor\":{\"id\":\"2638\",\"type\":\"StringEditor\"},\"field\":\"Algorithm\",\"formatter\":{\"id\":\"2637\",\"type\":\"StringFormatter\"},\"title\":\"Algorithm\"},\"id\":\"2639\",\"type\":\"TableColumn\"},{\"attributes\":{\"editor\":{\"id\":\"2643\",\"type\":\"StringEditor\"},\"field\":\"ProofType\",\"formatter\":{\"id\":\"2642\",\"type\":\"StringFormatter\"},\"title\":\"ProofType\"},\"id\":\"2644\",\"type\":\"TableColumn\"},{\"attributes\":{},\"id\":\"2643\",\"type\":\"StringEditor\"},{\"attributes\":{\"margin\":[5,5,5,5],\"name\":\"HSpacer05472\",\"sizing_mode\":\"stretch_width\"},\"id\":\"2629\",\"type\":\"Spacer\"},{\"attributes\":{},\"id\":\"2633\",\"type\":\"StringEditor\"},{\"attributes\":{},\"id\":\"2658\",\"type\":\"IntEditor\"},{\"attributes\":{\"format\":\"0,0.0[00000]\"},\"id\":\"2652\",\"type\":\"NumberFormatter\"},{\"attributes\":{\"editor\":{\"id\":\"2658\",\"type\":\"IntEditor\"},\"field\":\"class\",\"formatter\":{\"id\":\"2657\",\"type\":\"NumberFormatter\"},\"title\":\"class\"},\"id\":\"2659\",\"type\":\"TableColumn\"},{\"attributes\":{},\"id\":\"2632\",\"type\":\"StringFormatter\"},{\"attributes\":{\"editor\":{\"id\":\"2633\",\"type\":\"StringEditor\"},\"field\":\"CoinName\",\"formatter\":{\"id\":\"2632\",\"type\":\"StringFormatter\"},\"title\":\"CoinName\"},\"id\":\"2634\",\"type\":\"TableColumn\"},{\"attributes\":{\"editor\":{\"id\":\"2648\",\"type\":\"StringEditor\"},\"field\":\"TotalCoinSupply\",\"formatter\":{\"id\":\"2647\",\"type\":\"StringFormatter\"},\"title\":\"TotalCoinSupply\"},\"id\":\"2649\",\"type\":\"TableColumn\"},{\"attributes\":{\"columns\":[{\"id\":\"2634\",\"type\":\"TableColumn\"},{\"id\":\"2639\",\"type\":\"TableColumn\"},{\"id\":\"2644\",\"type\":\"TableColumn\"},{\"id\":\"2649\",\"type\":\"TableColumn\"},{\"id\":\"2654\",\"type\":\"TableColumn\"},{\"id\":\"2659\",\"type\":\"TableColumn\"}],\"height\":300,\"reorderable\":false,\"source\":{\"id\":\"2630\",\"type\":\"ColumnDataSource\"},\"view\":{\"id\":\"2663\",\"type\":\"CDSView\"}},\"id\":\"2662\",\"type\":\"DataTable\"},{\"attributes\":{},\"id\":\"2648\",\"type\":\"StringEditor\"},{\"attributes\":{},\"id\":\"2665\",\"type\":\"UnionRenderers\"},{\"attributes\":{},\"id\":\"2631\",\"type\":\"Selection\"},{\"attributes\":{\"source\":{\"id\":\"2630\",\"type\":\"ColumnDataSource\"}},\"id\":\"2663\",\"type\":\"CDSView\"}],\"root_ids\":[\"2628\"]},\"title\":\"Bokeh Application\",\"version\":\"1.4.0\"}};\n",
       "  var render_items = [{\"docid\":\"3c8dfc35-a324-462b-b02e-a62ad6df25c3\",\"roots\":{\"2628\":\"ea7f2f08-a2f9-4f8d-8a80-b8cd71e55ffa\"}}];\n",
       "  root.Bokeh.embed.embed_items_notebook(docs_json, render_items);\n",
       "  }\n",
       "if (root.Bokeh !== undefined) {\n",
       "    embed_document(root);\n",
       "  } else {\n",
       "    var attempts = 0;\n",
       "    var timer = setInterval(function(root) {\n",
       "      if (root.Bokeh !== undefined) {\n",
       "        clearInterval(timer);\n",
       "        embed_document(root);\n",
       "      } else if (document.readyState == \"complete\") {\n",
       "        attempts++;\n",
       "        if (attempts > 100) {\n",
       "          clearInterval(timer);\n",
       "          console.log(\"Bokeh: ERROR: Unable to run BokehJS code because BokehJS library is missing\");\n",
       "        }\n",
       "      }\n",
       "    }, 10, root)\n",
       "  }\n",
       "})(window);</script>"
      ],
      "text/plain": [
       ":Table   [CoinName,Algorithm,ProofType,TotalCoinSupply,TotalCoinsMined,class]"
      ]
     },
     "execution_count": 235,
     "metadata": {
      "application/vnd.holoviews_exec.v0+json": {
       "id": "2628"
      }
     },
     "output_type": "execute_result"
    }
   ],
   "source": [
    "# Create table by hvplot\n",
    "clustered_df.hvplot.table(columns=['CoinName', 'Algorithm', 'ProofType', 'TotalCoinSupply', 'TotalCoinsMined', 'class'], \n",
    "                          width=600)"
   ]
  },
  {
   "cell_type": "code",
   "execution_count": null,
   "metadata": {},
   "outputs": [],
   "source": []
  }
 ],
 "metadata": {
  "kernelspec": {
   "display_name": "Python 3",
   "language": "python",
   "name": "python3"
  },
  "language_info": {
   "codemirror_mode": {
    "name": "ipython",
    "version": 3
   },
   "file_extension": ".py",
   "mimetype": "text/x-python",
   "name": "python",
   "nbconvert_exporter": "python",
   "pygments_lexer": "ipython3",
   "version": "3.7.6"
  }
 },
 "nbformat": 4,
 "nbformat_minor": 4
}
